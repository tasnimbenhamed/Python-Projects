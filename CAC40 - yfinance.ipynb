{
 "cells": [
  {
   "cell_type": "markdown",
   "id": "0a868fb9",
   "metadata": {},
   "source": [
    "# <u><center>Backtesting investment strategies - CAC 40 Case</center></u>"
   ]
  },
  {
   "cell_type": "markdown",
   "id": "a46d29e0",
   "metadata": {},
   "source": [
    "The portfolio to be constructed in this project is a mix of stocks and safe assets ( cash-assimilated ) .  \n",
    "\n",
    "1/The considered universe of stocks will be that of the french index CAC 40 . Suppose this is an asset management company trying to outperform CAC 40 . What weight should I assign to each stock so as to achieve this goal ? This is the purpose of this project : I'm going to backtest different investment strategies on historical data , given the CAC 40 universe . \n",
    "\n",
    "2/Once the right construction technique selected , I'm going to apply the CPPI strategy on the constructed portfolio and a selected safe asset : The CPPI strategy is a risk-averse strategy that allows you to avoid extreme losses . This strategy requires 2 elements : \n",
    "- the return series of the risky part of your fund , which here is the CAC 40 benchmarked constructed portfolio in step 1 \n",
    "- the return series of a safe asset \n",
    "\n",
    "The CPPI strategy's mission is to determine the weights of each constituant ( risky CAC 40 benchmarked portfolio and the safe asset ) such that no more than x % loss is tolerated , during the investment horizon . The weights are not determined once and kept for the whole time period : the CPPI strategy rebalances the allocation periodically to ensure the max drawdown constraint is not violated. \n",
    "\n",
    "Data Source : Yahoo Finance / Boursier.com . I'm going to perform web scraping to automate retrieving data : components of CAC 40 , return series of each stock ,   their market caps .. \n",
    "\n",
    "2 subtilties to note : \n",
    "\n",
    "--> CAC 40 components vary over time , although not very often  . To simplify and because there's no available ( free ) history of the components , I'm going to consider a static universe of stocks ( the one as of the time of the code execution ).  \n",
    "\n",
    "--> Yahoo Finance only displays top 30 components of CAC 40 . Also , the composition displayed doesn't seem to be reliable     ( e.g : Accor SA left CAC 40 since Sept 2020 but still shows in the composition list ) . A more reliable and complete composition I found is on Boursier.com ( same that shows on abcbourse website ) . However , the returns series of each stock will be retrieved from Yahoo Finance since it shows the longest history ( Backtesting needs as much history as possible as we need to account for an estimation window , e.g : if we consider an estimation window of 36 months then 3 years worth of data is not enough to roll and perform backtesting ). We need a list of the corresponding  Yahoo Finance tickers : there's no option other than manually creating the list, as the components table we're going to use is not the one provided by Yahoo Finance ( which shows the tickers ) . Once the list created , importing the return series will be done with web scraping . \n",
    "\n",
    " \n",
    "<font color='red'>**FINAL NOTE**</font> : This is an application of what I've learned in Investment Management with Python and Machine Learning Specialization offered by Coursera . Neither the CPPI strategy , nor any of the construction techniques tested is an innovation of mine . "
   ]
  },
  {
   "cell_type": "markdown",
   "id": "654f0408",
   "metadata": {},
   "source": [
    "### Retrieving and cleaning Data"
   ]
  },
  {
   "cell_type": "code",
   "execution_count": 2,
   "id": "e6afaa46",
   "metadata": {},
   "outputs": [],
   "source": [
    "# web scrape CAC 40 components\n",
    "import pandas as pd \n",
    "import requests \n",
    "url_components='https://www.boursier.com/indices/composition/cac-40-FR0003500008,FR.html'\n",
    "headers={'User-Agent': 'Mozilla/5.0 (Windows NT 10.0; Win64; x64) AppleWebKit/537.36 (KHTML, like Gecko) Chrome/103.0.5060.114 Safari/537.36'}\n",
    "response = requests.get(url_components ,headers=headers) \n",
    "df=pd.read_html(response.content)[0]"
   ]
  },
  {
   "cell_type": "code",
   "execution_count": 3,
   "id": "49170f65",
   "metadata": {
    "scrolled": false
   },
   "outputs": [
    {
     "data": {
      "text/plain": [
       "0                   AIR LIQUIDE\n",
       "1                  AIRBUS GROUP\n",
       "2                        ALSTOM\n",
       "3                 ARCELORMITTAL\n",
       "4                           AXA\n",
       "5                   BNP PARIBAS\n",
       "6                      BOUYGUES\n",
       "7                     CAPGEMINI\n",
       "8                     CARREFOUR\n",
       "9               CREDIT AGRICOLE\n",
       "10                       DANONE\n",
       "11            DASSAULT SYSTEMES\n",
       "12                        ENGIE\n",
       "13             ESSILORLUXOTTICA\n",
       "14          EUROFINS SCIENTIFIC\n",
       "15         HERMES INTERNATIONAL\n",
       "16                       KERING\n",
       "17                      LEGRAND\n",
       "18                      L'OREAL\n",
       "19                         LVMH\n",
       "20                     MICHELIN\n",
       "21                       ORANGE\n",
       "22                PERNOD RICARD\n",
       "23                     PUBLICIS\n",
       "24                      RENAULT\n",
       "25                       SAFRAN\n",
       "26                 SAINT-GOBAIN\n",
       "27                       SANOFI\n",
       "28           SCHNEIDER ELECTRIC\n",
       "29             SOCIETE GENERALE\n",
       "30                   STELLANTIS\n",
       "31           STMICROELECTRONICS\n",
       "32              TELEPERFORMANCE\n",
       "33                       THALES\n",
       "34                TOTALENERGIES\n",
       "35    UNIBAIL-RODAMCO-WESTFIELD\n",
       "36         VEOLIA ENVIRONNEMENT\n",
       "37                        VINCI\n",
       "38                   VIVENDI SE\n",
       "39                    WORLDLINE\n",
       "Name: Valeur, dtype: object"
      ]
     },
     "execution_count": 3,
     "metadata": {},
     "output_type": "execute_result"
    }
   ],
   "source": [
    "Composition = df['Valeur']\n",
    "Composition"
   ]
  },
  {
   "cell_type": "code",
   "execution_count": 4,
   "id": "6a31ad40",
   "metadata": {
    "scrolled": true
   },
   "outputs": [
    {
     "data": {
      "text/html": [
       "<div>\n",
       "<style scoped>\n",
       "    .dataframe tbody tr th:only-of-type {\n",
       "        vertical-align: middle;\n",
       "    }\n",
       "\n",
       "    .dataframe tbody tr th {\n",
       "        vertical-align: top;\n",
       "    }\n",
       "\n",
       "    .dataframe thead th {\n",
       "        text-align: right;\n",
       "    }\n",
       "</style>\n",
       "<table border=\"1\" class=\"dataframe\">\n",
       "  <thead>\n",
       "    <tr style=\"text-align: right;\">\n",
       "      <th></th>\n",
       "      <th>Valeur</th>\n",
       "      <th>ticker</th>\n",
       "    </tr>\n",
       "  </thead>\n",
       "  <tbody>\n",
       "    <tr>\n",
       "      <th>0</th>\n",
       "      <td>AIR LIQUIDE</td>\n",
       "      <td>AI.PA</td>\n",
       "    </tr>\n",
       "    <tr>\n",
       "      <th>1</th>\n",
       "      <td>AIRBUS GROUP</td>\n",
       "      <td>AIR.PA</td>\n",
       "    </tr>\n",
       "    <tr>\n",
       "      <th>2</th>\n",
       "      <td>ALSTOM</td>\n",
       "      <td>ALO.PA</td>\n",
       "    </tr>\n",
       "    <tr>\n",
       "      <th>3</th>\n",
       "      <td>ARCELORMITTAL</td>\n",
       "      <td>MT.AS</td>\n",
       "    </tr>\n",
       "    <tr>\n",
       "      <th>4</th>\n",
       "      <td>AXA</td>\n",
       "      <td>CS.PA</td>\n",
       "    </tr>\n",
       "  </tbody>\n",
       "</table>\n",
       "</div>"
      ],
      "text/plain": [
       "          Valeur  ticker\n",
       "0    AIR LIQUIDE   AI.PA\n",
       "1   AIRBUS GROUP  AIR.PA\n",
       "2         ALSTOM  ALO.PA\n",
       "3  ARCELORMITTAL   MT.AS\n",
       "4            AXA   CS.PA"
      ]
     },
     "execution_count": 4,
     "metadata": {},
     "output_type": "execute_result"
    }
   ],
   "source": [
    "# searching for all Yahoo Finance tickers and gathering them in an excel table \n",
    "tickers=pd.read_excel('yf tickers.xlsx')['ticker']\n",
    "composition_tk=pd.concat([Composition,tickers],axis=1)\n",
    "composition_tk.head()"
   ]
  },
  {
   "cell_type": "code",
   "execution_count": 5,
   "id": "81065266",
   "metadata": {},
   "outputs": [],
   "source": [
    "# Retrieving the price series of each stock as well as of CAC 40 .The Data is daily . \n",
    "# pip install pandas-datareader\n",
    "# pip install yfinance --upgrade --no-cache-dir\n",
    "\n",
    "from pandas_datareader import data as pdr\n",
    "import yfinance\n",
    "\n",
    "lst=[]\n",
    "\n",
    "for ticker in composition_tk['ticker']:\n",
    "    stock = pdr.get_data_yahoo(ticker, start='2005-01-01', end='2022-01-01')[['Close']]\n",
    "    lst.append(stock)\n",
    "stocks_r=pd.concat(lst,axis=1) "
   ]
  },
  {
   "cell_type": "code",
   "execution_count": 6,
   "id": "79de3e72",
   "metadata": {
    "scrolled": false
   },
   "outputs": [
    {
     "data": {
      "text/html": [
       "<div>\n",
       "<style scoped>\n",
       "    .dataframe tbody tr th:only-of-type {\n",
       "        vertical-align: middle;\n",
       "    }\n",
       "\n",
       "    .dataframe tbody tr th {\n",
       "        vertical-align: top;\n",
       "    }\n",
       "\n",
       "    .dataframe thead th {\n",
       "        text-align: right;\n",
       "    }\n",
       "</style>\n",
       "<table border=\"1\" class=\"dataframe\">\n",
       "  <thead>\n",
       "    <tr style=\"text-align: right;\">\n",
       "      <th>Valeur</th>\n",
       "      <th>AIR LIQUIDE</th>\n",
       "      <th>AIRBUS GROUP</th>\n",
       "      <th>ALSTOM</th>\n",
       "      <th>ARCELORMITTAL</th>\n",
       "      <th>AXA</th>\n",
       "      <th>BNP PARIBAS</th>\n",
       "      <th>BOUYGUES</th>\n",
       "      <th>CAPGEMINI</th>\n",
       "      <th>CARREFOUR</th>\n",
       "      <th>CREDIT AGRICOLE</th>\n",
       "      <th>...</th>\n",
       "      <th>STELLANTIS</th>\n",
       "      <th>STMICROELECTRONICS</th>\n",
       "      <th>TELEPERFORMANCE</th>\n",
       "      <th>THALES</th>\n",
       "      <th>TOTALENERGIES</th>\n",
       "      <th>UNIBAIL-RODAMCO-WESTFIELD</th>\n",
       "      <th>VEOLIA ENVIRONNEMENT</th>\n",
       "      <th>VINCI</th>\n",
       "      <th>VIVENDI SE</th>\n",
       "      <th>WORLDLINE</th>\n",
       "    </tr>\n",
       "    <tr>\n",
       "      <th>Date</th>\n",
       "      <th></th>\n",
       "      <th></th>\n",
       "      <th></th>\n",
       "      <th></th>\n",
       "      <th></th>\n",
       "      <th></th>\n",
       "      <th></th>\n",
       "      <th></th>\n",
       "      <th></th>\n",
       "      <th></th>\n",
       "      <th></th>\n",
       "      <th></th>\n",
       "      <th></th>\n",
       "      <th></th>\n",
       "      <th></th>\n",
       "      <th></th>\n",
       "      <th></th>\n",
       "      <th></th>\n",
       "      <th></th>\n",
       "      <th></th>\n",
       "      <th></th>\n",
       "    </tr>\n",
       "  </thead>\n",
       "  <tbody>\n",
       "    <tr>\n",
       "      <th>2005-01-03</th>\n",
       "      <td>31.859020</td>\n",
       "      <td>21.559999</td>\n",
       "      <td>NaN</td>\n",
       "      <td>NaN</td>\n",
       "      <td>17.279615</td>\n",
       "      <td>53.144321</td>\n",
       "      <td>34.430000</td>\n",
       "      <td>24.090000</td>\n",
       "      <td>35.360001</td>\n",
       "      <td>19.563360</td>\n",
       "      <td>...</td>\n",
       "      <td>NaN</td>\n",
       "      <td>14.30</td>\n",
       "      <td>18.041382</td>\n",
       "      <td>35.500000</td>\n",
       "      <td>40.150002</td>\n",
       "      <td>114.500000</td>\n",
       "      <td>26.352068</td>\n",
       "      <td>24.595184</td>\n",
       "      <td>23.380651</td>\n",
       "      <td>NaN</td>\n",
       "    </tr>\n",
       "    <tr>\n",
       "      <th>2005-01-04</th>\n",
       "      <td>31.859020</td>\n",
       "      <td>21.160000</td>\n",
       "      <td>NaN</td>\n",
       "      <td>NaN</td>\n",
       "      <td>17.279615</td>\n",
       "      <td>53.540184</td>\n",
       "      <td>34.689999</td>\n",
       "      <td>23.850000</td>\n",
       "      <td>35.619999</td>\n",
       "      <td>19.519594</td>\n",
       "      <td>...</td>\n",
       "      <td>NaN</td>\n",
       "      <td>14.22</td>\n",
       "      <td>18.135347</td>\n",
       "      <td>35.419998</td>\n",
       "      <td>40.000000</td>\n",
       "      <td>110.300003</td>\n",
       "      <td>25.850592</td>\n",
       "      <td>24.840647</td>\n",
       "      <td>23.758072</td>\n",
       "      <td>NaN</td>\n",
       "    </tr>\n",
       "    <tr>\n",
       "      <th>2005-01-05</th>\n",
       "      <td>31.508921</td>\n",
       "      <td>20.980000</td>\n",
       "      <td>NaN</td>\n",
       "      <td>NaN</td>\n",
       "      <td>17.279615</td>\n",
       "      <td>53.243286</td>\n",
       "      <td>34.349998</td>\n",
       "      <td>23.820000</td>\n",
       "      <td>35.400002</td>\n",
       "      <td>19.633387</td>\n",
       "      <td>...</td>\n",
       "      <td>NaN</td>\n",
       "      <td>14.02</td>\n",
       "      <td>18.229313</td>\n",
       "      <td>35.299999</td>\n",
       "      <td>39.625000</td>\n",
       "      <td>110.500000</td>\n",
       "      <td>25.880091</td>\n",
       "      <td>24.742462</td>\n",
       "      <td>23.661297</td>\n",
       "      <td>NaN</td>\n",
       "    </tr>\n",
       "    <tr>\n",
       "      <th>2005-01-06</th>\n",
       "      <td>31.602280</td>\n",
       "      <td>21.600000</td>\n",
       "      <td>NaN</td>\n",
       "      <td>NaN</td>\n",
       "      <td>17.279615</td>\n",
       "      <td>54.035007</td>\n",
       "      <td>30.240000</td>\n",
       "      <td>23.670000</td>\n",
       "      <td>35.730000</td>\n",
       "      <td>19.782190</td>\n",
       "      <td>...</td>\n",
       "      <td>NaN</td>\n",
       "      <td>13.97</td>\n",
       "      <td>18.793106</td>\n",
       "      <td>35.720001</td>\n",
       "      <td>39.924999</td>\n",
       "      <td>110.599998</td>\n",
       "      <td>26.155411</td>\n",
       "      <td>25.086107</td>\n",
       "      <td>23.535492</td>\n",
       "      <td>NaN</td>\n",
       "    </tr>\n",
       "    <tr>\n",
       "      <th>2005-01-07</th>\n",
       "      <td>31.812340</td>\n",
       "      <td>21.920000</td>\n",
       "      <td>NaN</td>\n",
       "      <td>NaN</td>\n",
       "      <td>17.279615</td>\n",
       "      <td>54.628799</td>\n",
       "      <td>30.180000</td>\n",
       "      <td>23.379999</td>\n",
       "      <td>36.250000</td>\n",
       "      <td>19.957253</td>\n",
       "      <td>...</td>\n",
       "      <td>NaN</td>\n",
       "      <td>14.03</td>\n",
       "      <td>19.450865</td>\n",
       "      <td>35.130001</td>\n",
       "      <td>40.049999</td>\n",
       "      <td>92.050003</td>\n",
       "      <td>26.116077</td>\n",
       "      <td>25.208838</td>\n",
       "      <td>23.564524</td>\n",
       "      <td>NaN</td>\n",
       "    </tr>\n",
       "  </tbody>\n",
       "</table>\n",
       "<p>5 rows × 40 columns</p>\n",
       "</div>"
      ],
      "text/plain": [
       "Valeur      AIR LIQUIDE  AIRBUS GROUP  ALSTOM  ARCELORMITTAL        AXA  \\\n",
       "Date                                                                      \n",
       "2005-01-03    31.859020     21.559999     NaN            NaN  17.279615   \n",
       "2005-01-04    31.859020     21.160000     NaN            NaN  17.279615   \n",
       "2005-01-05    31.508921     20.980000     NaN            NaN  17.279615   \n",
       "2005-01-06    31.602280     21.600000     NaN            NaN  17.279615   \n",
       "2005-01-07    31.812340     21.920000     NaN            NaN  17.279615   \n",
       "\n",
       "Valeur      BNP PARIBAS   BOUYGUES  CAPGEMINI  CARREFOUR  CREDIT AGRICOLE  \\\n",
       "Date                                                                        \n",
       "2005-01-03    53.144321  34.430000  24.090000  35.360001        19.563360   \n",
       "2005-01-04    53.540184  34.689999  23.850000  35.619999        19.519594   \n",
       "2005-01-05    53.243286  34.349998  23.820000  35.400002        19.633387   \n",
       "2005-01-06    54.035007  30.240000  23.670000  35.730000        19.782190   \n",
       "2005-01-07    54.628799  30.180000  23.379999  36.250000        19.957253   \n",
       "\n",
       "Valeur      ...  STELLANTIS  STMICROELECTRONICS  TELEPERFORMANCE     THALES  \\\n",
       "Date        ...                                                               \n",
       "2005-01-03  ...         NaN               14.30        18.041382  35.500000   \n",
       "2005-01-04  ...         NaN               14.22        18.135347  35.419998   \n",
       "2005-01-05  ...         NaN               14.02        18.229313  35.299999   \n",
       "2005-01-06  ...         NaN               13.97        18.793106  35.720001   \n",
       "2005-01-07  ...         NaN               14.03        19.450865  35.130001   \n",
       "\n",
       "Valeur      TOTALENERGIES  UNIBAIL-RODAMCO-WESTFIELD  VEOLIA ENVIRONNEMENT  \\\n",
       "Date                                                                         \n",
       "2005-01-03      40.150002                 114.500000             26.352068   \n",
       "2005-01-04      40.000000                 110.300003             25.850592   \n",
       "2005-01-05      39.625000                 110.500000             25.880091   \n",
       "2005-01-06      39.924999                 110.599998             26.155411   \n",
       "2005-01-07      40.049999                  92.050003             26.116077   \n",
       "\n",
       "Valeur          VINCI  VIVENDI SE  WORLDLINE  \n",
       "Date                                          \n",
       "2005-01-03  24.595184   23.380651        NaN  \n",
       "2005-01-04  24.840647   23.758072        NaN  \n",
       "2005-01-05  24.742462   23.661297        NaN  \n",
       "2005-01-06  25.086107   23.535492        NaN  \n",
       "2005-01-07  25.208838   23.564524        NaN  \n",
       "\n",
       "[5 rows x 40 columns]"
      ]
     },
     "execution_count": 6,
     "metadata": {},
     "output_type": "execute_result"
    }
   ],
   "source": [
    "stocks_r.columns=composition_tk['Valeur']\n",
    "stocks_r.head()"
   ]
  },
  {
   "cell_type": "code",
   "execution_count": 7,
   "id": "cb4de495",
   "metadata": {},
   "outputs": [
    {
     "data": {
      "text/plain": [
       "Valeur\n",
       "AIR LIQUIDE                     3\n",
       "AIRBUS GROUP                    3\n",
       "ALSTOM                          3\n",
       "ARCELORMITTAL                   2\n",
       "AXA                             3\n",
       "BNP PARIBAS                     3\n",
       "BOUYGUES                        3\n",
       "CAPGEMINI                       3\n",
       "CARREFOUR                       3\n",
       "CREDIT AGRICOLE                 3\n",
       "DANONE                          3\n",
       "DASSAULT SYSTEMES               3\n",
       "ENGIE                           3\n",
       "ESSILORLUXOTTICA                3\n",
       "EUROFINS SCIENTIFIC             3\n",
       "HERMES INTERNATIONAL            3\n",
       "KERING                          3\n",
       "LEGRAND                         3\n",
       "L'OREAL                         3\n",
       "LVMH                            3\n",
       "MICHELIN                        3\n",
       "ORANGE                          3\n",
       "PERNOD RICARD                   3\n",
       "PUBLICIS                        3\n",
       "RENAULT                         3\n",
       "SAFRAN                          3\n",
       "SAINT-GOBAIN                    3\n",
       "SANOFI                          3\n",
       "SCHNEIDER ELECTRIC              3\n",
       "SOCIETE GENERALE                3\n",
       "STELLANTIS                   2592\n",
       "STMICROELECTRONICS              3\n",
       "TELEPERFORMANCE                 3\n",
       "THALES                          3\n",
       "TOTALENERGIES                   3\n",
       "UNIBAIL-RODAMCO-WESTFIELD       2\n",
       "VEOLIA ENVIRONNEMENT            3\n",
       "VINCI                           3\n",
       "VIVENDI SE                      3\n",
       "WORLDLINE                    1149\n",
       "dtype: int64"
      ]
     },
     "execution_count": 7,
     "metadata": {},
     "output_type": "execute_result"
    }
   ],
   "source": [
    "stocks_r['2010':].isnull().sum()"
   ]
  },
  {
   "cell_type": "markdown",
   "id": "c9f4ecd2",
   "metadata": {},
   "source": [
    "Stellantis got listed on Euronext in 2021 and Worldline in 2015 --> Stellantis should be dropped from the universe , or else the investment horizon will be too short (less than  1 year ) making it impossible to backtest . \n",
    "After dropping Stellantis , we have 2 options : \n",
    "- either keep Wordline but work on a period of 7 years ( 2015 - 2022 ) \n",
    "- Or drop Wordline and thus work on <font color='red'>38 stocks of the CAC 40 Universe</font> , but on a longer period ( 12 years ) . \n",
    "\n",
    "I'm going to go for the 2nd option as the longer the period of backtesting is , the more reliable the results are . \n"
   ]
  },
  {
   "cell_type": "code",
   "execution_count": 8,
   "id": "716cd262",
   "metadata": {
    "scrolled": false
   },
   "outputs": [
    {
     "data": {
      "text/plain": [
       "Valeur\n",
       "AIR LIQUIDE                  0\n",
       "AIRBUS GROUP                 0\n",
       "ALSTOM                       0\n",
       "ARCELORMITTAL                0\n",
       "AXA                          0\n",
       "BNP PARIBAS                  0\n",
       "BOUYGUES                     0\n",
       "CAPGEMINI                    0\n",
       "CARREFOUR                    0\n",
       "CREDIT AGRICOLE              0\n",
       "DANONE                       0\n",
       "DASSAULT SYSTEMES            0\n",
       "ENGIE                        0\n",
       "ESSILORLUXOTTICA             0\n",
       "EUROFINS SCIENTIFIC          0\n",
       "HERMES INTERNATIONAL         0\n",
       "KERING                       0\n",
       "LEGRAND                      0\n",
       "L'OREAL                      0\n",
       "LVMH                         0\n",
       "MICHELIN                     0\n",
       "ORANGE                       0\n",
       "PERNOD RICARD                0\n",
       "PUBLICIS                     0\n",
       "RENAULT                      0\n",
       "SAFRAN                       0\n",
       "SAINT-GOBAIN                 0\n",
       "SANOFI                       0\n",
       "SCHNEIDER ELECTRIC           0\n",
       "SOCIETE GENERALE             0\n",
       "STMICROELECTRONICS           0\n",
       "TELEPERFORMANCE              0\n",
       "THALES                       0\n",
       "TOTALENERGIES                0\n",
       "UNIBAIL-RODAMCO-WESTFIELD    0\n",
       "VEOLIA ENVIRONNEMENT         0\n",
       "VINCI                        0\n",
       "VIVENDI SE                   0\n",
       "dtype: int64"
      ]
     },
     "execution_count": 8,
     "metadata": {},
     "output_type": "execute_result"
    }
   ],
   "source": [
    "stocks=stocks_r.drop(['STELLANTIS','WORLDLINE'],axis=1)['2010':]\n",
    "stocks_final=stocks.dropna(axis=0)\n",
    "stocks_final.isnull().sum()"
   ]
  },
  {
   "cell_type": "code",
   "execution_count": 9,
   "id": "d6ae28ce",
   "metadata": {
    "scrolled": true
   },
   "outputs": [
    {
     "data": {
      "text/html": [
       "<div>\n",
       "<style scoped>\n",
       "    .dataframe tbody tr th:only-of-type {\n",
       "        vertical-align: middle;\n",
       "    }\n",
       "\n",
       "    .dataframe tbody tr th {\n",
       "        vertical-align: top;\n",
       "    }\n",
       "\n",
       "    .dataframe thead th {\n",
       "        text-align: right;\n",
       "    }\n",
       "</style>\n",
       "<table border=\"1\" class=\"dataframe\">\n",
       "  <thead>\n",
       "    <tr style=\"text-align: right;\">\n",
       "      <th></th>\n",
       "      <th>Close</th>\n",
       "    </tr>\n",
       "    <tr>\n",
       "      <th>Date</th>\n",
       "      <th></th>\n",
       "    </tr>\n",
       "  </thead>\n",
       "  <tbody>\n",
       "    <tr>\n",
       "      <th>2010-01-04</th>\n",
       "      <td>4013.969971</td>\n",
       "    </tr>\n",
       "    <tr>\n",
       "      <th>2010-01-05</th>\n",
       "      <td>4012.909912</td>\n",
       "    </tr>\n",
       "    <tr>\n",
       "      <th>2010-01-06</th>\n",
       "      <td>4017.669922</td>\n",
       "    </tr>\n",
       "    <tr>\n",
       "      <th>2010-01-07</th>\n",
       "      <td>4024.800049</td>\n",
       "    </tr>\n",
       "    <tr>\n",
       "      <th>2010-01-08</th>\n",
       "      <td>4045.139893</td>\n",
       "    </tr>\n",
       "  </tbody>\n",
       "</table>\n",
       "</div>"
      ],
      "text/plain": [
       "                  Close\n",
       "Date                   \n",
       "2010-01-04  4013.969971\n",
       "2010-01-05  4012.909912\n",
       "2010-01-06  4017.669922\n",
       "2010-01-07  4024.800049\n",
       "2010-01-08  4045.139893"
      ]
     },
     "execution_count": 9,
     "metadata": {},
     "output_type": "execute_result"
    }
   ],
   "source": [
    "cac = pdr.get_data_yahoo( '^FCHI', start='2010-01-01', end='2022-01-01')[['Close']]\n",
    "cac.head()"
   ]
  },
  {
   "cell_type": "code",
   "execution_count": 10,
   "id": "1303f3b9",
   "metadata": {
    "scrolled": false
   },
   "outputs": [
    {
     "data": {
      "text/html": [
       "<div>\n",
       "<style scoped>\n",
       "    .dataframe tbody tr th:only-of-type {\n",
       "        vertical-align: middle;\n",
       "    }\n",
       "\n",
       "    .dataframe tbody tr th {\n",
       "        vertical-align: top;\n",
       "    }\n",
       "\n",
       "    .dataframe thead th {\n",
       "        text-align: right;\n",
       "    }\n",
       "</style>\n",
       "<table border=\"1\" class=\"dataframe\">\n",
       "  <thead>\n",
       "    <tr style=\"text-align: right;\">\n",
       "      <th></th>\n",
       "      <th>CAC 40</th>\n",
       "      <th>AIR LIQUIDE</th>\n",
       "      <th>AIRBUS GROUP</th>\n",
       "      <th>ALSTOM</th>\n",
       "      <th>ARCELORMITTAL</th>\n",
       "      <th>AXA</th>\n",
       "      <th>BNP PARIBAS</th>\n",
       "      <th>BOUYGUES</th>\n",
       "      <th>CAPGEMINI</th>\n",
       "      <th>CARREFOUR</th>\n",
       "      <th>...</th>\n",
       "      <th>SCHNEIDER ELECTRIC</th>\n",
       "      <th>SOCIETE GENERALE</th>\n",
       "      <th>STMICROELECTRONICS</th>\n",
       "      <th>TELEPERFORMANCE</th>\n",
       "      <th>THALES</th>\n",
       "      <th>TOTALENERGIES</th>\n",
       "      <th>UNIBAIL-RODAMCO-WESTFIELD</th>\n",
       "      <th>VEOLIA ENVIRONNEMENT</th>\n",
       "      <th>VINCI</th>\n",
       "      <th>VIVENDI SE</th>\n",
       "    </tr>\n",
       "    <tr>\n",
       "      <th>Date</th>\n",
       "      <th></th>\n",
       "      <th></th>\n",
       "      <th></th>\n",
       "      <th></th>\n",
       "      <th></th>\n",
       "      <th></th>\n",
       "      <th></th>\n",
       "      <th></th>\n",
       "      <th></th>\n",
       "      <th></th>\n",
       "      <th></th>\n",
       "      <th></th>\n",
       "      <th></th>\n",
       "      <th></th>\n",
       "      <th></th>\n",
       "      <th></th>\n",
       "      <th></th>\n",
       "      <th></th>\n",
       "      <th></th>\n",
       "      <th></th>\n",
       "      <th></th>\n",
       "    </tr>\n",
       "  </thead>\n",
       "  <tbody>\n",
       "    <tr>\n",
       "      <th>2010-01-04</th>\n",
       "      <td>4013.969971</td>\n",
       "      <td>47.727844</td>\n",
       "      <td>13.990</td>\n",
       "      <td>51.520000</td>\n",
       "      <td>68.004936</td>\n",
       "      <td>16.799999</td>\n",
       "      <td>57.240002</td>\n",
       "      <td>37.020000</td>\n",
       "      <td>33.349998</td>\n",
       "      <td>34.000000</td>\n",
       "      <td>...</td>\n",
       "      <td>41.224998</td>\n",
       "      <td>50.240002</td>\n",
       "      <td>6.476</td>\n",
       "      <td>23.150000</td>\n",
       "      <td>35.520000</td>\n",
       "      <td>45.794991</td>\n",
       "      <td>155.300003</td>\n",
       "      <td>23.350000</td>\n",
       "      <td>39.974991</td>\n",
       "      <td>20.719360</td>\n",
       "    </tr>\n",
       "    <tr>\n",
       "      <th>2010-01-05</th>\n",
       "      <td>4012.909912</td>\n",
       "      <td>46.773289</td>\n",
       "      <td>13.945</td>\n",
       "      <td>51.660000</td>\n",
       "      <td>67.363091</td>\n",
       "      <td>17.080000</td>\n",
       "      <td>57.130001</td>\n",
       "      <td>37.474991</td>\n",
       "      <td>33.764999</td>\n",
       "      <td>34.805000</td>\n",
       "      <td>...</td>\n",
       "      <td>41.025002</td>\n",
       "      <td>49.915001</td>\n",
       "      <td>6.475</td>\n",
       "      <td>23.695000</td>\n",
       "      <td>34.814999</td>\n",
       "      <td>45.849998</td>\n",
       "      <td>155.100006</td>\n",
       "      <td>23.530001</td>\n",
       "      <td>40.279999</td>\n",
       "      <td>20.714521</td>\n",
       "    </tr>\n",
       "    <tr>\n",
       "      <th>2010-01-06</th>\n",
       "      <td>4017.669922</td>\n",
       "      <td>46.485226</td>\n",
       "      <td>14.070</td>\n",
       "      <td>51.970001</td>\n",
       "      <td>66.853691</td>\n",
       "      <td>17.254999</td>\n",
       "      <td>57.220001</td>\n",
       "      <td>37.674999</td>\n",
       "      <td>34.435001</td>\n",
       "      <td>34.549999</td>\n",
       "      <td>...</td>\n",
       "      <td>40.605000</td>\n",
       "      <td>49.919998</td>\n",
       "      <td>6.551</td>\n",
       "      <td>23.400000</td>\n",
       "      <td>34.369999</td>\n",
       "      <td>45.880001</td>\n",
       "      <td>156.449997</td>\n",
       "      <td>23.875000</td>\n",
       "      <td>40.834999</td>\n",
       "      <td>20.491941</td>\n",
       "    </tr>\n",
       "    <tr>\n",
       "      <th>2010-01-07</th>\n",
       "      <td>4024.800049</td>\n",
       "      <td>46.428745</td>\n",
       "      <td>14.210</td>\n",
       "      <td>52.130001</td>\n",
       "      <td>68.086441</td>\n",
       "      <td>17.059999</td>\n",
       "      <td>58.220001</td>\n",
       "      <td>37.160000</td>\n",
       "      <td>34.075001</td>\n",
       "      <td>34.160000</td>\n",
       "      <td>...</td>\n",
       "      <td>40.525002</td>\n",
       "      <td>51.310001</td>\n",
       "      <td>6.467</td>\n",
       "      <td>23.639999</td>\n",
       "      <td>34.794991</td>\n",
       "      <td>45.959999</td>\n",
       "      <td>154.800003</td>\n",
       "      <td>24.155001</td>\n",
       "      <td>40.849998</td>\n",
       "      <td>20.429037</td>\n",
       "    </tr>\n",
       "    <tr>\n",
       "      <th>2010-01-08</th>\n",
       "      <td>4045.139893</td>\n",
       "      <td>46.575600</td>\n",
       "      <td>14.350</td>\n",
       "      <td>53.150002</td>\n",
       "      <td>68.565277</td>\n",
       "      <td>17.115000</td>\n",
       "      <td>59.599998</td>\n",
       "      <td>37.174999</td>\n",
       "      <td>34.220001</td>\n",
       "      <td>34.494999</td>\n",
       "      <td>...</td>\n",
       "      <td>40.160000</td>\n",
       "      <td>52.080002</td>\n",
       "      <td>6.443</td>\n",
       "      <td>23.830000</td>\n",
       "      <td>35.410000</td>\n",
       "      <td>46.009998</td>\n",
       "      <td>154.850006</td>\n",
       "      <td>25.100000</td>\n",
       "      <td>41.430000</td>\n",
       "      <td>20.187103</td>\n",
       "    </tr>\n",
       "  </tbody>\n",
       "</table>\n",
       "<p>5 rows × 39 columns</p>\n",
       "</div>"
      ],
      "text/plain": [
       "                 CAC 40  AIR LIQUIDE  AIRBUS GROUP     ALSTOM  ARCELORMITTAL  \\\n",
       "Date                                                                           \n",
       "2010-01-04  4013.969971    47.727844        13.990  51.520000      68.004936   \n",
       "2010-01-05  4012.909912    46.773289        13.945  51.660000      67.363091   \n",
       "2010-01-06  4017.669922    46.485226        14.070  51.970001      66.853691   \n",
       "2010-01-07  4024.800049    46.428745        14.210  52.130001      68.086441   \n",
       "2010-01-08  4045.139893    46.575600        14.350  53.150002      68.565277   \n",
       "\n",
       "                  AXA  BNP PARIBAS   BOUYGUES  CAPGEMINI  CARREFOUR  ...  \\\n",
       "Date                                                                 ...   \n",
       "2010-01-04  16.799999    57.240002  37.020000  33.349998  34.000000  ...   \n",
       "2010-01-05  17.080000    57.130001  37.474991  33.764999  34.805000  ...   \n",
       "2010-01-06  17.254999    57.220001  37.674999  34.435001  34.549999  ...   \n",
       "2010-01-07  17.059999    58.220001  37.160000  34.075001  34.160000  ...   \n",
       "2010-01-08  17.115000    59.599998  37.174999  34.220001  34.494999  ...   \n",
       "\n",
       "            SCHNEIDER ELECTRIC  SOCIETE GENERALE  STMICROELECTRONICS  \\\n",
       "Date                                                                   \n",
       "2010-01-04           41.224998         50.240002               6.476   \n",
       "2010-01-05           41.025002         49.915001               6.475   \n",
       "2010-01-06           40.605000         49.919998               6.551   \n",
       "2010-01-07           40.525002         51.310001               6.467   \n",
       "2010-01-08           40.160000         52.080002               6.443   \n",
       "\n",
       "            TELEPERFORMANCE     THALES  TOTALENERGIES  \\\n",
       "Date                                                    \n",
       "2010-01-04        23.150000  35.520000      45.794991   \n",
       "2010-01-05        23.695000  34.814999      45.849998   \n",
       "2010-01-06        23.400000  34.369999      45.880001   \n",
       "2010-01-07        23.639999  34.794991      45.959999   \n",
       "2010-01-08        23.830000  35.410000      46.009998   \n",
       "\n",
       "            UNIBAIL-RODAMCO-WESTFIELD  VEOLIA ENVIRONNEMENT      VINCI  \\\n",
       "Date                                                                     \n",
       "2010-01-04                 155.300003             23.350000  39.974991   \n",
       "2010-01-05                 155.100006             23.530001  40.279999   \n",
       "2010-01-06                 156.449997             23.875000  40.834999   \n",
       "2010-01-07                 154.800003             24.155001  40.849998   \n",
       "2010-01-08                 154.850006             25.100000  41.430000   \n",
       "\n",
       "            VIVENDI SE  \n",
       "Date                    \n",
       "2010-01-04   20.719360  \n",
       "2010-01-05   20.714521  \n",
       "2010-01-06   20.491941  \n",
       "2010-01-07   20.429037  \n",
       "2010-01-08   20.187103  \n",
       "\n",
       "[5 rows x 39 columns]"
      ]
     },
     "execution_count": 10,
     "metadata": {},
     "output_type": "execute_result"
    }
   ],
   "source": [
    "cac.columns=['CAC 40']\n",
    "df_final=cac.merge(stocks_final,on='Date')\n",
    "df_final.head()\n",
    "# Final prices Dataset (Daily data from 2010 - 2021 both inclusive ) "
   ]
  },
  {
   "cell_type": "markdown",
   "id": "ea25d081",
   "metadata": {},
   "source": [
    "### PART I : CAC 40 Quick Analysis"
   ]
  },
  {
   "cell_type": "markdown",
   "id": "c56ce404",
   "metadata": {},
   "source": [
    "This is live data : means that the analysis depends on the time of the code execution ( the market caps are not static : \n",
    "there's no available history of the market caps  ) . But there shoudn't be much difference.  We're going to web scrape some data from Boursier.com to get the ( live ) market caps and sectors of the components of CAC 40 . "
   ]
  },
  {
   "cell_type": "code",
   "execution_count": 11,
   "id": "0a711e46",
   "metadata": {},
   "outputs": [],
   "source": [
    "# web scrape stocks' sectors and market caps\n",
    "import lxml\n",
    "import html5lib\n",
    "import bs4\n",
    "\n",
    "\n",
    "soup=bs4.BeautifulSoup(response.text,'html.parser')\n",
    "hrefs=soup.find_all('td',{'class':'tl'})\n",
    "lst_marktcap=[]\n",
    "lst_sector=[]\n",
    "for href in hrefs:\n",
    "    ref=href.find_all('a')[0]\n",
    "    url_stock='https://www.boursier.com'+ref['href']\n",
    "    res_marktcap = requests.get(url_stock,headers=headers) \n",
    "    df_marktcap=pd.read_html(res_marktcap.content)\n",
    "    lst_marktcap.append(df_marktcap[0].loc[6][1])\n",
    "    url_sector=url_stock.replace('cours','societe/profil')\n",
    "    res_sector=requests.get(url_sector,headers=headers)\n",
    "    df_sector=pd.read_html(res_sector.content)\n",
    "    lst_sector.append(df_sector[2][1].loc[0])\n"
   ]
  },
  {
   "cell_type": "code",
   "execution_count": 12,
   "id": "3343185d",
   "metadata": {
    "scrolled": false
   },
   "outputs": [
    {
     "data": {
      "text/html": [
       "<div>\n",
       "<style scoped>\n",
       "    .dataframe tbody tr th:only-of-type {\n",
       "        vertical-align: middle;\n",
       "    }\n",
       "\n",
       "    .dataframe tbody tr th {\n",
       "        vertical-align: top;\n",
       "    }\n",
       "\n",
       "    .dataframe thead th {\n",
       "        text-align: right;\n",
       "    }\n",
       "</style>\n",
       "<table border=\"1\" class=\"dataframe\">\n",
       "  <thead>\n",
       "    <tr style=\"text-align: right;\">\n",
       "      <th></th>\n",
       "      <th>Company</th>\n",
       "      <th>Sector</th>\n",
       "      <th>Market Cap</th>\n",
       "    </tr>\n",
       "  </thead>\n",
       "  <tbody>\n",
       "    <tr>\n",
       "      <th>0</th>\n",
       "      <td>AIR LIQUIDE</td>\n",
       "      <td>Energie et Produits de base</td>\n",
       "      <td>71,07 Md€</td>\n",
       "    </tr>\n",
       "    <tr>\n",
       "      <th>1</th>\n",
       "      <td>AIRBUS GROUP</td>\n",
       "      <td>Aéronautique Espace Armement</td>\n",
       "      <td>85,23 Md€</td>\n",
       "    </tr>\n",
       "    <tr>\n",
       "      <th>2</th>\n",
       "      <td>ALSTOM</td>\n",
       "      <td>Autres biens d'équipement</td>\n",
       "      <td>9,06 Md€</td>\n",
       "    </tr>\n",
       "    <tr>\n",
       "      <th>3</th>\n",
       "      <td>ARCELORMITTAL</td>\n",
       "      <td>Transformation des métaux</td>\n",
       "      <td>21,45 Md€</td>\n",
       "    </tr>\n",
       "    <tr>\n",
       "      <th>4</th>\n",
       "      <td>AXA</td>\n",
       "      <td>Assurances</td>\n",
       "      <td>57,04 Md€</td>\n",
       "    </tr>\n",
       "    <tr>\n",
       "      <th>5</th>\n",
       "      <td>BNP PARIBAS</td>\n",
       "      <td>Banque</td>\n",
       "      <td>62,25 Md€</td>\n",
       "    </tr>\n",
       "    <tr>\n",
       "      <th>6</th>\n",
       "      <td>BOUYGUES</td>\n",
       "      <td>Conglomérat</td>\n",
       "      <td>11,76 Md€</td>\n",
       "    </tr>\n",
       "    <tr>\n",
       "      <th>7</th>\n",
       "      <td>CAPGEMINI</td>\n",
       "      <td>Services informatiques</td>\n",
       "      <td>32,42 Md€</td>\n",
       "    </tr>\n",
       "    <tr>\n",
       "      <th>8</th>\n",
       "      <td>CARREFOUR</td>\n",
       "      <td>Distribution générale grand public</td>\n",
       "      <td>12,62 Md€</td>\n",
       "    </tr>\n",
       "    <tr>\n",
       "      <th>9</th>\n",
       "      <td>CREDIT AGRICOLE</td>\n",
       "      <td>Banque</td>\n",
       "      <td>30,48 Md€</td>\n",
       "    </tr>\n",
       "    <tr>\n",
       "      <th>10</th>\n",
       "      <td>DANONE</td>\n",
       "      <td>Agroalimentaire</td>\n",
       "      <td>35,61 Md€</td>\n",
       "    </tr>\n",
       "    <tr>\n",
       "      <th>11</th>\n",
       "      <td>DASSAULT SYSTEMES</td>\n",
       "      <td>Services informatiques</td>\n",
       "      <td>56,99 Md€</td>\n",
       "    </tr>\n",
       "    <tr>\n",
       "      <th>12</th>\n",
       "      <td>ENGIE</td>\n",
       "      <td>Environnement et Services aux collectivités</td>\n",
       "      <td>31,42 Md€</td>\n",
       "    </tr>\n",
       "    <tr>\n",
       "      <th>13</th>\n",
       "      <td>ESSILORLUXOTTICA</td>\n",
       "      <td>Biens d'équipement domestique</td>\n",
       "      <td>72,88 Md€</td>\n",
       "    </tr>\n",
       "    <tr>\n",
       "      <th>14</th>\n",
       "      <td>EUROFINS SCIENTIFIC</td>\n",
       "      <td>Autres services</td>\n",
       "      <td>14,56 Md€</td>\n",
       "    </tr>\n",
       "    <tr>\n",
       "      <th>15</th>\n",
       "      <td>HERMES INTERNATIONAL</td>\n",
       "      <td>Textile Habillement Accessoires</td>\n",
       "      <td>145,47 Md€</td>\n",
       "    </tr>\n",
       "    <tr>\n",
       "      <th>16</th>\n",
       "      <td>KERING</td>\n",
       "      <td>Textile Habillement Accessoires</td>\n",
       "      <td>70,01 Md€</td>\n",
       "    </tr>\n",
       "    <tr>\n",
       "      <th>17</th>\n",
       "      <td>LEGRAND</td>\n",
       "      <td>Electricité Electronique</td>\n",
       "      <td>21,49 Md€</td>\n",
       "    </tr>\n",
       "    <tr>\n",
       "      <th>18</th>\n",
       "      <td>L'OREAL</td>\n",
       "      <td>Chimie Pharmacie Cosmétiques</td>\n",
       "      <td>193,2 Md€</td>\n",
       "    </tr>\n",
       "    <tr>\n",
       "      <th>19</th>\n",
       "      <td>LVMH</td>\n",
       "      <td>Conglomérat</td>\n",
       "      <td>349,51 Md€</td>\n",
       "    </tr>\n",
       "    <tr>\n",
       "      <th>20</th>\n",
       "      <td>MICHELIN</td>\n",
       "      <td>Equipement automobile</td>\n",
       "      <td>19,11 Md€</td>\n",
       "    </tr>\n",
       "    <tr>\n",
       "      <th>21</th>\n",
       "      <td>ORANGE</td>\n",
       "      <td>Télécommunication</td>\n",
       "      <td>26,92 Md€</td>\n",
       "    </tr>\n",
       "    <tr>\n",
       "      <th>22</th>\n",
       "      <td>PERNOD RICARD</td>\n",
       "      <td>Agroalimentaire</td>\n",
       "      <td>50,05 Md€</td>\n",
       "    </tr>\n",
       "    <tr>\n",
       "      <th>23</th>\n",
       "      <td>PUBLICIS</td>\n",
       "      <td>Communication Médias Multimédias</td>\n",
       "      <td>12,9 Md€</td>\n",
       "    </tr>\n",
       "    <tr>\n",
       "      <th>24</th>\n",
       "      <td>RENAULT</td>\n",
       "      <td>Automobile</td>\n",
       "      <td>9,08 Md€</td>\n",
       "    </tr>\n",
       "    <tr>\n",
       "      <th>25</th>\n",
       "      <td>SAFRAN</td>\n",
       "      <td>Electricité Electronique</td>\n",
       "      <td>46,89 Md€</td>\n",
       "    </tr>\n",
       "    <tr>\n",
       "      <th>26</th>\n",
       "      <td>SAINT-GOBAIN</td>\n",
       "      <td>Matériaux de construction</td>\n",
       "      <td>23,82 Md€</td>\n",
       "    </tr>\n",
       "    <tr>\n",
       "      <th>27</th>\n",
       "      <td>SANOFI</td>\n",
       "      <td>Chimie Pharmacie Cosmétiques</td>\n",
       "      <td>108,32 Md€</td>\n",
       "    </tr>\n",
       "    <tr>\n",
       "      <th>28</th>\n",
       "      <td>SCHNEIDER ELECTRIC</td>\n",
       "      <td>Electricité Electronique</td>\n",
       "      <td>77,18 Md€</td>\n",
       "    </tr>\n",
       "    <tr>\n",
       "      <th>29</th>\n",
       "      <td>SOCIETE GENERALE</td>\n",
       "      <td>Banque</td>\n",
       "      <td>20,15 Md€</td>\n",
       "    </tr>\n",
       "    <tr>\n",
       "      <th>30</th>\n",
       "      <td>STELLANTIS</td>\n",
       "      <td>Automobile</td>\n",
       "      <td>46,66 Md€</td>\n",
       "    </tr>\n",
       "    <tr>\n",
       "      <th>31</th>\n",
       "      <td>STMICROELECTRONICS</td>\n",
       "      <td>Electricité Electronique</td>\n",
       "      <td>33,83 Md€</td>\n",
       "    </tr>\n",
       "    <tr>\n",
       "      <th>32</th>\n",
       "      <td>TELEPERFORMANCE</td>\n",
       "      <td>Autres services</td>\n",
       "      <td>18,61 Md€</td>\n",
       "    </tr>\n",
       "    <tr>\n",
       "      <th>33</th>\n",
       "      <td>THALES</td>\n",
       "      <td>Aéronautique Espace Armement</td>\n",
       "      <td>25,82 Md€</td>\n",
       "    </tr>\n",
       "    <tr>\n",
       "      <th>34</th>\n",
       "      <td>TOTALENERGIES</td>\n",
       "      <td>Energie et Produits de base</td>\n",
       "      <td>136,01 Md€</td>\n",
       "    </tr>\n",
       "    <tr>\n",
       "      <th>35</th>\n",
       "      <td>UNIBAIL-RODAMCO-WESTFIELD</td>\n",
       "      <td>SIIC</td>\n",
       "      <td>8,44 Md€</td>\n",
       "    </tr>\n",
       "    <tr>\n",
       "      <th>36</th>\n",
       "      <td>VEOLIA ENVIRONNEMENT</td>\n",
       "      <td>Environnement et Services aux collectivités</td>\n",
       "      <td>17,91 Md€</td>\n",
       "    </tr>\n",
       "    <tr>\n",
       "      <th>37</th>\n",
       "      <td>VINCI</td>\n",
       "      <td>BTP Génie Civil</td>\n",
       "      <td>56,18 Md€</td>\n",
       "    </tr>\n",
       "    <tr>\n",
       "      <th>38</th>\n",
       "      <td>VIVENDI SE</td>\n",
       "      <td>Communication Médias Multimédias</td>\n",
       "      <td>10,44 Md€</td>\n",
       "    </tr>\n",
       "    <tr>\n",
       "      <th>39</th>\n",
       "      <td>WORLDLINE</td>\n",
       "      <td>Autres services</td>\n",
       "      <td>12,53 Md€</td>\n",
       "    </tr>\n",
       "  </tbody>\n",
       "</table>\n",
       "</div>"
      ],
      "text/plain": [
       "                      Company                                       Sector  \\\n",
       "0                 AIR LIQUIDE                  Energie et Produits de base   \n",
       "1                AIRBUS GROUP                 Aéronautique Espace Armement   \n",
       "2                      ALSTOM                    Autres biens d'équipement   \n",
       "3               ARCELORMITTAL                    Transformation des métaux   \n",
       "4                         AXA                                   Assurances   \n",
       "5                 BNP PARIBAS                                       Banque   \n",
       "6                    BOUYGUES                                  Conglomérat   \n",
       "7                   CAPGEMINI                       Services informatiques   \n",
       "8                   CARREFOUR           Distribution générale grand public   \n",
       "9             CREDIT AGRICOLE                                       Banque   \n",
       "10                     DANONE                              Agroalimentaire   \n",
       "11          DASSAULT SYSTEMES                       Services informatiques   \n",
       "12                      ENGIE  Environnement et Services aux collectivités   \n",
       "13           ESSILORLUXOTTICA                Biens d'équipement domestique   \n",
       "14        EUROFINS SCIENTIFIC                              Autres services   \n",
       "15       HERMES INTERNATIONAL              Textile Habillement Accessoires   \n",
       "16                     KERING              Textile Habillement Accessoires   \n",
       "17                    LEGRAND                     Electricité Electronique   \n",
       "18                    L'OREAL                 Chimie Pharmacie Cosmétiques   \n",
       "19                       LVMH                                  Conglomérat   \n",
       "20                   MICHELIN                        Equipement automobile   \n",
       "21                     ORANGE                            Télécommunication   \n",
       "22              PERNOD RICARD                              Agroalimentaire   \n",
       "23                   PUBLICIS             Communication Médias Multimédias   \n",
       "24                    RENAULT                                   Automobile   \n",
       "25                     SAFRAN                     Electricité Electronique   \n",
       "26               SAINT-GOBAIN                    Matériaux de construction   \n",
       "27                     SANOFI                 Chimie Pharmacie Cosmétiques   \n",
       "28         SCHNEIDER ELECTRIC                     Electricité Electronique   \n",
       "29           SOCIETE GENERALE                                       Banque   \n",
       "30                 STELLANTIS                                   Automobile   \n",
       "31         STMICROELECTRONICS                     Electricité Electronique   \n",
       "32            TELEPERFORMANCE                              Autres services   \n",
       "33                     THALES                 Aéronautique Espace Armement   \n",
       "34              TOTALENERGIES                  Energie et Produits de base   \n",
       "35  UNIBAIL-RODAMCO-WESTFIELD                                         SIIC   \n",
       "36       VEOLIA ENVIRONNEMENT  Environnement et Services aux collectivités   \n",
       "37                      VINCI                              BTP Génie Civil   \n",
       "38                 VIVENDI SE             Communication Médias Multimédias   \n",
       "39                  WORLDLINE                              Autres services   \n",
       "\n",
       "    Market Cap  \n",
       "0    71,07 Md€  \n",
       "1    85,23 Md€  \n",
       "2     9,06 Md€  \n",
       "3    21,45 Md€  \n",
       "4    57,04 Md€  \n",
       "5    62,25 Md€  \n",
       "6    11,76 Md€  \n",
       "7    32,42 Md€  \n",
       "8    12,62 Md€  \n",
       "9    30,48 Md€  \n",
       "10   35,61 Md€  \n",
       "11   56,99 Md€  \n",
       "12   31,42 Md€  \n",
       "13   72,88 Md€  \n",
       "14   14,56 Md€  \n",
       "15  145,47 Md€  \n",
       "16   70,01 Md€  \n",
       "17   21,49 Md€  \n",
       "18   193,2 Md€  \n",
       "19  349,51 Md€  \n",
       "20   19,11 Md€  \n",
       "21   26,92 Md€  \n",
       "22   50,05 Md€  \n",
       "23    12,9 Md€  \n",
       "24    9,08 Md€  \n",
       "25   46,89 Md€  \n",
       "26   23,82 Md€  \n",
       "27  108,32 Md€  \n",
       "28   77,18 Md€  \n",
       "29   20,15 Md€  \n",
       "30   46,66 Md€  \n",
       "31   33,83 Md€  \n",
       "32   18,61 Md€  \n",
       "33   25,82 Md€  \n",
       "34  136,01 Md€  \n",
       "35    8,44 Md€  \n",
       "36   17,91 Md€  \n",
       "37   56,18 Md€  \n",
       "38   10,44 Md€  \n",
       "39   12,53 Md€  "
      ]
     },
     "execution_count": 12,
     "metadata": {},
     "output_type": "execute_result"
    }
   ],
   "source": [
    "sector_marktcap=pd.DataFrame({'Company': Composition , 'Sector': lst_sector,'Market Cap' : lst_marktcap})\n",
    "sector_marktcap"
   ]
  },
  {
   "cell_type": "code",
   "execution_count": 13,
   "id": "a59fae64",
   "metadata": {
    "scrolled": false
   },
   "outputs": [
    {
     "data": {
      "text/plain": [
       "0      71.07\n",
       "1      85.23\n",
       "2       9.06\n",
       "3      21.45\n",
       "4      57.04\n",
       "5      62.25\n",
       "6      11.76\n",
       "7      32.42\n",
       "8      12.62\n",
       "9      30.48\n",
       "10     35.61\n",
       "11     56.99\n",
       "12     31.42\n",
       "13     72.88\n",
       "14     14.56\n",
       "15    145.47\n",
       "16     70.01\n",
       "17     21.49\n",
       "18    193.20\n",
       "19    349.51\n",
       "20     19.11\n",
       "21     26.92\n",
       "22     50.05\n",
       "23     12.90\n",
       "24      9.08\n",
       "25     46.89\n",
       "26     23.82\n",
       "27    108.32\n",
       "28     77.18\n",
       "29     20.15\n",
       "30     46.66\n",
       "31     33.83\n",
       "32     18.61\n",
       "33     25.82\n",
       "34    136.01\n",
       "35      8.44\n",
       "36     17.91\n",
       "37     56.18\n",
       "38     10.44\n",
       "39     12.53\n",
       "Name: Market Cap, dtype: float64"
      ]
     },
     "execution_count": 13,
     "metadata": {},
     "output_type": "execute_result"
    }
   ],
   "source": [
    "#transform the format of market cap column to numerical\n",
    "Market_cap_Md=sector_marktcap['Market Cap'].str.split(pat=\"\\xa0\").str.get(0).str.replace(',','.').astype(float)\n",
    "Market_cap_Md"
   ]
  },
  {
   "cell_type": "code",
   "execution_count": 14,
   "id": "8b4c30b9",
   "metadata": {},
   "outputs": [],
   "source": [
    "import numpy as np\n",
    "df_analysis=sector_marktcap.drop(['Market Cap'],axis=1)\n",
    "df_analysis['Market Cap (Md€)']=Market_cap_Md\n",
    "df_analysis['Weight']=np.round(df_analysis['Market Cap (Md€)']*100/df_analysis['Market Cap (Md€)'].sum(),1)"
   ]
  },
  {
   "cell_type": "code",
   "execution_count": 15,
   "id": "4d2fc81f",
   "metadata": {
    "scrolled": false
   },
   "outputs": [
    {
     "data": {
      "text/html": [
       "<div>\n",
       "<style scoped>\n",
       "    .dataframe tbody tr th:only-of-type {\n",
       "        vertical-align: middle;\n",
       "    }\n",
       "\n",
       "    .dataframe tbody tr th {\n",
       "        vertical-align: top;\n",
       "    }\n",
       "\n",
       "    .dataframe thead th {\n",
       "        text-align: right;\n",
       "    }\n",
       "</style>\n",
       "<table border=\"1\" class=\"dataframe\">\n",
       "  <thead>\n",
       "    <tr style=\"text-align: right;\">\n",
       "      <th></th>\n",
       "      <th>Company</th>\n",
       "      <th>Sector</th>\n",
       "      <th>Market Cap (Md€)</th>\n",
       "      <th>Weight</th>\n",
       "    </tr>\n",
       "  </thead>\n",
       "  <tbody>\n",
       "    <tr>\n",
       "      <th>0</th>\n",
       "      <td>AIR LIQUIDE</td>\n",
       "      <td>Energie et Produits de base</td>\n",
       "      <td>71.07</td>\n",
       "      <td>3.3</td>\n",
       "    </tr>\n",
       "    <tr>\n",
       "      <th>1</th>\n",
       "      <td>AIRBUS GROUP</td>\n",
       "      <td>Aéronautique Espace Armement</td>\n",
       "      <td>85.23</td>\n",
       "      <td>4.0</td>\n",
       "    </tr>\n",
       "    <tr>\n",
       "      <th>2</th>\n",
       "      <td>ALSTOM</td>\n",
       "      <td>Autres biens d'équipement</td>\n",
       "      <td>9.06</td>\n",
       "      <td>0.4</td>\n",
       "    </tr>\n",
       "    <tr>\n",
       "      <th>3</th>\n",
       "      <td>ARCELORMITTAL</td>\n",
       "      <td>Transformation des métaux</td>\n",
       "      <td>21.45</td>\n",
       "      <td>1.0</td>\n",
       "    </tr>\n",
       "    <tr>\n",
       "      <th>4</th>\n",
       "      <td>AXA</td>\n",
       "      <td>Assurances</td>\n",
       "      <td>57.04</td>\n",
       "      <td>2.7</td>\n",
       "    </tr>\n",
       "  </tbody>\n",
       "</table>\n",
       "</div>"
      ],
      "text/plain": [
       "         Company                        Sector  Market Cap (Md€)  Weight\n",
       "0    AIR LIQUIDE   Energie et Produits de base             71.07     3.3\n",
       "1   AIRBUS GROUP  Aéronautique Espace Armement             85.23     4.0\n",
       "2         ALSTOM     Autres biens d'équipement              9.06     0.4\n",
       "3  ARCELORMITTAL     Transformation des métaux             21.45     1.0\n",
       "4            AXA                    Assurances             57.04     2.7"
      ]
     },
     "execution_count": 15,
     "metadata": {},
     "output_type": "execute_result"
    }
   ],
   "source": [
    "df_analysis.head()"
   ]
  },
  {
   "cell_type": "code",
   "execution_count": 16,
   "id": "12dfe30c",
   "metadata": {
    "scrolled": true
   },
   "outputs": [
    {
     "data": {
      "text/html": [
       "<div>\n",
       "<style scoped>\n",
       "    .dataframe tbody tr th:only-of-type {\n",
       "        vertical-align: middle;\n",
       "    }\n",
       "\n",
       "    .dataframe tbody tr th {\n",
       "        vertical-align: top;\n",
       "    }\n",
       "\n",
       "    .dataframe thead th {\n",
       "        text-align: right;\n",
       "    }\n",
       "</style>\n",
       "<table border=\"1\" class=\"dataframe\">\n",
       "  <thead>\n",
       "    <tr style=\"text-align: right;\">\n",
       "      <th></th>\n",
       "      <th>Company</th>\n",
       "      <th>Sector</th>\n",
       "      <th>Market Cap (Md€)</th>\n",
       "      <th>Weight</th>\n",
       "    </tr>\n",
       "  </thead>\n",
       "  <tbody>\n",
       "    <tr>\n",
       "      <th>19</th>\n",
       "      <td>LVMH</td>\n",
       "      <td>Conglomérat</td>\n",
       "      <td>349.51</td>\n",
       "      <td>16.3</td>\n",
       "    </tr>\n",
       "    <tr>\n",
       "      <th>18</th>\n",
       "      <td>L'OREAL</td>\n",
       "      <td>Chimie Pharmacie Cosmétiques</td>\n",
       "      <td>193.20</td>\n",
       "      <td>9.0</td>\n",
       "    </tr>\n",
       "    <tr>\n",
       "      <th>15</th>\n",
       "      <td>HERMES INTERNATIONAL</td>\n",
       "      <td>Textile Habillement Accessoires</td>\n",
       "      <td>145.47</td>\n",
       "      <td>6.8</td>\n",
       "    </tr>\n",
       "    <tr>\n",
       "      <th>34</th>\n",
       "      <td>TOTALENERGIES</td>\n",
       "      <td>Energie et Produits de base</td>\n",
       "      <td>136.01</td>\n",
       "      <td>6.3</td>\n",
       "    </tr>\n",
       "    <tr>\n",
       "      <th>27</th>\n",
       "      <td>SANOFI</td>\n",
       "      <td>Chimie Pharmacie Cosmétiques</td>\n",
       "      <td>108.32</td>\n",
       "      <td>5.0</td>\n",
       "    </tr>\n",
       "  </tbody>\n",
       "</table>\n",
       "</div>"
      ],
      "text/plain": [
       "                 Company                           Sector  Market Cap (Md€)  \\\n",
       "19                  LVMH                      Conglomérat            349.51   \n",
       "18               L'OREAL     Chimie Pharmacie Cosmétiques            193.20   \n",
       "15  HERMES INTERNATIONAL  Textile Habillement Accessoires            145.47   \n",
       "34         TOTALENERGIES      Energie et Produits de base            136.01   \n",
       "27                SANOFI     Chimie Pharmacie Cosmétiques            108.32   \n",
       "\n",
       "    Weight  \n",
       "19    16.3  \n",
       "18     9.0  \n",
       "15     6.8  \n",
       "34     6.3  \n",
       "27     5.0  "
      ]
     },
     "execution_count": 16,
     "metadata": {},
     "output_type": "execute_result"
    }
   ],
   "source": [
    "# determine top 5 companies \n",
    "cacsorted=df_analysis.sort_values(by=['Market Cap (Md€)'],ascending=False)\n",
    "cacsorted.head()"
   ]
  },
  {
   "cell_type": "code",
   "execution_count": 18,
   "id": "8c173768",
   "metadata": {},
   "outputs": [
    {
     "data": {
      "text/html": [
       "        <script type=\"text/javascript\">\n",
       "        window.PlotlyConfig = {MathJaxConfig: 'local'};\n",
       "        if (window.MathJax && window.MathJax.Hub && window.MathJax.Hub.Config) {window.MathJax.Hub.Config({SVG: {font: \"STIX-Web\"}});}\n",
       "        if (typeof require !== 'undefined') {\n",
       "        require.undef(\"plotly\");\n",
       "        requirejs.config({\n",
       "            paths: {\n",
       "                'plotly': ['https://cdn.plot.ly/plotly-2.14.0.min']\n",
       "            }\n",
       "        });\n",
       "        require(['plotly'], function(Plotly) {\n",
       "            window._Plotly = Plotly;\n",
       "        });\n",
       "        }\n",
       "        </script>\n",
       "        "
      ]
     },
     "metadata": {},
     "output_type": "display_data"
    }
   ],
   "source": [
    "# pip install plotly-express\n",
    "from plotly.offline import init_notebook_mode\n",
    "init_notebook_mode(connected=True)        # in case plotly graphs go blank at the time of code execution "
   ]
  },
  {
   "cell_type": "code",
   "execution_count": 19,
   "id": "32d2fb30",
   "metadata": {
    "scrolled": false
   },
   "outputs": [
    {
     "data": {
      "application/vnd.plotly.v1+json": {
       "config": {
        "plotlyServerURL": "https://plot.ly"
       },
       "data": [
        {
         "alignmentgroup": "True",
         "hovertemplate": "Company=%{y}<br>Weight (%) =%{x}<extra></extra>",
         "legendgroup": "LVMH",
         "marker": {
          "color": "DarkCyan",
          "pattern": {
           "shape": ""
          }
         },
         "name": "LVMH",
         "offsetgroup": "LVMH",
         "orientation": "h",
         "showlegend": true,
         "textposition": "auto",
         "type": "bar",
         "width": 0.5,
         "x": [
          16.3
         ],
         "xaxis": "x",
         "y": [
          "LVMH"
         ],
         "yaxis": "y"
        },
        {
         "alignmentgroup": "True",
         "hovertemplate": "Company=%{y}<br>Weight (%) =%{x}<extra></extra>",
         "legendgroup": "L'OREAL",
         "marker": {
          "color": "LightSeaGreen",
          "pattern": {
           "shape": ""
          }
         },
         "name": "L'OREAL",
         "offsetgroup": "L'OREAL",
         "orientation": "h",
         "showlegend": true,
         "textposition": "auto",
         "type": "bar",
         "width": 0.5,
         "x": [
          9
         ],
         "xaxis": "x",
         "y": [
          "L'OREAL"
         ],
         "yaxis": "y"
        },
        {
         "alignmentgroup": "True",
         "hovertemplate": "Company=%{y}<br>Weight (%) =%{x}<extra></extra>",
         "legendgroup": "HERMES INTERNATIONAL",
         "marker": {
          "color": "CadetBlue",
          "pattern": {
           "shape": ""
          }
         },
         "name": "HERMES INTERNATIONAL",
         "offsetgroup": "HERMES INTERNATIONAL",
         "orientation": "h",
         "showlegend": true,
         "textposition": "auto",
         "type": "bar",
         "width": 0.5,
         "x": [
          6.8
         ],
         "xaxis": "x",
         "y": [
          "HERMES INTERNATIONAL"
         ],
         "yaxis": "y"
        },
        {
         "alignmentgroup": "True",
         "hovertemplate": "Company=%{y}<br>Weight (%) =%{x}<extra></extra>",
         "legendgroup": "TOTALENERGIES",
         "marker": {
          "color": "LightSteelBlue",
          "pattern": {
           "shape": ""
          }
         },
         "name": "TOTALENERGIES",
         "offsetgroup": "TOTALENERGIES",
         "orientation": "h",
         "showlegend": true,
         "textposition": "auto",
         "type": "bar",
         "width": 0.5,
         "x": [
          6.3
         ],
         "xaxis": "x",
         "y": [
          "TOTALENERGIES"
         ],
         "yaxis": "y"
        },
        {
         "alignmentgroup": "True",
         "hovertemplate": "Company=%{y}<br>Weight (%) =%{x}<extra></extra>",
         "legendgroup": "SANOFI",
         "marker": {
          "color": "LightBlue",
          "pattern": {
           "shape": ""
          }
         },
         "name": "SANOFI",
         "offsetgroup": "SANOFI",
         "orientation": "h",
         "showlegend": true,
         "textposition": "auto",
         "type": "bar",
         "width": 0.5,
         "x": [
          5
         ],
         "xaxis": "x",
         "y": [
          "SANOFI"
         ],
         "yaxis": "y"
        }
       ],
       "layout": {
        "bargap": 0.1,
        "barmode": "relative",
        "legend": {
         "title": {
          "text": "Company"
         },
         "tracegroupgap": 0
        },
        "margin": {
         "t": 60
        },
        "plot_bgcolor": "white",
        "showlegend": false,
        "template": {
         "data": {
          "bar": [
           {
            "error_x": {
             "color": "#2a3f5f"
            },
            "error_y": {
             "color": "#2a3f5f"
            },
            "marker": {
             "line": {
              "color": "#E5ECF6",
              "width": 0.5
             },
             "pattern": {
              "fillmode": "overlay",
              "size": 10,
              "solidity": 0.2
             }
            },
            "type": "bar"
           }
          ],
          "barpolar": [
           {
            "marker": {
             "line": {
              "color": "#E5ECF6",
              "width": 0.5
             },
             "pattern": {
              "fillmode": "overlay",
              "size": 10,
              "solidity": 0.2
             }
            },
            "type": "barpolar"
           }
          ],
          "carpet": [
           {
            "aaxis": {
             "endlinecolor": "#2a3f5f",
             "gridcolor": "white",
             "linecolor": "white",
             "minorgridcolor": "white",
             "startlinecolor": "#2a3f5f"
            },
            "baxis": {
             "endlinecolor": "#2a3f5f",
             "gridcolor": "white",
             "linecolor": "white",
             "minorgridcolor": "white",
             "startlinecolor": "#2a3f5f"
            },
            "type": "carpet"
           }
          ],
          "choropleth": [
           {
            "colorbar": {
             "outlinewidth": 0,
             "ticks": ""
            },
            "type": "choropleth"
           }
          ],
          "contour": [
           {
            "colorbar": {
             "outlinewidth": 0,
             "ticks": ""
            },
            "colorscale": [
             [
              0,
              "#0d0887"
             ],
             [
              0.1111111111111111,
              "#46039f"
             ],
             [
              0.2222222222222222,
              "#7201a8"
             ],
             [
              0.3333333333333333,
              "#9c179e"
             ],
             [
              0.4444444444444444,
              "#bd3786"
             ],
             [
              0.5555555555555556,
              "#d8576b"
             ],
             [
              0.6666666666666666,
              "#ed7953"
             ],
             [
              0.7777777777777778,
              "#fb9f3a"
             ],
             [
              0.8888888888888888,
              "#fdca26"
             ],
             [
              1,
              "#f0f921"
             ]
            ],
            "type": "contour"
           }
          ],
          "contourcarpet": [
           {
            "colorbar": {
             "outlinewidth": 0,
             "ticks": ""
            },
            "type": "contourcarpet"
           }
          ],
          "heatmap": [
           {
            "colorbar": {
             "outlinewidth": 0,
             "ticks": ""
            },
            "colorscale": [
             [
              0,
              "#0d0887"
             ],
             [
              0.1111111111111111,
              "#46039f"
             ],
             [
              0.2222222222222222,
              "#7201a8"
             ],
             [
              0.3333333333333333,
              "#9c179e"
             ],
             [
              0.4444444444444444,
              "#bd3786"
             ],
             [
              0.5555555555555556,
              "#d8576b"
             ],
             [
              0.6666666666666666,
              "#ed7953"
             ],
             [
              0.7777777777777778,
              "#fb9f3a"
             ],
             [
              0.8888888888888888,
              "#fdca26"
             ],
             [
              1,
              "#f0f921"
             ]
            ],
            "type": "heatmap"
           }
          ],
          "heatmapgl": [
           {
            "colorbar": {
             "outlinewidth": 0,
             "ticks": ""
            },
            "colorscale": [
             [
              0,
              "#0d0887"
             ],
             [
              0.1111111111111111,
              "#46039f"
             ],
             [
              0.2222222222222222,
              "#7201a8"
             ],
             [
              0.3333333333333333,
              "#9c179e"
             ],
             [
              0.4444444444444444,
              "#bd3786"
             ],
             [
              0.5555555555555556,
              "#d8576b"
             ],
             [
              0.6666666666666666,
              "#ed7953"
             ],
             [
              0.7777777777777778,
              "#fb9f3a"
             ],
             [
              0.8888888888888888,
              "#fdca26"
             ],
             [
              1,
              "#f0f921"
             ]
            ],
            "type": "heatmapgl"
           }
          ],
          "histogram": [
           {
            "marker": {
             "pattern": {
              "fillmode": "overlay",
              "size": 10,
              "solidity": 0.2
             }
            },
            "type": "histogram"
           }
          ],
          "histogram2d": [
           {
            "colorbar": {
             "outlinewidth": 0,
             "ticks": ""
            },
            "colorscale": [
             [
              0,
              "#0d0887"
             ],
             [
              0.1111111111111111,
              "#46039f"
             ],
             [
              0.2222222222222222,
              "#7201a8"
             ],
             [
              0.3333333333333333,
              "#9c179e"
             ],
             [
              0.4444444444444444,
              "#bd3786"
             ],
             [
              0.5555555555555556,
              "#d8576b"
             ],
             [
              0.6666666666666666,
              "#ed7953"
             ],
             [
              0.7777777777777778,
              "#fb9f3a"
             ],
             [
              0.8888888888888888,
              "#fdca26"
             ],
             [
              1,
              "#f0f921"
             ]
            ],
            "type": "histogram2d"
           }
          ],
          "histogram2dcontour": [
           {
            "colorbar": {
             "outlinewidth": 0,
             "ticks": ""
            },
            "colorscale": [
             [
              0,
              "#0d0887"
             ],
             [
              0.1111111111111111,
              "#46039f"
             ],
             [
              0.2222222222222222,
              "#7201a8"
             ],
             [
              0.3333333333333333,
              "#9c179e"
             ],
             [
              0.4444444444444444,
              "#bd3786"
             ],
             [
              0.5555555555555556,
              "#d8576b"
             ],
             [
              0.6666666666666666,
              "#ed7953"
             ],
             [
              0.7777777777777778,
              "#fb9f3a"
             ],
             [
              0.8888888888888888,
              "#fdca26"
             ],
             [
              1,
              "#f0f921"
             ]
            ],
            "type": "histogram2dcontour"
           }
          ],
          "mesh3d": [
           {
            "colorbar": {
             "outlinewidth": 0,
             "ticks": ""
            },
            "type": "mesh3d"
           }
          ],
          "parcoords": [
           {
            "line": {
             "colorbar": {
              "outlinewidth": 0,
              "ticks": ""
             }
            },
            "type": "parcoords"
           }
          ],
          "pie": [
           {
            "automargin": true,
            "type": "pie"
           }
          ],
          "scatter": [
           {
            "fillpattern": {
             "fillmode": "overlay",
             "size": 10,
             "solidity": 0.2
            },
            "type": "scatter"
           }
          ],
          "scatter3d": [
           {
            "line": {
             "colorbar": {
              "outlinewidth": 0,
              "ticks": ""
             }
            },
            "marker": {
             "colorbar": {
              "outlinewidth": 0,
              "ticks": ""
             }
            },
            "type": "scatter3d"
           }
          ],
          "scattercarpet": [
           {
            "marker": {
             "colorbar": {
              "outlinewidth": 0,
              "ticks": ""
             }
            },
            "type": "scattercarpet"
           }
          ],
          "scattergeo": [
           {
            "marker": {
             "colorbar": {
              "outlinewidth": 0,
              "ticks": ""
             }
            },
            "type": "scattergeo"
           }
          ],
          "scattergl": [
           {
            "marker": {
             "colorbar": {
              "outlinewidth": 0,
              "ticks": ""
             }
            },
            "type": "scattergl"
           }
          ],
          "scattermapbox": [
           {
            "marker": {
             "colorbar": {
              "outlinewidth": 0,
              "ticks": ""
             }
            },
            "type": "scattermapbox"
           }
          ],
          "scatterpolar": [
           {
            "marker": {
             "colorbar": {
              "outlinewidth": 0,
              "ticks": ""
             }
            },
            "type": "scatterpolar"
           }
          ],
          "scatterpolargl": [
           {
            "marker": {
             "colorbar": {
              "outlinewidth": 0,
              "ticks": ""
             }
            },
            "type": "scatterpolargl"
           }
          ],
          "scatterternary": [
           {
            "marker": {
             "colorbar": {
              "outlinewidth": 0,
              "ticks": ""
             }
            },
            "type": "scatterternary"
           }
          ],
          "surface": [
           {
            "colorbar": {
             "outlinewidth": 0,
             "ticks": ""
            },
            "colorscale": [
             [
              0,
              "#0d0887"
             ],
             [
              0.1111111111111111,
              "#46039f"
             ],
             [
              0.2222222222222222,
              "#7201a8"
             ],
             [
              0.3333333333333333,
              "#9c179e"
             ],
             [
              0.4444444444444444,
              "#bd3786"
             ],
             [
              0.5555555555555556,
              "#d8576b"
             ],
             [
              0.6666666666666666,
              "#ed7953"
             ],
             [
              0.7777777777777778,
              "#fb9f3a"
             ],
             [
              0.8888888888888888,
              "#fdca26"
             ],
             [
              1,
              "#f0f921"
             ]
            ],
            "type": "surface"
           }
          ],
          "table": [
           {
            "cells": {
             "fill": {
              "color": "#EBF0F8"
             },
             "line": {
              "color": "white"
             }
            },
            "header": {
             "fill": {
              "color": "#C8D4E3"
             },
             "line": {
              "color": "white"
             }
            },
            "type": "table"
           }
          ]
         },
         "layout": {
          "annotationdefaults": {
           "arrowcolor": "#2a3f5f",
           "arrowhead": 0,
           "arrowwidth": 1
          },
          "autotypenumbers": "strict",
          "coloraxis": {
           "colorbar": {
            "outlinewidth": 0,
            "ticks": ""
           }
          },
          "colorscale": {
           "diverging": [
            [
             0,
             "#8e0152"
            ],
            [
             0.1,
             "#c51b7d"
            ],
            [
             0.2,
             "#de77ae"
            ],
            [
             0.3,
             "#f1b6da"
            ],
            [
             0.4,
             "#fde0ef"
            ],
            [
             0.5,
             "#f7f7f7"
            ],
            [
             0.6,
             "#e6f5d0"
            ],
            [
             0.7,
             "#b8e186"
            ],
            [
             0.8,
             "#7fbc41"
            ],
            [
             0.9,
             "#4d9221"
            ],
            [
             1,
             "#276419"
            ]
           ],
           "sequential": [
            [
             0,
             "#0d0887"
            ],
            [
             0.1111111111111111,
             "#46039f"
            ],
            [
             0.2222222222222222,
             "#7201a8"
            ],
            [
             0.3333333333333333,
             "#9c179e"
            ],
            [
             0.4444444444444444,
             "#bd3786"
            ],
            [
             0.5555555555555556,
             "#d8576b"
            ],
            [
             0.6666666666666666,
             "#ed7953"
            ],
            [
             0.7777777777777778,
             "#fb9f3a"
            ],
            [
             0.8888888888888888,
             "#fdca26"
            ],
            [
             1,
             "#f0f921"
            ]
           ],
           "sequentialminus": [
            [
             0,
             "#0d0887"
            ],
            [
             0.1111111111111111,
             "#46039f"
            ],
            [
             0.2222222222222222,
             "#7201a8"
            ],
            [
             0.3333333333333333,
             "#9c179e"
            ],
            [
             0.4444444444444444,
             "#bd3786"
            ],
            [
             0.5555555555555556,
             "#d8576b"
            ],
            [
             0.6666666666666666,
             "#ed7953"
            ],
            [
             0.7777777777777778,
             "#fb9f3a"
            ],
            [
             0.8888888888888888,
             "#fdca26"
            ],
            [
             1,
             "#f0f921"
            ]
           ]
          },
          "colorway": [
           "#636efa",
           "#EF553B",
           "#00cc96",
           "#ab63fa",
           "#FFA15A",
           "#19d3f3",
           "#FF6692",
           "#B6E880",
           "#FF97FF",
           "#FECB52"
          ],
          "font": {
           "color": "#2a3f5f"
          },
          "geo": {
           "bgcolor": "white",
           "lakecolor": "white",
           "landcolor": "#E5ECF6",
           "showlakes": true,
           "showland": true,
           "subunitcolor": "white"
          },
          "hoverlabel": {
           "align": "left"
          },
          "hovermode": "closest",
          "mapbox": {
           "style": "light"
          },
          "paper_bgcolor": "white",
          "plot_bgcolor": "#E5ECF6",
          "polar": {
           "angularaxis": {
            "gridcolor": "white",
            "linecolor": "white",
            "ticks": ""
           },
           "bgcolor": "#E5ECF6",
           "radialaxis": {
            "gridcolor": "white",
            "linecolor": "white",
            "ticks": ""
           }
          },
          "scene": {
           "xaxis": {
            "backgroundcolor": "#E5ECF6",
            "gridcolor": "white",
            "gridwidth": 2,
            "linecolor": "white",
            "showbackground": true,
            "ticks": "",
            "zerolinecolor": "white"
           },
           "yaxis": {
            "backgroundcolor": "#E5ECF6",
            "gridcolor": "white",
            "gridwidth": 2,
            "linecolor": "white",
            "showbackground": true,
            "ticks": "",
            "zerolinecolor": "white"
           },
           "zaxis": {
            "backgroundcolor": "#E5ECF6",
            "gridcolor": "white",
            "gridwidth": 2,
            "linecolor": "white",
            "showbackground": true,
            "ticks": "",
            "zerolinecolor": "white"
           }
          },
          "shapedefaults": {
           "line": {
            "color": "#2a3f5f"
           }
          },
          "ternary": {
           "aaxis": {
            "gridcolor": "white",
            "linecolor": "white",
            "ticks": ""
           },
           "baxis": {
            "gridcolor": "white",
            "linecolor": "white",
            "ticks": ""
           },
           "bgcolor": "#E5ECF6",
           "caxis": {
            "gridcolor": "white",
            "linecolor": "white",
            "ticks": ""
           }
          },
          "title": {
           "x": 0.05
          },
          "xaxis": {
           "automargin": true,
           "gridcolor": "white",
           "linecolor": "white",
           "ticks": "",
           "title": {
            "standoff": 15
           },
           "zerolinecolor": "white",
           "zerolinewidth": 2
          },
          "yaxis": {
           "automargin": true,
           "gridcolor": "white",
           "linecolor": "white",
           "ticks": "",
           "title": {
            "standoff": 15
           },
           "zerolinecolor": "white",
           "zerolinewidth": 2
          }
         }
        },
        "title": {
         "font": {
          "color": "Black",
          "size": 18
         },
         "text": "<b>CAC 40 : Top 5 companies by Market Cap</b> ",
         "x": 0.55,
         "y": 0.95
        },
        "xaxis": {
         "anchor": "y",
         "color": "Black",
         "domain": [
          0,
          1
         ],
         "linecolor": "Black",
         "tickfont": {
          "size": 14
         },
         "title": {
          "font": {
           "size": 15
          },
          "text": "Weight (%) "
         }
        },
        "yaxis": {
         "anchor": "x",
         "autorange": "reversed",
         "domain": [
          0,
          1
         ],
         "linecolor": "Black",
         "tickfont": {
          "size": 14
         },
         "title": {}
        }
       }
      },
      "text/html": [
       "<div>                            <div id=\"eb8f07e0-4387-4e61-a1b3-ac896793fd25\" class=\"plotly-graph-div\" style=\"height:525px; width:100%;\"></div>            <script type=\"text/javascript\">                require([\"plotly\"], function(Plotly) {                    window.PLOTLYENV=window.PLOTLYENV || {};                                    if (document.getElementById(\"eb8f07e0-4387-4e61-a1b3-ac896793fd25\")) {                    Plotly.newPlot(                        \"eb8f07e0-4387-4e61-a1b3-ac896793fd25\",                        [{\"alignmentgroup\":\"True\",\"hovertemplate\":\"Company=%{y}<br>Weight (%) =%{x}<extra></extra>\",\"legendgroup\":\"LVMH\",\"marker\":{\"color\":\"DarkCyan\",\"pattern\":{\"shape\":\"\"}},\"name\":\"LVMH\",\"offsetgroup\":\"LVMH\",\"orientation\":\"h\",\"showlegend\":true,\"textposition\":\"auto\",\"x\":[16.3],\"xaxis\":\"x\",\"y\":[\"LVMH\"],\"yaxis\":\"y\",\"type\":\"bar\",\"width\":0.5},{\"alignmentgroup\":\"True\",\"hovertemplate\":\"Company=%{y}<br>Weight (%) =%{x}<extra></extra>\",\"legendgroup\":\"L'OREAL\",\"marker\":{\"color\":\"LightSeaGreen\",\"pattern\":{\"shape\":\"\"}},\"name\":\"L'OREAL\",\"offsetgroup\":\"L'OREAL\",\"orientation\":\"h\",\"showlegend\":true,\"textposition\":\"auto\",\"x\":[9.0],\"xaxis\":\"x\",\"y\":[\"L'OREAL\"],\"yaxis\":\"y\",\"type\":\"bar\",\"width\":0.5},{\"alignmentgroup\":\"True\",\"hovertemplate\":\"Company=%{y}<br>Weight (%) =%{x}<extra></extra>\",\"legendgroup\":\"HERMES INTERNATIONAL\",\"marker\":{\"color\":\"CadetBlue\",\"pattern\":{\"shape\":\"\"}},\"name\":\"HERMES INTERNATIONAL\",\"offsetgroup\":\"HERMES INTERNATIONAL\",\"orientation\":\"h\",\"showlegend\":true,\"textposition\":\"auto\",\"x\":[6.8],\"xaxis\":\"x\",\"y\":[\"HERMES INTERNATIONAL\"],\"yaxis\":\"y\",\"type\":\"bar\",\"width\":0.5},{\"alignmentgroup\":\"True\",\"hovertemplate\":\"Company=%{y}<br>Weight (%) =%{x}<extra></extra>\",\"legendgroup\":\"TOTALENERGIES\",\"marker\":{\"color\":\"LightSteelBlue\",\"pattern\":{\"shape\":\"\"}},\"name\":\"TOTALENERGIES\",\"offsetgroup\":\"TOTALENERGIES\",\"orientation\":\"h\",\"showlegend\":true,\"textposition\":\"auto\",\"x\":[6.3],\"xaxis\":\"x\",\"y\":[\"TOTALENERGIES\"],\"yaxis\":\"y\",\"type\":\"bar\",\"width\":0.5},{\"alignmentgroup\":\"True\",\"hovertemplate\":\"Company=%{y}<br>Weight (%) =%{x}<extra></extra>\",\"legendgroup\":\"SANOFI\",\"marker\":{\"color\":\"LightBlue\",\"pattern\":{\"shape\":\"\"}},\"name\":\"SANOFI\",\"offsetgroup\":\"SANOFI\",\"orientation\":\"h\",\"showlegend\":true,\"textposition\":\"auto\",\"x\":[5.0],\"xaxis\":\"x\",\"y\":[\"SANOFI\"],\"yaxis\":\"y\",\"type\":\"bar\",\"width\":0.5}],                        {\"template\":{\"data\":{\"histogram2dcontour\":[{\"type\":\"histogram2dcontour\",\"colorbar\":{\"outlinewidth\":0,\"ticks\":\"\"},\"colorscale\":[[0.0,\"#0d0887\"],[0.1111111111111111,\"#46039f\"],[0.2222222222222222,\"#7201a8\"],[0.3333333333333333,\"#9c179e\"],[0.4444444444444444,\"#bd3786\"],[0.5555555555555556,\"#d8576b\"],[0.6666666666666666,\"#ed7953\"],[0.7777777777777778,\"#fb9f3a\"],[0.8888888888888888,\"#fdca26\"],[1.0,\"#f0f921\"]]}],\"choropleth\":[{\"type\":\"choropleth\",\"colorbar\":{\"outlinewidth\":0,\"ticks\":\"\"}}],\"histogram2d\":[{\"type\":\"histogram2d\",\"colorbar\":{\"outlinewidth\":0,\"ticks\":\"\"},\"colorscale\":[[0.0,\"#0d0887\"],[0.1111111111111111,\"#46039f\"],[0.2222222222222222,\"#7201a8\"],[0.3333333333333333,\"#9c179e\"],[0.4444444444444444,\"#bd3786\"],[0.5555555555555556,\"#d8576b\"],[0.6666666666666666,\"#ed7953\"],[0.7777777777777778,\"#fb9f3a\"],[0.8888888888888888,\"#fdca26\"],[1.0,\"#f0f921\"]]}],\"heatmap\":[{\"type\":\"heatmap\",\"colorbar\":{\"outlinewidth\":0,\"ticks\":\"\"},\"colorscale\":[[0.0,\"#0d0887\"],[0.1111111111111111,\"#46039f\"],[0.2222222222222222,\"#7201a8\"],[0.3333333333333333,\"#9c179e\"],[0.4444444444444444,\"#bd3786\"],[0.5555555555555556,\"#d8576b\"],[0.6666666666666666,\"#ed7953\"],[0.7777777777777778,\"#fb9f3a\"],[0.8888888888888888,\"#fdca26\"],[1.0,\"#f0f921\"]]}],\"heatmapgl\":[{\"type\":\"heatmapgl\",\"colorbar\":{\"outlinewidth\":0,\"ticks\":\"\"},\"colorscale\":[[0.0,\"#0d0887\"],[0.1111111111111111,\"#46039f\"],[0.2222222222222222,\"#7201a8\"],[0.3333333333333333,\"#9c179e\"],[0.4444444444444444,\"#bd3786\"],[0.5555555555555556,\"#d8576b\"],[0.6666666666666666,\"#ed7953\"],[0.7777777777777778,\"#fb9f3a\"],[0.8888888888888888,\"#fdca26\"],[1.0,\"#f0f921\"]]}],\"contourcarpet\":[{\"type\":\"contourcarpet\",\"colorbar\":{\"outlinewidth\":0,\"ticks\":\"\"}}],\"contour\":[{\"type\":\"contour\",\"colorbar\":{\"outlinewidth\":0,\"ticks\":\"\"},\"colorscale\":[[0.0,\"#0d0887\"],[0.1111111111111111,\"#46039f\"],[0.2222222222222222,\"#7201a8\"],[0.3333333333333333,\"#9c179e\"],[0.4444444444444444,\"#bd3786\"],[0.5555555555555556,\"#d8576b\"],[0.6666666666666666,\"#ed7953\"],[0.7777777777777778,\"#fb9f3a\"],[0.8888888888888888,\"#fdca26\"],[1.0,\"#f0f921\"]]}],\"surface\":[{\"type\":\"surface\",\"colorbar\":{\"outlinewidth\":0,\"ticks\":\"\"},\"colorscale\":[[0.0,\"#0d0887\"],[0.1111111111111111,\"#46039f\"],[0.2222222222222222,\"#7201a8\"],[0.3333333333333333,\"#9c179e\"],[0.4444444444444444,\"#bd3786\"],[0.5555555555555556,\"#d8576b\"],[0.6666666666666666,\"#ed7953\"],[0.7777777777777778,\"#fb9f3a\"],[0.8888888888888888,\"#fdca26\"],[1.0,\"#f0f921\"]]}],\"mesh3d\":[{\"type\":\"mesh3d\",\"colorbar\":{\"outlinewidth\":0,\"ticks\":\"\"}}],\"scatter\":[{\"fillpattern\":{\"fillmode\":\"overlay\",\"size\":10,\"solidity\":0.2},\"type\":\"scatter\"}],\"parcoords\":[{\"type\":\"parcoords\",\"line\":{\"colorbar\":{\"outlinewidth\":0,\"ticks\":\"\"}}}],\"scatterpolargl\":[{\"type\":\"scatterpolargl\",\"marker\":{\"colorbar\":{\"outlinewidth\":0,\"ticks\":\"\"}}}],\"bar\":[{\"error_x\":{\"color\":\"#2a3f5f\"},\"error_y\":{\"color\":\"#2a3f5f\"},\"marker\":{\"line\":{\"color\":\"#E5ECF6\",\"width\":0.5},\"pattern\":{\"fillmode\":\"overlay\",\"size\":10,\"solidity\":0.2}},\"type\":\"bar\"}],\"scattergeo\":[{\"type\":\"scattergeo\",\"marker\":{\"colorbar\":{\"outlinewidth\":0,\"ticks\":\"\"}}}],\"scatterpolar\":[{\"type\":\"scatterpolar\",\"marker\":{\"colorbar\":{\"outlinewidth\":0,\"ticks\":\"\"}}}],\"histogram\":[{\"marker\":{\"pattern\":{\"fillmode\":\"overlay\",\"size\":10,\"solidity\":0.2}},\"type\":\"histogram\"}],\"scattergl\":[{\"type\":\"scattergl\",\"marker\":{\"colorbar\":{\"outlinewidth\":0,\"ticks\":\"\"}}}],\"scatter3d\":[{\"type\":\"scatter3d\",\"line\":{\"colorbar\":{\"outlinewidth\":0,\"ticks\":\"\"}},\"marker\":{\"colorbar\":{\"outlinewidth\":0,\"ticks\":\"\"}}}],\"scattermapbox\":[{\"type\":\"scattermapbox\",\"marker\":{\"colorbar\":{\"outlinewidth\":0,\"ticks\":\"\"}}}],\"scatterternary\":[{\"type\":\"scatterternary\",\"marker\":{\"colorbar\":{\"outlinewidth\":0,\"ticks\":\"\"}}}],\"scattercarpet\":[{\"type\":\"scattercarpet\",\"marker\":{\"colorbar\":{\"outlinewidth\":0,\"ticks\":\"\"}}}],\"carpet\":[{\"aaxis\":{\"endlinecolor\":\"#2a3f5f\",\"gridcolor\":\"white\",\"linecolor\":\"white\",\"minorgridcolor\":\"white\",\"startlinecolor\":\"#2a3f5f\"},\"baxis\":{\"endlinecolor\":\"#2a3f5f\",\"gridcolor\":\"white\",\"linecolor\":\"white\",\"minorgridcolor\":\"white\",\"startlinecolor\":\"#2a3f5f\"},\"type\":\"carpet\"}],\"table\":[{\"cells\":{\"fill\":{\"color\":\"#EBF0F8\"},\"line\":{\"color\":\"white\"}},\"header\":{\"fill\":{\"color\":\"#C8D4E3\"},\"line\":{\"color\":\"white\"}},\"type\":\"table\"}],\"barpolar\":[{\"marker\":{\"line\":{\"color\":\"#E5ECF6\",\"width\":0.5},\"pattern\":{\"fillmode\":\"overlay\",\"size\":10,\"solidity\":0.2}},\"type\":\"barpolar\"}],\"pie\":[{\"automargin\":true,\"type\":\"pie\"}]},\"layout\":{\"autotypenumbers\":\"strict\",\"colorway\":[\"#636efa\",\"#EF553B\",\"#00cc96\",\"#ab63fa\",\"#FFA15A\",\"#19d3f3\",\"#FF6692\",\"#B6E880\",\"#FF97FF\",\"#FECB52\"],\"font\":{\"color\":\"#2a3f5f\"},\"hovermode\":\"closest\",\"hoverlabel\":{\"align\":\"left\"},\"paper_bgcolor\":\"white\",\"plot_bgcolor\":\"#E5ECF6\",\"polar\":{\"bgcolor\":\"#E5ECF6\",\"angularaxis\":{\"gridcolor\":\"white\",\"linecolor\":\"white\",\"ticks\":\"\"},\"radialaxis\":{\"gridcolor\":\"white\",\"linecolor\":\"white\",\"ticks\":\"\"}},\"ternary\":{\"bgcolor\":\"#E5ECF6\",\"aaxis\":{\"gridcolor\":\"white\",\"linecolor\":\"white\",\"ticks\":\"\"},\"baxis\":{\"gridcolor\":\"white\",\"linecolor\":\"white\",\"ticks\":\"\"},\"caxis\":{\"gridcolor\":\"white\",\"linecolor\":\"white\",\"ticks\":\"\"}},\"coloraxis\":{\"colorbar\":{\"outlinewidth\":0,\"ticks\":\"\"}},\"colorscale\":{\"sequential\":[[0.0,\"#0d0887\"],[0.1111111111111111,\"#46039f\"],[0.2222222222222222,\"#7201a8\"],[0.3333333333333333,\"#9c179e\"],[0.4444444444444444,\"#bd3786\"],[0.5555555555555556,\"#d8576b\"],[0.6666666666666666,\"#ed7953\"],[0.7777777777777778,\"#fb9f3a\"],[0.8888888888888888,\"#fdca26\"],[1.0,\"#f0f921\"]],\"sequentialminus\":[[0.0,\"#0d0887\"],[0.1111111111111111,\"#46039f\"],[0.2222222222222222,\"#7201a8\"],[0.3333333333333333,\"#9c179e\"],[0.4444444444444444,\"#bd3786\"],[0.5555555555555556,\"#d8576b\"],[0.6666666666666666,\"#ed7953\"],[0.7777777777777778,\"#fb9f3a\"],[0.8888888888888888,\"#fdca26\"],[1.0,\"#f0f921\"]],\"diverging\":[[0,\"#8e0152\"],[0.1,\"#c51b7d\"],[0.2,\"#de77ae\"],[0.3,\"#f1b6da\"],[0.4,\"#fde0ef\"],[0.5,\"#f7f7f7\"],[0.6,\"#e6f5d0\"],[0.7,\"#b8e186\"],[0.8,\"#7fbc41\"],[0.9,\"#4d9221\"],[1,\"#276419\"]]},\"xaxis\":{\"gridcolor\":\"white\",\"linecolor\":\"white\",\"ticks\":\"\",\"title\":{\"standoff\":15},\"zerolinecolor\":\"white\",\"automargin\":true,\"zerolinewidth\":2},\"yaxis\":{\"gridcolor\":\"white\",\"linecolor\":\"white\",\"ticks\":\"\",\"title\":{\"standoff\":15},\"zerolinecolor\":\"white\",\"automargin\":true,\"zerolinewidth\":2},\"scene\":{\"xaxis\":{\"backgroundcolor\":\"#E5ECF6\",\"gridcolor\":\"white\",\"linecolor\":\"white\",\"showbackground\":true,\"ticks\":\"\",\"zerolinecolor\":\"white\",\"gridwidth\":2},\"yaxis\":{\"backgroundcolor\":\"#E5ECF6\",\"gridcolor\":\"white\",\"linecolor\":\"white\",\"showbackground\":true,\"ticks\":\"\",\"zerolinecolor\":\"white\",\"gridwidth\":2},\"zaxis\":{\"backgroundcolor\":\"#E5ECF6\",\"gridcolor\":\"white\",\"linecolor\":\"white\",\"showbackground\":true,\"ticks\":\"\",\"zerolinecolor\":\"white\",\"gridwidth\":2}},\"shapedefaults\":{\"line\":{\"color\":\"#2a3f5f\"}},\"annotationdefaults\":{\"arrowcolor\":\"#2a3f5f\",\"arrowhead\":0,\"arrowwidth\":1},\"geo\":{\"bgcolor\":\"white\",\"landcolor\":\"#E5ECF6\",\"subunitcolor\":\"white\",\"showland\":true,\"showlakes\":true,\"lakecolor\":\"white\"},\"title\":{\"x\":0.05},\"mapbox\":{\"style\":\"light\"}}},\"xaxis\":{\"anchor\":\"y\",\"domain\":[0.0,1.0],\"title\":{\"text\":\"Weight (%) \",\"font\":{\"size\":15}},\"tickfont\":{\"size\":14},\"color\":\"Black\",\"linecolor\":\"Black\"},\"yaxis\":{\"anchor\":\"x\",\"domain\":[0.0,1.0],\"title\":{},\"tickfont\":{\"size\":14},\"autorange\":\"reversed\",\"linecolor\":\"Black\"},\"legend\":{\"title\":{\"text\":\"Company\"},\"tracegroupgap\":0},\"margin\":{\"t\":60},\"barmode\":\"relative\",\"title\":{\"font\":{\"size\":18,\"color\":\"Black\"},\"text\":\"<b>CAC 40 : Top 5 companies by Market Cap</b> \",\"x\":0.55,\"y\":0.95},\"plot_bgcolor\":\"white\",\"showlegend\":false,\"bargap\":0.1},                        {\"responsive\": true}                    ).then(function(){\n",
       "                            \n",
       "var gd = document.getElementById('eb8f07e0-4387-4e61-a1b3-ac896793fd25');\n",
       "var x = new MutationObserver(function (mutations, observer) {{\n",
       "        var display = window.getComputedStyle(gd).display;\n",
       "        if (!display || display === 'none') {{\n",
       "            console.log([gd, 'removed!']);\n",
       "            Plotly.purge(gd);\n",
       "            observer.disconnect();\n",
       "        }}\n",
       "}});\n",
       "\n",
       "// Listen for the removal of the full notebook cells\n",
       "var notebookContainer = gd.closest('#notebook-container');\n",
       "if (notebookContainer) {{\n",
       "    x.observe(notebookContainer, {childList: true});\n",
       "}}\n",
       "\n",
       "// Listen for the clearing of the current output cell\n",
       "var outputEl = gd.closest('.output');\n",
       "if (outputEl) {{\n",
       "    x.observe(outputEl, {childList: true});\n",
       "}}\n",
       "\n",
       "                        })                };                });            </script>        </div>"
      ]
     },
     "metadata": {},
     "output_type": "display_data"
    }
   ],
   "source": [
    "import plotly.express as px\n",
    "\n",
    "\n",
    "fig1 = px.bar(cacsorted.head(5),\n",
    "            x=cacsorted.head(5)['Weight'],\n",
    "            y=cacsorted.head(5)['Company'],\n",
    "             labels=dict(x=\"Weight (%) \",y='Company'),\n",
    "            orientation='h',color='Company',color_discrete_sequence=['DarkCyan','LightSeaGreen','CadetBlue',\n",
    "                                                                     'LightSteelBlue','LightBlue']).update_traces(width=0.5)\n",
    "\n",
    "fig1.update_layout(plot_bgcolor='white',title=dict(\n",
    "        text='<b>CAC 40 : Top 5 companies by Market Cap</b> ',\n",
    "        x=0.55,\n",
    "        y=0.95,\n",
    "        font=dict(\n",
    "            size=18,\n",
    "        color='Black')),\n",
    "   yaxis=dict(autorange=\"reversed\",linecolor='Black',tickfont=dict(size=14)),\n",
    "                   xaxis=dict(title_font_size=15,color='Black',linecolor='Black',tickfont=dict(size=14)),\n",
    "                  showlegend=False,yaxis_title=None,bargap=0.1)\n",
    "\n",
    "fig1.show()\n"
   ]
  },
  {
   "cell_type": "code",
   "execution_count": 20,
   "id": "17a74588",
   "metadata": {},
   "outputs": [],
   "source": [
    "# Decomposition :   By sector and company \n",
    "# First , determine the top 7 sectors \n",
    "df_analysis1=df_analysis.replace(['Banque','Assurances'],'Banque & Assurances')\n",
    "\n",
    "top7sectors=df_analysis1.drop(['Company','Weight'],axis=1).groupby(by='Sector').sum().sort_values(by='Market Cap (Md€)'\n",
    "                                                        ,ascending=False).head(7).squeeze()\n",
    "# Any sector other than the top 7 will be marked as 'others' \n",
    "others = df_analysis1.drop(df_analysis1[df_analysis1['Sector'].isin(top7sectors.index)].index)\n",
    "df_analysis2=df_analysis1.replace(pd.concat([others['Company'],others['Sector']]).tolist(),'Autres')"
   ]
  },
  {
   "cell_type": "code",
   "execution_count": 21,
   "id": "63339dc4",
   "metadata": {
    "scrolled": true
   },
   "outputs": [
    {
     "data": {
      "text/html": [
       "<div>\n",
       "<style scoped>\n",
       "    .dataframe tbody tr th:only-of-type {\n",
       "        vertical-align: middle;\n",
       "    }\n",
       "\n",
       "    .dataframe tbody tr th {\n",
       "        vertical-align: top;\n",
       "    }\n",
       "\n",
       "    .dataframe thead th {\n",
       "        text-align: right;\n",
       "    }\n",
       "</style>\n",
       "<table border=\"1\" class=\"dataframe\">\n",
       "  <thead>\n",
       "    <tr style=\"text-align: right;\">\n",
       "      <th></th>\n",
       "      <th>Company</th>\n",
       "      <th>Sector</th>\n",
       "      <th>Market Cap (Md€)</th>\n",
       "      <th>Weight</th>\n",
       "    </tr>\n",
       "  </thead>\n",
       "  <tbody>\n",
       "    <tr>\n",
       "      <th>0</th>\n",
       "      <td>AIR LIQUIDE</td>\n",
       "      <td>Energie et Produits de base</td>\n",
       "      <td>71.07</td>\n",
       "      <td>3.3</td>\n",
       "    </tr>\n",
       "    <tr>\n",
       "      <th>1</th>\n",
       "      <td>AIRBUS GROUP</td>\n",
       "      <td>Aéronautique Espace Armement</td>\n",
       "      <td>85.23</td>\n",
       "      <td>4.0</td>\n",
       "    </tr>\n",
       "    <tr>\n",
       "      <th>2</th>\n",
       "      <td>Autres</td>\n",
       "      <td>Autres</td>\n",
       "      <td>9.06</td>\n",
       "      <td>0.4</td>\n",
       "    </tr>\n",
       "    <tr>\n",
       "      <th>3</th>\n",
       "      <td>Autres</td>\n",
       "      <td>Autres</td>\n",
       "      <td>21.45</td>\n",
       "      <td>1.0</td>\n",
       "    </tr>\n",
       "    <tr>\n",
       "      <th>4</th>\n",
       "      <td>AXA</td>\n",
       "      <td>Banque &amp; Assurances</td>\n",
       "      <td>57.04</td>\n",
       "      <td>2.7</td>\n",
       "    </tr>\n",
       "    <tr>\n",
       "      <th>5</th>\n",
       "      <td>BNP PARIBAS</td>\n",
       "      <td>Banque &amp; Assurances</td>\n",
       "      <td>62.25</td>\n",
       "      <td>2.9</td>\n",
       "    </tr>\n",
       "    <tr>\n",
       "      <th>6</th>\n",
       "      <td>BOUYGUES</td>\n",
       "      <td>Conglomérat</td>\n",
       "      <td>11.76</td>\n",
       "      <td>0.5</td>\n",
       "    </tr>\n",
       "    <tr>\n",
       "      <th>7</th>\n",
       "      <td>Autres</td>\n",
       "      <td>Autres</td>\n",
       "      <td>32.42</td>\n",
       "      <td>1.5</td>\n",
       "    </tr>\n",
       "    <tr>\n",
       "      <th>8</th>\n",
       "      <td>Autres</td>\n",
       "      <td>Autres</td>\n",
       "      <td>12.62</td>\n",
       "      <td>0.6</td>\n",
       "    </tr>\n",
       "    <tr>\n",
       "      <th>9</th>\n",
       "      <td>CREDIT AGRICOLE</td>\n",
       "      <td>Banque &amp; Assurances</td>\n",
       "      <td>30.48</td>\n",
       "      <td>1.4</td>\n",
       "    </tr>\n",
       "  </tbody>\n",
       "</table>\n",
       "</div>"
      ],
      "text/plain": [
       "           Company                        Sector  Market Cap (Md€)  Weight\n",
       "0      AIR LIQUIDE   Energie et Produits de base             71.07     3.3\n",
       "1     AIRBUS GROUP  Aéronautique Espace Armement             85.23     4.0\n",
       "2           Autres                        Autres              9.06     0.4\n",
       "3           Autres                        Autres             21.45     1.0\n",
       "4              AXA           Banque & Assurances             57.04     2.7\n",
       "5      BNP PARIBAS           Banque & Assurances             62.25     2.9\n",
       "6         BOUYGUES                   Conglomérat             11.76     0.5\n",
       "7           Autres                        Autres             32.42     1.5\n",
       "8           Autres                        Autres             12.62     0.6\n",
       "9  CREDIT AGRICOLE           Banque & Assurances             30.48     1.4"
      ]
     },
     "execution_count": 21,
     "metadata": {},
     "output_type": "execute_result"
    }
   ],
   "source": [
    "df_analysis2.head()"
   ]
  },
  {
   "cell_type": "code",
   "execution_count": 22,
   "id": "a76d6672",
   "metadata": {
    "scrolled": false
   },
   "outputs": [
    {
     "data": {
      "application/vnd.plotly.v1+json": {
       "config": {
        "plotlyServerURL": "https://plot.ly"
       },
       "data": [
        {
         "branchvalues": "total",
         "domain": {
          "x": [
           0,
           1
          ],
          "y": [
           0,
           1
          ]
         },
         "hovertemplate": "labels=%{label}<br>Market Cap (Md€)=%{value}<br>parent=%{parent}<br>id=%{id}<extra></extra>",
         "ids": [
          "Energie et Produits de base/AIR LIQUIDE",
          "Aéronautique Espace Armement/AIRBUS GROUP",
          "Banque & Assurances/AXA",
          "Autres/Autres",
          "Banque & Assurances/BNP PARIBAS",
          "Conglomérat/BOUYGUES",
          "Banque & Assurances/CREDIT AGRICOLE",
          "Textile Habillement Accessoires/HERMES INTERNATIONAL",
          "Textile Habillement Accessoires/KERING",
          "Chimie Pharmacie Cosmétiques/L'OREAL",
          "Electricité Electronique/LEGRAND",
          "Conglomérat/LVMH",
          "Electricité Electronique/SAFRAN",
          "Chimie Pharmacie Cosmétiques/SANOFI",
          "Electricité Electronique/SCHNEIDER ELECTRIC",
          "Banque & Assurances/SOCIETE GENERALE",
          "Electricité Electronique/STMICROELECTRONICS",
          "Aéronautique Espace Armement/THALES",
          "Energie et Produits de base/TOTALENERGIES",
          "Autres",
          "Aéronautique Espace Armement",
          "Banque & Assurances",
          "Chimie Pharmacie Cosmétiques",
          "Conglomérat",
          "Electricité Electronique",
          "Energie et Produits de base",
          "Textile Habillement Accessoires"
         ],
         "labels": [
          "AIR LIQUIDE",
          "AIRBUS GROUP",
          "AXA",
          "Autres",
          "BNP PARIBAS",
          "BOUYGUES",
          "CREDIT AGRICOLE",
          "HERMES INTERNATIONAL",
          "KERING",
          "L'OREAL",
          "LEGRAND",
          "LVMH",
          "SAFRAN",
          "SANOFI",
          "SCHNEIDER ELECTRIC",
          "SOCIETE GENERALE",
          "STMICROELECTRONICS",
          "THALES",
          "TOTALENERGIES",
          "Autres",
          "Aéronautique Espace Armement",
          "Banque & Assurances",
          "Chimie Pharmacie Cosmétiques",
          "Conglomérat",
          "Electricité Electronique",
          "Energie et Produits de base",
          "Textile Habillement Accessoires"
         ],
         "name": "",
         "parents": [
          "Energie et Produits de base",
          "Aéronautique Espace Armement",
          "Banque & Assurances",
          "Autres",
          "Banque & Assurances",
          "Conglomérat",
          "Banque & Assurances",
          "Textile Habillement Accessoires",
          "Textile Habillement Accessoires",
          "Chimie Pharmacie Cosmétiques",
          "Electricité Electronique",
          "Conglomérat",
          "Electricité Electronique",
          "Chimie Pharmacie Cosmétiques",
          "Electricité Electronique",
          "Banque & Assurances",
          "Electricité Electronique",
          "Aéronautique Espace Armement",
          "Energie et Produits de base",
          "",
          "",
          "",
          "",
          "",
          "",
          "",
          ""
         ],
         "type": "sunburst",
         "values": [
          71.07,
          85.23,
          57.04,
          599.66,
          62.25,
          11.76,
          30.48,
          145.47,
          70.01,
          193.2,
          21.49,
          349.51,
          46.89,
          108.32,
          77.18,
          20.15,
          33.83,
          25.82,
          136.01,
          599.66,
          111.05000000000001,
          169.92,
          301.52,
          361.27,
          179.39,
          207.07999999999998,
          215.48000000000002
         ]
        }
       ],
       "layout": {
        "height": 700,
        "legend": {
         "tracegroupgap": 0
        },
        "margin": {
         "t": 60
        },
        "template": {
         "data": {
          "bar": [
           {
            "error_x": {
             "color": "#2a3f5f"
            },
            "error_y": {
             "color": "#2a3f5f"
            },
            "marker": {
             "line": {
              "color": "#E5ECF6",
              "width": 0.5
             },
             "pattern": {
              "fillmode": "overlay",
              "size": 10,
              "solidity": 0.2
             }
            },
            "type": "bar"
           }
          ],
          "barpolar": [
           {
            "marker": {
             "line": {
              "color": "#E5ECF6",
              "width": 0.5
             },
             "pattern": {
              "fillmode": "overlay",
              "size": 10,
              "solidity": 0.2
             }
            },
            "type": "barpolar"
           }
          ],
          "carpet": [
           {
            "aaxis": {
             "endlinecolor": "#2a3f5f",
             "gridcolor": "white",
             "linecolor": "white",
             "minorgridcolor": "white",
             "startlinecolor": "#2a3f5f"
            },
            "baxis": {
             "endlinecolor": "#2a3f5f",
             "gridcolor": "white",
             "linecolor": "white",
             "minorgridcolor": "white",
             "startlinecolor": "#2a3f5f"
            },
            "type": "carpet"
           }
          ],
          "choropleth": [
           {
            "colorbar": {
             "outlinewidth": 0,
             "ticks": ""
            },
            "type": "choropleth"
           }
          ],
          "contour": [
           {
            "colorbar": {
             "outlinewidth": 0,
             "ticks": ""
            },
            "colorscale": [
             [
              0,
              "#0d0887"
             ],
             [
              0.1111111111111111,
              "#46039f"
             ],
             [
              0.2222222222222222,
              "#7201a8"
             ],
             [
              0.3333333333333333,
              "#9c179e"
             ],
             [
              0.4444444444444444,
              "#bd3786"
             ],
             [
              0.5555555555555556,
              "#d8576b"
             ],
             [
              0.6666666666666666,
              "#ed7953"
             ],
             [
              0.7777777777777778,
              "#fb9f3a"
             ],
             [
              0.8888888888888888,
              "#fdca26"
             ],
             [
              1,
              "#f0f921"
             ]
            ],
            "type": "contour"
           }
          ],
          "contourcarpet": [
           {
            "colorbar": {
             "outlinewidth": 0,
             "ticks": ""
            },
            "type": "contourcarpet"
           }
          ],
          "heatmap": [
           {
            "colorbar": {
             "outlinewidth": 0,
             "ticks": ""
            },
            "colorscale": [
             [
              0,
              "#0d0887"
             ],
             [
              0.1111111111111111,
              "#46039f"
             ],
             [
              0.2222222222222222,
              "#7201a8"
             ],
             [
              0.3333333333333333,
              "#9c179e"
             ],
             [
              0.4444444444444444,
              "#bd3786"
             ],
             [
              0.5555555555555556,
              "#d8576b"
             ],
             [
              0.6666666666666666,
              "#ed7953"
             ],
             [
              0.7777777777777778,
              "#fb9f3a"
             ],
             [
              0.8888888888888888,
              "#fdca26"
             ],
             [
              1,
              "#f0f921"
             ]
            ],
            "type": "heatmap"
           }
          ],
          "heatmapgl": [
           {
            "colorbar": {
             "outlinewidth": 0,
             "ticks": ""
            },
            "colorscale": [
             [
              0,
              "#0d0887"
             ],
             [
              0.1111111111111111,
              "#46039f"
             ],
             [
              0.2222222222222222,
              "#7201a8"
             ],
             [
              0.3333333333333333,
              "#9c179e"
             ],
             [
              0.4444444444444444,
              "#bd3786"
             ],
             [
              0.5555555555555556,
              "#d8576b"
             ],
             [
              0.6666666666666666,
              "#ed7953"
             ],
             [
              0.7777777777777778,
              "#fb9f3a"
             ],
             [
              0.8888888888888888,
              "#fdca26"
             ],
             [
              1,
              "#f0f921"
             ]
            ],
            "type": "heatmapgl"
           }
          ],
          "histogram": [
           {
            "marker": {
             "pattern": {
              "fillmode": "overlay",
              "size": 10,
              "solidity": 0.2
             }
            },
            "type": "histogram"
           }
          ],
          "histogram2d": [
           {
            "colorbar": {
             "outlinewidth": 0,
             "ticks": ""
            },
            "colorscale": [
             [
              0,
              "#0d0887"
             ],
             [
              0.1111111111111111,
              "#46039f"
             ],
             [
              0.2222222222222222,
              "#7201a8"
             ],
             [
              0.3333333333333333,
              "#9c179e"
             ],
             [
              0.4444444444444444,
              "#bd3786"
             ],
             [
              0.5555555555555556,
              "#d8576b"
             ],
             [
              0.6666666666666666,
              "#ed7953"
             ],
             [
              0.7777777777777778,
              "#fb9f3a"
             ],
             [
              0.8888888888888888,
              "#fdca26"
             ],
             [
              1,
              "#f0f921"
             ]
            ],
            "type": "histogram2d"
           }
          ],
          "histogram2dcontour": [
           {
            "colorbar": {
             "outlinewidth": 0,
             "ticks": ""
            },
            "colorscale": [
             [
              0,
              "#0d0887"
             ],
             [
              0.1111111111111111,
              "#46039f"
             ],
             [
              0.2222222222222222,
              "#7201a8"
             ],
             [
              0.3333333333333333,
              "#9c179e"
             ],
             [
              0.4444444444444444,
              "#bd3786"
             ],
             [
              0.5555555555555556,
              "#d8576b"
             ],
             [
              0.6666666666666666,
              "#ed7953"
             ],
             [
              0.7777777777777778,
              "#fb9f3a"
             ],
             [
              0.8888888888888888,
              "#fdca26"
             ],
             [
              1,
              "#f0f921"
             ]
            ],
            "type": "histogram2dcontour"
           }
          ],
          "mesh3d": [
           {
            "colorbar": {
             "outlinewidth": 0,
             "ticks": ""
            },
            "type": "mesh3d"
           }
          ],
          "parcoords": [
           {
            "line": {
             "colorbar": {
              "outlinewidth": 0,
              "ticks": ""
             }
            },
            "type": "parcoords"
           }
          ],
          "pie": [
           {
            "automargin": true,
            "type": "pie"
           }
          ],
          "scatter": [
           {
            "fillpattern": {
             "fillmode": "overlay",
             "size": 10,
             "solidity": 0.2
            },
            "type": "scatter"
           }
          ],
          "scatter3d": [
           {
            "line": {
             "colorbar": {
              "outlinewidth": 0,
              "ticks": ""
             }
            },
            "marker": {
             "colorbar": {
              "outlinewidth": 0,
              "ticks": ""
             }
            },
            "type": "scatter3d"
           }
          ],
          "scattercarpet": [
           {
            "marker": {
             "colorbar": {
              "outlinewidth": 0,
              "ticks": ""
             }
            },
            "type": "scattercarpet"
           }
          ],
          "scattergeo": [
           {
            "marker": {
             "colorbar": {
              "outlinewidth": 0,
              "ticks": ""
             }
            },
            "type": "scattergeo"
           }
          ],
          "scattergl": [
           {
            "marker": {
             "colorbar": {
              "outlinewidth": 0,
              "ticks": ""
             }
            },
            "type": "scattergl"
           }
          ],
          "scattermapbox": [
           {
            "marker": {
             "colorbar": {
              "outlinewidth": 0,
              "ticks": ""
             }
            },
            "type": "scattermapbox"
           }
          ],
          "scatterpolar": [
           {
            "marker": {
             "colorbar": {
              "outlinewidth": 0,
              "ticks": ""
             }
            },
            "type": "scatterpolar"
           }
          ],
          "scatterpolargl": [
           {
            "marker": {
             "colorbar": {
              "outlinewidth": 0,
              "ticks": ""
             }
            },
            "type": "scatterpolargl"
           }
          ],
          "scatterternary": [
           {
            "marker": {
             "colorbar": {
              "outlinewidth": 0,
              "ticks": ""
             }
            },
            "type": "scatterternary"
           }
          ],
          "surface": [
           {
            "colorbar": {
             "outlinewidth": 0,
             "ticks": ""
            },
            "colorscale": [
             [
              0,
              "#0d0887"
             ],
             [
              0.1111111111111111,
              "#46039f"
             ],
             [
              0.2222222222222222,
              "#7201a8"
             ],
             [
              0.3333333333333333,
              "#9c179e"
             ],
             [
              0.4444444444444444,
              "#bd3786"
             ],
             [
              0.5555555555555556,
              "#d8576b"
             ],
             [
              0.6666666666666666,
              "#ed7953"
             ],
             [
              0.7777777777777778,
              "#fb9f3a"
             ],
             [
              0.8888888888888888,
              "#fdca26"
             ],
             [
              1,
              "#f0f921"
             ]
            ],
            "type": "surface"
           }
          ],
          "table": [
           {
            "cells": {
             "fill": {
              "color": "#EBF0F8"
             },
             "line": {
              "color": "white"
             }
            },
            "header": {
             "fill": {
              "color": "#C8D4E3"
             },
             "line": {
              "color": "white"
             }
            },
            "type": "table"
           }
          ]
         },
         "layout": {
          "annotationdefaults": {
           "arrowcolor": "#2a3f5f",
           "arrowhead": 0,
           "arrowwidth": 1
          },
          "autotypenumbers": "strict",
          "coloraxis": {
           "colorbar": {
            "outlinewidth": 0,
            "ticks": ""
           }
          },
          "colorscale": {
           "diverging": [
            [
             0,
             "#8e0152"
            ],
            [
             0.1,
             "#c51b7d"
            ],
            [
             0.2,
             "#de77ae"
            ],
            [
             0.3,
             "#f1b6da"
            ],
            [
             0.4,
             "#fde0ef"
            ],
            [
             0.5,
             "#f7f7f7"
            ],
            [
             0.6,
             "#e6f5d0"
            ],
            [
             0.7,
             "#b8e186"
            ],
            [
             0.8,
             "#7fbc41"
            ],
            [
             0.9,
             "#4d9221"
            ],
            [
             1,
             "#276419"
            ]
           ],
           "sequential": [
            [
             0,
             "#0d0887"
            ],
            [
             0.1111111111111111,
             "#46039f"
            ],
            [
             0.2222222222222222,
             "#7201a8"
            ],
            [
             0.3333333333333333,
             "#9c179e"
            ],
            [
             0.4444444444444444,
             "#bd3786"
            ],
            [
             0.5555555555555556,
             "#d8576b"
            ],
            [
             0.6666666666666666,
             "#ed7953"
            ],
            [
             0.7777777777777778,
             "#fb9f3a"
            ],
            [
             0.8888888888888888,
             "#fdca26"
            ],
            [
             1,
             "#f0f921"
            ]
           ],
           "sequentialminus": [
            [
             0,
             "#0d0887"
            ],
            [
             0.1111111111111111,
             "#46039f"
            ],
            [
             0.2222222222222222,
             "#7201a8"
            ],
            [
             0.3333333333333333,
             "#9c179e"
            ],
            [
             0.4444444444444444,
             "#bd3786"
            ],
            [
             0.5555555555555556,
             "#d8576b"
            ],
            [
             0.6666666666666666,
             "#ed7953"
            ],
            [
             0.7777777777777778,
             "#fb9f3a"
            ],
            [
             0.8888888888888888,
             "#fdca26"
            ],
            [
             1,
             "#f0f921"
            ]
           ]
          },
          "colorway": [
           "#636efa",
           "#EF553B",
           "#00cc96",
           "#ab63fa",
           "#FFA15A",
           "#19d3f3",
           "#FF6692",
           "#B6E880",
           "#FF97FF",
           "#FECB52"
          ],
          "font": {
           "color": "#2a3f5f"
          },
          "geo": {
           "bgcolor": "white",
           "lakecolor": "white",
           "landcolor": "#E5ECF6",
           "showlakes": true,
           "showland": true,
           "subunitcolor": "white"
          },
          "hoverlabel": {
           "align": "left"
          },
          "hovermode": "closest",
          "mapbox": {
           "style": "light"
          },
          "paper_bgcolor": "white",
          "plot_bgcolor": "#E5ECF6",
          "polar": {
           "angularaxis": {
            "gridcolor": "white",
            "linecolor": "white",
            "ticks": ""
           },
           "bgcolor": "#E5ECF6",
           "radialaxis": {
            "gridcolor": "white",
            "linecolor": "white",
            "ticks": ""
           }
          },
          "scene": {
           "xaxis": {
            "backgroundcolor": "#E5ECF6",
            "gridcolor": "white",
            "gridwidth": 2,
            "linecolor": "white",
            "showbackground": true,
            "ticks": "",
            "zerolinecolor": "white"
           },
           "yaxis": {
            "backgroundcolor": "#E5ECF6",
            "gridcolor": "white",
            "gridwidth": 2,
            "linecolor": "white",
            "showbackground": true,
            "ticks": "",
            "zerolinecolor": "white"
           },
           "zaxis": {
            "backgroundcolor": "#E5ECF6",
            "gridcolor": "white",
            "gridwidth": 2,
            "linecolor": "white",
            "showbackground": true,
            "ticks": "",
            "zerolinecolor": "white"
           }
          },
          "shapedefaults": {
           "line": {
            "color": "#2a3f5f"
           }
          },
          "ternary": {
           "aaxis": {
            "gridcolor": "white",
            "linecolor": "white",
            "ticks": ""
           },
           "baxis": {
            "gridcolor": "white",
            "linecolor": "white",
            "ticks": ""
           },
           "bgcolor": "#E5ECF6",
           "caxis": {
            "gridcolor": "white",
            "linecolor": "white",
            "ticks": ""
           }
          },
          "title": {
           "x": 0.05
          },
          "xaxis": {
           "automargin": true,
           "gridcolor": "white",
           "linecolor": "white",
           "ticks": "",
           "title": {
            "standoff": 15
           },
           "zerolinecolor": "white",
           "zerolinewidth": 2
          },
          "yaxis": {
           "automargin": true,
           "gridcolor": "white",
           "linecolor": "white",
           "ticks": "",
           "title": {
            "standoff": 15
           },
           "zerolinecolor": "white",
           "zerolinewidth": 2
          }
         }
        },
        "title": {
         "font": {
          "color": "Black",
          "size": 18
         },
         "text": "<b>CAC 40 by Sector and Company </b> ",
         "x": 0.5,
         "y": 0.95
        },
        "width": 800
       }
      },
      "text/html": [
       "<div>                            <div id=\"90b78360-d345-4c5a-aada-34d2f4d58bf5\" class=\"plotly-graph-div\" style=\"height:700px; width:800px;\"></div>            <script type=\"text/javascript\">                require([\"plotly\"], function(Plotly) {                    window.PLOTLYENV=window.PLOTLYENV || {};                                    if (document.getElementById(\"90b78360-d345-4c5a-aada-34d2f4d58bf5\")) {                    Plotly.newPlot(                        \"90b78360-d345-4c5a-aada-34d2f4d58bf5\",                        [{\"branchvalues\":\"total\",\"domain\":{\"x\":[0.0,1.0],\"y\":[0.0,1.0]},\"hovertemplate\":\"labels=%{label}<br>Market Cap (Md\\u20ac)=%{value}<br>parent=%{parent}<br>id=%{id}<extra></extra>\",\"ids\":[\"Energie et Produits de base/AIR LIQUIDE\",\"A\\u00e9ronautique Espace Armement/AIRBUS GROUP\",\"Banque & Assurances/AXA\",\"Autres/Autres\",\"Banque & Assurances/BNP PARIBAS\",\"Conglom\\u00e9rat/BOUYGUES\",\"Banque & Assurances/CREDIT AGRICOLE\",\"Textile Habillement Accessoires/HERMES INTERNATIONAL\",\"Textile Habillement Accessoires/KERING\",\"Chimie Pharmacie Cosm\\u00e9tiques/L'OREAL\",\"Electricit\\u00e9 Electronique/LEGRAND\",\"Conglom\\u00e9rat/LVMH\",\"Electricit\\u00e9 Electronique/SAFRAN\",\"Chimie Pharmacie Cosm\\u00e9tiques/SANOFI\",\"Electricit\\u00e9 Electronique/SCHNEIDER ELECTRIC\",\"Banque & Assurances/SOCIETE GENERALE\",\"Electricit\\u00e9 Electronique/STMICROELECTRONICS\",\"A\\u00e9ronautique Espace Armement/THALES\",\"Energie et Produits de base/TOTALENERGIES\",\"Autres\",\"A\\u00e9ronautique Espace Armement\",\"Banque & Assurances\",\"Chimie Pharmacie Cosm\\u00e9tiques\",\"Conglom\\u00e9rat\",\"Electricit\\u00e9 Electronique\",\"Energie et Produits de base\",\"Textile Habillement Accessoires\"],\"labels\":[\"AIR LIQUIDE\",\"AIRBUS GROUP\",\"AXA\",\"Autres\",\"BNP PARIBAS\",\"BOUYGUES\",\"CREDIT AGRICOLE\",\"HERMES INTERNATIONAL\",\"KERING\",\"L'OREAL\",\"LEGRAND\",\"LVMH\",\"SAFRAN\",\"SANOFI\",\"SCHNEIDER ELECTRIC\",\"SOCIETE GENERALE\",\"STMICROELECTRONICS\",\"THALES\",\"TOTALENERGIES\",\"Autres\",\"A\\u00e9ronautique Espace Armement\",\"Banque & Assurances\",\"Chimie Pharmacie Cosm\\u00e9tiques\",\"Conglom\\u00e9rat\",\"Electricit\\u00e9 Electronique\",\"Energie et Produits de base\",\"Textile Habillement Accessoires\"],\"name\":\"\",\"parents\":[\"Energie et Produits de base\",\"A\\u00e9ronautique Espace Armement\",\"Banque & Assurances\",\"Autres\",\"Banque & Assurances\",\"Conglom\\u00e9rat\",\"Banque & Assurances\",\"Textile Habillement Accessoires\",\"Textile Habillement Accessoires\",\"Chimie Pharmacie Cosm\\u00e9tiques\",\"Electricit\\u00e9 Electronique\",\"Conglom\\u00e9rat\",\"Electricit\\u00e9 Electronique\",\"Chimie Pharmacie Cosm\\u00e9tiques\",\"Electricit\\u00e9 Electronique\",\"Banque & Assurances\",\"Electricit\\u00e9 Electronique\",\"A\\u00e9ronautique Espace Armement\",\"Energie et Produits de base\",\"\",\"\",\"\",\"\",\"\",\"\",\"\",\"\"],\"values\":[71.07,85.23,57.04,599.66,62.25,11.76,30.48,145.47,70.01,193.2,21.49,349.51,46.89,108.32,77.18,20.15,33.83,25.82,136.01,599.66,111.05000000000001,169.92,301.52,361.27,179.39,207.07999999999998,215.48000000000002],\"type\":\"sunburst\"}],                        {\"template\":{\"data\":{\"histogram2dcontour\":[{\"type\":\"histogram2dcontour\",\"colorbar\":{\"outlinewidth\":0,\"ticks\":\"\"},\"colorscale\":[[0.0,\"#0d0887\"],[0.1111111111111111,\"#46039f\"],[0.2222222222222222,\"#7201a8\"],[0.3333333333333333,\"#9c179e\"],[0.4444444444444444,\"#bd3786\"],[0.5555555555555556,\"#d8576b\"],[0.6666666666666666,\"#ed7953\"],[0.7777777777777778,\"#fb9f3a\"],[0.8888888888888888,\"#fdca26\"],[1.0,\"#f0f921\"]]}],\"choropleth\":[{\"type\":\"choropleth\",\"colorbar\":{\"outlinewidth\":0,\"ticks\":\"\"}}],\"histogram2d\":[{\"type\":\"histogram2d\",\"colorbar\":{\"outlinewidth\":0,\"ticks\":\"\"},\"colorscale\":[[0.0,\"#0d0887\"],[0.1111111111111111,\"#46039f\"],[0.2222222222222222,\"#7201a8\"],[0.3333333333333333,\"#9c179e\"],[0.4444444444444444,\"#bd3786\"],[0.5555555555555556,\"#d8576b\"],[0.6666666666666666,\"#ed7953\"],[0.7777777777777778,\"#fb9f3a\"],[0.8888888888888888,\"#fdca26\"],[1.0,\"#f0f921\"]]}],\"heatmap\":[{\"type\":\"heatmap\",\"colorbar\":{\"outlinewidth\":0,\"ticks\":\"\"},\"colorscale\":[[0.0,\"#0d0887\"],[0.1111111111111111,\"#46039f\"],[0.2222222222222222,\"#7201a8\"],[0.3333333333333333,\"#9c179e\"],[0.4444444444444444,\"#bd3786\"],[0.5555555555555556,\"#d8576b\"],[0.6666666666666666,\"#ed7953\"],[0.7777777777777778,\"#fb9f3a\"],[0.8888888888888888,\"#fdca26\"],[1.0,\"#f0f921\"]]}],\"heatmapgl\":[{\"type\":\"heatmapgl\",\"colorbar\":{\"outlinewidth\":0,\"ticks\":\"\"},\"colorscale\":[[0.0,\"#0d0887\"],[0.1111111111111111,\"#46039f\"],[0.2222222222222222,\"#7201a8\"],[0.3333333333333333,\"#9c179e\"],[0.4444444444444444,\"#bd3786\"],[0.5555555555555556,\"#d8576b\"],[0.6666666666666666,\"#ed7953\"],[0.7777777777777778,\"#fb9f3a\"],[0.8888888888888888,\"#fdca26\"],[1.0,\"#f0f921\"]]}],\"contourcarpet\":[{\"type\":\"contourcarpet\",\"colorbar\":{\"outlinewidth\":0,\"ticks\":\"\"}}],\"contour\":[{\"type\":\"contour\",\"colorbar\":{\"outlinewidth\":0,\"ticks\":\"\"},\"colorscale\":[[0.0,\"#0d0887\"],[0.1111111111111111,\"#46039f\"],[0.2222222222222222,\"#7201a8\"],[0.3333333333333333,\"#9c179e\"],[0.4444444444444444,\"#bd3786\"],[0.5555555555555556,\"#d8576b\"],[0.6666666666666666,\"#ed7953\"],[0.7777777777777778,\"#fb9f3a\"],[0.8888888888888888,\"#fdca26\"],[1.0,\"#f0f921\"]]}],\"surface\":[{\"type\":\"surface\",\"colorbar\":{\"outlinewidth\":0,\"ticks\":\"\"},\"colorscale\":[[0.0,\"#0d0887\"],[0.1111111111111111,\"#46039f\"],[0.2222222222222222,\"#7201a8\"],[0.3333333333333333,\"#9c179e\"],[0.4444444444444444,\"#bd3786\"],[0.5555555555555556,\"#d8576b\"],[0.6666666666666666,\"#ed7953\"],[0.7777777777777778,\"#fb9f3a\"],[0.8888888888888888,\"#fdca26\"],[1.0,\"#f0f921\"]]}],\"mesh3d\":[{\"type\":\"mesh3d\",\"colorbar\":{\"outlinewidth\":0,\"ticks\":\"\"}}],\"scatter\":[{\"fillpattern\":{\"fillmode\":\"overlay\",\"size\":10,\"solidity\":0.2},\"type\":\"scatter\"}],\"parcoords\":[{\"type\":\"parcoords\",\"line\":{\"colorbar\":{\"outlinewidth\":0,\"ticks\":\"\"}}}],\"scatterpolargl\":[{\"type\":\"scatterpolargl\",\"marker\":{\"colorbar\":{\"outlinewidth\":0,\"ticks\":\"\"}}}],\"bar\":[{\"error_x\":{\"color\":\"#2a3f5f\"},\"error_y\":{\"color\":\"#2a3f5f\"},\"marker\":{\"line\":{\"color\":\"#E5ECF6\",\"width\":0.5},\"pattern\":{\"fillmode\":\"overlay\",\"size\":10,\"solidity\":0.2}},\"type\":\"bar\"}],\"scattergeo\":[{\"type\":\"scattergeo\",\"marker\":{\"colorbar\":{\"outlinewidth\":0,\"ticks\":\"\"}}}],\"scatterpolar\":[{\"type\":\"scatterpolar\",\"marker\":{\"colorbar\":{\"outlinewidth\":0,\"ticks\":\"\"}}}],\"histogram\":[{\"marker\":{\"pattern\":{\"fillmode\":\"overlay\",\"size\":10,\"solidity\":0.2}},\"type\":\"histogram\"}],\"scattergl\":[{\"type\":\"scattergl\",\"marker\":{\"colorbar\":{\"outlinewidth\":0,\"ticks\":\"\"}}}],\"scatter3d\":[{\"type\":\"scatter3d\",\"line\":{\"colorbar\":{\"outlinewidth\":0,\"ticks\":\"\"}},\"marker\":{\"colorbar\":{\"outlinewidth\":0,\"ticks\":\"\"}}}],\"scattermapbox\":[{\"type\":\"scattermapbox\",\"marker\":{\"colorbar\":{\"outlinewidth\":0,\"ticks\":\"\"}}}],\"scatterternary\":[{\"type\":\"scatterternary\",\"marker\":{\"colorbar\":{\"outlinewidth\":0,\"ticks\":\"\"}}}],\"scattercarpet\":[{\"type\":\"scattercarpet\",\"marker\":{\"colorbar\":{\"outlinewidth\":0,\"ticks\":\"\"}}}],\"carpet\":[{\"aaxis\":{\"endlinecolor\":\"#2a3f5f\",\"gridcolor\":\"white\",\"linecolor\":\"white\",\"minorgridcolor\":\"white\",\"startlinecolor\":\"#2a3f5f\"},\"baxis\":{\"endlinecolor\":\"#2a3f5f\",\"gridcolor\":\"white\",\"linecolor\":\"white\",\"minorgridcolor\":\"white\",\"startlinecolor\":\"#2a3f5f\"},\"type\":\"carpet\"}],\"table\":[{\"cells\":{\"fill\":{\"color\":\"#EBF0F8\"},\"line\":{\"color\":\"white\"}},\"header\":{\"fill\":{\"color\":\"#C8D4E3\"},\"line\":{\"color\":\"white\"}},\"type\":\"table\"}],\"barpolar\":[{\"marker\":{\"line\":{\"color\":\"#E5ECF6\",\"width\":0.5},\"pattern\":{\"fillmode\":\"overlay\",\"size\":10,\"solidity\":0.2}},\"type\":\"barpolar\"}],\"pie\":[{\"automargin\":true,\"type\":\"pie\"}]},\"layout\":{\"autotypenumbers\":\"strict\",\"colorway\":[\"#636efa\",\"#EF553B\",\"#00cc96\",\"#ab63fa\",\"#FFA15A\",\"#19d3f3\",\"#FF6692\",\"#B6E880\",\"#FF97FF\",\"#FECB52\"],\"font\":{\"color\":\"#2a3f5f\"},\"hovermode\":\"closest\",\"hoverlabel\":{\"align\":\"left\"},\"paper_bgcolor\":\"white\",\"plot_bgcolor\":\"#E5ECF6\",\"polar\":{\"bgcolor\":\"#E5ECF6\",\"angularaxis\":{\"gridcolor\":\"white\",\"linecolor\":\"white\",\"ticks\":\"\"},\"radialaxis\":{\"gridcolor\":\"white\",\"linecolor\":\"white\",\"ticks\":\"\"}},\"ternary\":{\"bgcolor\":\"#E5ECF6\",\"aaxis\":{\"gridcolor\":\"white\",\"linecolor\":\"white\",\"ticks\":\"\"},\"baxis\":{\"gridcolor\":\"white\",\"linecolor\":\"white\",\"ticks\":\"\"},\"caxis\":{\"gridcolor\":\"white\",\"linecolor\":\"white\",\"ticks\":\"\"}},\"coloraxis\":{\"colorbar\":{\"outlinewidth\":0,\"ticks\":\"\"}},\"colorscale\":{\"sequential\":[[0.0,\"#0d0887\"],[0.1111111111111111,\"#46039f\"],[0.2222222222222222,\"#7201a8\"],[0.3333333333333333,\"#9c179e\"],[0.4444444444444444,\"#bd3786\"],[0.5555555555555556,\"#d8576b\"],[0.6666666666666666,\"#ed7953\"],[0.7777777777777778,\"#fb9f3a\"],[0.8888888888888888,\"#fdca26\"],[1.0,\"#f0f921\"]],\"sequentialminus\":[[0.0,\"#0d0887\"],[0.1111111111111111,\"#46039f\"],[0.2222222222222222,\"#7201a8\"],[0.3333333333333333,\"#9c179e\"],[0.4444444444444444,\"#bd3786\"],[0.5555555555555556,\"#d8576b\"],[0.6666666666666666,\"#ed7953\"],[0.7777777777777778,\"#fb9f3a\"],[0.8888888888888888,\"#fdca26\"],[1.0,\"#f0f921\"]],\"diverging\":[[0,\"#8e0152\"],[0.1,\"#c51b7d\"],[0.2,\"#de77ae\"],[0.3,\"#f1b6da\"],[0.4,\"#fde0ef\"],[0.5,\"#f7f7f7\"],[0.6,\"#e6f5d0\"],[0.7,\"#b8e186\"],[0.8,\"#7fbc41\"],[0.9,\"#4d9221\"],[1,\"#276419\"]]},\"xaxis\":{\"gridcolor\":\"white\",\"linecolor\":\"white\",\"ticks\":\"\",\"title\":{\"standoff\":15},\"zerolinecolor\":\"white\",\"automargin\":true,\"zerolinewidth\":2},\"yaxis\":{\"gridcolor\":\"white\",\"linecolor\":\"white\",\"ticks\":\"\",\"title\":{\"standoff\":15},\"zerolinecolor\":\"white\",\"automargin\":true,\"zerolinewidth\":2},\"scene\":{\"xaxis\":{\"backgroundcolor\":\"#E5ECF6\",\"gridcolor\":\"white\",\"linecolor\":\"white\",\"showbackground\":true,\"ticks\":\"\",\"zerolinecolor\":\"white\",\"gridwidth\":2},\"yaxis\":{\"backgroundcolor\":\"#E5ECF6\",\"gridcolor\":\"white\",\"linecolor\":\"white\",\"showbackground\":true,\"ticks\":\"\",\"zerolinecolor\":\"white\",\"gridwidth\":2},\"zaxis\":{\"backgroundcolor\":\"#E5ECF6\",\"gridcolor\":\"white\",\"linecolor\":\"white\",\"showbackground\":true,\"ticks\":\"\",\"zerolinecolor\":\"white\",\"gridwidth\":2}},\"shapedefaults\":{\"line\":{\"color\":\"#2a3f5f\"}},\"annotationdefaults\":{\"arrowcolor\":\"#2a3f5f\",\"arrowhead\":0,\"arrowwidth\":1},\"geo\":{\"bgcolor\":\"white\",\"landcolor\":\"#E5ECF6\",\"subunitcolor\":\"white\",\"showland\":true,\"showlakes\":true,\"lakecolor\":\"white\"},\"title\":{\"x\":0.05},\"mapbox\":{\"style\":\"light\"}}},\"legend\":{\"tracegroupgap\":0},\"margin\":{\"t\":60},\"height\":700,\"width\":800,\"title\":{\"font\":{\"size\":18,\"color\":\"Black\"},\"text\":\"<b>CAC 40 by Sector and Company </b> \",\"x\":0.5,\"y\":0.95}},                        {\"responsive\": true}                    ).then(function(){\n",
       "                            \n",
       "var gd = document.getElementById('90b78360-d345-4c5a-aada-34d2f4d58bf5');\n",
       "var x = new MutationObserver(function (mutations, observer) {{\n",
       "        var display = window.getComputedStyle(gd).display;\n",
       "        if (!display || display === 'none') {{\n",
       "            console.log([gd, 'removed!']);\n",
       "            Plotly.purge(gd);\n",
       "            observer.disconnect();\n",
       "        }}\n",
       "}});\n",
       "\n",
       "// Listen for the removal of the full notebook cells\n",
       "var notebookContainer = gd.closest('#notebook-container');\n",
       "if (notebookContainer) {{\n",
       "    x.observe(notebookContainer, {childList: true});\n",
       "}}\n",
       "\n",
       "// Listen for the clearing of the current output cell\n",
       "var outputEl = gd.closest('.output');\n",
       "if (outputEl) {{\n",
       "    x.observe(outputEl, {childList: true});\n",
       "}}\n",
       "\n",
       "                        })                };                });            </script>        </div>"
      ]
     },
     "metadata": {},
     "output_type": "display_data"
    }
   ],
   "source": [
    "fig2= px.sunburst(df_analysis2, path=['Sector', 'Company'],values='Market Cap (Md€)',width=800, height=700)\n",
    "fig2.update_layout(title = dict(\n",
    "        text='<b>CAC 40 by Sector and Company </b> ',\n",
    "        x=0.5,\n",
    "        y=0.95,\n",
    "        font=dict(size=18,color='Black')))\n",
    "fig2.show("png")"
   ]
  },
  {
   "cell_type": "code",
   "execution_count": 24,
   "id": "6679ce12",
   "metadata": {},
   "outputs": [],
   "source": [
    "# Now , out of daily prices , compute the monthly returns \n",
    "\n",
    "rets=df_final.pct_change().dropna().resample('M').apply(lambda x:(1+x).prod()-1)\n",
    "rets.index=rets.index.to_period('M')\n",
    "rets_comp=rets.drop(['CAC 40'],axis=1)\n",
    "\n",
    "# Determine annualized returns and vols : \n",
    "ann_ret=(1+rets_comp).prod()**(12/rets_comp.shape[0])-1\n",
    "ann_vol=rets_comp.std()*np.sqrt(12)\n",
    "\n",
    "top5perf=ann_ret.sort_values(ascending=False).head(5)\n",
    "least5vol=ann_vol.sort_values().head(5)\n"
   ]
  },
  {
   "cell_type": "code",
   "execution_count": 25,
   "id": "84e2dce0",
   "metadata": {
    "scrolled": false
   },
   "outputs": [
    {
     "data": {
      "text/plain": [
       "EUROFINS SCIENTIFIC     0.316364\n",
       "TELEPERFORMANCE         0.265886\n",
       "HERMES INTERNATIONAL    0.262571\n",
       "DASSAULT SYSTEMES       0.237882\n",
       "LVMH                    0.203548\n",
       "dtype: float64"
      ]
     },
     "execution_count": 25,
     "metadata": {},
     "output_type": "execute_result"
    }
   ],
   "source": [
    "top5perf"
   ]
  },
  {
   "cell_type": "code",
   "execution_count": 26,
   "id": "f1a277d4",
   "metadata": {
    "scrolled": true
   },
   "outputs": [
    {
     "data": {
      "text/plain": [
       "L'OREAL          0.149932\n",
       "DANONE           0.159292\n",
       "AIR LIQUIDE      0.160658\n",
       "SANOFI           0.178113\n",
       "PERNOD RICARD    0.179793\n",
       "dtype: float64"
      ]
     },
     "execution_count": 26,
     "metadata": {},
     "output_type": "execute_result"
    }
   ],
   "source": [
    "least5vol"
   ]
  },
  {
   "cell_type": "code",
   "execution_count": 27,
   "id": "c22d54c6",
   "metadata": {
    "scrolled": true
   },
   "outputs": [
    {
     "data": {
      "text/html": [
       "<div>\n",
       "<style scoped>\n",
       "    .dataframe tbody tr th:only-of-type {\n",
       "        vertical-align: middle;\n",
       "    }\n",
       "\n",
       "    .dataframe tbody tr th {\n",
       "        vertical-align: top;\n",
       "    }\n",
       "\n",
       "    .dataframe thead th {\n",
       "        text-align: right;\n",
       "    }\n",
       "</style>\n",
       "<table border=\"1\" class=\"dataframe\">\n",
       "  <thead>\n",
       "    <tr style=\"text-align: right;\">\n",
       "      <th></th>\n",
       "      <th>Rf</th>\n",
       "    </tr>\n",
       "    <tr>\n",
       "      <th>Date</th>\n",
       "      <th></th>\n",
       "    </tr>\n",
       "  </thead>\n",
       "  <tbody>\n",
       "    <tr>\n",
       "      <th>2010-01</th>\n",
       "      <td>0.006797</td>\n",
       "    </tr>\n",
       "    <tr>\n",
       "      <th>2010-02</th>\n",
       "      <td>0.006617</td>\n",
       "    </tr>\n",
       "    <tr>\n",
       "      <th>2010-03</th>\n",
       "      <td>0.006450</td>\n",
       "    </tr>\n",
       "    <tr>\n",
       "      <th>2010-04</th>\n",
       "      <td>0.006447</td>\n",
       "    </tr>\n",
       "    <tr>\n",
       "      <th>2010-05</th>\n",
       "      <td>0.006865</td>\n",
       "    </tr>\n",
       "  </tbody>\n",
       "</table>\n",
       "</div>"
      ],
      "text/plain": [
       "               Rf\n",
       "Date             \n",
       "2010-01  0.006797\n",
       "2010-02  0.006617\n",
       "2010-03  0.006450\n",
       "2010-04  0.006447\n",
       "2010-05  0.006865"
      ]
     },
     "execution_count": 27,
     "metadata": {},
     "output_type": "execute_result"
    }
   ],
   "source": [
    "# Pick up an approximation of the risk free rate\n",
    "# Source : stats.oecd.org \n",
    "rf=pd.read_csv('EURIBOR-3M.csv')[['Value']]/100\n",
    "rf.index=rets.index\n",
    "rf.columns=['Rf']    # rf for Risk Free rate \n",
    "rf.head()"
   ]
  },
  {
   "cell_type": "code",
   "execution_count": 28,
   "id": "00e78f4b",
   "metadata": {
    "scrolled": false
   },
   "outputs": [
    {
     "data": {
      "text/plain": [
       "DASSAULT SYSTEMES       1.138915\n",
       "TELEPERFORMANCE         1.108810\n",
       "EUROFINS SCIENTIFIC     1.094586\n",
       "HERMES INTERNATIONAL    1.034445\n",
       "L'OREAL                 0.910663\n",
       "dtype: float64"
      ]
     },
     "execution_count": 28,
     "metadata": {},
     "output_type": "execute_result"
    }
   ],
   "source": [
    "excess_rets=rets_comp.sub(rf.squeeze(),axis='index')    # using the minus does not solve the problem\n",
    "\n",
    "# annualize the excess rets and then divide by annualized vol\n",
    "excess_rets=(1+excess_rets).prod()**(12/excess_rets.shape[0])-1\n",
    "top5sr=(excess_rets/ann_vol).sort_values(ascending=False).head(5)\n",
    "top5sr"
   ]
  },
  {
   "cell_type": "code",
   "execution_count": 29,
   "id": "b838585c",
   "metadata": {
    "scrolled": false
   },
   "outputs": [
    {
     "data": {
      "image/png": "iVBORw0KGgoAAAANSUhEUgAAAmwAAAE3CAYAAAAXNB2MAAAAOXRFWHRTb2Z0d2FyZQBNYXRwbG90bGliIHZlcnNpb24zLjQuMiwgaHR0cHM6Ly9tYXRwbG90bGliLm9yZy8rg+JYAAAACXBIWXMAAAsTAAALEwEAmpwYAAA6n0lEQVR4nO3dd7gcVf3H8feHSDUgXUBKaCIICgZBmgQRpFkoyk+wBEUQFAsCFooUBUFEQAQUxFCliIgiEVAMSBEERYpIUUIn9JoCJN/fH+csmcyd3Tt7726yN/m8nmefvXvmzJwzu7Oz33vmzDmKCMzMzMysd801qytgZmZmZq05YDMzMzPrcQ7YzMzMzHqcAzYzMzOzHueAzczMzKzHOWAzMzMz63EO2MwMSWMkhaQRA1j30LzuqI5XbAAkjcr1ObSUHpLGzZpadYek8ZLGz+p69EfSwpJ+JukhSVMleTwpszY5YLM5Rv7BrvsYNwvqN65Ffc4ZxHamSXoup3+ym/tgSeMzmNX1KCoE1sXHy5JulbSfpHm6WPyxwB7AP4DvA4d1sSyz2dKbZnUFzGai8o/EwsBXgQeBMaVl47tfnaaqfsxuH8B2jgJeJX3PVwG2BzaVtFJEfL+U99vAD4BHB1DOULE6MHFWV6IH/Aq4FxCwLLAD8ENgM2DbLpW5NXBPRHysS9s3m+05YLM5RkQcWnydL/99FRhfXjYrdbAuR0bEy40XkjYArgMOknR8RLxSKPNx4PEOlduTIuI/s7oOPeK8iLis8ULSQcA/gW0kbRYRf+lCmUsD93Vhu2ZzDF8SNasg6T2SfivpaUmTJf1H0sGS5ivlG5EvLY2RtI6kP0l6KV+CPE/S22bVPpRFxI3Af4D5gDWKy6r6sEkaJmkvSf+Q9LykVyQ9IOlcSSv3V56kTSW9IOl+SSvWyP92ScdK+lcub2L++6uSVJFfedl9+TO6R9KXW2y/z6XuVn3AqpZJWlTSD3JZE3M975L0E0lzN8oBNi2U2XgcWtrWJyX9VdKL+b29SdInmtRlpKSrc76nJZ0pafFm+9qOHKz/Jr9ct1Dm2ySdIulBSVMkPSbp55KWKtWt+B14t6Sx+X15rnFckVrzNq16LyStIukcSU/kch6Q9CNJC1e8D6F0uXmEpAvzexFKfeTe6Esp6fP5c5mUP6tP5/XnzZ/fQ/mY+bvSPzJ9SFot1+uxXK/xkn4oacFSvjf6TEr6gKRrlM4Bt+Xlg/oemTW4hc2sRNJmwNj88gJSy9MHgcOBUZK2jIippdVWBq4htWCdBLwb+CSwgaSREfFsG+XvCqwAvATcHBE3DWZ/mnitRp5jgH2BfwG/zOssD3yIdFntv81WlLQdcBGpVeVDOSjozw7AZ4GrgSuBBYAtgeOBVYFyMPZ90qXcB4Gf5vzfA26oUVbbctB4BTAyP/+WFPyuAnwh1+U10iXt0aTPsHh5e1xhWz8GvkZ6D88FXge2AS6QtFxE/KiQdx3SsTUPcD7wGOkS459y2qud2L38HLnM1XKZiwOXkT7HVYDdgS0kvTcini5tY1XS8X8z8PO87u9I3Qu+y4xdD8blct4J/BV4CylovB9Yn3TcfUjSBhHxUqmcxYDrSZfvzwSWBIrfx68DGwOX5nJ2Bs6S9CzwRWC1vGxh0nd0rKQREfH8G2+GtDHpHPCmnPdh0nd6P9I5YOOImFKq18bAd4A/Aicz/fd1wN8jsxlEhB9+zJEPYATpB2pcIW0Y8D/SD+gGhXSRfiwD+FLFNgI4uLT9Q3L6j2vWZ1xhW8XHdcCybexXYzvDS+kbkH7YngHmLy0bk9cZUUh7FrgFGFbKOzewYOH1oXndUfn1rqQfpRuBRdqo9zLAPKW0YcDlud7Fuq2W0+4FFiqlT8z1ObS0rRk+65w2nnRJvKo+MywD3tXs8yT9+M9V/gyabHfrvJ0Li/tLCjhvJAVgbyukX5/zb116X67M6ZX1ryi38TltV0p/K/BEXrZpTvsbMJnCdyCnb5/zndzkO/DtJmX3ee9z+rV52SdK6cfk9B9WbCeAUwA12b+ngBUK6SNz+nP5c5m/sOwbedl+hbR5gIeAp4FVS2V8Pec/oJA2qlCvT1bsY63vkR9+9PfwJVGzGW0MrAhcHOkSIpB/eVMLyjRSK1DZs8CPSmnHkn4kdq1Z9m+BrYClgDcD7yG18G0EXC6p3Rbx7+TLNN+T9CumB3L7RMSkmtuYFKXWxIh4Lfq2egAgaW/g7FzWByPiubqVjYjHIuLVUtpU4DRS941RhUWfzGnHRMSLhfz3AGfVLXOAXiknRMTzETGt5vp7k46jvYr7GxETSS2Ec5NaGxv9LDcEro+IsYW8U0n/EAzELvm4OEzS6cC/SUHbZRFxjaSRpFauU4vfgVzuJaTgo+rS7eOkY74WSSsAm5BakS8sLT4CeAH4TMWqU4AD83eyyokR8WChzreSWrEWJv1TVTz2L8jPaxXSPgwsB3wvIsr97k4AniS12pXdEhG/alKntr5HZlV8SdRsRu/Oz9eUF0TEA5IeIrW0lP0z/+AW80+U9E/gA5KWjn4uC0bE8eVtAv8naX7gI6TWjYvq7QaQAswZigA+FRHn1Vz/AuCLkm7N5Y4j/Si93iT/N4DtSJe2PlkOvnLwMbq0zviIGJOXDwP2JP1IrwEMZ/qlOkgd1xsan8F1FfW4Pm+n0/4N3EkKhN8N/IHUatTuzQzrkYKRfdS3a94S+Xm1/NxqP2+m3qXtsuLQLq+Q+jUeCZxYqB/A8uV+d9kCwGKSFo8ZL4v+KyLaqU+r79pL+bszquK780C07mLwr4q0x0ndFsrLnsjPyxTSGvv/rib7/zrTP5+iW5rUp93vkVklB2xmM1ooP09osnwCMELSvDFjH5anmuR/srDdgd6F+QtSwLYB7QVsC0bEy5LeTGrJ+CVwuqR7cqtDf75C6ne0G2mIEIDnJP0MOKTix3mj/Hx5OVjLRpD6MhVdw/R+TaeQ+oKNJ+3nE6SAZASpVXPewnqNz6nqfX+yIm3QIuJ1SR8g9WXckRScIul/wGERUbdlb1HSubf8XhS9OT833c+ImCbpmZplFn04CneJNqkfpH8Qtm+R782ky4YN7b7vdb5rjXzF705/5bxYkTYVoNgam1+/noPmuQvJjf3frZ9yyprVq93vkVklXxI1m1HjhP7WJsvfCkyJvh2Ol6jKTOoQXdzuQDR+FBcYyMoR8UpE/BHYidRJ/gxJ/X738yWbH0TEaqTLxJ8HHgC+BRxcscoXSOPF/VzSLhXbGxcRKj1GAeQ7D3cHbgNWj4jPR8SBkYY4GVveFtPfz6r3fcmKtGam0fwf14XKCRHxVETsRbpsvQ7pvVgAOFPS5jXLfJHUslh+L4qP3Qp5oWI/82e4WM0y29Eoc3Q/dXywtF67AwXX+a4V8w20nHY1yhvVav8r1qus1wC+R2aVHLCZzahxyeT95QW5z81yVF9yWUfSAqX8CwBrA0/1dzm0H41LNOUfyLZExPWkju7voroPTqt1x0fEGaTBVV8j9fMpewbYnHTp8Cw1GaKiiRGky59/jojJpWVVwy40BhLeuGLZRhVpzTwPLJkvx74hf9aLNFspIqZFxG0RcTTTW2K2K2SZmrczrM/K6VLmCpKWrlhW1mo/12PGlqFOuTk/v68L2y5q9V0bTvruPDnI785AdG3/a36PzCo5YDOb0XWk/353ktQIlBpDOhxJujuv6tLXoqQ+XEX75fR++4xJWk7SshXpa5E6l08FLq65D60cTmpVOrhVK1ser2qzikWLkVqkyi2MAOQ+TZuT7t48V1KrS2pFD+fn96nQsUvSe6nuj3Y+aT8OkLRQIf9qVHdUb+YWUtDzRr8upfHU+nSel7Ri3n5ZoyWo+J40+lhVjcN3Eik4Pb08plcuZw1JS0L6gScNU7KRpK0LeYaRPsuOizSMzC3A7pI+VFG/+SWt34FyHiQN6bG+pB1Kiw8k3STQ7RtIqlwKPELqq7hOeaGkt1SlVxno98isivuwmRVExFRJnyddhrtGUnEctnVJY4SdWrHqdcD+SoNw3kZqHdia1B+rzg/rSODXSgO73k+6LPN20lRBw4BvRMS9A92vhoj4t6SLgY+T7vQ7v0nW+YGrJd1LanF4hDSu1sfy8uNblPFk7ut1DWlcsR0j4vf91OtRSZeRWqn+Juka0lhVHyMN67F9Kf9/JB1NurHi9rxPC5ACr3Gk976Ok0g3QpwhaQtSi9vmpDHwyi077wYukXQjcBfpUvXKwEdJn9cvCnn/QroE/WtJV5B+mK+NiGsj4g+SfgjsD9wn6UrS2GpLke5WfA+pVbHRJ+rLpOPrUkmNcdi2ysu61fq0S96HP0r6C6k1bC5SS+impGE/tmq6dn17kYK2C/Nn+F/SHaofIL3HXQlKW4mIybl1eCxwi6Q/AneTvhMrku5WPos0plt/Bvw9MusjemBsET/8mBUPKsZhKywbSfpP+xnSj+09pJau+ZpsYwzph/ZPpB/750mDYtYaP4006OgY0o/U86TLJY0R6Ddtc7/GUTEOW2H5WqTWqbvIY4dRGoeN1Or0TeAq0gClU/LzH4DNSts7lMI4bIX0ZUgDrk6hMIZYi3q/hTTg6MPAJFLg+1mmj3N1aCm/SFOL3V/4jL7cIn+zz3oL4O95GxNIQdyC9B2HbVnSfKs3k24CmEQKME4HViltc27SMC8Pk+4qrKrPh0mDrDaOsYdIY6vtBby5lLfxz8JEUqB4FumHf4Y69vP+Nj6n7WrmX4I0x+g9pDHZnifdJfsT4L1V34EW26p87/OyVUiDB08gjUE3Pr93C7e5ncrjsPidaKdueb9OJbW4T8nv+z+Ao0n9LBv5Ko+3dr9HfvjR30MR3e6/aTb7ykNVPACcGRGjZ21trBmlKcUmAVdGRJ/LfGZmvc592MxsTrBKfn50ltbCzGyA3IfNzGZbkt5C6iv2sZx0yayrjZnZwLmFzcxmZ4uQ+hDNTZoDtuXND2Zmvcp92MzMzMx6nFvYzMzMzHqcAzYzMzOzHueAzczMzKzHOWAzMzMz63EO2MzMzMx6nAM2MzMzsx7ngM3MzMysxzlgMzMzM+txDtjMzMzMepwDNjMzM7Me54DNzMzMrMc5YDMzMzPrcQ7YzMzMzHqcAzYzMzOzHueAzczMzKzHOWAzMzMz63EO2MzMzMx6nAM2MzMzsx7ngM3MzMysxzlgMzMzM+txDtjMzMzMepwDNjMzM7Me54DNzMzMrMc5YDMzMzPrcW+a1RXospjVFTAzMzOrSc0WuIXNzMzMrMc5YDMzMzPrcQ7YzMzMzHqcAzYzMzOzHueAzczMzKzHOWAzMzMz63EO2MzMzMx6nAM2MzMzsx7ngM3MzMysxzlgMzMzM+txs/vUVDPViG/9YVZXoavG/2DbWV0FMzOzOZJb2MzMzMx6nAM2MzMzsx7ngM3MzMysxzlgMzMzM+txvunALPNNI2Zm1qvcwmZmZmbW49pqYZM0D7AWsCjwLHBHRLzajYqZmZmZWVI7YJN0APBtYCFAQAAvSjoyIn7YpfqZmdUyO1/S9uVsM6sVsEn6GnAUcCpwATABeCuwM3CUpCkRcWK3KmlmZmY2J6vbwvYl4AcRcWAh7R7gWknPA18BHLCZmZmZdUHdmw6WA/7SZNk4YNmO1MbMzMzM+qgbsD0EbNlk2RZ5uZmZmZl1Qd1LoicCJ0paFPg1qQ/bksDHgdGkS6JmZmZm1gW1AraIOEnSFOC7wOdId4gKeAz4YkSc3r0qmpmZmc3Zag/rERGnSTqd1F9taeBx4JGIiG5VzszMzMzaHDg3B2cP54eZmZmZzQRNAzZJewMXRcRT+e9WIiJO6WzVzMzMzAxat7CdBNwCPJX/biUAB2xmZmZmXdA0YIuIuar+NjMz66TZeVox8NRi1hm1AjFJ75c0vMmyN0t6f2erZWZmZmYNdVvO/gKs0WTZO2g+C0IfOfj7naRHJYWk0TXWWUvSNZIm5fUOkaS6ZZqZmZkNZXUDtlbB0XBgYhtlDgfuBL4KTOq3YGkh4CrSYL3vJQ3Suz+wbxtlmpmZmQ1Zre4SfT8wqpC0u6StStnmA7YF7qhbYERcDlyeyxhTY5VdgQWAz0bEJOBOSasD+0o6zuPAmZmZ2eyu1V2i6wP75L+DNA3V66U8rwL/IbV4dcsGwF9zsNZwBXAEMAJ4oItlm5mZmc1yre4S/SHwQwBJDwAfi4h/zayKFSwFPFJKm1BY5oDNzMzMZmt15xJdsdsV6a8Kpddqkm5mZmY226k9NVW+K3Mj4O2kvmsziIiTO1ivoidILWlFS+bnCZiZmZnN5moFbJLeClwNrE5q1apq4epWwHYjcLSk+SJick7bAngMGN+lMs3MzMx6Rt1hPX4EPA8sRwrW1id1+D8YuI/U6laLpOGS1pa0di5/+fx6+bz8KEl/LqxyHmnYkDGS1pS0A/AtwHeImpmZ2RyhbsC2KSloezy/VkQ8FBFHAufQXuvausA/82N+4LD89+F5+dLAyo3MEfECqUVtGdLcpj/NdTmujTLNzMzMhqy6fdgWBp6KiGmSXmR6HzKAG4Bv1i0wIsbRYiDeiBhdkXYH4OmvzMzMbI5Ut4XtAVLLF8BdpMFsGz4MPNvJSpmZmZnZdHVb2P4AbAlcCHwPuFTSI8BrwPK00cJmZmZmZu2pOw7btwt/j5W0IbA9qQ/aVRExtkv1MzMzM5vj1R6HrSgibiHdAACApPUj4qaO1crMzMzM3lC3D1slSdtJuoZ044GZmZmZdUHTgE3SMEnfkfQfSa9IulPSx/OyrSTdAVwKLAGMnjnVNTMzM5vztLok+g3SDQZXAL8FVgDOkrQ+sC9wD7AzcLEHsDUzMzPrnlYB22jgRxGxfyNB0ieBc4HfAztGxOvdrZ6ZmZmZterDNgK4rJT2+/x8vIM1MzMzs5mjVQvbfMCkUlrj9QvdqY6ZmZkNJSO+9YdZXYWuGv+DbWd1FYD+h/XYUdK6hddzAQF8XNL7CukREad0vHZmZmZm1m/Atn+T9PLMBgE4YDMzMzPrgqYBW0QMaow2MzMzM+sMB2VmZmZmPc4Bm5mZmVmPc8BmZmZm1uMcsJmZmZn1OAdsZmZmZj3OAZuZmZlZj6sdsEl6l6QLJP1X0hRJ78np35e0dfeqaGZmZjZnqxWw5YDsVmAp4Cxg7sLiKcA+na+amZmZmUH9FrajgDERsSnw/dKy24C1O1gnMzMzMyuoG7C9A7gg/x2lZS8Ci3asRmZmZmY2g7oB25PASk2WvRN4qDPVMTMzM7OyugHb+cDhkjYupIWkt5Mmgj+34zUzMzMzM6DF5O8lBwNrANcAT+S0S0k3IVwJHNn5qpmZmZkZ1Gxhi4gpEbEdsCVwJnA6cB6wbURsFxGvtVOopL0lPSBpsqRbJW3ST/4PSbpR0kuSnpZ0aW7dMzMzM5vt1W1hAyAi/gz8eTAFStoZOAHYG7guP4+VtEZE9OkLJ2lFUmveicCngeHAMcDlwCqDqYuZmZnZUNBWwCZpS2A9YGngceCmiLiqzTL3JQ0Rclp+vY+krYC9gG9X5B9JGvft2xExNdfjKOBqSYtHxNNtlm9mZmY2pNQdOHcZSTcBfwS+DGySn6+QdLOkt9XczjykAOzK0qIrgQ2brHYL8Bqwu6RhkhYEPgv83cGamZmZzQnq3iX6c1Kr2sYRsVREvCsiliIFbksBP6u5ncWBYcCEUvqEvJ0+ImI8sAVwGGlWhReAtYDtapZpZmZmNqTVDdg+ABwQETcUEyPieuBbwGZtllsefFcVaWmBtBTwC9KUWO8FRgEvARdK8uT1ZmZmNtur24dtAjCpybJJQN1Lk08DU+nbmrYkfVvdGr4EvBIRBzQSJH0KeJh0GfW6mmWbmZmZDUl1W6iOJA2cu2wxMb/+Ln3nF60UEa+SJpHforRoC+CGvmsAsAApyCtqvHYLm5mZmc326rawbQksBvxX0j9IU1UtCbwn//1BSR/MeSMidm6xreOAsyXdDFwPfBFYBjgV3rgDdL2I2Dzn/wPwdUnfJY39tiApgHyYFPyZmZmZzdbqBmxLAPflB8BCwGSmt4otUbfAiLhA0mLAQaQbGe4EtomIB3OWpYGVC/mvlrQLcACwP+kS7N+ArSLilbrlmpmZmQ1VtQK2iBjVyUIj4mTg5CbLRleknU+az9TMzMxsjtNvHzBJ80m6Nw9ua2ZmZmYzWb8BW0RMBhYGpnW9NmZmZmbWR927LM8FdutmRczMzMysWt2bDh4CPiHpFtKk6xOYcaDbiIhTOl05MzMzM6sfsP0oPy9NGsqjLAAHbGZmZmZdUPcuUQ9Qa2ZmZjaLOBAzMzMz63F1L4kCb0xF9XZgvvKyiLi8U5UyMzMzs+lqBWySFgQuJE1RBaD8XLzxYFgH62VmZmZmWd1LokcBywObkIK17YFRwC+AB4D3daNyZmZmZlY/YNsG+D5wU379WERcGxF7AJeS5vg0MzMzsy6oG7C9FXg4IqYCrwCLFpZdzvRLpWZmZmbWYXUDtoeBxfPf9wHbFZatD0zuZKXMzMzMbLq6d4leBXwQuAT4MXCmpJHAFOD9TB9Y18zMzMw6rG7A9k1gAYCIOFvSy8BOwPzAl4Gfdad6ZmZmZlZ3poOJwMTC60tIrW1mZmZm1mVtDZwLIOlNwDzl9BzUmZmZmVmH1brpQNJCkk6S9BjpBoOXKh5mZmZm1gV1W9h+Rroz9HTg38CrXauRmZmZmc2gbsD2IeDrEXF6NytjZmZmZn3VHYftFeCRblbEzMzMzKrVDdh+BOwtqW5+MzMzM+uQppdEJR1TSno3cI+kvwDPl5ZFRHyzw3UzMzMzM1r3Yft46fW0nH+LirxBGlzXzMzMzDqsacAWESvOzIqYmZmZWbVZ0idN0t6SHpA0WdKtkjbpJ78kfU3SfyRNkfS4pB/MrPqamZmZzUpNAzZJy0jaoCJ9bUkXS7pL0tWStm+nQEk7AycARwLrADcAYyUt32K1HwF7ky67rg5sA1zbTrlmZmZmQ1WrPmzfB1YDNmwkSFoV+CupP9tVwMrAryVtGRF/rlnmvsCYiDgtv95H0lbAXsC3y5klrQbsA7wrIu4uLPpnzfLMzMzMhrRWl0Q3As4rpe0LzAtsEhE7RcQ6wO+Bb9UpTNI8wEjgytKiKykEhiUfBf4HbCXpf5LGSzpT0pJ1yjQzMzMb6loFbMsAd5fSPgLcGBG3F9LOAN5Zs7zFgWHAhFL6BGCpJuusBKwA/B8wGvg08A7g9x4XzszMzOYErS6JTgTmb7yQtCKwNClAK3oOWLjNcqP0WhVpDXORWvU+HRH35rp8GrgHeC9wU5tlm5mZmQ0prVqobiO1ZjXsSgqqLivlWxl4vGZ5TwNT6duatiR9W90aHgdebwRr2X3A60CrGxXMzMzMZgutArbDgR0k/UvSVcBhwF8iotyitSM1W7ki4lXgVvoOvrsF6W7RKtcDb5K0ciFtJVLr4IN1yjUzMzMbypoGbBFxHbAZcAcwhXTX6AxDeEhagnTH6Jg2yjwOGC1pd0mrSzqB1F/u1LzNoyQV7zj9E/AP4AxJ60hah3RZ9ibgljbKNTMzMxuSWvVhawRt17VY/hTpLs7aIuICSYsBB5H6xN0JbBMRjdaypUmXWRv5p0naDjiRNPbaJNKQIvtGxLR2yjYzMzMbiloGbN0SEScDJzdZNroi7XH6zm1qZmZmNkfwsBhmZmZmPc4Bm5mZmVmPc8BmZmZm1uMcsJmZmZn1uKY3HUhqa1DaiHho8NUxMzMzs7JWd4mOp/l0UVWGDa4qZmZmZlalVcD24cLfCwHHkCaD/w3wJGk6qR1JE7Hv360KmpmZmc3pmgZsEfGHxt+SxgCXRcRepWynSjoV2BY4vys1NDMzM5vD1b3pYAdSy1qVi4GPdKY6ZmZmZlZWN2CbBGzcZNkmwOTOVMfMzMzMyupOTXUKcHCeA/R3TO/D9lFgT9LE8GZmZmbWBbUCtog4VNJzwAHA3qS7RwU8AewXEcd3rYZmZmZmc7jak79HxAmSfgIsD7yVFKw9HBHTulU5MzMzM2sjYAOIiGmSHgReBZ50sGZmZmbWfbWnppK0jaSbSDcYPAS8K6f/XNKnulQ/MzMzszlerYBN0mdINxv8B9ijtN59wOc7XzUzMzMzg/otbAcCP4yIzwLnlJbdBazR0VqZmZmZ2RvqBmwrAFc1WTaZNHWVmZmZmXVB3YDtYWCdJsvWBe7vTHXMzMzMrKxuwPYL4Lv55oL5c5okbU4am+20blTOzMzMzOoP63E0sBxwJjA1p90ADAN+FhEndqFuZmZmZkb9mQ4C+JKk44DNgcWBZ4GrI+LeLtbPzMzMbI7X7sC5/wX+26W6mJmZmVmFuuOwTZV0t6R3VCxbX9LUqvXMzMzMbPDq3nSgnPdmSTt2sT5mZmZmVlJ7aipgNHAqcKGkH0jSQAuVtLekByRNlnSrpE1qrreqpJckvTzQss3MzMyGmnYCtqkRcQCwC/Bl4ApJi7ZboKSdgROAI0lju90AjJW0fD/rzQOcD1zbbplmZmZmQ1k7ARsAEXEBsCGwMnArMLLNTewLjImI0yLi7ojYB3gc2Kuf9Y4GbgcuarM8MzMzsyGt7YANICJuJ81wcB9wUt31civZSODK0qIrSUFgs/W2BbYDvtJ2Zc3MzMyGuLrDeuxGaTiPiHhO0lbAt4BVa25ncdJguxNK6ROAD1atIGlp0kwKO0TES4PoOmdmZmY2JNUdOPfMJunTSH3R2hWl16pIazgHOCUi/jaAcszMzMyGvKYBm6RtgOsi4sX8dysREWNrlPc0aWqrpUrpS9K31a3hA8Cmkr7bqBowl6TXgb0j4uc1yjUzMzMbslq1sF0GvA+4Of8dpGCpSpAudbYUEa9KuhXYghlvHtgCuLjJamuVXn8UOBBYD3i0vzLNzMzMhrpWAduKpLs3G393ynHA2ZJuBq4HvggsQxrjDUlHAetFxOYAEXFncWVJ6wLTyulmZmZms6umAVtEPFj192BFxAWSFgMOApYG7gS2KZSxNGnIEDMzMzOjdR+2BdrZUERMbCPvycDJTZaN7mfdMcCYNqpmZmZmNqS1uiT6Ms3v3KzSbx82MzMzM2tfq4Dtc7QXsJmZmZlZF7TqwzZmJtbDzMzMzJoY0NRUZmZmZjbz1J2aCkk7A18A3g7MV14eEUt2sF5mZmZmltVqYZO0C3AmcD+wLPA70mC6cwEv0sYE8GZmZmbWnrqXRPcHjgC+lF+fHBGfIw2o+zRQe0gPMzMzM2tP3YBtVeD6iJhKmgt0IYCIeAk4Gvhyd6pnZmZmZnUDtheAefPfjwKrF5YJWKyTlTIzMzOz6eredHAL8C7gClL/tUMkvQ68ChwC3NSd6pmZmZlZ3YDtKGCF/Pch+e+TSbMb/B3Yo/NVMzMzMzOoGbBFxN+Av+W/nwc+KmleYN6IeLF71TMzMzOz2uOwlUXEFGBKB+tiZmZmZhVqBWySLuwvT0R8YvDVMTMzM7Oyui1sS1SkLQqsBjwD3NOxGpmZmZnZDOr2YdusKl3ScsAlwI87WSkzMzMzm25Qk79HxMOkO0iP6Ux1zMzMzKxsUAFbNpU0v6iZmZmZdUHdmw7WqEiehzTjwRGksdjMzMzMrAvq3nRwJxAV6SIFa7t3rEZmZmZmNoO6AVvVTQeTgUci4tEO1sfMzMzMSureJXpNtytiZmZmZtXamukgT0f1NmC+8rKI+HenKmVmZmZm09W96eBtwM+ArasWk/q3DetgvczMzMwsq9vCdhrwHmBf4N/Aq12rkZmZmZnNoG7AthHwhYjod05RMzMzM+usugPnPglM6lShkvaW9ICkyZJulbRJi7yjJF0q6XFJEyXdLulznaqLmZmZWa+rG7AdAnxT0kKDLVDSzsAJwJHAOsANwFhJyzdZZUPgDmAnYE3gFODnknYZbF3MzMzMhoK6l0R3AJYHHpT0d+D50vKIiJ1rbmtfYExEnJZf7yNpK2Av4NvlzBFxZCnpFEmbATsC59Us08zMzGzIqhuwLQ78N/89N7DEQAqTNA8wEji2tOhKUktaXQsBjwykDmZmZmZDTd2Bc6tmOhiIxUnDf0wopU8APlhnA5K2AzYn3QhhZmZmNtur24et08rzkqoirQ9JG5Eug34lIm7uRsXMzMzMek3tmQ4kLQNsByxL9UwHB9TYzNPAVGCpUvqS9G11K5e/MXA5cEhEnFKnzmZmZmazg7ozHWwP/Ip0OfNJ+g6cG0C/AVtEvCrpVmAL4KLCoi2Ai1uU/37gD8ChEXF8nTqbmZmZzS7qtrAdSboxYHREPDvIMo8DzpZ0M3A98EVgGeBUAElHAetFxOb59ShSsHYycK6kRuvc1Ih4apB1MTMzM+t5dQO25YB9OhCsEREXSFoMOAhYGrgT2CYiHsxZlgZWLqwyGlgA2C8/Gh4ERgy2PmZmZma9ru5NBzcAq3Wq0Ig4OSJGRMS8ETEyIq4tLBsdESNKr1XxGFG1bTMzM7PZTd0Wtn1JlyNfBq6i78C5RMTEDtbLzMzMzLK6Advt+fmXNB9+Y9jgq2NmZmZmZXUDts9RY5w0MzMzM+u8ujMdjGm1XNLcHamNmZmZmfUx4JkOlHxA0mnAEx2sk5mZmZkV1J7poEHS+sAngU8AbwWeBc7vcL3MzMzMLKs708GapCDt/0hjn70KzEO6e/SnEfF6typoZmZmNqdreklU0kqSviPpDuBfpEFr7wY+A6xKmrD9nw7WzMzMzLqrVQvb/aQ7Q28C9gQujojnACS9ZSbUzczMzMxofdPBg6RWtDWBUcCGktru82ZmZmZmg9M0YIuIFYGNgDOBzYHfAxPyXaGb43HZzMzMzGaKlsN6RMSNEbEP8DbgQ8ClwI7Ar3OWL0hat7tVNDMzM5uz1RqHLSKmRcRVEfE5YClgB+AiYHvgJkl3d7GOZmZmZnO0tgfOjYhXI+K3EfF/pHHYPkO6QcHMzMzMumDAMx0ARMQrEXFuRHy4UxUyMzMzsxkNKmAzMzMzs+5zwGZmZmbW4xywmZmZmfU4B2xmZmZmPc4Bm5mZmVmPc8BmZmZm1uMcsJmZmZn1OAdsZmZmZj3OAZuZmZlZj3PAZmZmZtbjZknAJmlvSQ9ImizpVkmb9JN/LUnXSJok6VFJh0jSzKqvmZmZ2aw00wM2STsDJwBHAusANwBjJS3fJP9CwFXABOC9wFeA/YF9Z0qFzczMzGaxWdHCti8wJiJOi4i7I2If4HFgryb5dwUWAD4bEXdGxMXA0cC+bmUzMzOzOcFMDdgkzQOMBK4sLboS2LDJahsAf42ISYW0K4BlgBGdrqOZmZlZr1FEzLzCpGWAR4FNI+LaQvohwK4RsVrFOlcCj0TE5wppywMPAhtGxI0tyvsjsHgHd6HXLA48PasrYQPmz2/o8mc3tPnzG9pm58/v6YjYqmrBm2Z2TbJylKiKtP7yV6XPuFKTnZ5dSLolItad1fWwgfHnN3T5sxva/PkNbXPq5zez+7A9DUwFliqlL0m6qaDKE03y02IdMzMzs9nGTA3YIuJV4FZgi9KiLUh3i1a5EdhE0nyl/I8B4ztdRzMzM7NeMyvuEj0OGC1pd0mrSzqBdAPBqQCSjpL050L+84CJwBhJa0raAfgWcFzMzA54venns7oCNij+/IYuf3ZDmz+/oW2O/Pxm6k0HbxQq7Q0cACwN3Al8vXETgqQxwKiIGFHIvxbwU2A94DlScHe4AzYzMzObE8ySgM3MzMzM6vNcomZmZmY9zgGbmZmZWY9zwDYIksZJmiLpJUkvSPqfpLMljazI+ydJUyWNqFj2cUm3SHo+P+6QtE9h+UqSLpL0hKSXJT0s6ZI8c0RxO5J0r6QXJQ0vLRst6f6KsmdIz/t0UOH1qbnMlyVNlBSF1y9L2rXtNy5tt7iN1/LjjbRCXaaU8r6c+zQiaYyk05ts/1BJr1esu3dhv6cV0h+SdLykeQe4/sOSTizezVyRp/EYVsjzGUm3SnolH0NXSNqwtC/F9+EFSbdJ+nhFnpD0iVL6+jl9fMV79Km87JCKZY3tvb+Ufr+k0YXXkrRX3oeXJT0l6W+S9ijkiXzsFN+DR6o+t3a0Oj7Kx3FpnYPy3yNy3V7J6z2p9L1asbTOXJL2lXRX3o9nJF0saY1SvvGSJpfqcnBedqikP5XqUef9bXlumN3U/NxaHk+lz+E5STdI+kBpe+PzdtYrpe+c08eVym51HlpC0i8kPZrTH5c0VtLSHX57el6Lz2+MpENLaZ089zX9fAr5+jvf9al3r3HANnhHRMSCEfEWYDPSDAx/k7R9I4OklYEPAM8DXyiunA/QM4CDgMVIY8yNJs0I0XA5ab7V1YAFSdN1XcH0AYQbNgNWAqYBn+zEzkXEFyNieEQMB7bMacMLj3MHuN3hhe2eCZxbSms4olTe8Ii4o2Yx4yrWPbmw/H+F8j4C7AIcOMD1twI+QbqDmao8hcdUAEmHAScAxwBLkD6764GrJW1Z2s4RuZzFgDHAeZJWKeW5m9LxlV/f3eT92QN4FthdhSCy4BngWKnlnL2NY/d7pPES3wp8BfhYKd+Wpfdg2RbbbMdgjo+G1fJ7+05gYeCXpeW/JM2B/PW8fE3SGJA3SXpXKe/upboc0aLclu9vzXPDnKq/42n3/JkuRRoa6reSFirlaef70uo4O4d0Xl4nl/lu4Ff0M7D7nKwL574654H+znc9zwFbB0XEgxFxEHAW8JPCiXgP4N/AkcDnJBVnmNgAuDsi/hgRUyPi1Yi4NSJ+AyBpMVKgdmpEvBDJIxFxakRMKVVhT+CPwNn5b6spIm4DrgXWGeD6dwF/BWqNvq3U0nog8LWIuCAiJkbEMxFxOHA+6a7oqnJeB04jzVKydmnxb4B1JK2Uy1gQ2JG+AQiSVgc2AT5Lult764riTgOWpUnwL2ljUgCxS0RcEhEvR8S0iLg5IrZpsfs9KSKeAn5N4TPM+/gZ0tR5V+bv5+MRsTdwC2mYooFq+f7Sz7nB+pfPkWeQAqq3lxaPAXZSvhqRvzdrk75H7dgQGBMRT+Yyn4yIsyLiiUFUfbbVpXNff2XWOd/1PAds3XE+8DZgNUlzk37UziAFUouRWnMargfeI+kESVtLWrK4oYh4BrgLOD03Ia9R9R+5pCVIrRpnAL8ARqri0qz1pWQdYFPg7wPcxrvz+vfUXGVLUgvpryqWnQ2sImnVinLmAfbKL+8tLZ4MnAt8Pr/+JHANqXW2bE/gjoi4jNSCu0dFnleAQ4AjlS8Vl2wDPBoR11QsG3IkLQXszIyf4TakuYyr9vEcYJSk+QdYZH/vb8tzg/VP0gKkVrMppKsfRY+R/klrBMy7kz7TyW0Wcy3wQ0l7SFpnqLbedFNEjI6IQ/PLbpz7+lPnfNfzHLB1R6M/xWLA9sAiwNn5P7DLKLR+RcTfSD/0i5MGA3xCqc/KJoXtjQLGAV8DbgMmSDq4FLjtBrwA/D63Fv2TIXpQlhyo6f13npf0fBvrblpeN7eYNKyYt/cscCEp2P1Bu+tLmkT6XK4Dvluqw4ql9U/M6UsAT0Wa/aPssfxc/IE+MNd1Euny4+4RcXvFuqcBu+VW3D3y6xko9bP7dN5fSAH+NpKqLlP+EngJ+GrFsiWof3lubOl9uKzmev0ZzPHRcJekl0iB7SKkS+MNrfbxMWAYsGgh7Wel+izTT9lN39+a54bZUdVnunEpT3/H08/yei+TWlV2yi2oZacBe+Tvy2gqvi8t6tSwMynQ2400Y88zSv1h56vakHXl3Nf082nzfNfTHLB1R+NAeIYUnF1WOFn8AthChY7NEXF9ROwaEcsBKwD3A5dJWjgvfzoivhMR7yH1oTmA9J/5bpBaiEj/RZ4TEa8VytlF028+eA2Yu6Kuc+dlver7EbFw8dHGuteU142I6wrLH8hpi0TEqhHxzdJJpNb6wHDSj8L7SD/4lPMUHl/J6U8Bi6t040i2TCHPDO8D6cf7clKfyD4i4k5SS8LBpP5kf6zI9vFc53Py68uBJ0ktDOXtTSUdb9/Jl+eLniK1JNexdel92K7mev1pdny0c7y/MyIWBN5LCr5WKixrtY/LkOZGfraQtmepPo81WRfo9/3t99wwm6r6TK8r5enveNozr/c2Up+0DZqUNZbUz+0QYHzu2lC3TgDkrgBHRcQGwFtIl9B3A75Tf5fnKN0497X6nah9vut1Dti6Y2fSf+VTSTcCbKF0h+cTpCi/EWD1EREPA98HFmLGH47G8okRMQa4nenX8TcHViH1j2uUcxjpIG20FowHls6XCIpWAf43oL00IP3oRsRZwFXAif3lz67KzztXLNsV+G9E9Gn2j4jnSCeabSR9tMm2f04K2H6RA4KyPUktQ3fmY+URUqDy+arLORExFriZ9KNWdDnwth5t8RlPOrbfIGku0neq8niPiFtIHfxPK3xP/ggs22QfdyEF9ZMGU9EW7285X8tzg/UVEY+TWs72y90eysunMv3GjkFPd5T7Gf4O+BNt9rOag3Tz3FelrfNdL3PA1kGSllO6+2U06RLHF4AHSJ1d186PdwOHk4KruSV9TNJuyreAS1qcdOnzaeA/khZRml91zZz/TZJ2JN2p9tdc9B6kfhTvKJSzJulyS+Py683AfcDxeZvDlIYU2J3U+bboTZLmKz469R51wbByXUuXimemw4BtJb2vv4wR8QBwNHCCpJ0kzS9pUUkHkk5aTYduiIhnSZ3dj8xBSNmvSP1ETigvUBqKYiPSpfq1C4/1SC0NzW4W2J90nC1RqMd1TL9r66OShisZ2cFLngN1FrCDpA/n781w0ucTwJX9rPcK6U5XIk2Zdx5wrqQPSppH0lKSfgKsD+zXofr2eX/7Ozd0qNzZXv7xPwc4qkmW40nfl/MHsn1Jx0l6bz73zCVpFOkf9b+2XnO21fL3o8vnvhm0eb7r/d+9iPBjgA9Sv7IppD4oL5KCs3NJB8M8pGbXfSrWW4TUt2In0p0rlwNPkH4ongB+B6yd876ZdHnz3lzOc+T+aXn5ksCrwIcrylmNNMTHuvn1COACUuvfC8C/gN0q9ikqHkuR+pFEF97H00l3WTV7f18uPbbLy8c0qev7gEOB1yvWPTqvOxq4v0WdBrR+3pe/1Ckj59kN+Ef+7F8kBRMbV7wPB5XSFiJdihvdLE8h76dIl3sgBXG3Nsl3HunyfbMyf5nf39GFNAF7532YSLqUcSPwhUKeyMvK7+VbOvT9a3Z8fIz0j8qzpGE4LiNd/mysPyLXbdmK9+s5YJH8ehgpMPt33o9ngUuANUvrjQc+1eJ4+lM/n+kM7y/9nBtmx0ez47iY3t/xVPU5ACuSzpOjanxWB5GG9Kl7nB1PmhP7RdJ59d+ky6Fzzer3cxZ9fpW/HxV5O3nuq/x8aO98V6ves/LhuUTNzMzMepwviZqZmZn1OAdsZmZmZj3OAZuZmZlZj3PAZmZmZtbjHLCZmZmZ9TgHbIMgaSVJF+XBal+W9LCkSyRtmV+vUcq/h6RHJS0maYE8fs+DOe+Tkq6WtJakXXNa4xGSJhVenyppRE5/pZT3hkJ5Iek1labHkfTNvGxMIW28pMmlbb0s6S397GvVaNVmXdPfsShpIUnHSLovfz8elfQHSZvn5aMkvV7Y3qGSXq849vfOy0fn78sZpXocJGlc/ru43mv58UZazjNO0kGF9UPSxNK6n83Lxkg6vVTeByVdqTT1zguS7pJ0eOM72m3F+ue6P6PCjAuSls3pI/I5qrFPE3N6cT93ze/rtIr3/ei8vVGl9R6XdJYKM0IU8lxdquunJI2v2IdP5fyHFNLa/uxy2mck3ZqPsRckXSFpw4r3LJTGvCym3y9pdClNku6V9KKmz1BT3M/XsTmaA7bBuZw0/+BqwIKk6U+uIE24fRJwjtLk70haGTiWNHbMM8CPgZHA+yNiOGlw3Z8Cr0fEuRExvPEgzZiwdSHti4U6rFbMGxEznDBIg+Xu1nghSaTBcu+u2J/dS9saHhEv9LOvs2qQWptzNT0W8w/ddaQxzHYhjXm4MmkU+51abHNcxbF/cmH5i6Sp3t5VtXLp+3omUP4ON7NlqcwzqzLlH/ffk8aqWi0i3kIaZ2pBoLJOM0GQxizruyDii4V93zKnFffz3Jz1fxXv+zcLm5pa2M77SOfMH5WKmwasLanOdGd7kMbw2l15lPuBfHZKA6SfABxDGux4JeB64GpJW5ayPwMcm8+9rWyWtzON6RPSm73BAdsA5f/yVgNOjYgXInkkIk6NiCmkqYECODyfGM4GTo+IxrQcGwIXRMSDABHxfERcHBFVgdRgnE6agqNxshhFGkDyhqZrlNTYV7OZosax+DXS/JHbRsTfI00VNDkiLo2IvQZR9FOkoO/YQe9Em3IQejxwVEQcGxETII0YHxFfj4hZNaL+EcCXVJgXuZvyufJyYN3yItKk4MeoxVRDklYnBfKfBZYGth5IPSSNAA4EvhYRF0SaLvCZiDicNFvCT0urnEaaX7q/IGxP0lRoZzN9hhqzNzhgG6DcSnYXcHpuGl+j+B9UpEnYdwG+TJoq6M3AtwubuBb4lqSvSlpP0rxdqurNpBkSPphff4F0Aqmtv301m1lqHIvbAGMjTWHTaYcB60naqgvbbmVD0qTi583kcvtzK3Axzad86ihJK5FaFe+pWHwSMC9N5mjO9gTuiIjLSIHfHgOsypakKwu/qlh2NrCKpFULaa+Q5ok9stl5XtISpJk5ziDNbDNS0sgB1s9mUw7YBmcUaUqLrwG3ARMkHdz4AYmIe0iXDHYCdi21Rn2N1Jz+MeDPwLOSzpS0SJt1uCv3aWk8Tq7IcxqwR26d2IZ0Uqnys9K2bq+7r2Yz0SiaH4tLkKZea9empWP/eUkbFzPkYPEoUktOp86dYwvlPd0kT2N+0YHsV7d9B/iIpPUGuP6KFe/7LoXlw3LaK8B/SS2dXypvJCJezXU5VNKC5eVK80J+mhQQQQqKtpG07ADqvATwVC6z7LH8vGQp/Zekf5y/2mSbu5Gmtfp9RNxGnn5wAHWz2ZgDtkGIiKcj4jsR8R5gYeAA0n9SuxWy/QuYFhF3ltZ9LSJOiojN8rrbkvow9Jmwux/vjIiFC4+9K/KcA2xBmg/x8vzDU2XP0rbe6BtTc1/Nuq6fY/Ep0iXRdl1TOvYXjjS5fdkJpLkMO3Xcb10ob/EmeZ7KzwPZr66KiIeAn9C3X1ldD1S878WWxKkRsTAwHNgKeAfpcmZVXS4gzed8QMXij+dtnJNfX06a63n3AdT5KWBxVd9wtUwhT7FuU3O9vqPCTRPwRr/iLwDn5CszkALKXco3H9iczQFbh+R+DGOA24G121x3akSMAy5qd92a238euBT4JqkfzmC3N+B9NeukimPxcmCrAbRU1y1vMqn/0hGkbg4zww2k1pde7Yh+JCmQ2r5bBeS+ilcAp5Auhzdr2d8P2Je+we2ewDDgTklPAI8Ai5L69zbt99ZEox/yzhXLdgX+GxH3VuzDWFIXlUNKizYHVgE+p3Tn8xOky+/DSd1qzAAHbAMmaRFJR0laU9Lckt4kaUdgTaDfTsCSDpP0fknD8+3c65BOeN3qQPwtUivbNe2uONh9NeuUGsfiCaTLUpdJWjfnmVfStk26CwzEeaTLkwNpnWlbRLwMfB34tqSv5/5OSFpB0rGSNpkZ9WhRvxeAw+kbiHTDj4AVqQ6WiIjrSR3392ukKQ2vtBHp/Lp24bEesBSpm0htEfEAcDRwgqSdJM0vaVFJB5ICtn1arL4/6VLnEoW0PUh9mt9RqNuapMuoM9x8IGm+0uNN7dTdhjYHbAP3Kqmfwm9It4k/Reqvtk9EXFRj/SmkO78eIQ0ZcBHwawonmpru0YzjCD1SlSkiHo+IP0dEtNjW6eo7JtJaDH5fzTql5bEYES8BG5OGWLiA1DL1P2Av4MIW2x1VcewfXZUxf4f2A5pdwuy4iPgl8FFScHG/pBdIrYmvkLpdzGqnAs8NYL2VKt73qs78AETEi8BxwBEtgpVvkm7SaNgT+EdE/D4inig8biedd9u+IzMiDgS+Qeo39zQwHtgU2Dy3pDVb71+kO0kXApC0JKkf87Gluj1BCgrXkdS4K3YYMKn0OKndutvQpda/32ZmZmY2q7mFzczMzKzHOWAzMzMz63EO2MzMzMx6nAM2MzMzsx7ngM3MzMysxzlgMzMzM+txDtjMzMzMepwDNjMzM7Me9/+V38ejtpvq6QAAAABJRU5ErkJggg==\n",
      "text/plain": [
       "<Figure size 720x288 with 1 Axes>"
      ]
     },
     "metadata": {
      "needs_background": "light"
     },
     "output_type": "display_data"
    }
   ],
   "source": [
    "import matplotlib.pyplot as plt\n",
    "import seaborn as sns\n",
    "plt.figure(figsize=(10,4))\n",
    "ax=top5sr.plot.bar(rot=0)\n",
    "plt.xticks(fontsize=13,)\n",
    "plt.yticks(fontsize=14)\n",
    "plt.xlim(-0.5, None)\n",
    "plt.tick_params(left=False)\n",
    "sns.despine(left=True)\n",
    "plt.title('Top 5 Risk-adjusted Performers',fontsize=19,pad=30)\n",
    "plt.ylabel('Sharpe Ratio',fontsize=15)\n",
    "# If label made of 2 words , go back to the line \n",
    "def wrap_xlabels(ax):\n",
    "        new_labels=[label._text.replace(\" \",\"\\n\")  for label in ax.get_xticklabels()]\n",
    "        ax.set_xticklabels(new_labels)\n",
    "wrap_xlabels(ax)\n",
    "# end\n",
    "\n",
    "plt.show()\n"
   ]
  },
  {
   "cell_type": "code",
   "execution_count": 30,
   "id": "0ab8039c",
   "metadata": {
    "scrolled": false
   },
   "outputs": [],
   "source": [
    "# Analyze the behavior of CAC 40 components regarding the market : Which stocks amplify market movements and which have a more \n",
    "# defensive behavior ? \n",
    "import statsmodels.api as sm\n",
    "pd.options.mode.chained_assignment = None   # Suspend warning\n",
    "lst_b=[]\n",
    "y=rets['CAC 40']\n",
    "for stock in rets_comp.columns:\n",
    "    x=rets[[stock]]\n",
    "    x['Constant']=1\n",
    "    lst_b.append(round(sm.OLS(y,x).fit().params[0],4))\n",
    "    "
   ]
  },
  {
   "cell_type": "code",
   "execution_count": 31,
   "id": "9b3c2ea6",
   "metadata": {
    "scrolled": false
   },
   "outputs": [
    {
     "data": {
      "text/html": [
       "<div>\n",
       "<style scoped>\n",
       "    .dataframe tbody tr th:only-of-type {\n",
       "        vertical-align: middle;\n",
       "    }\n",
       "\n",
       "    .dataframe tbody tr th {\n",
       "        vertical-align: top;\n",
       "    }\n",
       "\n",
       "    .dataframe thead th {\n",
       "        text-align: right;\n",
       "    }\n",
       "</style>\n",
       "<table border=\"1\" class=\"dataframe\">\n",
       "  <thead>\n",
       "    <tr style=\"text-align: right;\">\n",
       "      <th></th>\n",
       "      <th>OLS Beta</th>\n",
       "    </tr>\n",
       "  </thead>\n",
       "  <tbody>\n",
       "  </tbody>\n",
       "</table>\n",
       "</div>"
      ],
      "text/plain": [
       "Empty DataFrame\n",
       "Columns: [OLS Beta]\n",
       "Index: []"
      ]
     },
     "execution_count": 31,
     "metadata": {},
     "output_type": "execute_result"
    }
   ],
   "source": [
    "betas=pd.DataFrame(data=lst_b,index=rets_comp.columns,columns=['OLS Beta'])\n",
    "betas[betas['OLS Beta']>1]"
   ]
  },
  {
   "cell_type": "code",
   "execution_count": 32,
   "id": "6a6ef11f",
   "metadata": {},
   "outputs": [
    {
     "data": {
      "text/html": [
       "<div>\n",
       "<style scoped>\n",
       "    .dataframe tbody tr th:only-of-type {\n",
       "        vertical-align: middle;\n",
       "    }\n",
       "\n",
       "    .dataframe tbody tr th {\n",
       "        vertical-align: top;\n",
       "    }\n",
       "\n",
       "    .dataframe thead th {\n",
       "        text-align: right;\n",
       "    }\n",
       "</style>\n",
       "<table border=\"1\" class=\"dataframe\">\n",
       "  <thead>\n",
       "    <tr style=\"text-align: right;\">\n",
       "      <th></th>\n",
       "      <th>OLS Beta</th>\n",
       "    </tr>\n",
       "  </thead>\n",
       "  <tbody>\n",
       "  </tbody>\n",
       "</table>\n",
       "</div>"
      ],
      "text/plain": [
       "Empty DataFrame\n",
       "Columns: [OLS Beta]\n",
       "Index: []"
      ]
     },
     "execution_count": 32,
     "metadata": {},
     "output_type": "execute_result"
    }
   ],
   "source": [
    "betas[betas['OLS Beta']<0]"
   ]
  },
  {
   "cell_type": "markdown",
   "id": "df4fcdb2",
   "metadata": {},
   "source": [
    "We conclude that all stocks are more or less defensive but no one is <b>deccorelated</b> with the market ( beta < 0) neither <b>agressive</b> ( > 1 ) . "
   ]
  },
  {
   "cell_type": "code",
   "execution_count": 34,
   "id": "c70b3817",
   "metadata": {},
   "outputs": [
    {
     "data": {
      "text/html": [
       "<div>\n",
       "<style scoped>\n",
       "    .dataframe tbody tr th:only-of-type {\n",
       "        vertical-align: middle;\n",
       "    }\n",
       "\n",
       "    .dataframe tbody tr th {\n",
       "        vertical-align: top;\n",
       "    }\n",
       "\n",
       "    .dataframe thead th {\n",
       "        text-align: right;\n",
       "    }\n",
       "</style>\n",
       "<table border=\"1\" class=\"dataframe\">\n",
       "  <thead>\n",
       "    <tr style=\"text-align: right;\">\n",
       "      <th></th>\n",
       "      <th>OLS Beta</th>\n",
       "      <th>Category</th>\n",
       "    </tr>\n",
       "  </thead>\n",
       "  <tbody>\n",
       "    <tr>\n",
       "      <th>AIR LIQUIDE</th>\n",
       "      <td>0.6771</td>\n",
       "      <td>Least Defensive</td>\n",
       "    </tr>\n",
       "    <tr>\n",
       "      <th>AIRBUS GROUP</th>\n",
       "      <td>0.3621</td>\n",
       "      <td>Medium</td>\n",
       "    </tr>\n",
       "    <tr>\n",
       "      <th>ALSTOM</th>\n",
       "      <td>0.2841</td>\n",
       "      <td>Most defensive</td>\n",
       "    </tr>\n",
       "    <tr>\n",
       "      <th>ARCELORMITTAL</th>\n",
       "      <td>0.2199</td>\n",
       "      <td>Most defensive</td>\n",
       "    </tr>\n",
       "    <tr>\n",
       "      <th>AXA</th>\n",
       "      <td>0.4576</td>\n",
       "      <td>Medium</td>\n",
       "    </tr>\n",
       "    <tr>\n",
       "      <th>BNP PARIBAS</th>\n",
       "      <td>0.4197</td>\n",
       "      <td>Medium</td>\n",
       "    </tr>\n",
       "    <tr>\n",
       "      <th>BOUYGUES</th>\n",
       "      <td>0.4419</td>\n",
       "      <td>Medium</td>\n",
       "    </tr>\n",
       "    <tr>\n",
       "      <th>CAPGEMINI</th>\n",
       "      <td>0.4673</td>\n",
       "      <td>Medium</td>\n",
       "    </tr>\n",
       "    <tr>\n",
       "      <th>CARREFOUR</th>\n",
       "      <td>0.3964</td>\n",
       "      <td>Medium</td>\n",
       "    </tr>\n",
       "    <tr>\n",
       "      <th>CREDIT AGRICOLE</th>\n",
       "      <td>0.3491</td>\n",
       "      <td>Medium</td>\n",
       "    </tr>\n",
       "    <tr>\n",
       "      <th>DANONE</th>\n",
       "      <td>0.6107</td>\n",
       "      <td>Least Defensive</td>\n",
       "    </tr>\n",
       "    <tr>\n",
       "      <th>DASSAULT SYSTEMES</th>\n",
       "      <td>0.3484</td>\n",
       "      <td>Medium</td>\n",
       "    </tr>\n",
       "    <tr>\n",
       "      <th>ENGIE</th>\n",
       "      <td>0.4107</td>\n",
       "      <td>Medium</td>\n",
       "    </tr>\n",
       "    <tr>\n",
       "      <th>ESSILORLUXOTTICA</th>\n",
       "      <td>0.4658</td>\n",
       "      <td>Medium</td>\n",
       "    </tr>\n",
       "    <tr>\n",
       "      <th>EUROFINS SCIENTIFIC</th>\n",
       "      <td>0.1846</td>\n",
       "      <td>Most defensive</td>\n",
       "    </tr>\n",
       "    <tr>\n",
       "      <th>HERMES INTERNATIONAL</th>\n",
       "      <td>0.1638</td>\n",
       "      <td>Most defensive</td>\n",
       "    </tr>\n",
       "    <tr>\n",
       "      <th>KERING</th>\n",
       "      <td>0.3851</td>\n",
       "      <td>Medium</td>\n",
       "    </tr>\n",
       "    <tr>\n",
       "      <th>LEGRAND</th>\n",
       "      <td>0.5889</td>\n",
       "      <td>Medium</td>\n",
       "    </tr>\n",
       "    <tr>\n",
       "      <th>L'OREAL</th>\n",
       "      <td>0.6927</td>\n",
       "      <td>Least Defensive</td>\n",
       "    </tr>\n",
       "    <tr>\n",
       "      <th>LVMH</th>\n",
       "      <td>0.5499</td>\n",
       "      <td>Medium</td>\n",
       "    </tr>\n",
       "    <tr>\n",
       "      <th>MICHELIN</th>\n",
       "      <td>0.4767</td>\n",
       "      <td>Medium</td>\n",
       "    </tr>\n",
       "    <tr>\n",
       "      <th>ORANGE</th>\n",
       "      <td>0.3477</td>\n",
       "      <td>Medium</td>\n",
       "    </tr>\n",
       "    <tr>\n",
       "      <th>PERNOD RICARD</th>\n",
       "      <td>0.5097</td>\n",
       "      <td>Medium</td>\n",
       "    </tr>\n",
       "    <tr>\n",
       "      <th>PUBLICIS</th>\n",
       "      <td>0.4436</td>\n",
       "      <td>Medium</td>\n",
       "    </tr>\n",
       "    <tr>\n",
       "      <th>RENAULT</th>\n",
       "      <td>0.3183</td>\n",
       "      <td>Medium</td>\n",
       "    </tr>\n",
       "    <tr>\n",
       "      <th>SAFRAN</th>\n",
       "      <td>0.3889</td>\n",
       "      <td>Medium</td>\n",
       "    </tr>\n",
       "    <tr>\n",
       "      <th>SAINT-GOBAIN</th>\n",
       "      <td>0.4767</td>\n",
       "      <td>Medium</td>\n",
       "    </tr>\n",
       "    <tr>\n",
       "      <th>SANOFI</th>\n",
       "      <td>0.5251</td>\n",
       "      <td>Medium</td>\n",
       "    </tr>\n",
       "    <tr>\n",
       "      <th>SCHNEIDER ELECTRIC</th>\n",
       "      <td>0.5890</td>\n",
       "      <td>Medium</td>\n",
       "    </tr>\n",
       "    <tr>\n",
       "      <th>SOCIETE GENERALE</th>\n",
       "      <td>0.3263</td>\n",
       "      <td>Medium</td>\n",
       "    </tr>\n",
       "    <tr>\n",
       "      <th>STMICROELECTRONICS</th>\n",
       "      <td>0.2669</td>\n",
       "      <td>Most defensive</td>\n",
       "    </tr>\n",
       "    <tr>\n",
       "      <th>TELEPERFORMANCE</th>\n",
       "      <td>0.3248</td>\n",
       "      <td>Medium</td>\n",
       "    </tr>\n",
       "    <tr>\n",
       "      <th>THALES</th>\n",
       "      <td>0.4136</td>\n",
       "      <td>Medium</td>\n",
       "    </tr>\n",
       "    <tr>\n",
       "      <th>TOTALENERGIES</th>\n",
       "      <td>0.5745</td>\n",
       "      <td>Medium</td>\n",
       "    </tr>\n",
       "    <tr>\n",
       "      <th>UNIBAIL-RODAMCO-WESTFIELD</th>\n",
       "      <td>0.3221</td>\n",
       "      <td>Medium</td>\n",
       "    </tr>\n",
       "    <tr>\n",
       "      <th>VEOLIA ENVIRONNEMENT</th>\n",
       "      <td>0.3158</td>\n",
       "      <td>Medium</td>\n",
       "    </tr>\n",
       "    <tr>\n",
       "      <th>VINCI</th>\n",
       "      <td>0.6010</td>\n",
       "      <td>Least Defensive</td>\n",
       "    </tr>\n",
       "    <tr>\n",
       "      <th>VIVENDI SE</th>\n",
       "      <td>0.2659</td>\n",
       "      <td>Most defensive</td>\n",
       "    </tr>\n",
       "  </tbody>\n",
       "</table>\n",
       "</div>"
      ],
      "text/plain": [
       "                           OLS Beta         Category\n",
       "AIR LIQUIDE                  0.6771  Least Defensive\n",
       "AIRBUS GROUP                 0.3621           Medium\n",
       "ALSTOM                       0.2841   Most defensive\n",
       "ARCELORMITTAL                0.2199   Most defensive\n",
       "AXA                          0.4576           Medium\n",
       "BNP PARIBAS                  0.4197           Medium\n",
       "BOUYGUES                     0.4419           Medium\n",
       "CAPGEMINI                    0.4673           Medium\n",
       "CARREFOUR                    0.3964           Medium\n",
       "CREDIT AGRICOLE              0.3491           Medium\n",
       "DANONE                       0.6107  Least Defensive\n",
       "DASSAULT SYSTEMES            0.3484           Medium\n",
       "ENGIE                        0.4107           Medium\n",
       "ESSILORLUXOTTICA             0.4658           Medium\n",
       "EUROFINS SCIENTIFIC          0.1846   Most defensive\n",
       "HERMES INTERNATIONAL         0.1638   Most defensive\n",
       "KERING                       0.3851           Medium\n",
       "LEGRAND                      0.5889           Medium\n",
       "L'OREAL                      0.6927  Least Defensive\n",
       "LVMH                         0.5499           Medium\n",
       "MICHELIN                     0.4767           Medium\n",
       "ORANGE                       0.3477           Medium\n",
       "PERNOD RICARD                0.5097           Medium\n",
       "PUBLICIS                     0.4436           Medium\n",
       "RENAULT                      0.3183           Medium\n",
       "SAFRAN                       0.3889           Medium\n",
       "SAINT-GOBAIN                 0.4767           Medium\n",
       "SANOFI                       0.5251           Medium\n",
       "SCHNEIDER ELECTRIC           0.5890           Medium\n",
       "SOCIETE GENERALE             0.3263           Medium\n",
       "STMICROELECTRONICS           0.2669   Most defensive\n",
       "TELEPERFORMANCE              0.3248           Medium\n",
       "THALES                       0.4136           Medium\n",
       "TOTALENERGIES                0.5745           Medium\n",
       "UNIBAIL-RODAMCO-WESTFIELD    0.3221           Medium\n",
       "VEOLIA ENVIRONNEMENT         0.3158           Medium\n",
       "VINCI                        0.6010  Least Defensive\n",
       "VIVENDI SE                   0.2659   Most defensive"
      ]
     },
     "execution_count": 34,
     "metadata": {},
     "output_type": "execute_result"
    }
   ],
   "source": [
    "# Categorize stocks according to their betas : at first , the categories intended were : agressive , defensive or decorrelated.\n",
    "# Since all stocks are defensive , we're going to categorize them relatively ,  as less defensive , most defensive and medium . \n",
    "import warnings\n",
    "warnings.filterwarnings(\"ignore\", category=DeprecationWarning) # Suspend warning\n",
    "\n",
    "category=pd.Series().reindex_like(betas)\n",
    "category.iloc[np.where(betas['OLS Beta']>=0.6)[0]]=\"Least Defensive\"\n",
    "category.iloc[np.where((betas['OLS Beta']<0.6) & (betas['OLS Beta']>0.3))[0]]=\"Medium\"\n",
    "category.iloc[np.where(betas['OLS Beta']<=0.3)[0]]=\"Most defensive\"\n",
    "\n",
    "betas['Category']=category\n",
    "betas"
   ]
  },
  {
   "cell_type": "code",
   "execution_count": 35,
   "id": "7eed8ab3",
   "metadata": {
    "scrolled": false
   },
   "outputs": [
    {
     "data": {
      "image/png": "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\n",
      "text/plain": [
       "<Figure size 514.286x360 with 1 Axes>"
      ]
     },
     "metadata": {
      "needs_background": "light"
     },
     "output_type": "display_data"
    }
   ],
   "source": [
    "import matplotlib.pyplot as plt\n",
    "fig=sns.catplot(x=\"Category\", y=\"OLS Beta\", data=betas, aspect=10/7)\n",
    "sns.set_theme(font_scale=1.2)\n",
    "plt.title(\"CAC 40 Stocks - Correlation with the Market\" , fontdict={'fontsize':16,'color':'midnightblue'},loc='center')\n",
    "fig.set_yticklabels(size=13)\n",
    "fig.set_xticklabels(size=13)\n",
    "sns.set_style('white')\n",
    "plt.gca().invert_xaxis()\n",
    "plt.show()"
   ]
  },
  {
   "cell_type": "code",
   "execution_count": 36,
   "id": "e78cdec0",
   "metadata": {
    "scrolled": false
   },
   "outputs": [],
   "source": [
    "# Gathering all the information above in a synthetic and interactive figure \n",
    "\n",
    "\n",
    "\n",
    "# First , define a function to plot hlines as it will be called 2 times\n",
    "def hline_plot(ax,rank_series):\n",
    "    if (rank_series.values==top5perf.values).all(): \n",
    "        title,x_label='Top 5 Performers','Annualized return'\n",
    "    else:\n",
    "        title,x_label= '5 Least Volatile','Annualized Vol'\n",
    "        \n",
    "    ax.hlines(y=rank_series.index, xmin=0, xmax=rank_series, color='midnightblue')\n",
    "    ax.plot(rank_series, rank_series.index, 'o', color='slateblue')   # add scatter points\n",
    "    ax.set_xlim(0)\n",
    "    ax.invert_yaxis()    # reverse order of y-axis so that least volatile appears first and top performer appears first\n",
    "    ax.set_title(title,fontdict={'fontsize':24,'color':'midnightblue','fontweight':'medium'},pad=20)\n",
    "    # format to % the x axis tick labels\n",
    "    vals = ax.get_xticks()[:-1]\n",
    "    ax.set_xticks(vals)   \n",
    "    ax.set_xticklabels(['{:,.1%}'.format(x) for x in vals])\n",
    "    # end \n",
    "    ax.set_xlabel(x_label,fontdict={'fontsize':23},labelpad=20)\n",
    "    ax.tick_params(axis='both',labelsize=19,bottom=True)\n",
    "    sns.despine(left=True)"
   ]
  },
  {
   "cell_type": "code",
   "execution_count": 37,
   "id": "167a2a37",
   "metadata": {},
   "outputs": [],
   "source": [
    "# Second , define a synthetic function that gathers all plots to be able to use it in the widgets interact function\n",
    "def interactive_plot(n_years): \n",
    "    '''this function returns the subplots . n_years is the interactive parameter '''\n",
    "    # Computation \n",
    "    y=12*int(n_years[0]) if n_years!='Max' else 1+rets_comp.shape[0]\n",
    "    rets_comp1=rets_comp.iloc[-1-y:]\n",
    "    rf1=rf.iloc[-1-y:]\n",
    "    \n",
    "    ann_ret=(1+rets_comp1).prod()**(12/rets_comp1.shape[0])-1\n",
    "    top5perf=ann_ret.sort_values(ascending=False).head(5)\n",
    "    ann_vol=rets_comp1.std()*np.sqrt(12)\n",
    "    least5vol=ann_vol.sort_values().head(5)\n",
    "    excess_rets=rets_comp1.sub(rf1.squeeze(),axis='index')    \n",
    "    excess_rets=(1+excess_rets).prod()**(12/excess_rets.shape[0])-1\n",
    "    top5sr=(excess_rets/ann_vol).sort_values(ascending=False).head(5)\n",
    "    \n",
    "    # Figure \n",
    "    fig,[[ax1,ax2],[ax3,ax4]]=plt.subplots(2,2,figsize=(25,18))\n",
    "    fig.suptitle(\"CAC 40 - Synthetic Analysis\", fontsize=28,fontweight='semibold',color='DarkBlue')\n",
    "    plt.subplots_adjust(wspace=0.5,right=1)\n",
    "    plt.subplots_adjust(hspace=0.7)\n",
    "\n",
    "\n",
    "    # 1st plot \n",
    "    hline_plot(ax1,top5perf)\n",
    "\n",
    "    # 2nd plot \n",
    "    hline_plot(ax2,least5vol)\n",
    "\n",
    "\n",
    "    # 3rd plot\n",
    "    lst=['olive' if i>=1 else 'blue' for i in top5sr]   # color the bars in green if sharpe ratio exceeds 1\n",
    "    top5sr.plot.bar(ax=ax3,width=0.4,rot=45,color=lst,alpha=0.5)\n",
    "    ax3.set_xlim(-0.6,None)\n",
    "    sns.despine(left=True)\n",
    "    ax3.set_title('Top 5 Risk-adjusted Performers',fontdict={'fontsize':24,'color':'midnightblue','fontweight':'medium'},pad=30)\n",
    "    ax3.set_ylabel('Annualized Sharpe Ratio',fontdict={'fontsize':20},labelpad=20)\n",
    "    # if xtick label exceeds a word , go back to the line \n",
    "    def wrap_xlabels(ax):\n",
    "            new_labels=[label._text.replace(\" \",\"\\n\")  for label in ax.get_xticklabels()]\n",
    "            ax.set_xticklabels(new_labels)\n",
    "    wrap_xlabels(ax3)\n",
    "    # end \n",
    "    ax3.tick_params(axis='x',labelsize=20)\n",
    "    ax3.tick_params(axis='y',labelsize=22)\n",
    "\n",
    "    # 4th plot  ( the stripplot is equivalent to the catplot displayed above , only that the catplot cannot be a subplot  )\n",
    "    ax4=sns.stripplot(x=\"Category\", y=\"OLS Beta\", data=betas,size=12)  \n",
    "    ax4.invert_xaxis()\n",
    "    ax4.set_title(\"CAC 40 Stocks - Correlation with the Market \\n(Max Period)\" , fontdict={'fontsize':24,'color':'midnightblue','fontweight':'medium'}\n",
    "                                                                                ,pad = 30 , loc='center')\n",
    "    ax4.tick_params(axis='both',labelsize=20)\n",
    "    ax4.set_xlabel('Category',fontdict={'fontsize':22},labelpad=30)\n",
    "    ax4.set_ylabel('OLS Beta',fontdict={'fontsize':22},labelpad=30)\n",
    "\n",
    "\n",
    "\n",
    "    plt.show()"
   ]
  },
  {
   "cell_type": "code",
   "execution_count": 38,
   "id": "4c49751f",
   "metadata": {},
   "outputs": [],
   "source": [
    "# pip install ipywidgets\n",
    "# !jupyter nbextension enable --py widgetsnbextension"
   ]
  },
  {
   "cell_type": "code",
   "execution_count": 39,
   "id": "277f7c26",
   "metadata": {},
   "outputs": [],
   "source": [
    "# Unfortunately , ipywidgets cannot be shown on github , so below is just a screenshot of the ouptut . However , you can\n",
    "# view the widgets and interact with the plot if you run the code ! "
   ]
  },
  {
   "cell_type": "code",
   "execution_count": 40,
   "id": "a2c3e022",
   "metadata": {
    "scrolled": false
   },
   "outputs": [
    {
     "data": {
      "application/vnd.jupyter.widget-view+json": {
       "model_id": "a002af1cca884a3e8c003d194ae2e013",
       "version_major": 2,
       "version_minor": 0
      },
      "text/plain": [
       "interactive(children=(Dropdown(description='Go Back', index=2, options=('3 Years', '5 Years', 'Max'), value='M…"
      ]
     },
     "metadata": {},
     "output_type": "display_data"
    }
   ],
   "source": [
    "# use ipywidgets to interact with the plot \n",
    "import ipywidgets as widgets \n",
    "\n",
    "widgets.interact(interactive_plot,n_years=widgets.Dropdown(options=['3 Years','5 Years','Max'],description='Go Back',value='Max'));"
   ]
  },
  {
   "cell_type": "code",
   "execution_count": null,
   "id": "1664c4ab",
   "metadata": {},
   "outputs": [],
   "source": [
    "# include a short comment on the plot    "
   ]
  },
  {
   "cell_type": "markdown",
   "id": "f831be9d",
   "metadata": {},
   "source": [
    "### Part II : Backtesting different investment strategies "
   ]
  },
  {
   "cell_type": "markdown",
   "id": "45c92bce",
   "metadata": {},
   "source": [
    "The CAC 40 index itself is already an example of a construction technique wich is cap-weighting . If you want to get the return of CAC 40 ( with a small tracking error ) , you could just buy a CAC 40 ETF and you'd be applying what's called a **passive investment strategy**  . But the goal here is to outperform CAC 40 , which means we're going to change the weights , include certain stocks and exclude others .. . Many construction techniques are available to backtest : \n",
    "- Most obvious is <font color='red'>Equal Weighting</font> , also known as the maximum diversification portfolio : this is a <b>naive</b> investment strategy that doesn't require any optimization effort , although it proved to be worth the try \n",
    "- 2nd technique is <font color='red'>GMV</font> : global minium variance which minimizes the risk of the portfolio , given a var-cov matrix . Note that this technique is subject to the estimation bias of the var-cov matrix although it <b>does not require the expected return estimate vector</b> that is much harder to determine. \n",
    "- 3rd technique is <font color='red'>Max Sharpe Ratio</font> : we'll avoid this one for this project as it requires the expected return estimate vector ( which could be determined through an estimation model like black litterman , but definitely not through a sample-based return vector because it has proven to be not at all reliable ) \n",
    "- 4th Technique is <font color='red'>Risk parity</font> : it's a maximum diversification portfolio , not in terms of dollar allocation but in terms of <b>risk contribution</b> --> it's an allocation such that each constituent contributes equally to the total risk of the portfolio and not to the total value of the portfolio\n",
    "- 5th technique is <font color='red'>Constrained GMV</font> ( wich will be further discussed in a later section ) \n",
    "- !6th technique : equal weighting tethered to capweighting ( the cap weighting considered will be the last one available at the time of the code execution ) . equal weighting is so naive that it tends to allocate unreasonable weights for non-easily tradable stocks . Tethering it to capweighting makes it more reasonable .\n",
    "- 6th technique is <font color='red'>Max decorrelation</font> ( will be further discussed in a later section )  "
   ]
  },
  {
   "cell_type": "markdown",
   "id": "b5d61699",
   "metadata": {},
   "source": [
    "### 1- Equal weighting "
   ]
  },
  {
   "cell_type": "markdown",
   "id": "a750dcf2",
   "metadata": {},
   "source": [
    "Is CAC 40 really exposed to 40 stocks ? In fact , theory tells us the market cap portfolio ( here the CAC 40 ) is perfectly diversified . Let's verify this . There's a mathematical measure called ENC ( Effective number of constituents ) that measures the degree of diversification of a given portfolio . ENC is the inverse of the sum of squared weights : Let's compute that .  "
   ]
  },
  {
   "cell_type": "code",
   "execution_count": 41,
   "id": "2cf5061b",
   "metadata": {
    "scrolled": true
   },
   "outputs": [
    {
     "data": {
      "text/plain": [
       "(16.99, '42.48%')"
      ]
     },
     "execution_count": 41,
     "metadata": {},
     "output_type": "execute_result"
    }
   ],
   "source": [
    "ENC=(1/(((df_analysis['Weight']/100)**2).sum()))\n",
    "round(ENC,2) , str(round(ENC*100/40,2))+'%'"
   ]
  },
  {
   "cell_type": "markdown",
   "id": "106cf344",
   "metadata": {},
   "source": [
    "While CAC 40 is theorically composed of 40 stocks , It's effectively exposed to only 17 stocks and is only 42% diversified . "
   ]
  },
  {
   "cell_type": "code",
   "execution_count": 42,
   "id": "80d5579c",
   "metadata": {
    "scrolled": false
   },
   "outputs": [
    {
     "data": {
      "image/png": "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\n",
      "text/plain": [
       "<Figure size 864x288 with 1 Axes>"
      ]
     },
     "metadata": {},
     "output_type": "display_data"
    }
   ],
   "source": [
    "colors=['MidnightBlue']*int(ENC)\n",
    "colors.extend(['CornFlowerBlue']*(40-int(ENC)))\n",
    "ax=pd.Series(data=df_analysis['Weight'].to_list(),index=df_analysis['Company']).sort_values(ascending=False).plot.bar(title='CAC 40 Weights',\n",
    "                                                                                                                     color = colors ,figsize=(12,4)) \n",
    "ax.set_xticklabels([])\n",
    "ax.set_xlabel('')\n",
    "ax.set_ylabel('weight in %')\n",
    "plt.show()"
   ]
  },
  {
   "cell_type": "markdown",
   "id": "0b982d98",
   "metadata": {},
   "source": [
    "This is to tell you that your portfolio can be composed of 1000 stocks but can still be not diversified , because it's only concentrated in certain stocks . In order to get the maximum diversification , you should equally weight your portfolio . "
   ]
  },
  {
   "cell_type": "code",
   "execution_count": 43,
   "id": "df003f92",
   "metadata": {},
   "outputs": [
    {
     "data": {
      "text/plain": [
       "38.0"
      ]
     },
     "execution_count": 43,
     "metadata": {},
     "output_type": "execute_result"
    }
   ],
   "source": [
    "eq_w=pd.Series(data=[1/38 for i in range(0,38)],index=rets_comp.columns)\n",
    "ENC_eqw=(1/((eq_w**2).sum()))\n",
    "ENC_eqw     # effective number of constituents = theorical number of constituents ( 38 ) : remember that we're working on 38 \n",
    "            # stocks only and not 40 "
   ]
  },
  {
   "cell_type": "code",
   "execution_count": 44,
   "id": "5614d7e7",
   "metadata": {
    "scrolled": true
   },
   "outputs": [
    {
     "data": {
      "text/plain": [
       "Date\n",
       "2010-01   -0.042983\n",
       "2010-02   -0.003151\n",
       "2010-03    0.074402\n",
       "2010-04   -0.019229\n",
       "2010-05   -0.057902\n",
       "             ...   \n",
       "2021-08    0.030000\n",
       "2021-09   -0.048483\n",
       "2021-10    0.036855\n",
       "2021-11   -0.019968\n",
       "2021-12    0.059710\n",
       "Freq: M, Length: 144, dtype: float64"
      ]
     },
     "execution_count": 44,
     "metadata": {},
     "output_type": "execute_result"
    }
   ],
   "source": [
    "# Backtesting the equal weighting scheme : No optimization effort , no need for rolling , this is a naive investment strategy\n",
    "r_eq=(rets_comp*(1/38)).sum(axis='columns')\n",
    "r_eq"
   ]
  },
  {
   "cell_type": "code",
   "execution_count": 45,
   "id": "0db90962",
   "metadata": {},
   "outputs": [],
   "source": [
    "# we're going to define a function that returns the performance indicators as well as downside risk measures , given a series\n",
    "# of returns . \n",
    "import scipy.stats as ss\n",
    "def perf_risk(r):\n",
    "    ''' r is a pandas Series of returns '''\n",
    "    # Performance indicators\n",
    "    ann_ret=((1+r).prod())**(12/r.shape[0])-1\n",
    "    ann_vol=r.std()*np.sqrt(12)\n",
    "    excess_ret=(r-rf.squeeze())\n",
    "    sr=(((1+excess_ret).prod())**(12/r.shape[0])-1)/ann_vol\n",
    "    \n",
    "    \n",
    "    # Risk indicators \n",
    "    hvar = -(np.percentile(r,5) )   # 5% historic VaR \n",
    "    cvar = -(r[r<-hvar].mean())     # Conditional VaR or expected shortfall \n",
    "    skewness = ss.skew(r)     # assymetry of the return distribution \n",
    "    kurtosis= ss.kurtosis(r)             # degree of extreme cases ( fatness of the tail )\n",
    "      # mdd : \n",
    "    wi=(1+r).cumprod()\n",
    "    pp=wi.cummax()\n",
    "    mdd=-((wi-pp)/pp).min()     \n",
    "    return pd.Series(data=[ann_ret,ann_vol,sr,hvar,cvar,skewness,kurtosis,mdd],index=['Annualized return','Annualized vol',\n",
    "                                                                                       'Sharpe Ratio','Historic VaR',\n",
    "                                                                                      'Expected shortfall','Skewness',\n",
    "                                                                                      'Kurtosis','MDD'])\n",
    "                                                                                       "
   ]
  },
  {
   "cell_type": "code",
   "execution_count": 46,
   "id": "af055552",
   "metadata": {
    "scrolled": true
   },
   "outputs": [
    {
     "data": {
      "text/plain": [
       "Annualized return     0.096132\n",
       "Annualized vol        0.166968\n",
       "Sharpe Ratio          0.511318\n",
       "Historic VaR          0.069595\n",
       "Expected shortfall    0.094855\n",
       "Skewness             -0.091301\n",
       "Kurtosis              3.540761\n",
       "MDD                   0.269411\n",
       "dtype: float64"
      ]
     },
     "execution_count": 46,
     "metadata": {},
     "output_type": "execute_result"
    }
   ],
   "source": [
    "perf_risk(r_eq)"
   ]
  },
  {
   "cell_type": "code",
   "execution_count": 47,
   "id": "cf7c1d6a",
   "metadata": {
    "scrolled": true
   },
   "outputs": [
    {
     "data": {
      "text/plain": [
       "Annualized return     0.049324\n",
       "Annualized vol        0.165098\n",
       "Sharpe Ratio          0.235632\n",
       "Historic VaR          0.072158\n",
       "Expected shortfall    0.096421\n",
       "Skewness             -0.083654\n",
       "Kurtosis              1.960667\n",
       "MDD                   0.274524\n",
       "dtype: float64"
      ]
     },
     "execution_count": 47,
     "metadata": {},
     "output_type": "execute_result"
    }
   ],
   "source": [
    "cac40=rets['CAC 40']\n",
    "perf_risk(cac40)"
   ]
  },
  {
   "cell_type": "code",
   "execution_count": 48,
   "id": "a343ac5e",
   "metadata": {},
   "outputs": [
    {
     "data": {
      "image/png": "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\n",
      "text/plain": [
       "<Figure size 2520x1296 with 8 Axes>"
      ]
     },
     "metadata": {},
     "output_type": "display_data"
    }
   ],
   "source": [
    "# comparison figure : we have to separate the indicators in different subplots because different measures cannot correspond \n",
    "# to the same y-axis . \n",
    "\n",
    "comparison=pd.DataFrame({'CAC 40':perf_risk(cac40),'Equal weighting':perf_risk(r_eq)})\n",
    "i=1\n",
    "j=1\n",
    "plt.figure(figsize = (35,18))\n",
    "for indicator in perf_risk(cac40).index:\n",
    "    plt.subplot(2,4,i)\n",
    "    comparison.loc[indicator].plot.bar(rot=0,fontsize=30,color=['red','blue'],width=0.2,alpha=0.5)\n",
    "    plt.title(label=indicator,fontdict={'fontsize':40})\n",
    "    wrap_xlabels(plt.subplot(2,4,i))\n",
    "    plt.tight_layout()\n",
    "    i=i+1"
   ]
  },
  {
   "cell_type": "markdown",
   "id": "d81a0471",
   "metadata": {},
   "source": [
    "<b>Striking results</b> : Even the most naive investment strategy <font color='red'>outperformed</font> the CAC 40 ! For almost all the risk and perf indicators , the equal weighted portfolio is better : better annualized return , better sharpe ratio , less VaR , less Max Drawdown ..  The market portfolio is NOT as perfect as we thought it might be when we were taught financial theory"
   ]
  },
  {
   "cell_type": "markdown",
   "id": "0cf4d636",
   "metadata": {},
   "source": [
    "### 2- GMV : Global Minimum Variance"
   ]
  },
  {
   "cell_type": "markdown",
   "id": "33c6f4ab",
   "metadata": {},
   "source": [
    "The goal of this construction technique is to provide the <b>minimum risk given a var-cov matrix</b> . There are different approaches to estimate the cov-matrix : sample based , constant correlation or shrinked matrix which is a mix between sample based and constant correlation approach . We're going to try the first approach .\n",
    "\n",
    "Backtesting this technique is different from backtesting the equal weighting scheme : GMV is an optimization program that is fed an estimated var-cov matrix . This cov-matrix needs to be estimated over a historical period . If we estimate this matrix over our whole  period of study ( i.e. : 12 years , last data point excluded ) , we'd feed it to the GMV optimization program , we'd get a set of GMV weights , would apply them to the last data point ( stocks returns at the last date i.e. 2020-12-31 ) and we get ONE weighted average return , corresponding to the last date of our period of study . However , this is not what we want , we want a whole series of weighted average returns , just like CAC 40 or the equal weighting scheme , in order to be able to compute the sharpe ratio , the annualized return ..  . This is where <font color='red'>rolling</font> comes in handy ! We're going to set a <u>rolling window</u> , e.g. 6 months , over which we'll estimate our cov matrix , feed it to the GMV optimization program , get a set of weights , compute the weighted average of the returns of the 7th month using the previously determined weights and get the first data point of our return series --> 1st rolling phase done ! then , roll one month ahead , estimate the cov-matrix over this rolled period , get a new set of weights , compute the weighted average of the return of the 8th month , get the second data point and so on ...  "
   ]
  },
  {
   "cell_type": "code",
   "execution_count": 50,
   "id": "128e9b03",
   "metadata": {},
   "outputs": [],
   "source": [
    "# define a function to return the GMV weights , given a cov matrix . \n",
    "#This function contains an optimization function from scipy library \n",
    "\n",
    "from scipy.optimize import minimize\n",
    "def GMV_w(r,cov_matrix):\n",
    "    ''' cov_matrix is a parameter type function '''\n",
    "    init_guess=np.repeat(1/r.shape[1],r.shape[1]) \n",
    "    bnds=((0,1),)*r.shape[1]     # Do not go short \n",
    "    cons1={'type':'eq','fun':lambda w: w.sum()-1}   \n",
    "    def vol(w,cov_matrix,r):\n",
    "        return w.T@cov_matrix(r)@w      # matrix notation of a portfolio volatility\n",
    "    sol=minimize(vol,init_guess,args=(cov_matrix,r,),method ='SLSQP',bounds=bnds,constraints=[cons1])\n",
    "    return sol.x\n",
    "def cov_matrix(r):\n",
    "    return r.cov()"
   ]
  },
  {
   "cell_type": "code",
   "execution_count": 51,
   "id": "3448de68",
   "metadata": {},
   "outputs": [],
   "source": [
    "# Now , roll ! we're going to choose a rolling window of 24 months : that means at each month , we're going to look back \n",
    "# 2 years ago to estimate the weights (using the optimization function GMV_w)\n",
    "r=rets_comp\n",
    "rolling_window=24\n",
    "windows=[(x0 , x0+rolling_window) for x0 in range(r.shape[0]-rolling_window)]\n",
    "w_estimations=[GMV_w(r.iloc[win[0]:win[1]],cov_matrix=cov_matrix) for win in windows]\n",
    "df_w=pd.DataFrame(w_estimations,index=r.index[rolling_window:],columns=r.columns)\n"
   ]
  },
  {
   "cell_type": "code",
   "execution_count": 52,
   "id": "838c7f4f",
   "metadata": {
    "scrolled": true
   },
   "outputs": [
    {
     "data": {
      "text/plain": [
       "Date\n",
       "2010-01         NaN\n",
       "2010-02         NaN\n",
       "2010-03         NaN\n",
       "2010-04         NaN\n",
       "2010-05         NaN\n",
       "             ...   \n",
       "2021-08    0.058362\n",
       "2021-09   -0.067472\n",
       "2021-10    0.046958\n",
       "2021-11    0.015372\n",
       "2021-12    0.042693\n",
       "Freq: M, Length: 144, dtype: float64"
      ]
     },
     "execution_count": 52,
     "metadata": {},
     "output_type": "execute_result"
    }
   ],
   "source": [
    "GMV_backtest=(df_w*r).sum(axis=1,min_count=1)\n",
    "GMV_backtest   # the backtest return series takes a while to run because the optimization program is solved for each \n",
    "               # rolling window \n",
    "               # First 24 returns are NaNs because of rolling ( when rolling , the first rolling window data points are NaNs)\n",
    "    "
   ]
  },
  {
   "cell_type": "code",
   "execution_count": 53,
   "id": "84b608a4",
   "metadata": {
    "scrolled": true
   },
   "outputs": [
    {
     "data": {
      "text/plain": [
       "Annualized return     0.083213\n",
       "Annualized vol        0.128815\n",
       "Sharpe Ratio          0.773310\n",
       "Historic VaR          0.049742\n",
       "Expected shortfall    0.081205\n",
       "Skewness             -0.417877\n",
       "Kurtosis              0.504217\n",
       "MDD                   0.173368\n",
       "dtype: float64"
      ]
     },
     "execution_count": 53,
     "metadata": {},
     "output_type": "execute_result"
    }
   ],
   "source": [
    "# compare the GMV backtest results to cac40 return series \n",
    "perf_risk(GMV_backtest.dropna())"
   ]
  },
  {
   "cell_type": "code",
   "execution_count": null,
   "id": "4e5c6cbe",
   "metadata": {},
   "outputs": [],
   "source": [
    "# A little subtilty here is that the previous equaly weighting scheme return series as well as CAC 40's were not obtained by \n",
    "# rolling . To be able to compare these to the GMV backtest results . We should slice the period so as to begin when \n",
    "# GMV return series begin ( i.e.: after eliminating the NaNs which corresponds exactly to the rolling window size )"
   ]
  },
  {
   "cell_type": "code",
   "execution_count": 54,
   "id": "7733dfb1",
   "metadata": {},
   "outputs": [
    {
     "data": {
      "text/plain": [
       "Annualized return     0.128954\n",
       "Annualized vol        0.162607\n",
       "Sharpe Ratio          0.898166\n",
       "Historic VaR          0.062158\n",
       "Expected shortfall    0.093018\n",
       "Skewness             -0.084392\n",
       "Kurtosis              4.986650\n",
       "MDD                   0.269411\n",
       "dtype: float64"
      ]
     },
     "execution_count": 54,
     "metadata": {},
     "output_type": "execute_result"
    }
   ],
   "source": [
    "perf_risk(r_eq.iloc[rolling_window:])    # we ignore the first 24 months as they are NaNs for the backtested GMV retun series \n",
    "                                         # because of the rolling process (The 2 return series compared sould have the same \n",
    "                                        # length)  "
   ]
  },
  {
   "cell_type": "code",
   "execution_count": 55,
   "id": "f741077c",
   "metadata": {
    "scrolled": false
   },
   "outputs": [
    {
     "data": {
      "text/plain": [
       "Annualized return     0.085133\n",
       "Annualized vol        0.157423\n",
       "Sharpe Ratio          0.644913\n",
       "Historic VaR          0.060975\n",
       "Expected shortfall    0.090730\n",
       "Skewness             -0.023284\n",
       "Kurtosis              3.165839\n",
       "MDD                   0.264624\n",
       "dtype: float64"
      ]
     },
     "execution_count": 55,
     "metadata": {},
     "output_type": "execute_result"
    }
   ],
   "source": [
    "perf_risk(cac40.iloc[rolling_window:])   # we ignore the first 24 months as they are NaNs for the backtested GMV retun series \n",
    "                                         # because of the rolling process (The 2 return series compared sould have the same \n",
    "                                        # length)"
   ]
  },
  {
   "cell_type": "markdown",
   "id": "dfd1ca44",
   "metadata": {},
   "source": [
    "Again , the GMV outperformed CAC 40  and is clearly much less riskier than CAC 40 (max drawdown drastically less , less kurtosis , vol , VaR ... )  . We're going to test the other strategies to determine the wining one ."
   ]
  },
  {
   "cell_type": "markdown",
   "id": "0f4f795c",
   "metadata": {},
   "source": [
    "### 3-Constrained GMV "
   ]
  },
  {
   "cell_type": "code",
   "execution_count": 56,
   "id": "61e0d780",
   "metadata": {
    "scrolled": false
   },
   "outputs": [
    {
     "data": {
      "image/png": "iVBORw0KGgoAAAANSUhEUgAAA9sAAAGNCAYAAAABwWIfAAAAOXRFWHRTb2Z0d2FyZQBNYXRwbG90bGliIHZlcnNpb24zLjQuMiwgaHR0cHM6Ly9tYXRwbG90bGliLm9yZy8rg+JYAAAACXBIWXMAAAsTAAALEwEAmpwYAADORElEQVR4nOzdd3hbhbk/8O/RnpbkIe+dxNlkAEnYM4GwLrOMBiihgw4ooxQuP0pbuJeWwi1llEKhZZQNCWWvlBVWSMggwxnee2tv6fz+ODqyZcuaR7YsvZ/n4Wljaxwv6bznXQzLsiwIIYQQQgghhBAiGNF0HwAhhBBCCCGEEJJtKNgmhBBCCCGEEEIERsE2IYQQQgghhBAiMAq2CSGEEEIIIYQQgVGwTQghhBBCCCGECIyCbUIIIYQQQgghRGAUbBNCyBQ66aST0NDQEPG/P//5zwCAQCCAW265BYcddhhOPPFEOBwO/PjHP8aiRYtw6aWXpvT8LMvipZdegtvtBgBs2LABK1asSPnrimTdunU49thjYbPZJnxuxYoV2LBhQ1qeN51fU7zG/wwns3fvXlx77bU46qijsHTpUpx//vl44403puw4Ozs78eGHH4b+fdJJJ+Ff//oXAMBut+Pll1+esmOZquf7/PPP8eMf/xhHHXUUFi5ciNWrV+Pee+8N+z3dsGEDGhoacNZZZ0V8jLvvvhsNDQ3417/+hS+//BINDQ3YtWtXxNv+7ne/w3nnnZfwcQ4PD6f8u9DY2IivvvoqpccghBCSPAq2CSFkit1www3YvHnzhP9+9KMfAQC2b9+OjRs34oEHHsDzzz+PDz/8EF988QWef/553H///Sk99zfffIPbb78dPp8PALB27Vq8/fbbqX5Jk+rv78d9992XtsfPVON/hpF88sknuOSSS1BaWorHH38cGzduxFlnnYVbb70VTzzxxJQc56233opt27aF/v3KK6/g/PPPBwD885//nPTY02Eqnu/JJ5/ET37yE8yfPx//+Mc/8N577+Hmm2/GRx99hKuvvhqBQCB0W4lEggMHDqC9vX3C43zwwQdgGAYAsHLlSpSWluKdd96ZcDu/34/33nsP55xzTsLH+qc//QkffPBBwvcb66c//SkOHTqU0mMQQghJnmS6D4AQQnKNWq1GUVHRpJ+3Wq0AgOOOOw4Mw8BqtaKwsBALFy5M+blZlg37t0KhgEKhSPlxJ1NeXo4XXngB55xzDpYsWZK258k043+G49ntdtxyyy344Q9/iJ///Oehj1955ZXweDx44IEHcO655yI/P3/KjhlA2PON/11Jt3Q/X1NTE+69917ceeedOPfcc0MfLy8vx+LFi7F69Wp8/PHHOOmkkwAAGo0GZWVl2LRpE37wgx+Ebr9nzx74fD6UlpYCABiGwVlnnYW33noLv/71r8Oe84svvoDZbMaZZ56Z8PFO9fefEEKI8CizTQghGWTDhg348Y9/DACYO3cuHnzwQfz+979Hd3c3GhoaQqXXr732GtasWYPDDjsM5557Lj7++OOwx3nuuedCn7/ggguwdetWdHZ24vLLLwcALFu2DBs2bAgrub700ktx9913hz3O//zP/+Cqq64CANhsNtx+++048sgjsWLFClx77bXo6+uL+vWsWbMGK1aswO233w6v1xvxNrfccguuvfbasI+NLWd+8MEH8Ytf/AL33nsvli9fjpUrV+Lpp5/G1q1bcdZZZ2HJkiW4+uqrYTKZwh7jb3/7G1asWIEVK1bgz3/+M/x+f+hzO3fuxMUXX4xFixZh9erV+Pvf/x7Kam7YsAHnnnsubrrpJixbtgx//etfIx73G2+8gbPOOguLFy/GmjVrsHHjxtD9x/8Mx/voo49gtVpx5ZVXTvjcpZdein/84x/Iy8sDwFUH/OpXv8KqVauwbNkyXHfddejv7w/dnv+9OO+883DYYYfhwgsvxPbt20Off/HFF3Hqqadi4cKFOO200/Daa6+Fvu9btmzBP/7xj1CAyX/fN2zYgIceegh79uxBQ0MDOjs7sW7dOvzxj38MO9aGhgZ89NFHoX8/8cQTOPHEE7F06VJccskl2LFjR+hzt9xyC37729/i1ltvxdKlS3HSSSeFvreRnu/gwYNYt24dli5dipUrV+K2226Dw+GI+LOIx6uvvorKysqwQJtnNBrxxhtv4IQTTgj7+CmnnBJWZg8A77//PlavXh12EeWcc85BV1fXhFLyt956C8ceeywKCgoiHtMHH3yAM888E4sWLcJJJ52Exx9/HAD3O79x40a89957aGhoAMD9bO655x6ccMIJOP7442E2m7Fr1y5cccUVWLp0KRYtWoQLLrgA3377LQCujaOrqwt33nkn1q1bBwAYGBjAddddh6VLl+KYY47BbbfdFrowBADd3d1Yv349lixZgtWrV+PFF18MPf9vf/vbCW0sr732Gk466SS6MEAIIZOgYJsQQjLI2rVrcc899wAANm/ejKuuugo33HADSkpKsHnzZqxduxafffYZ7rrrLlx77bV444038L3vfQ/XXnttKMB69dVX8cc//hE//OEP8frrr2PFihX48Y9/DLVaHQr8PvzwQ6xduzbsuc8880y8++67oRPnQCCAd999N9S3+pvf/AYtLS14/PHH8cwzz4BhGFx99dWhkvTJ/O53v0NbWxv++c9/Jv19+eijj+BwOLBx40ZcfPHF+MMf/oA777wTd9xxB5544gns2bMHTz31VOj2JpMJmzdvxlNPPYU//vGPePHFF/HYY48BAIaGhrB+/Xoce+yxeOONN3DbbbfhueeeCwU6ANdLrVarsXHjRvzXf/3XhON5/fXXceutt+KSSy7B66+/jnXr1uH222/Hxx9/HPFnON6+fftQW1sLjUYz4XMajQbLly+HRCKB1+vFlVdeiZ6eHjz22GN46qmn0NfXh5/97GdhAc7999+P6667Di+++CKkUil+85vfAOCysHfeeSduueUWvPfee1i3bh1uueUWtLa24rbbbgsFxa+88krYMaxduxZXXXUV5s6di82bN4eyuNG88MILePrpp3HHHXdg48aNOP7443HFFVego6MjdJtXXnkFxcXFePXVV3HBBRfgL3/5C3bv3h3x+W688UbU1tbi9ddfx9/+9jd8+eWXoZ9hMrZv344jjjhi0s9XVlZCJAo/LVq9ejW2b9+O4eHh0Mf4YHusWbNmYcGCBWGl5B6PBx988MGkJeSDg4O4/vrrccUVV+Ddd9/FzTffjPvvvx9ffvklrrrqKpx++uk48cQTsXnz5tB9Xn75ZTzwwAN46KGHIJFI8MMf/hDz5s3Dv//9b7z00ktQq9W44447AHABe0lJCW644YbQ3/0vfvELsCyLF198EY888gja29tx/fXXAwB8Ph9+9KMfQSQS4aWXXsItt9yCv/zlL6HnPvvss/Htt9+ip6cn9LE33ngDZ555ZsTqDUIIIRRsE0LIlPvDH/6ApUuXTvivu7sbCoUilNEsKiqCWq2GWq2GWCxGUVERFAoFHn30Uaxfvx5nnHEGqqqqcPHFF+Occ84JBbPPPfccvve97+GCCy5AdXU1brrpJlx88cWwWCzQ6XQAuHLh8eXjp59+OoaGhkJB+9atW2E2m3Hqqaeio6MDb731Fu677z4sXrwYc+bMwZ/+9Cd0dnbis88+i/r1VldX46c//SkefvjhsMArEXK5HP/93/+NqqoqrFu3Dn6/H9///vdx+OGHY/ny5Tj++OPDelPFYjH+9Kc/Ye7cuTjhhBNwzTXX4LnnngMAPPvss1i0aBF+9rOfoaamBscffzxuuOGGCX3SP//5z1FdXY2ysrIJx/Pkk0/ioosuwqWXXoqamhp8//vfx/nnn4+//e1vEX+G41ksloiB9nibN29Ge3s77rvvPixatAiLFi3C/fffj7179+KLL74I3e773/8+jj/+eMydOxfr16/HgQMH4PF40N3dDZFIhPLycpSXl+Oyyy7DE088gfz8fGi1WkilUiiVygnl6gqFAiqVKvR7JxaLYx7ro48+ihtvvBEnnHACampq8JOf/ATLly8Pfd8BLqD95S9/ibq6Ovz0pz+FXq/Hnj17Ij5fV1cX8vPzUVZWhiVLluCRRx7B2WefHfM4JjM8PAyDwRD2sZ/97Gdhf4P8RQre7NmzUVlZGcreNzU1wWw24/DDD5/w+GeffTbee++90L8//vhjiEQinHzyyRGPp7+/H16vF6WlpSgvL8dpp52GJ598ErNnz4ZarYZCoYBMJgtrOTn99NOxePFiLFq0CC6XC1dffTVuuukmVFVVYd68ebj00ktDfwd6vR5isRhqtRp6vR5fffUV9u/fj3vvvRdz5szBokWLcO+99+Kzzz7DgQMH8NVXX6G1tRV//OMfMWfOHJx00kn4xS9+EXruZcuWoaKiIjTjYXh4GF999dWkQ+QIIYRQzzYhhEy5H//4xxGDBqPRGNf9Dx48iJ07d4Zl+bxeL2prawFwAcHY8mSGYfCrX/0KANDb2zvp4xoMBhx99NF45513sGzZMrz11ls48cQTodFo8M033wAATjvttLD7OJ1OtLS0RJ24DQDr16/HW2+9hTvuuAP/+Mc/4vo6xyovL4dEwr1l8RcJKioqQp+XyWQYGRkJ/bu4uDgsG7to0SL09/fDYrHg0KFD2LJlC5YuXRr6fCAQgMvlCj2GUqmM2ld/6NChCSXgy5cvx1tvvRXX12MwGGCxWGLe7uDBgygrK0NxcXHoYyUlJSgvL8fBgwdx9NFHAwBqampCn+eDeJ/Ph2OPPRbLli3DOeecg9mzZ+OEE07AeeedF7oYIBS73Y7u7m7cfvvtocwqwGV3ZTJZ6N/V1dVh91Or1ZNWRtx00034/e9/j+effx7HHHMMTj/9dJxyyikRbzv2Z1lWVhbx52AwGGA2m8M+dscdd8DpdAIA7rzzTng8ngn3O/XUU7Fp0yacf/75eO+993DKKadMyIADXGXIPffcg507d+Kwww7Dm2++idNOOy3s6x9r3rx5OOuss7B+/XpUVlbihBNOwDnnnIPCwsKItweAqqqq0P8vKCjAhRdeiGeffRaNjY1obW3Fvn37woa8jXXo0CE4nc6Ik/pbWlrQ2dmJ8vLysAsvY7+vAHdB4a233sL69evx9ttvY9asWZg9e/akx0sIIbmOgm1CCJliBoNhQtCRCL/fjxtvvHFCgMsHo1KpNOmyzrPOOgv33HMPbr75Zrz//vu48847Q88plUqxcePGCY/NZ8ujkUql+N3vfodLL70Ur7/+etjnIh3r+ACM/9rGihTwTPY5PgCRSCTw+XxYvXo1fvnLX064n1arBcBl0qOJNFSOZdlJA53xFi9ejMcffxw2m21ChttqteKnP/0pbr755kmH17EsG1ZGLpVKI95GoVDgn//8J7799lt89NFH+Pjjj/H000/j0UcfxapVq+I61smM/RnxX/cf/vAHzJ8/P+x2Y7+GSIHnZP2+l1xyCU488UR88MEH+Oyzz/DLX/4S//Vf/4W77rprwm35PnQg8u8KwH3Px6/BGnuBS6VSRbzf6tWrsW7dOjidTnz44Ye44YYbIt6usLAwdLFq1qxZ+OSTT6JOlWcYBvfeey/Wr1+PTZs24ZNPPsFzzz2H//3f/43YugCEfy/7+/tx3nnnob6+HscddxzOOussDA0N4aabbop4X5/Ph7KysojtHAUFBXj11Vdj9l6fffbZePjhh9He3o4333yTstqEEBIDlZETQsgMU19fj66uLlRXV4f+e+edd0LZvJqaGuzZsyfsPmeccQbee++9mEH4ySefDKvViqeffho+nw/HHXccAKCurg5erxdOpzP0nEVFRbjnnnvQ2toa13EvW7YM3/ve93D33XeHZRClUmnYkCa73R7WI5uMvr6+sCzmzp07UV5eDpVKhfr6ejQ3N4d9/5qamvDwww9HDeDHqqurCxv+BXA9wXV1dXHd/5hjjkF+fn7EwOeFF17A9u3bUV5ejvr6enR3d4cNROvr60N3d3dcz/X111/jkUcewfLly3HTTTfhzTffxPz588PKnScz/ndFJpOF/ZzGtgRotVoUFRWhr68v7Pv6r3/9K2abQaTns9ls+P3vfw+GYbBu3To89thjuP322yfdOz32OcvLyyPe5sILL0Rzc3PEVXd+vx8DAwMR77do0SLo9Xq8+OKL6OrqirrD/ZxzzsEHH3yATz75BEVFRRHLzXmNjY24++67MW/ePPz85z/Hyy+/jNNPPz30dxzrb/WDDz6ATCbDk08+ifXr1+Ooo44KVa5ECprr6+vR398PtVod+l5JpVL84Q9/wPDwMObMmYPu7u6wv73vvvsu7DFqamqwePFivPrqq/juu++SmrJOCCG5hIJtQgiZYna7HQMDAxP+Gz9NezJXX301XnjhBTz//PNob2/HSy+9hAcffDAUZFx55ZV44YUX8Prrr4f6fQcHB3HEEUeEsnd79uyB3W6f8NhKpRInn3wyHnroIaxZsyaUiayrq8NJJ52Em2++GVu3bkVTUxN+/etfY+fOnXEHmABXGiwWi8OmSi9atAhff/01PvzwQzQ3N+P//b//F3fQOxk++9/Y2IgPP/wQjz76KH74wx8CAC677DK0tbXhrrvuQnNzM7744gv85je/gVKpjPt5f/SjH+Gll17Cc889h9bWVjz//PN45ZVXQtPeY1EoFPjtb3+LRx99FH/4wx+wf/9+NDU14ZFHHsFf/vIX/OpXv0J+fj6OOuooNDQ04IYbbsDu3buxe/du3HjjjaipqYkrM61UKvHwww/jpZdeQldXFz777DM0Nzdj0aJFALgy7ra2tohT5VUqFQYHB9HR0QGfz4eFCxfirbfewtatW9HY2Ijf/e53YZnqq6++Gn/961/x9ttvo6OjA3/961/x7LPPhtobYhn7fAqFAlu2bMGdd96JQ4cO4dChQ/jwww9Dx52M2bNn47bbbsOvf/1r/OlPf8KePXvQ2dmJd999FxdeeCF27dqFZcuWTbgfwzA45ZRT8MADD+DEE0+MWEXAO+WUUzAyMoK///3vMXdr63Q6PP/886FZBtu2bcOOHTtCX6NKpUJXVxe6uroi3l+v12NwcBAff/wxOjs7sWHDBjzyyCMAELqYpVar0dTUhKGhIRx99NGYPXs2rr/+euzevRuNjY341a9+hY6ODpSXl2PlypWor6/HrbfeigMHDuCzzz4LG5DG4+dDLFu2DCUlJVG/RkIIyXUUbBNCyBT7v//7PxxzzDET/hs7jCiaU089FbfffjuefPJJrF27Fk888QTuuOMOnHHGGQC4LPZ1112H+++/H2eddRa++eYb/P3vf0d+fj7mzJmDE088EVdddRVeeumliI9/1llnweFwTMha/fGPf8TChQvxs5/9DBdccAGsVmvYiqp4aLVa3HbbbWEfO+ecc3Duuefi5ptvxmWXXYZ58+ZFDHoSUV9fjwULFuCyyy7D7bffjiuuuAIXX3wxAK7n+fHHH8fu3btxzjnn4Oabb8batWsnHFc0J510Eu644w48+eSTOPPMM/Gvf/0Ld911V0IDvE455RQ88cQTOHjwIK644gpccMEF+M9//oN77rkHV1xxBQAu0PvrX/+K/Px8rFu3DldeeSWMRiOefPLJSXuBx1q8eDH+53/+B//85z9x2mmn4fbbb8cPfvADnH/++QC4Uu1vv/0WZ5999oQS+DVr1kCtVmPt2rXYu3cvrrrqKhxzzDFYv349fvKTn+Dss88OC7Yuv/xyXHXVVfjTn/6EtWvX4p133sEDDzyA5cuXx/X9GP98Dz74IJxOJy6++GJceOGFkMvluO++++L99kZ0ySWX4Omnn0ZnZyd+/OMf47TTTsM999yD+fPn47XXXsNFF10U8X6nnnoq7Hb7hCnk4ykUCqxZswZ79+6NGWyXlpbiwQcfxIcffogzzzwT1157LU455RT85Cc/AQCce+65GBwcxNq1ayNm3U8//XRcdNFFuOWWW3D22WfjxRdfxF133QWGYbB7924A3M/k3//+N9avXw+RSIRHHnkEer0el19+Ob7//e9Dr9fjscceg1gsBsMweOihh+ByuXD++efjrrvuwoUXXjjh4sLatWvh9XpTGlZHCCG5gmFpOSIhhBBCSE4bGhrCrl27wmZBvPPOO7j33nuxadOm0McOHjyI888/H5s3bxZ80B4hhGQbGpBGCCGEEJLjGIbBtddei+uvvx6rV69GX18fHnrooVDFzNDQEL755hv861//wplnnkmBNiGExIEy24QQQgghBB999BHuv/9+tLS0QKfT4ZxzzsF1110HqVSKjo4OnHPOOairq8Pf/va3qCvKCCGEcCjYJoQQQgghhBBCBEYD0gghhBBCCCGEEIFNW8+2y+XC7t27UVRUBLFYPF2HQQghhBBCCCGEJMzv92NgYAALFy6EQqGY8PlpC7Z3796Nyy67bLqenhBCCCGEEEIISdmzzz6Lww8/fMLHpy3YLioqAsAd2Ng9nYQQQgghhBBCSKbr7e3FZZddFoptx5u2YJsvHS8pKUFFRcV0HQYhhBBCCCGEEJK0ydqiaUAaIYQQQgghhBAiMAq2CSGEEEIIIYQQgVGwTQghhBBCCCGECIyCbUIIIYQQQgghRGAUbBNCCCGEEEIIIQKjYJsQQgghhBBCCBEYBduEEEIIIYQQQojAKNgmhBBCCCGEEEIERsE2IYQQQgghhBAiMAq2CSGEEEIIIYQQgVGwTQghhBBCCCGECIyCbUIIIYSQGAZNTtz91BaYrO7pPhRCCCEzBAXbhBBCCCExNLYN44tdPXjtk0PTfSiEEEJmCAq2CSGEEEJisDt9AIC3v2iFzeGZ5qMhhBAyE1CwTQghhBASg9PtDf6vD2993jLNR0MIIWQmoGCbEEIIISQGu9MHhgGWzTXi3582w+X2TfchEUIIyXAUbBNCCCGExOBwe6GUS/C9U+bA6vDg/a/bpvuQCCGEZDgKtgkhhBBCYnC6fFDJJZhfW4AFdQXY+PEheH2B6T4sQgghGYyCbUIIIYSQGOwuL1RKKQDgopPnYNDswsfbOqb5qAghhGQyCrYJIYQQQmJwBDPbALC0oQh15Tq88p+D8AfYaT4yQgghmYqCbUIIIYSQGBxjMtsMw+Cik+ege9COL3Z1T/OREUIIyVQUbBNCCCGExDA2sw0AKxeVorxIg1c2HQTLUnabEELIRBRsE0IIIYTE4HB5oQ5mtgFALGJwwUmz0dxtxrbG/mk8MkIIIZmKgm1CCCGEkBgcLh+UYzLbAHD8sgoU6pV4edOBaToqQgghmYyCbUIIIYSQKPz+AFwef1hmGwCkEhHOO2EW9rYMY0/z0DQdHSGEkExFwTYhhBBCSBROtw8Awnq2eaeuqIJOI6PsNiGEkAko2CaEEEIIicLuCgbbCumEzylkEpxzXD22Nfajucs81YdGCCEkg1GwTQghhBAShcPlBQCoFBMz2wCw9qhaqBQSym4TQggJQ8E2IYQQQkgUjlBmO3KwrVZKccbRtfh8VzcGRpxTeWiEEEIyWELB9q5du7Bq1aqIn7vzzjuxbt06QQ6KEEIIISRTjGa2J5aR845cUAKWBVq6qZScEEIIJ65gm2VZvPzyy7jqqqvg9XonfP6TTz7B888/L/jBEUIIIYRMN3uMzDYAVBi1AICOPuuUHBMhhJDMF1ew/cADD+D555/HNddcM+Fzw8PDuOuuu3DJJZcIfnCEEEIIIdPNGcxsq6NktjVKKQxaOTr7bVN1WIQQQjJcXMH2xRdfjA0bNmDhwoUTPvff//3f+NGPfoTKykrBD44QQgghZLrxmW1llMw2AFQWa9HRT5ltQgghnLiC7eLi4ogff/bZZ8EwDC688EJBD4oQQgghJFM4XF6IRQzkUnHU25UbNejst4Fl2Sk6MkIIIZks+iXaKJqamvDEE0/glVdeEfJ4CCGEEEIyitPlg0ohAcMwUW9XadTC7vTCZHXDkKeYoqMjhBCSqZIOtt9//30MDw9j9erVAACPxwOfz4fDDz8cW7duFewACSGEEEKmk93ljTqJnFdh1AAAOvqtFGwTQghJfs/2Nddcgx07dmDr1q3YunUrbrjhBixfvpwCbUIIIWQG8vsDuO2Rz7HjQP90H0rGcQQz27FUFnMTyWlIGiGEECCFYJsQQggh2cPm9GLXoUHsbRme7kPJOFywHTuzXaBTQCkX0/ovQgghABIMtlesWDFp5vrKK6/EM888I8hBEUIIIWRqOYITt+3BNVdklMPtjSuzzTAMyo1aymwTQggBQJltQgghhABwuoPBtpOC7fEcTl/UHdtjVRg16KTMNiGEEFCwTQghhBBQsB2Nw+2NuWObV2nUYtDsgoMqBAghJOdRsE0IIYSQULDNl5OTUfYEM9sA0DVApeSEEJLrKNgmhBBCSCgTa6PMdhivzw+fPxBXzzZAE8kJIYSMomCbEEIIIWMy2xRsj2V3ct8XlTy+YLukQA2RiKGJ5IQQQijYJoQQQgj1bE/G4ea+HyplfGXkUokIpQVqymwTQgihYJsQQgghgDO0+ssHlmWn+WgyhyPBzDYQnEjeT5ltQgjJdRRsE0IIIQSOYGY7EGDh8vin+WgyR6KZbYDr2+4ZtMPnD6TrsAghhMwAFGwTQgghJFRGDlAp+ViJ9mwDXGbb52fRO2RP12ERQgiZASjYJoQQQkiojBwA7DQkLcQZzGyrE8xsAzSRnBBCch0F24QQQggJlZEDlNkei89sKxPIbJcXcbu2aSI5IYTkNgq2CSGEEAKn2weZhDstcIzJcue6UM+2Iv7MtlopRX6egjLbhBCS4yjYJoQQQgicLh8K9UoAgI0y2yFOF3cRQipJ7JSJJpITQgihYJsQQgghcLpHg20qIx9ld/kSmkTOqyzWorPfRmvUCCEkh1GwTQghhJCwYNtBA9JCHC5vQpPIeRVGDRwuH4YtrjQcFSGEkJmAgm1CCCGEwOH2IU8tg1Qiosz2GI5kM9tGmkhOCCG5joJtQgghJMf5/QF4vH6oFFKoFVLYaUBaSNKZ7WJuInknTSQnhJCcRcE2IYQQkuOc7tH1VmqlhDLbYzhcvoR2bPPy8xRQyiWU2SaEkBxGwTYhZErtbRnC9X/+GM1d5uk+FEJIkGNMsK1SSGGnnu0Qh8ub0I5tHsMwqDBq0EETyQkhJGdRsE0ImTLNXWb8/vGvcKjTjKfe3jvdh0MICeIz2yq5BGqllDLbY9iTzGwD3ETyjj7KbBNCSK6iYJsQMiW6Bmz4zWNfQKmQ4qxj6/BtYz8aW4en+7AIIeB2SQOAUiHherYp2AYAsCwLZ5I92wA3kXzY4pqS6e4ujw+NbfSaSgghmYSCbUJI2vWPOPD//vYFAODOH6/C5afPg04jw7PvNU7zkRFCgPAycrVSSqu/glwePwIsoFIkG2xP3UTyNze34NcPbYbV4Un7cxFCCIkPBduEkLQyWd34zaNfwOny4nc/XIUKoxYKuQTnnTAbOw4MYE/z0HQfIiE5L1RGruCCbZuTppEDo/vGVYpky8iDE8mnoG/7UIcJgQCLviFH2p+LEEJIfCjYJoSkjc3pxR2PfYkBkwu/uXol6iv0oc+tPboGeq0cz1F2m5BpFyojl0ugVkjg8frh9QWm+aimn8M1ehEiGSUFaohFzJT0bfNDJ/tHKNgmhJBMQcE2ISQtXB4ffv/4V2jvs+C/rzwC82sLwj6vkElw/omzsevQIHY3DU7TURJCAMDh5jK4fBk5AColR+qZbYlYhLIiddoz2w6XFz1DdgC5G2x/uKUdL364f7oPgxBCwlCwTQgRnNcXwN1PfoP9bcO48bLlWD63OOLtTj+qBgatHM+9RydIhEynsWXkfGBJ67+4SeRA8pltgOvbTndmu6XbEvr//SPOtD5Xpnrr82Zs+qZjug+DEELCULBNCBFUIMDivue24dv9/fjZhUtwzGHlk95WLhXjgpNn47umQew6NDCFR0kIGcvp8kEiZiCViKEJZrZpIvloeb06ycw2wE0k7x2yw+dPX1k+X0Kep5ahfzj3Mts+fwCtPVa4PTRrgBCSWSjYJoQIal/rMD7f2Y11p8/D6hXVMW9/2soa5Ocp8Nx7+8Gy7BQcISFkPKfbB2VwvRWfxaVgezS7r0wxs+0PsOgZtAt1WBO0dJuh08gwp8qQk2XkHX1W+PwBON3+6T4UQggJQ8E2IURQ+4K7s9esjB1oA4BMKsaFJ8/GnuYh7DpIvdvTzebwoKMv/ZOTSWZxun1QBrO3fM82X0KdyxwCZLanYiJ5c7cZdWU6FOercrKMvKmTy+y7PD66aEsIySgUbBNCBNXYOozyIjV0Gnnc91m9ohqFOgWefa+RTpSmkd3pxa8f3ozbH/1iug+FTDGHywdVMLOtpjLyEGcws62QJ5/ZLi/igu109W37/AG09VhRV66D0aCE3enNuZ9dU5cJAMCygIem6BNCMggF24QQwbAsi8a2YcytyU/ofjKpGBeeMgf7Woex/QD1bk8Hry+Au5/agvZeK4bMLvjT2F9KMs/YMnI+i0vTyLnsvlIugVjEJP0YKoUUhTpF2jLbfAl1bZkOxnwVgNybSM5ntgHA5aaKDEJI5qBgmxAimJ4hO8w2D+ZWJxZsA8CpR1ahUK/Ec5TdnnIsy+LhV3Zg58FBLKovBACY7Z5pPioylcYG20q5BAwD2HIsOxqJw+VNaRI5r8KoRUd/ejLbLd1coMlltoPBdg4NSQsEWLR0m6EO/pycFGwTQjIIBduEEME0to4AAOYlmNkGAKlEjO+dMgf720bw7f5+oQ+NRPHihwew6ZsOXLK6AWceUwsAMFnd03xUZCqNDbZFIgYquSTUr5zLHC5f0ju2x6oo1qCr35qWC4lNXWbIpGKUFWlQZFACyK31X92DNrg8fsyrLQAAuD00JI0Qkjko2CaECKaxdRgqhQSVxdqk7n/yEVUwGpR49l3Kbk+Vj7Z14Nl3G3Hi8gpcsroBei3Xa2+yUbCdS7igcjSDq1ZKc67vNxIhM9tOtx9DZpcARxWupcuC2tI8iEUM9Bo5ZBJRTpWR8yXkC+q4YNtJ678IIRmEgm1CiGAa24bRUGWAKMn+RqlEhItOacDBDhN2Nw0JfHRkvO8ODeKBF7dj8axC/OKipWAY7mQdoMx2rhmb2Qa4PmMKtrmLEKlMIuelayI5y7LcJPJyHQCAYRgUGVQ5FWw3d5khEYswu1IPgHq2CSGZhYJtQoggHC4v2nosCQ9HG+/4peWQSkT4anePQEdGIunos+J/ntyC0kI1br3iCEgl3NtBKLNNwXbOYFkWLk94sK1WSkM7pnOZw+1Nacc2r8LIVfsIPZG8f8QJu9OL2mCwDSDn1n81dZlQU5YHTXCKvovKyAkhGYSCbUKIIA62mxBgkXKwrZBLcNjsImzZ20ul5GkyYnXht49/BalEhDuuXgWNShb6nFIugUwigpnKyHOGy+MHyyIs2NZQGTkAwO4UJrNt0MqhVkgEz2w3dwWHo5XlhT5WZFDmzIA0lmXR1GlGfbkutJ6NMtuEkExCwTYhRBD72obBMEBDlSHlxzpyfjF6hxzo6EvPqpxc5nL78PsnvobZ5sZv1q9AcXBVEI9hGOi0curZziH8iq+xvckqhQR2GpAGp1uYnm2GYVBh1KJzkonkgQCL9l4LGluHE3rclm4zRAxQXToabBsNKljsnpwIOgdGnLA5vVywLRMDAJyU2SaEZJDU30EIIQTccLSqYi3UytSzQEfMLwFe3YUte/tQVZIX+w4kbhs/aUJTpwn/feWRmF0Z+cKIXiOnMvIcwq9KmlBGnuOZbX+AhdPth0ouzKlSRbEG2/f3g2VZDJicONhhwsH2Ee5/O0yhn8NDvzoR1XG+7jV3mVFu1EAhGz1Gftf2gMmZ9LDKmaKpywSAW3vG//66aUAaISSDULBNCElZIMCisW0ExxxWJsjjFeqVqCvXYcueXlxw0mxBHpNw+obtKMhTYOXC0klvo9fK0zI1mWSmiMG2Qgqny4tAgE164OFMx39fVAJcQAS4vu1N33Tg8t+9F7qYJREzqC3T4aTDK1FdosUjG3bhy+964g+2u80TVi0ag+u/+oYdORBsmyESMagp00Ei5oo1nW7KbBNCMgcF24SQlHUN2GB3ejG3OrV+7bGOnF+Clz7cD7PNDV1wQjZJnc3hDevRjkSvkYfW6ZDsFwq2x63+CrCAyyPMnumZyBHM7AuV2T58XjG+2t2D8iIN5lTqMbvKgNqyPEgl4tBtPtrWiS939eDiUxtiPp7V4cHAiBNnHq0L+zjfGjKQAxPJmzrNqDRqIJdy30OZRJQT5fOEkJmDerYJISnbF+wznFuTer82b8WCEgRYYOu+PsEekwA2pxcaVfTgSa+Vw2xzIxCgAXW5wBHszVbJR38v+ADblsOl5A6BM9s1pXm499rjcP0ly3DGMXWYU2UIC7QBYNWiUjR3m9E7ZI/5ePxwtNqy8GDboFVAImbQlwND0pq7TKG1ZwA3YNNFZeSEkAxCwTYhJGWNrcPQqqQoL9II9pj1FTrk5ymwZW+vYI9JAJvDE1qRMxm9Rg5/gM3pQCuXRMps878jjhwekmYXOLMdj1WLuPaOr3bHft1r6Y4cbItEDIr0Kgxk+fqvEYsLwxY36iv0oY9xwTaVkRNCMgcF24SQlDW2DaOhOh8MI1xvJ8MwOGJ+Mbbv74fXRydPQrE5vdAoo5eR82X7tP4rN0QekMb9/1weksZ/X4QY+hivkgI1akrz8NXunpi3be4yIz9PAb12YptNkUGJ/iwvI28KZvbrx2a2ZeLQz40QQjJBQsH2rl27sGrVqtC/h4aGcMMNN2DVqlVYuXIlbr75ZpjN1OdHSC6xOTzo6LNNGNIjhCMXlMDp9uO7piHBHztXxVtGDoAmkucIp2tisM2XkdtduRts8xcalFOY2Qa47PbelqGYf3/NXeawEuqxjAZVDgTbJgAI+x4oZRLq2SaEZJS4gm2WZfHyyy/jqquugtc7+sZ72223QSwWY9OmTXj//fdhsVjw+9//Pm0HSwjJPI1tIwCE7dfmHTa7CDKpGN/soVJyIXh9frg9fgq2SRiH2weGQWhPMTBaRp7LmW3HNGS2AS7YZlng6yivex6vHx39tsmD7XwVhi3urK4Kau4yo7RQHTbATyEXUxk5ISSjxBVsP/DAA3j++edxzTXXhD4WCAQgEonw85//HCqVCnl5ebjwwguxbdu2tB0sISTzNLYNQyRiJt3ZnAq5VIylc4qwZW8vWJaGdaXK5uACp1hl5PpgGbmJyshzgtPtg1IuCWsD4QMYRw4H207X1PdsA9wgteJ8VdRS8vZeKwIBFnVlk2W2ufVf2dy33dRpDishBwCFjAakEUIyS1zB9sUXX4wNGzZg4cKFo3cUifDXv/4V1dXVoY99+OGHmDdvnvBHSQjJWI2tw6gpzUtbqeUR80vQP+JEW681LY+fS/iBZ7EGpGlVMohEDAXbOcLp8k34++V7tm25XEbu8kEkYiCXiWPfWEAMw2DVolLsODAAxyTff75fOVpmG0DWlpLbHB70DTsmfP0KmQQu2rNNCMkgcQXbxcXFMW/zxBNPYNOmTbjppptSPihCyMzgD7A40D6Sln5t3hHzudefr/fEHhhEorM6PAC4YDoakYiBTi2jMvIcwWe2x5JKxJBJRLA7czdL6HB5oRqX8Z8qKxeWwucPYNu+/oifb+k2QymXhHZqj2c0cB/vG87OzHZzcBL72EnkAF9Gnru/s4SQzJPyNHKv14vf/OY3ePLJJ/HUU0+hvr5eiOMihMwA7b0WON1+zK0WvoScl5+nwOxKPb7ZQ/u2UxXKbMfo2Qa4ieQ0jTw3OFxeqBQTK1PUSumkmdVc4HD5BNuxnai5NfnQa+T4cpJS8uYuM2rL8iASRb4QUKBTQMQAA1ma2W7qnDiJHKAyckJI5kkp2LbZbLjqqquwe/duvPLKK1RCTkiOaWwdBsCdGKbTkQtKcKBjBCNWV1qfJ9uN9mzHDiD0WjlltnNEpMw2wAXbubxrnc9sTwexiMGKhSXYuq9vwpCzQIBFa8/kk8gBQCIWoUCfveu/mrvMKNQpQmsKefyANJrxQQjJFCkF2zfccAMCgQCeffbZuErNCSHZZV/rMPRa+aSljEI5cn4JWBbYupey26mwObkyck2MMnKAC7ZHKLOdEyYNthXSnB6Q5nD5pnwS+VgrF5bC6fZh58HBsI/3DtnhdPsnHY7G49Z/ZWcZeVOXaUIJOcCt/mJZwO2lvm1CSGZIOthubGzEJ598gl27duGoo47C0qVLsXTpUhx33HFCHh8hJIM1tnH92unuaawty0OhXokte2kFWCr4zHY8AYSeyshzRrTMdi7v2Xa4vFO+Y3usw2YXQimX4MvvwkvJ+X7l2iiZbYCbSJ6NmW2X24fOSdae8evraEgaISRTJPQusmLFCmzduhUAMHfuXOzfvz8tB0UIyXwmqxs9g3actrI69o1TxDAMjpxfjE1bO+Dx+iGTTu104Gxhc3K9ueJJ+jzH0mvkcHv8kwZiJHs43b6wXcU8lUKCvuHsC9biZXf5UFY0fb/7UokYR8wrxtd7evDTwGGhv9vmLjPEIgbVJdqo9zcaVBgydcLnD0AiTnlET8Zo7bGAZSf2awOAIvhaxfVtyyd8nhBCplr2vPoSQqbU/rap6dfmHbmgBG6PH7sODca+MYnI5vDE1a8NcGXkAKhvO8uxLAtHhNVfAGW2nS4f1BEuQkyllYtKYbZ5sK9lKPSx5i4zKou1kEqiX3Q05qsQYIEhc3bNumjqNAGYOIkcGBtsU2abEJIZKNgmhCRlX+swJGIGsyKc8KTDovpCKGRibNlDpeTJsjq8cfVrAwgNHqJS8uzm9QXgD7CT9mzbc7hn2z7JlPaptHyuEVKJKGwqeUt39OFoPKNBCSD7dm03dZmRp5ahQKeY8LnRMnKaSE4IyQwUbBNCJugZtMPnD0S9TWPbCOrL9VNW0i2TirG0wYhv9vbSpNkk2Z3ehDPbI5TZzmrOYFAyWWbb6wvAk4PDprw+P7y+QMTy+qmkUkhx2OwifPVdD1iWxYjVhWGLO85gmxtc2Z9lrQBNXWbUl+sizgpRyLjfYycF24SQDEHBNiEkzM4DA/jR3R/ipgc+RVuPJeJtfP4ADnaY0FCTvv3akRw5vwSDZheau8xT+rzZwub0xLVjGwAMfBk5ZbazGh+URNyzHfxYLpaSO1yTf1+m2qpFpegfcaK5y4yWLu41OdYkcgAoCmW2M2MiuT/Apjwl3OsLoL3XErGEHBi9aERl5ISQTDH97yKEkIzh9fnxyIadKNQpMGhy4pd//hgXr27ABSfOhnjMgJ2WbjM8Xj/mTVG/Nu/wecVgGGDL3r5JT7bI5GwOL7RxlpHnqamMPBfwQeVkmW3+Nobos7iyzmiwPb2ZbQBYsaAEDzPAl7t7Qpnb2rK8mPeTSsTIz5NPS2bb5fahtdeCli4zmru5/23ttcDt8SM/T47SQg3KCtUoLVSjrFCD0kI1SgpUMb/f7b0W+PzspJn9UBm5hzLbhJDMQME2ISRkw8eH0DVgx29/uBKzKvR4ZMMu/OudRny1uxe/vHgpqku4E7x9rcHhaNVTG2zrtXI0VBmwZW8vLlndMKXPPdOxLMv1bMdZRi6ViKBRSmlAWpaLVUYOYMb0bZttbtz77Db84qIloRLqZPHZ/EzIbOs0csyrLcBX3/WgqiQPxnxV3LMXuF3bUxNsd/RZ8dx7jWjpNqN70A6+20etlKKuTIc1K6uRp5KhZ8iOnkE7tu7rm9CmMqtSj19dthxlRZqIz9EUrGqqr5gk2OYz21RGTgjJENP/LkIIyQi9Q3a89MEBHL24DMvnFgMAbrn8CGze2YVHXt2FX/7fJ7h0TQPOO2EW9reOoFCvRKFeOeXHeeSCEjz99j4MmZ0o0E39889Ubq8fPn8grh3bPL1WTsF2lgsF2xGCSj7LaJshwfbOgwPYcYD7b/WK1FYSOoOZ7emeRs5btagUj/97N4bMLiysL4j7fkaDCgc7TOk7sDEe//du7GsdwpI5Rhy/rBJ1ZXmoLdOhyKCM2F8NcLvMe4cc6Bm0o3PAin9/0oQb7v8EN1y6HEcuKJlw+6ZOE5RyCUry1REfbzSzTWXkhJDMQME2IQQsy+LRjd9BLGZw9TkLwz53zGHlWFhXiL9t2IWn396HL7/rwYDJiYV18Z/wCWnxrEIAwKEOEwXbCeCzk/GWkQNcRo16trObM0oZuSZURh5fsO3y+HDzg59BLhVjVqUesyr0mFWpR4VRG9du91Txsxw6+qwpPxaf2Y50EWI6rFzIBds2pzeufm2eMV+FL77rRiDAQpTGn4HZ5saOgwM474RZuOKM+XHfT6WQoq5cFyoLP2FZJf7w1Bbc+Y+v8b1T5uCSNXPDfneau7hJ7JN9LXIZZbYJIZklM95FCCHT6qvdPdi6rw/rz14QMVut18pxyxVH4LMdXJbb6vBM2X7t8cqNXPNo14BtWp5/prI6uOAh3gFpAPdzb+2OPCSPZAeHO1guLZ/4e8FntuMtI+8esKOl24LyIjU2fdOONze3AADkMjHqy3WYVaFHfYUepQVqFOgVyM9TQCIWbk4rH2x39qf+2uDIsMx2cb4KdeW6ULAZL6NBCZ+fm2KezouTX+ziAvrjlpan9DjF+Sr88efH4m8bduHFDw/gYIcJN31/ObQqGfwBFs3dFpy2avKqBbGIgUwqhpMy24SQDEHBNiE5zun24bGN36GmNA9nHVMX9bbHLinHovpCfLClDScfUTVFRxhOo5RCr5ELckKdS2wODwDE3bMNAAaNHDsos53VopWRq5XBaeTO+LKEfG/wjZctR125Ht0DNhzsMOFQpwmHOkx496s2eLzNodszDDf1vkDHtaQU6BQozldhzcqaiJn2aFiWRXM3H2ynntl2ZlDPNu/oxWVo6TYnNByyKNi73jfsSGuw/emOLlQYNagpjT24LRaZVIxfXLQEc6oMeHTjd/jlnz/Bf19xBKQSETxeP+pjXGxQysU0II0QkjEy512EEDItXnh/PwbNLvxq3eFhE8cno9fKceHJc6bgyCZXbtRQZjtBfN+tRplAGblWDrvTC68vAKmENkVmo1AZebDXdSylXAIRE//qr4HgiimjQQWxiEFlsRaVxVqcdHglAMDvD6B70I7+EQcGTS4MmZ0YNDkxZHaha8CGnQcH4HD5oJBJcNqqmoS+jmGLC2abB3qNHH3DDni8fsikE7+meNkzaPUX79wT6rF4dmFCszKK84O7tkecmF+bnuMaMjuxp3kIl5zaMGlvdqIYhsFpq2pQV67D3U9uwc0PfoYj5nM93PXl+qj3VcgkVEZOCMkYmfMuQgiZcm09Fvz70yacemQV5tdOTw92MiqMGnz5Xc90H8aMYkumjFwzuv5rOobhkfRzuH2QScURL7QxDAOVQgpHnGXkAyYnZBIR8tSRL+iIxaJQAB4Jy7K47Dfv4kD7SMLBNj+l+pjDyvDm5y3oHrSnlGV1uLyQSkSQSpIP2IUmlYgT3gBRFPy7Tef6r893doNlgWOWpFZCHsmcKgPuv+EE3PPMVny+qxsyiQgVxsiTynkKmZgGpBFCMgalKgjJUSzL4q+v7oRKIcWVZy6Y7sNJSHmRBha7B9ZgaTSJzeYMlpEnMCBNr+WCbZpInr2cbl/U7K1aKYUtzsx2/4gj6uTpWBiGwZwqPfa3jyR83+YuMxhmNOBLdUiaw+XLmH7tVCjkEug0srSu//p0RxfqynSTXkRJlU4jx+9/tAqXrm7AeSfOjlmBpZBLQu0RhBAy3SjYJiRHbfqmA3tbhnHlmfMnzURlqvJgZqOL+rbjZnN4wTCAKoFeWD6zTRPJs5fT5YvaH61WSOMekDY44gz1CCerocqAjj5r3BPQec1dZpQWqFFfoQPDpD4kzeHyZcwk8lQVGVShEn+h9Q7Zsb9tBMemOBgtFrFYhEvWzMVlp82NeVulTAI3ZbYJIRmCgm1CcpDV4cE/39yDeTX5OGWaBp2loqKIC7ZpSFr8bE4vNEppQut/KLOd/RzuGMG2UhqazB1L/4gjVLacrDnVBrAscKjTlND9+CndCpkERQZVykPS7C4v1FkSbBsNSvSlqYx8885uANzwzEwhl4kps00IyRgUbBOSYViWxaMbdmF/23DanuOpt/bC5vTimvMXp3X3aroU56sgETM0JC0BVocnoeFoAGW2c4EzRrCtUkjiymx7fX6MWN0w5qeW2Z5daQAAHGg3xX0fm9OLvmFHaCVWhVGDzr7UXhu48vqZX0YOcAPrBkYcYFlW8Mf+bHsXGqoNoUFsmUApl9A0ckJIxqBgm5AM4/L48ebnLfh6T29aHt9sc+P9r9tw5tG1qC2Lf19rJhGLRSgpUFOwnQCb0wt1AsPRAK73US4TU2Y7izldsXu245lGPmDiypRTzWznqWUoLVTjQAJ92y3B4Wj8lOpKoxadAzYEAskHl3anN+H1Y5nKaFDB4wsIftGso8+K5m4zjsugrDbAvW7RgDRCSKagYJuQDMP3Klrs6Rn+1TtkB8sCS+YUpeXxp0p5kSbpMnKvL/dOxOwOb0I7tnl6jRxmymxnrViZbbUyvp7tsWu/UjWn0pBQsM3v164t56aPVxg18Hj9oQsAyXC4fVAn8feSifiss9B925t3dIFhgKMPKxP0cVOlkIlp9RchJGNQsE1IhuH7I/lVTULjT0Bn+iqnCqMGPYN2+BPMXu08OIDv3fY2ugdzKytudXigTWASOU+vlVNmO4vFDLYVUjjdvphZYj6QKzKk/royp1qPITO3hzsezV1m5OfJYdAqACC0GiqVvm2H05vQMMFMxv9MhJxIzrIsPt3RhYV1hSjQZdZ7iULGZbZTqWwghBChULBNSIbhM9vpWms1KFC553QrL9LA5w8kvD9216FBeH0BbNnTl6Yjy0z8gLRE6TVy6tnOYvEMSGNZ7nbRDIw4wDAQJPCaU8X3bceX3eaGo+lD/+ZXUCVb+cKyLBxuH1RZktnmqw2E3LXd2mNBZ78t7VPIk6GUc7vRPd7cq2AihGQeCrYJyTD2YGY7XcH2gMkJhUw840skQ+u/EuzbbgpOOf62MXeCbZZluWA7wZ5tIJjZpmA7K/n9AXi8/qiDwPiJ3LFKyQdMThi0CkglqZ9W1JXpIBEz2N8WO9j2eP1o77OGhqMBXN+3ViVNete2O5gVzZbMtlophVopRb+AZeSfbu+CSMTgqEWlgj2mUOQy7ufmpCFphJAMQME2IRnGGQq201NGPmhyosigBMPMvCnkY5Unsf6LZVk0dXL9nbubh3JmYi1fBpzoNHKAy2xbbO6Ey/VJ5uPXI8XKbAOIufe6f8QhSAk5AMikYtSU6XCwwxTztm29FgQCbFiwzTAMKozapDPbfBY/WzLbgLDrv/gS8iVziqALbizIJHxm2+WmzDYhZPpRsE1IhrFPQRl5YYb12CVDp5FDq5ImlNketrhgsrlx+LxieH0B7G4aSuMRZg6+/z+ZzLZOI0eABaxxDux78cP9+MNT3yT8PGTqOeIJtoNZb1uszPaIU5DhaLyGKgMOdozEvMjT3GUBwGXDx6owatCVZLDNZ/GzJbMNjK7/EsKB9hH0Dzsybgo5TxHMbOfKxVRCSGajYJuQDMMPSHN7/GnpORsYcc744Wg8biJ5/KWifFb7nOPqIJOI8O3+/nQd2qS2Nfbhl3/+GPc9tw2vfXII3x0ajBnIpIp//KR6trVc5ireieRffdeDbY19adnpS4TFZ7ajBZWhzHaU39FAgMWAySnoHIg5VXo43f6Yf9/NXSaoFJIJe54rjFqYbO6kLlry35eZ3mozljFfhf4RpyB/l5/u6IJELMLKhZlXQg6MCbYps00IyQDZc9mWkCwxtlzT6vAIOunVG9y1OtOHo/HKjRp82xh/wNzUaQLDAA3V+Vg4qzDYt70ofQc4js8fwKMbv4PD5YXJ6sbH2zpDnyspUKG+XI/6Ch0WzypEQ3W+YM9rc3IBR7LTyAHAZHWjOsa5td8fQFuvFV5fADanN6nnI1MnVEYeZc+2Shns2Y5SRm62u+H1BWAUqIwcGDMkrW0E1SV5k96uucuM2jIdRKLwtpjK4mCbSZ8N82oT+1viM9vZsmcb4DLbTrcv5b9Lf4DF5h1dOHyeMWMvRiiCZeTUs00IyQTZ805CSJbgM9sAV/4rZLA9ZHaCZWf+2i9eeZEGm77pgMPljTrkidfUZUZ5kQZKuQTLG4z4+793o3fIjpIC9RQcLfD+123oGbTj9vUrcOT8EpisbjR3mdHUZUJTpxnNXWZ8vqsbYhGDF/5nbShDkyprCmXk+mBP5kgcme3OARu8vgAAbvIxBduZjX+tiaeM3O6cPHAZXfslXBl5WaEGaoUEBzpMOHVFdcTb+AMsWnosWBPh8xVGbiJ5R7814WDbkY2ZbX79V4p/l3tbhjBsceO4JRVCHZrg+N9nNwXbhJAMQGXkhGSY8ZltIQ1myY5t3ug+3fh6Mw91mjCrQg8AWDbXCADYPkWl5E63D8+/vx8L6gpwxLxiAFzWeNlcIy48eQ5uueIIPPbfp+C67y2FP8CGflZC4Hu2kwkeEikjb+kyh/6/kJOPSXqEysijZLb535lomW0hd2zzRCIGs6sMOBBlInn3gA1ujx+14/q1Aa5sWioRJTUkzenKwp7tYJl9qru2P9veBblMjCPmFwtxWGkhlwUz21RGTgjJABRsE5Jhxma20xVsC3lSPJ34ieTxDEkbsbowZHahvkIXuq8xX4VtCZShp+L1T5tgsrpx5Rnzo06C53tPhQy27cEy8mR6tjVKKcQiBiZr7GC7udsCvppXqGFMJH2ccWS2JWIR5DJx1NVfAybuZy1kZhvgSslbey2TDrpq6eYu7vB/02OJRUzCMx14/PrF7JpGzgfbyb+u+PwBfL6rGyvml0CRwRcilDQgjRCSQSjYJiTD2F1e5OcpAAi//msgyzLbpYVqiERMXFOHm4NZ1/pyPQBuPdDyBiN2HRoIlT6ni9nmxqsfHcLKhSWYWxO9pJW/ECJoZtvphVjEJNWDyjAMdBp5XMF2S5cZteU6yGViymzPAPGs/gK4UvJowXb/iBNKuSS0k1soDVUGBAKj6/rGa+4yQyIWobJYG/Hz5UYNOvsSz2zHU14/02hVUihkYvSnsP5r18FBWOweHLs0M6eQ8/gLATQgjRCSCSjYJiTDOF2+UHYz3nVL8RowOYMnXdlxEimViFGcr0JnHJlt/oS9dsw+3mVzjXC6/WhsHU7bMQLAS5sOwO3x4fK182PetkDHXWgZMLkEe36rwwuNSpr0bnW9Vg5TjDJylmXR0mNGXZkORoMy5XJVkn4Od7BcOkaQrFZKYpSRO2A0KJP+/ZrM7Co9AOBgR+RS8qYuM6pLtZCII5/KVBq16Bu2J7zVweHyQikXQywS9uuZTgzDBCeSJ/d3ybIsXvnPQWiUUixrMAp8dMKSS4N7timzTQjJABRsE5Jh7C4v8nUKSMRMWsrIsyWrzSsvim+fblOXCaUF6rBS6sWzCiEWMdjW2Je24+sbduDtz1tx8hFVk2bgxpJKxNBr5QL3bHuSKiHnxRNsD1tcMNs8qC3ToUjAnb4kfZwuHyRiBlKJOOrt1AopHFEGpPWPOAUvIQcAg1YBo0GJ/RH6tlmWRXOXecJ+7bEqjBoEWKBn0J7Q8zpcPijl2VNCzjMaVElXnPxnawe+axrEFWfMh0wa/fdluolEDOQycahygxBCphMF24RkGIfLB7VCCq1KJvj+5WwMtiuMGnQP2hEIRN8fe6jTPKG3U6WQYn5tQVr3bT/77j6IGODSNXPjvk+hXil4GbkmhQnE+jjKyFu6LQCAunIdivRKKiOfAZxuX1yl0iqlFLYYA9LSNQdidpUBBzpMEz4+ZHbBYvegrjx6sA1wE8kTYXd5Y2b7ZyKjQZlUGbnZ5sYTr+/BvJp8rJ5kMnymUcokcHuojJwQMv0o2CYkwziCJ3oalQwWgcvIszHYLi/SwOP1Rw1OrQ4P+ocdqA9OIh9raUMRWrotGDILHxy2dJvx8bedOOvYuoS+70V6ZWjolBBSzmxr5DDb3GDZyS9o8D3xNaV5MBpUsNg9VMaZ4ZxuH5RxrMzTKKRwTHLhz+X2werwoChNrysNVQb0DzsmXOxpDg5HixZslye4rYDnDF7wzDY1pXmwOb3Y9E17Qvf755t74HB58bMLDpuwzzxTyWVi2rNNCMkIFGwTkkH8ARYujx8qhRRalTS0skkI3EmxN20nxdMldEIdpW+7uZMfjjbxxHz5XG6Fzfb9A4If21Nv7YVKIcUFJ81O6H58ZjtacJsIm9MLjTKFzLZWDq8vEDYpf7zmbjNKClRQK6Whnb4DlN3OaA6XL671VmqldNKebX7oojENZeQAN5EcAA6M69tu7jKDYRBx7RdPIZPAaFCioy/xzLYyCzPbp66oxuJZhXj4lZ3Y3xbfnIrvDg1i0zcdOPeEWaguzUvzEQpHKZfARWXkhJAMQME2IRkktN9VIYFWJRO0Z5s/Kc62YLuCX/8VJXvV1GUCEDkLVluWB4NWLvi+7e8ODWJbYz8uOnl2wiXchTolnG5/aAVRqmzBAWnJ0mm4XdvR+rZbu82hwIfv36VgO7PFXUaukMDu9Ea8+JOOHdtj1VfoIBIxE/ZtN3eZUVaojnn8FcXahDPbjizNbEvEIvz68iOQn6fA/z65JWY1j9fnx8Ov7EBxvgrfO3XOFB2lMBQyMU0jJ4RkBAq2CckgfOZQnYZgezDL1n7x9Fo5VApJ1F3bTZ1mFBmUoaBxLIZhsLTBiO0H+uGP0fcdL5Zl8eRbe1CoU+CMY+oSvj9/QUSIvu1AgIXdlVqwrdcGg+1J+radbh+6B+2hYHt0py8NSctk8QbbaqUUPj8LT4QVefzPuEifnsy2QiZBTUkeDrSHB9tNXeaoWW1ehVGDrgFbzJkOYzmytGcbAPLUMvy/q1bA4fLh7ie/iTqp/ZX/HELXgB3XnL94xm2wUMgl1MZCCMkIFGwTkkH4Uk2lQgqtWibonu1sDbYZhkF5kQadUYYgNXWZMCtCvzZv+VwjrA4vDk2yYihRX3zXgwPtJly6Zm5oDU0iCgUMth0uL1gWKZWRG7TRM9ttPRawLFBXxpWZ5usUEIsYCrYzXCLBNoCIu7YHTE6IRAzygyvr0mF2lR4HOkyhgNkWnMEQrV+bV2HUwu2JPtNhPIfLB1UWZrZ5NaV5uOHSZdjfPoKHX9kZsWKha8CGlz48gOOWlIdabWYShUwMFw1II4RkAAq2Cckg4ZltKTxeP9wJ7oidzKDJCYYBCnTZFWwDXN/2ZGXkDpcXXQP2iP3avCVzjGAY4NvG1EvJ/f4Annl7LyqLNTjp8MqkHoMPtgcECLb5ifapDEgLlZFPktnmh1XxO8zFIgYFeiWVkWc4LqiMI9hWTB5s9484UBi8uJIuDVUG2J1e9AxxK7z4yff15fqY961McEiaP8DC6Y7v+zKTrVpUhktXN+A/Wzvw+mfNYZ9jWRZ/fWUn5FIRrj5n4TQdYWoUcgmt/iKEZAQKtgnJII5Qz7Y01OdrE6iUfMDkhF4jh1SSfX/2FUUaDJpdEQfi8FOyI00i5+WpZZhTacA2Afq2P9rWia4BOy5fOx9icXLf6/w8OUSMMJltfsieNpWebbUMDMOtAIqkucsMjVIaNg+AW/9Fme1MlnBmO8KQtIE07dgeix+Sxu/bbuqKPYmcV2HkdttHq3wZi38NyebMNu97pzZg1aJS/OP13WEzKz7a1oFdh7id2oa89FUspBOt/iKEZIrsO+smZAbjM9sqhQR5wWBbqFLyQVP6duFON34ieaS+bf7EPFpmGwCWzTXiYPtISuvWWJbFG5ubUVWixYoFJUk/jlgsQn6eQpBgm+/7T2XPtlgsglYlmzSz3dptQV25Dgwzmt00GmjXdiZjWRYuT5zBdjDwdDgnXswaGHGk/XWlolgLpVyMg8G+7eYuE/LzFKFZAtHoNDJoVVJ0xJnZto8ZUpntRCIG11+yDJXFWtzzzFZ0D9pgsXvwxOt70FBtwJqVNdN9iEmj1V+EkExBwTYhGSQ8s82d4FoF2rU9kIU7tnnlRVGC7U4T8vPkMTM0y+YaEWCBnQeSXwG2v30EzV1mnHF0bVjgmQx+/VeqhCgjB7hS8kg92/4Ai5Yey4RhVUaDCsNmJ/z+iUO1yPRzefxgWcSZ2eZuM76M3B9gMWh2pW3tF08sYjCrwoD9oWDbHFdWG+BmOlQYtXFntp2hVp7sz2wD3M///121AgwD3PWPLXh04y7YnV78/MIlM2andiRKOZfZTmQwHiGEpAMF24RkkLDMtprPbKcebLMsi8EsDrbLijRgmMjrv5q6zFFLyHmzKw3QKKXYtr8v6eN46/MWKOUSnLCsIunH4BUZVML2bKdQRg5wQ9IiZba7B2zweP2oLQvfwVtkUCHAAkNmV0rPS9LD6R59rYmFLyO3jSsjH7G4EAiwU7JOcE6VHi3dZtidXnT02+IOtgFuInlnX2KZ7Wzcsz2ZkgI1fn35EegasOHT7V34r+PrUTODdmpHwk9PF2rmCSGEJIuCbUIyiN3lhUjEQC4Vh6ZHCxFs251euDz+rNuxzZNLxSjSK9E5LrPtcvvQ2WeNa5CSWBRcAba/P+J03lhMVjc27+jGyYdXCtLvWahXYsjkTOpYxrIJUEYOAPpJMtst3ZH7Z43B0mLq285MfBVNYmXk4cF2aO3XFLSnzKkywOdn8fG2DgQCbILBthYmmzuu19KxQypzyWGzi/CLCw/DsrlGXLy6YboPJ2UKObcFItIcj8l0D9jQ0RdfBQQhhMSLgm1CMojT5YNaIQHDMKGBVkL0bA9k6dqvscqLNBPKyFt7LAiwQH1FfCfmyxqKMGxxo7XHkvDzf7ClDT5/AGuPrk34vpEU6hXw+AIp9ZAD3IA0qUSU1AqysXSTZLabu8yQiJnQICqeMZ/ftU1925mIz2zHE2zLZWKIRMyEAWn8tPl0l5EDQEM1NyTt3a/aAMSewTBWRXGwzSSOvm2nK3cGpI13ypHV+N0PV824ndqR8F9DIn3bj2zYhQde3J6uQyKE5KiEgu1du3Zh1apVoX97PB7cfvvtOPLII7Fy5Uo8+uijgh8gIbnE7vJCGTzJk8vEkEpEgkwjz9Yd22OVGzXoHrCFZYKbOk0A4lsRBABLG4wAEl8B5g+weOfLViyeVYjKYm3sO8ShSKD1XzanN+V+bYDLbDvdvgllmS09FlQV502Ych9aX0aZ7YwUCrbjyOAyDAO1QjqhZzuU2Z6C15UCnRL5eQq09ligUkgSCvArggMU48la5tKAtGymDGa2E5lIPmJxCdK6QwghY8UVbLMsi5dffhlXXXUVvN7RN9sHH3wQLS0t+OCDD/DKK69g48aNeO2119J1rIRkPUcwsw0glN1ONbMJjAZs2VpGDnDrv5xuP4Ytoz3CTV1m5KllKNTHt76mQKdETWkevk1wBdjWvb0YGHHiDIGy2sBosJrqkDSb05NyCTmA0ORn87jsdkuXGbXlE/s75VIx9Bo5ZbYzVCiDK4/vQoxaKYF93DTyAZMTWpUMijiy40Lgs9u1ZbqEhncV56shEYvi2rXtyOHMdjaR85ntBMrILXYPRqxu+GmoGiFEQHEF2w888ACef/55XHPNNWEf37hxI37yk59Ap9OhoqIC69evxwsvvJCWAyUkFzhcvrCTPK1KFhpwlYpBkxNiEQO9dmbuTI3H6D7d0RPqpk4zZlXoE5oMvnyuEXtbhhK6yPHW5y0o0ClSWvc1nmDBtkO4zDaAsL7tEYsLI1b3hEnkvCID7drOVI4EMtsANyQtUhn5VK4TnF2pB5BYCTnAzWMoL1LHGWx7IWIAhSy1tgsyvZTBYNvlji+zzbIsLHYPAgEWFnvkFYeEEJKMuILtiy++GBs2bMDChQtDH7NYLBgYGMCsWbNCH6utrcWBAweEP0pCcoTD7Q0rX9SoZIJltgt0Cohn8CqXWMbv2vZ4/WjrtcTdr807flkFWBZ46OUdcQ0n6xqwYfuBAZy2qgZisXBjMHRqOSRiUagvNlk2hzflSeTAaGZ7bN92SzfX2143SbBtNKiojDxDJdKzDSBiGfnAiCM0CG8qzK3OBxD/DIaxKoq16Ihj/ZfD7YNSIU15dR+ZXqEBaXH2bDtcvlBGe5g2KBBCBBTXmWFxcfGEjzkc3AmUQjGaKVMqlXC56EWKkGQ5nL6wsk6tSipYz3Y292sDQIFOAYVMHBqC1NZrgT/Axt2vzast0+HytfPx5Xc9ePuL1pi3f/uLFkjEDNasqE7iqCcnEjEo1CsEKSPXClFGHiGz3RycRD5+7RevyKDEwEjqE9WJ8Pgy8riD7UiZbZMTRVMwHI23oK4A11+yFMccVp7wfSuMGvQN2eH1Rc902p1e6tfOAvyAtHiD7bEXtUciDIIkhJBkJZ2GUSq5E3e3e/RFyel0QqWaujdeQrKNw+2FSjl6oqdVyQSZRp4LwTbDMCgr0oRKRZs6uUAwmSzYfx1fj+VzjXji9d1o7jJPejuX24dNW9px1KIyGPKEL9Ev1CtTHthjFaiMXBcxs22G0aCctCfcaFDB4wvAbEv9ghERltPtA5NAubRaIQ1b/WVzeuFw+aY0sy0SMTjp8CrIkpisX2HUIsAC3QP2qLdzun2hVWdk5uIz2844y8jHlo6PnftBCCGpSjrY1ul0KCoqQnNzc+hjLS0tYWXlhJDE2J0+qOTjg21PSpnBQIDFoMmV1cPReBVFmtCu7aYuM9RKKYrzE78AKBIxuP6SZdCqpLjnmW8mHbLzyfYu2F0+wdZ9jVeoV2LQnHyw7fcH4HT7BAm25VIxlHJJWGa7pds8ab82QLu2M5nD7YNSLom7XFqllIRltgdCk8hnxgX2ymCbSay+bbvTG3e2n2QuvmfbnURmm4JtQoiQUmowPPvss/Hwww9jeHgYnZ2deOKJJ3D22WcLdWyE5BSvzw+fPwD1mMBIq5bB6wtMWLeUCLPNDZ8/kBPBdrlRg4ERB9xeP5o6Tagv1yXde6nTyHHjZcvRPWjH3zbsmvB5lmXx9uctqCnNw/za/FQPPaIivRJDZlfS03H54XpqAXq2Aa5vm59G7vL40NVvQ12UYVX8ru1U+86J8JwuX0JBpUYhhdPth98fADD6M53KAWmpKC/ig+3ofdsOty/sNZjMTHz1Q/yZbQq2CSHpkVKwfd1112H27Nk488wzccEFF2DNmjW45JJLhDo2QnIKv1YnPLPNnfRZ7cmXkg/kwI5tXnmRBizL7dNt7bGgvkKf0uMtnlWE753SgP9s7cB/tnaEfa6xdQTN3WasPbo2bcOUCvVKBAIsTNbkTv74YFuInm2A69vmM9vtvVYE2Mn7tQGE+nkps515nO7Egm1VMADlp5iHMtszJNhWyCUwGpTo6Iue2XY4vWGvwWRmEokYKGTiuHu2rcHZKIV6JQ1II4QIKqF3lBUrVmDr1q2hf8vlctxxxx244447BD8wQnKNw80FRsox/YJ8L6zN6Un6pHYwl4LtYKnoV9/1wOsLJLwiKJKLT52D75oG8cirOzGnSh9aMfb2Fy1QKSQ4YVlFys8xGf5nxk2TT/znxw/XE6KMHOAy23wZLt/LHq2MXK2QQCmXULCdgZxuX0KDwPg+ZrvTC61Khv4RJ6QSEXRqeboOUXAVRi06B2JntlWU2c4KCrkELk/8mW2xiEGFUYORJC9uEkJIJMLtqSGEpMQRzGyrx5wA5wWDbWsKE8lzKtgOlop+ur0LQHLD0cYTi0X41feXQyoR455ntsLj9cNkdWPzzm6cfERVWvs7i1Lctc1ntjVK4TLb5mBmu6XbDJVCErUnnmEYGIMTyUlmcbgS601WBwc38uu/BkxOFOmVEM2gdYIVRm6AYiBKWwZltrOHQiaGa5J5G+NZ7B7kqWXIz1NQZpsQIigKtgnJEHxmWxWW2RamjFwmESFPLUzAlcmUcgkKdAr0DNmhlItRVqgR5HELdEpcf8lStHRb8M839uD9r9vg8wew9qgaQR5/MikH28FJ9kLs2Qa4PnarwwO/P4CWbgtqy2L3xBcZVJTZzkCJlpHzfcz8kLSBEceMKSHnVRRr4fb4J53w7/UF4PEFwjZCkJlLIZNMOtxyvLHB9ojVHfWCDCGEJIKCbUIyRKhne2xmWy1MZrtQr0xbX3Gm4bPbdeV6QbNuR8wvwTnH1ePNz1vwyn8OYsnsolBJebqolVIoZOKk13+FysgFHJDGstyu7ZZuc9ThaDzKbGemhIPtUBk59zrVP+KEcQp3bAthTqUeDAPc+JdP8Px7jWFr7AAu2w8AKjmVkWcDpVyS0J7tPLUc+XkK+ANsSu+5hBAyFgXbhGQIZ8TMdurB9oDJOeMyUKng+7aF6Nce74oz5mNWpR5Od/rWfY3FMAy3/itTysiDu7YbW0fg8vhRF2U4Gs9oUAV3Mqe+L54Ih+vZjj+oDGW2nV54fQGMWGfeOsH6Cj3+55qj0VCVj+fe34+r7nofD760A229FgAIZUHVlNnOCnKZOIGebXcosw3QRHJCiHDoHYWQDBEpsy2XiiGTiGB1JB+oDJqcWDKnKOXjmykqgpltIfq1x5NKRLjtyiPx1e4eHLmgRPDHjyTVYFshE0MqEea6ql7DBdvbD/QDAGqiDEfj8dnPgREnqkspYxiLP8DC5w9AImIgEjFpqUhhWRaOBFd/8cG2w+XFkNkJlp05k8jHWlRfiEX1hejst+L1z5qx6ZsOvP91G5Y1GLG0wQgAUFJmOyso5RKMxBk0jy0jB7hgO9rwR0IIiRcF24RkiEg92wC3a9uWZGbb7w9gxOLKieFovIX1hdBpZFhYV5iWxy/UK3HmMXVpeexIivRKbGu0JHVfq8Mj2CRyYDSz/e3+fohFDKqKY5fRF+Vzv3v9Iw5Ul8bOhOcyt9ePX9z7EXoG7aGPScQMRCIRJGIGYpEIUokIV545Hycur0z6eby+APwBNrHVX/LRAWmjO7ZnVhn5WBVGLX56/mH4/mnz8O6XrXhzczO+3c9dRKLMdnZQyMRwxpHZDgRYWO0eaNUyGPK41zgakkYIEQq9oxASwfPvNWJWpR5HzJ+a7CXATSOXSUQTspBalQwWe3LB9pDFhQCLGVfumYq6ch3+9bvTp/swBFOoV2LE6obXF0g4Q21zeEOtCELgM9sDI07UlOZBJhXHvA//u9dPfdsxvfFZM3oG7Tj/xFlQyCXw+QPw+7lMtz/Awu8PYMueXrz3VVtKwTZfLp1IsC0Wi6CUi2FzeUMD72ZiZnu8PLUMF50yB+eeUI/PdnRh58FBzKrQT/dhEQEo5BK44+jZtru8CLAIz2zT+i9CiEAo2CYkgg0fH8KR80umNtiepIdSq5KFem8TlUtrv7JVoV4JluXKGqOt2YrE5vSGyn+FoFJIIBGL4PMHUBtHvzYAGLQKSMQiDNBE8qgsdg9e2XQAR8wvxpVnLpj0dhqVDK/85yBsTm/SVQt8sJ3Inm3u9lI4nL7QwL5suognlYhx0uFVOOnwquk+FCIQbhp57Mw2fzE7Ty2DTCqGRimlzDYhRDA0II2QcVxuH1weP0bGTapNN4fTG/HkV6OSJj0gjS/3pGB75uJ/dskEq3anF1qBJpED3MA2vpQ8nknkACASMSjSKymzHcNLHx6A0+3DFWfMj3q75XONCARY7Aj2zScjmcw2wPVt211cGblBK4dUEruygZDpopSJ4fH64Y+xxstiGw22AcAQXP9FCCFCoGCbpIXJ6o57MEmmMdm4N9mRKS4j4zLbE09+tSoZrEmWkQ9mYQYq16Sya5vr2RZ2v7pewz1ebWn8w4OKDEratR1F75Adb33egpOPqEJ1SfSKgYYqA9RKKbbu60v6+RyuJINthRR2J1dGPtPWfpHcowj+fscqJbfYufd8PtguyFPQNHJCiGAo2CZp8efnv8XdT30z3YeRFDMfbE/xm63d6Z2kjFwKq8MLlo1+dT6SQZMTaoUkoRU/JLOEMttJBNs2p1ewHds8vZbraayJs4wc4CaS067tyf3rnUaIRAwuO21uzNuKxSIsazDi28Z+BGJk7CYTymwnWEY+NrNdmAX92iS7KWRc5UWs9V+jZeRc1Y4hT07BNiFEMBRsE8GxLIuDHSM41GmC3x+Y7sNJmClYPmZ3+eD2xrejUwjOKJltnz8Q977QsQZMTiohn+GUcgnUSmnCmW2vzw+3xy94sF1epEGFUQNdcFhaPIwGJUasLnh9M+/1IN0OdZrwyfZOnHNcHQp08f2tLp9rxIjVjeZuc1LP6Uwxsz1gclK1DMl4fGbb5Y6V2Q4vI8/PU2DE4krqAjchhIxHwTYR3IjVDavDC68vgM4B23QfTsJMttGSbdMU9m3ZXZNktoMnAMn0bQ+aKdjOBkV6JQZNiWVabMHd7EKXkV++dh7+dO1xCd2nyKACyyZXCp/NWJbFk2/ugVYlw/knzo77fsvmcvugtzUmV0ru4AekJbhPWqWUYGDECY/XT2XkJOMpZMFgO47MtlQiCmXC8/MU8PnZpLeAEELIWBRsE8G19YzuBG7uSi7zMp1MttGgZir7th2uyTLb3AkxHzwlYpAy21mhUK9MOFDlJ9gLuWcbQGhabyKMY3Ztk1Hb9w9g58FBXLx6TkJT4w1aBWZV6LBtX3JD0pxu7ncj0TJyjVIaGjaVDWu/SHbjg2dnHJntPLUMDMMA4AakAaAhaYQQQVCwTQTX1msFAIhFzIwMts1jMttT1bfNsiycLi/UETLb/J7kRIekub1+mG0eKvfMAkV6ZcI926HMtsBl5Mko0nNZUFr/NcofYPHkW3tQUqDC6atqE77/8nnF2N82nFTFS6iMXJbYNPGxlTeU2SaZjm+TcMUckOYJlZADGN21TX3bhBABULBNBNfWY4FeI0dduW5GBtsmqxtKOXcSOlVXtl0ePwJs5L23eXyw7UzspHqIn0ROGagZr1CvhNXhiXnSOJYt+PuiVQlbRp6MQr0SDIOcWP/1p39txe8e/wptvZaot/vk2w60dFuw7vR5kEoSfys+fG4xAiywY/9Awvd1uH2QScUQixN73rHZd3pdIZku1LMds4zcHTnYpl3bhBABULBNBNfWa0FViRZ15Tq0dJtn3JARs82NquI8MAwwYpmaYNvh4rKQkXq2+cxkopltPhNKZeQzH/8zHErg5M/qSE8ZeTKkEhEMWsWUlJHvPDiAXYcSD0CF8s3eXmzd14dr7/sYf9uwK7TdYCyP149n3mnErEo9jjmsPKnnmV1lgFYlxdYk+rYnG8YYiyb4+qSUJ95KQMhUC00jj1FGbnV4QpPIAW4aOTD16z8JIdmJgm0iqECARXufFTWleagt08Hq8Ca1smg6mWxu5OsU0KnlU/Zmy++9nWwaOTAaPMVrkILtrBHatZ1AZpjPbCfSC5xORoNyStZ/Pf32Xjz55t60P08kDpcXTrcf5584C6evqsE7X7bix3/YhNc/bYJvzGaGNzc3Y9DkxA/OnA+RiEnqucQiBkuTXAHmdPkSnkQOcAPSAKBQrwr1txKSqUID0uLs2R57P7VCQpltQoggKNgmguofccDt8aOqJA/15ToAQMsMKyU3Wd3Qa+Qw5MmnLLNtj5LZlknFkMvECfdmhoLtONcJkcyVzK5tewZltoGp27Vtsnmmbac3X3lQU5qHn5y3GA/ceAJmV+rx93/vxs//9BG27uuD1eHBS5sO4vB5xVg8qyil5zt8XjFMNjeaukwJ3c/hTi7Y5i/cGKmEnMwACnnsPdt+fwA2pzcs2AaAfJ0Cw5TZJoQIgIJtIqjW4CTy6lItqku5UuyZ1Lft9wdgdXig08hh0CoyIrMNAFqlNOFge8DkhE4jg0ya2BAkknkK9VwP4aA5/iDS6vRCpZAk3JebLkUGbshbolnYRJltbphsbri9ie+lTxU/UInfl11dkoff/2gVbl+/AizL4nePf4Vr7/0IDpcXV5wxP+XnW9ZgBMMA2xoTm0ruTDbYDl4MLKLhaGQGkEvFYBjAGWXWhc3pBctiQrBt0Coos00IEURmnIWRrMEPBaoq1kIpl6CsUIPm7pkTbFvsHrAsoNfKodfKp2xAGt+zHWkaOcDt2k509dcArf3KGlKJGHqNPKH1XzaHJ2Oy2gBgzFfB5w+k9QKWy+ODO5jFmo6d3nywna9ThD7GMAyOnF+Ch351EtafvRBOtw+nraxBTWleys+n08gxu1KPrfsS69tOtmebz2zThgMyEzAMA4VMDJd78gtv/C7tCZntPAWGafUXIUQAib/bEhJFe48VxnxVqBy6rlyH/e0j03xU8TMFhxnpNXIYtHKYrC6wLJv2/kQ+sz3Z3lutShY6KYjXoMmJskJ1ysdGMkOhXpFQGbnN6Q2tjcsEfIA2MOIMZX6FZhmztq9/2IHyIk1anmcyfBk5P814LKlEhP86vh5nHlMLkYCvJ8vnFuOFD/bDbHNDp5HHvgOCPdvGxN/+DVo5fnDmAhy7JLmhboRMNYVMEnWLQ7Rge8SS2Pt//7ADYjGTtte3VJltbqgUEkglVO1GyFSizDYRVGuvBdUl2tC/68p16B92wJbELtjpYApeydZr5cjPU8DnZ2FzJpZRTkbMzLZKFhp4Fa9BymxnlUK9MsHMtjezMtvB0uN0TiQ3jZn8PR1rxoYtLqgUkqgl2hKxKOmhaJEsn2sEywLbD8Q/gT3ZMnKGYXDeibNo7ReZMRQySYzMNveaMXYaOQAY8hTw+gIJvf//8ZlvcNNfPg2dR2QSlmVx3f99jCde3zPdh0JIzqFgmwjG6wugq9+G6pLR8si6suCQtO7oO2czBb+mR6eRwaAN7tq0pL9vi89sKyY5AdaopAlNI3e4vHC4fFTumUUK9YlN87Y5PaG1cZmAD9DSGQSPrf4YMKV/zdh4w2ZXxKx2Os2qNCBPLcO2BFaAJTsgjZCZRiEXJ5XZLshL7P3fH2DR0m3BoNmFPz7zTdj2gUwwZHZhyOzCJ992wuvLrGMjJNtRsE0E0z1ggz/AonpML2JtOff/m2bIkLSxZeT64K5N0xRMJLe7vFDKJRBPkvHSqmSw2j1x7yynHdvZp0ivhNPtgz3OTAuX2c6cMnKVQgqNUprWzDZ/sUwkYqZlIvmQ2TnlwbZYxGBZAivA/P4APF5/xM0HhGQbhUwCZ5TVX3ywrR0/IC34/h/vkLTeITu8vgAOn1eM3U1D+OcbmZVB5ofX2pxe7DiQ2EBFQkhqKNgmguGHo40tIzdoFcjPk6NlhgxJM1ndkIgZqJVSGLTcm+1UTCR3uqIPLNKqZPAH2KgnDWPxgQYF29mD/1nGU0rOslz7gzaDMttA+td/8cF2VbE2rUH9ZIYtrrDhaFNl+bxiWOweHOo0xbwt/xpCmW2SCxQycWhoYiQWuwcKmRjycVs7+L/jeN//24PnP5euacDZx9bh9c+a8dG2jiSPWnj88SnlEny6vWuaj4aQ3ELBNhFMa48FIhGDCmP4UKLaMt2MWf9lCg4ZYhgmVEY+FRPJ7S5v1EwTHzTFW0o+SJntrFOk53qe4xmS5vb64fUFQtOjM0WRQYmBtGa2PZBKRKguyZvynm2WZTFscYXKT6fS0jlF3AqwOKaSOyjYJjlEIZdEXf1lsXsmlJADQH7w/X8ozsx2e68VAFBp1OIHZy3AwvoCPPTSDjTFcQFsKrT2WJCfp8CxS8rx9Z6eqKX1hBBhUbBNBNPea0V5kWbCpMu6ch06+qzwTMPe20SZbR7ogxltlUICmVQ8ZT3bUTPbwZOBeHdtD5qcEDGYlhN/kh6JZLb5UvNMmkYOcOu/+keccbdDJMpsd0OnlsGYr8SQyQl/mnd6j2Wxe+Dzs9OS2dZp5JhTZcDWOPq2+cy2ioJtkgOUcglcMcrIx5eQA1yQrpRL4r7Y3tZrRXG+Cgq5BBKxCL9edwTy1DL875NbQhU306mtx4qa0jwct7QcTrc/4XWBhJDkUbBNBNM2bhI5r65cB3+ADV35zWQmqyu0PofLbsunZLKow+WddBI5wJWRA4h7qvuAiesdFYvpTzxb5OfJIWLiC7b5neyZVkaeaN95osw2D/I0chQZVPAHWIxMwYUyHn9RriBveqpJls8txsEOU8wT+1AZeRJ7tgmZaeQyMVxRy8jdyJvkomR+niLui+3tvRZUjTn/0WvluPXKIzFidePef22DfxoHpvn9AXT0W1FdmoeF9YUwaOVUSk7IFKIzcSIIp9uH3iFH2HA0Xl05N5G8eQb0bZtsHujH7Ko1aOVT0rPtcPminvzyU6Wt9vjLyKmEPLuIxSLk58W3a5uvgMik1V/A2PVf6SnxNtvc0GvkoSn8U9m3zZebFkxDZhsADp/HrQD7dn/04UdOF5WRk9yhlMXObI9f+8XLz1PENSDN5w+gayB8EwsAzKky4JrzFmPHwQE8886+xA5cQN2D3PC26hItxCIGxywpx9Z9fWm76EkICUfBNhFERx+XtY6U2S7JV0Mpl6Alw/u2WZYNnazzDHmKKenZjpXZ5q+8W+PctT1AwXZWinfXNr8bNpOmkQNj13+lJwg22z3I08hgnII1Y+PxGbCpnkbOqy/XQ6+RY9u+6ME237MdrW2FkGyhkEvg8QUmbSmxBF8zIsnPU8R1sb1n0A6fnw3LbPNOXVGN04+qwasfHcJnO6Ynm8xXFfLJkOOWlMPrC+DrPT3TcjyE5BoKtnOUx+sPnZALoS24ViJSZlskYlBblpfx678cLh+8vkCoZxsIZrYzoGeb77212mMH2yzLYoiC7awUd7Dt4Hu2MzWznZ5g22JzQ6eWh54nncPYxuMz2/zKoKkmEjFYNteIb/f3Re1Vp8w2ySVKOTdDxh1hIJjXF4DD5Ys4IA3g/paHza6YMyb4TSxVxRODbQD44TmLMK8mH395cXtoBddUau2xQMQAlcHja6g2wGhQ4hMqJSdkSlCwnYNYlsX/PrkF6+96X7AhGW29VsikYhTnqyN+vq5Mh9Yec1x7YKcL3+uoG5fZtjq88PrSN9zN7w/A5Ym+91YqEUEpF8c1jXzE6obHFwgFHCR78MF2rJM/W4YOSNNpZJBJxWlZ/+Xy+ODy+KHTyKCQS6BVyaZ01/awxYU8tWzCgMiptHyuEVaHFwc7Ria9Da3+IrlELuN+zyOtzeTbbSYLtvPzFPD4ArC7ok/ubu+1QsQAFZME21KJCLdccQRkEjGef78xkcMXRFuvBaWF6tB6M4ZhcOyScuw4MJARw9sIyXYUbOegbY392NbYD7GIwZ1PfIXXPjmU8nTgth4Lqoo1EIuYiJ+vK9fB6fajd8ie0vOkE18uPj6zDQAma3zl28lwxlnWqVHJ4ppGzq9Zqy2bWGVAZrYivRIeXwCWGBUONocHDJN5E6cZhkGRXpmWzLbFxn1P+ItlRYb0PM9khs2uaevX5i1tMEIkYvD25y2T3ibe1xtCsoFSxgWYkYak8a+j0YJtABg2R79o195rRUmBesKu7vGPNatCF1dlktDaeiyoGtdPfvyyCgQCLL7Y1T3lx0NIrqFgO8f4/QH84409KC1U47FbT8HKRaV44vU9+MuL21PK3rb1WiKWkPNqZ8CQNP4Kb/iANH7XdvpKyfmr5uoYJ79aZXzB9qHgXk9+MB3JHvGu/7I5uRkAokkufk0no0GJ/mHhg2CzPViZEjxxNhqUU9yz7Zy2fm2eViXDhSfNxkfbOvHhlraIt3G4vJCImWnNwBMyVRTBC46RhqRZgq8ZsYLtEUv07G97nyViv/Z4UzUDZiy314+eITtqxp2f1ZTmocKowafT1EdOSC6hYDvHfLClHR19Vlx5xnxoVDL8et0RuPjUBmz6pgO3PfJFUkGl2ebGiNU9YRLnWPwUzOYM7ts22SJktoP9l+ns23a4uJJfZZQycgDQqqWhXtxomjpNKC9SRy1LJzNT3MG2wxtaF5dpast0aO2xwuMVtjXDzGe2g3+/RoMKAyOOtO30Hm/I7Jr2YBsALlkzF0tmF+GRV3dFfL11un1UQk5yhiJKZpvf7jHpNPJgpcpwlPMir8+PrgH7hMxxJNwMGPeUvSYBQEevFSyLCednDMPguKUV2NM8hKEYmXtCSGoo2M4hDpcXz77biPm1+Vi1qBQAN1TnstPm4teXH46mLjNuuP/ThAPi0KTLKG82UokYlcXajA62zdaJV7lHM9vpuxrtiDOzHW8ZeVOXGfXleiEOjWSYojiDbavTA3WGDUfjza/Nh88fwMEOk6CPG5q5oObLyFVweYQdBDkZvz8Ak82NAt30DyUUixjc9P3l0Kpl+MNT30z4+p1uX8wLe4RkCz6zHalnO1Zmm28ji7b+q2vAjkCAjbiJZTy9VgGfPzClK7f44W3VpROP77il5WBZ4LMdVEpOSDpRsJ1DXv3oEEw2N9afvRAME15eesxh5fjjz48BWBY3P/RZQn080V7Mx6or12V0sD1ic0OrkkEiHv2z4Ps/0xtsc2+8sTLReXEE22abGwMjTtRX6IU6PJJBdBo5JGIm5q5tu8ObcTu2eXNr8gEAe1uGBH3cUGY7uMYntGYsDSXr45lsbrDsaCZsuuk0ctxy+RHoH3Hg/ue/DcukOd2+jOvlJyRdlMEBae4oPduTVQGpFFIo5eKome12fhJ5nJltIL3nE+O19lgglYhQWqiZ8LnyIg3qK3T4dHvnlB0PIbmIgu0cMWhy4rWPD+G4peWYU2WIeJtZFXr83y+PR01pHu5+6hu89smhuB67rdcKjVIas4SyrlyHEat7SlZpJcNsc0OvDX/TlUpE0KpkU9KzHXtAmhRWhzdqCRq/Xq2+gvq1s5FIxKBAp4wZbNucnowNtnUaOSqLNdjbMizo41rsbkjEolCJ9FTu2ubXfhVkQBk5b25NPq46awG+3tOLDR+NvpY7XFRGTnKHPFhGHjmz7YFKIYFUMvmpsEGriJrZbuu1QiRiUF4UeRNL2GPl8QNXpy7YbuuxoLJYO+nw2uOWVOBghwk9g5k7vJaQmY6C7RzxzDv7wAK4fO38qLcz5Cnwv9ccjRULSvDUW/swHEdg3NbDDUcbny0fr66MCwBbuqd+z2Q8TFY39JqJJ8v5eendte2MM7OtVckQCLChsvNImoLD0Siznb2KDLF3bVszuGcbAObXFmBfy5CgqwBNNjf0GlnodWgqd23zwXYm9GyPddaxdTjmsDI8/fZefNc0CIB6tklu4X/XXRH2bFvsnklLyHmxhpq191pQVqiOa+DgVAxcHa+t1zphONpYxywpAwB8uoOy24SkCwXbOeBQpwn/2dqBs4+tQ3F+7N3LMqkY689eiEAggDc+a456W5Zl0d4b3yROfiJ5U5cpruOeamabO1SCOpZBm94JovFmtvngKVopeVOnGSUFqozNapLU8bu2J8OyLGxOLzQZ2rMNcH3bdpcP7X1WwR7TbPMgb8wmgTx1cKf3FKza4S9KTvfqr/EYhsEvLlqC0kIN7nlmK4YtLgq2SU4JTSOfpIw8VrBdkBc9s93ea406r2asqS4jtzo8GLa4ovaTGw0qzK/Nx2fbaSo5IelCwXaWY1kW/3h9D7cS5uQ5cd+vtFCNVYvK8M4XLaGe4kgGTS7YXb6oV055GqUUxnxVhme2J04l1efJ096zLRIxUXd0AoA2GDxFm0h+qNNEWe0sV5yvwqDJiW2NfRE/73T7EAiwGX3BZX5tAQBh+7Ytdndo7ReQ3p3e4w1bXBCJmLBgP1OoFFLceuURcLp9uOeZrbA7vbRjm+QMmUQEhpl89ddkk8h5hjwFhq2uiO1bbq8fvUP2uJINAKBWSiERi6asla6th5+nE/387Lgl5WjrtYZuTwgRFgXbWe6bvX34rmkQl65pgDrBk+/zTpwFu8uH97+OvK8VGDMcLc4ru/XlOjRnYGbb6/PD7vKFrf3iGbQKmCyR32yF4HD5oFZIYpbha4OBhGWSzLbN4UHfsAP1tF87q51xdC1qSnX4/RNf44MIf5v89GlNBpeRF+erkJ+nwN5m4fq2TTZPaO0Xb6p2bQ+ZnTBo5ZP2RU636pI8/PyCw7CneQgjVjdltknOYBgGCpkEziTLyPPzFHB7/BF7vjv7rAiwiDvYZhgGem16L96PFQq2Y5yfHX1YOUQMaOc2IWlCwXYW8/kD+Mcbe1BepMFpq2oSvv+cKgMW1hfg3582w+cPRLzN6CTO+N5sast06B60R3zjmk6jk4wnBtv5eXJ4fIFQubfQHC5vXKt4+DJy2yTBdlMnNxxtFmW2s5pBq8DdPzsah80qxAMv7cBz7zWGXQjiKx8yObPNMAzm1+Zjj5CZbZs7tPaLZ8xXTUnP9rDZlXEl5OOdsLwSpx9VAwAUbJOcopSLJ51GHjvY5l5ThiKUkvNtMPEmGwCulHyqBqS19VqhVkpjvjbptXIsnl2ET7d3TukOcEJyRcrB9o4dO3DBBRdg+fLlOPXUU/Hyyy8LcVxEAO992YquARt+cOb8sHVWiTjvhFkYNDnx2SRXPFt7LMjPU8Q9jKmuLA8sC7TGKCX/rmkQLd1TtyaMf/OLlNnW80NN0lT6xWe2Y+F7cK32SYLtYMUAlZFnP5VCit9cvRKnHFGF59/fjwde3BG6IGZzcr8fmdyzDXCl5IMmpyBl3i6PDy6Pf8LMhSKDEmabB27vxBNtIQ1bXBk3HC2SH56zEKcfVYMjF5RM96EQMmXkMsmEC/xurx8ujz92sK2bfKhZe68VEjGD0sLYk8h53AyYqSkjb+2xoLpEG7NqDgCOX1qO3iEHDnaY0n9ghOSYlILtQCCAn/70p1i3bh22bduG++67D7///e/R2Ngo1PGRJNmdXjz3/n4sqi9M6cRq+dxiVBZrseGjQxGveMaadDleXbkeANAcJZB+47Nm/PdfP8ffNuxK+HiTZbIFg+0ImW1+qEm6rkY7XL6Yk8iBMQPSnJF7tg91mmE0KGOePJDsIBGLcO33luCS1Q348Jt23PnE13C4vKHMdiZPIwe4IWkABFkBZglWpozvvyzST81E8pkSbEslYvz0/MMmXf9ISDZSyiRwucMvuPEXrWNOIw9ebI80JK2914ryIk1CyQxDmmfA8PjhtbH6tXkrF5VBKhHhlf8cpOw2IQJLKdg2m80YGhoCy7JgWRYMw0AikUAqzeyMSi54/dMmWOweXHXWgriuak5GJGJw3gn1aO2xYPv+gbDP+QMsOvqscZeQA0ChXgGtShoxa82yLJ59txGPvfYdZFIx2nqtU/aiHy2zPTpBND1Xo+2u+AYW8TuEJ5tG3kTD0XIOwzC4dM1c/OKiJdhxcAC3/vXzUGljojMaplpNmQ5KuUSQIWlmO3+xLPzEeSp2bbu9flgd3lAGjBCSWRRy8YTVX5Y4g23+ItqwZWKA3NZrQVUCJeQAd45hsbnhF3DtYSSJDK8FuLajy9bMxZff9eCtz1vSemyE5JqUgm2DwYDvf//7uOWWW7BgwQJccMEFuP7661FfXy/U8ZEkfdc0hDlVesyq1Kf8WMcvq0B+ngIbPj4Y9vGeQRu8vkBC/UoMw6CuXIemrvBgOxBg8ejG7/DCB/txyhFVuHztPNid3ikbJGIOZrYj92zzZWTpORanyweVPL7ASKuWRSwjd7i86B60o76ChqPlotUrqnH7VSvQPWDDs+9ylUWZ3LMNAGIRg3k1+dgnQGZ7spkLU7Frm28vKchTpu05CCHJU8gkEYJt7v081jRylUICuUwcWu/Hc7l96Bt2RF2rFYlBq0CA5WZMpFOiw2sB4NwTZuGI+cV44vXdONA+kq5DIyTnpFxGLpPJcN9992Hnzp145pln8PDDD2Pz5s1CHR9JAsuyaOk2o7ZMmMBLKhHj7GPrsPPgIA51mkIfb+vlMmiJlJED3JC0th4L/MEeU68vgPue24a3Pm/BeSfMwrXfWxJ6TH4AW7qZbG7IZeKIg4PSva7D7vJCpYxvYJFWJYU1wuov/uJFfbBMn+Sew+cV4+6fHgO9Vg6ZRDQjhmDNr81HW69l0qF/8QqdOI/LbBfoFBAxwEAaM9v84CTKbBOSmRRyMZzjysj5zLY2xmwLhmGQr1VMeP/v6OfOfxKp7APGtKWlO9gOTSKP//hEIgbXX7IM+XkK/PHpb1J+XSaEcFIKtt9//31s374dZ5xxBqRSKY488kicf/75ePHFF4U6PpKEIbMLNqdXsGAbAE5bVQOlXIKNHx8Kfay9xwKGASqKNQk9Vn25Dl5fAJ39NrjcPtz1z6/x6fYuXHnGfPwgWPbOv4G1BwP6dDPZ3BGz2gD3ZpvOPiuHywdVnIGRVimLWEbOTyKnzHZum1Wpx/3XH487frgypfaRqTK/tgAsC+xrTS27bbJyfxPjZy6IxSLk69K7a3s4lNmmYJuQTBQ5sx15zkMk+Tpu1/ZYbT18sJ1YssEQGria3mC7tdeCAp0i4RWQWpUMv778CAxbXPjz89sRSHO5OyG5IKVgu7e3Fx5P+Im/RCKBRJL5GZVsxvdDJ5pxjkatlGLNymps3tmNvmHuxLWt14qSAjUUssR+3rXBPdA7Dw3g9ke/wI79/fjFRUtw/kmzQ7fRa+TQqmSh/tN0M1ndMEwSbAPc1eh0ZLY9Xj98/kDc/bVatSzi1eamThMKdIrQGznJXQU6JRbPKpruw4jL7Co9xCIm5SFpFrs7NNNgvHTv2uYz25m++ouQXKWQiScMSIs3sw1w7//jB6S191khlYhQUhD/JHKAG5AGpG8GDK+9xxr3cLTx5lQZcNVZC7Flby9e++RQ7DsQQqJKKdg++uijcfDgQbz44otgWRa7d+/GSy+9hDPOOEOo4yNJaAmu1RIy2AaAc46rBwPg3582ARhdK5GoiiINZBIRHv/3bhzqNOOWK47A6hXVYbfhs9tTldk2R8lsA/y6DuGvRDuCu7vjzWxrJi0jN9F+bTLjKGQSzKrQpzwkzWzzQKeRRczmGw3p3bU9bHFBJhFl/EA6QnKVUh45s61RSiGOY5J4ft7EdV3tvRZUGrUQixKrIOKrb9I5j8bvD6Cj35pQv/Z4Zx5Ti6MXl+Gpt/dhT3PqQyxTFQiweOU/BzFkTt+FU0LSJaVge/bs2XjooYfw4osv4vDDD8eNN96IG2+8EaeccopQx0eS0NpjgTFfJfjJX6FeieOXVeD9r9swZHaiZ9CW1JVTsViE+go9FDIxfvvDlVi1qCzi7bhg2zIlE8lNVnfESeQ8Q4Q3WyE4XFzgrIrzZ5Wn4jLbY0u7nG4fOvttqC+nEnIy88yvK8CBdhM8KezCjtYGUmRQYtDsCs2IENqw2YV8nWJGlO0TkosUcgm8vkDYa4DF7ol7TWZ+ngJOtz/0fg1wme1E+7X5Y1HKxWnNbHcP2uH1BVBTmvjx8RiGwS8uWoLifBXueWZraIjsdDnUacJTb+3F8+/vn9bjICQZKQXbAHD88cdjw4YN2LZtG9577z1ceOGFQhwXSUFLtxm1Ame1eeeeMAtujx9/f203Amxiky7H+tX3D8fDvzoZh82evNy1ulgLu8s3YQqo0AIBFmY7lxmbjEErh8XugU/gE/bEM9syBFjA4R69St/SbQbLgtZ+kRlpfm0+fP5A2PDFRFnsbugmOXEuMqgQCLARV/cIYcjinBE7tgnJVQqZGADg8oxe0LMmEGwbxm0kcbi8GBhxJhVsA4Beq4ApjT3b/CTyRPvJx1Mrpbjl8iNgdXhw37Pb0r6uLJrdTVx2/ZNvO8MuehAyE6QcbJPM4vb60T1gE3Q42lg1pXlYNteIz3d1A0hs0uVYRQYligzRV+VUTtGQNGswUxw1s62Vg2Uh+NVde4KZbb6/bOz6Lz5IoeFoZCaaV5MPACn1bXNl5JH/fkd3baenlHzY7EKBjtZ+EZKp+LkyY0vJucx27OFowOjwQ75vm58lk2yywaBN38BVgBveJmKAyuLkM9u8unIdfnzuYmw/MICXPjwgwNElZ3fzYLAdwI+Pv+2ctuMgJBkUbGeZ9l4LAixQU5aezDYAnH/iLACARCxCWVFik8gTUVUcXP+VxJC0gx0j6Bm0x3VbPoAeP8l4rPFXtoWSaGZbG7wSP3YieVOnGXqtnLJrZEbSaeSoMGpS6gs029wT1n7x0rlrm2VZDFtc9LdHSAZTBN9fne6xwbY7gcw2d27AV9nxCYBkM9vcDJj0Vey19VpQWqiBXCoW5PFWr6jCicsr8Pz7jdh1aECQx0yEP8Bib/MQjl1SjvoKHd75onVK2gsJEQoF21mGH45Wm8Zge1F9IWZX6lFTlgdJHMNFkqXXypGnliWc2WZZFnf9Ywv+/u/v4ro9v+8yVmYbgOATyUM924o4M9tK7uTANmZIWlMnNxyNekbJTDW/tgD7WoeTWjPj9vrh8vgnvVhWpOcz28IP1nG6fXB5/BRsE5LBlOPKyFmWTaxnO1i5wgfI7b1WyGXi0IW8RKU/s21BdQr92uMxDIOfnn8YSgvUeOjlnSnN10hGa7cZdpcPC+sLcPqqGrT2WNDYOjKlx0BIKijYzjKtPRYoZGKU5Ce2jiIRDMPgjqtX4v/94Mi0PQePH5KWiIERJ4YtLjTF2QNqDu7ojTWNHEhjZlsR/zRyALAEM9sujw8dfVYajkZmtAV1+bA7vehIooqFr0yZrCRUIZcgTy3DgEn4YJtf+5VPa78IyVihMvJgZtvt8cPjC8QdbKsVEsgkotDfe1uvBZVGDUQJTiLn6fPksDu9aQlaXR4feobsqEmxX3s8hVyCn5y3GD2Ddmz8eGrXge0OVj0trCvEcUsroJRL8M6XLVN6DISkgoLtLNPSbUZ1aV7SbwLx0mnkU9KnWFWsRXufNaGSof1t3BXPYYs7rky0KY4ycj7rLXTpV6KZbf7kgN+13dbDtQ3QcDQyk82vLQCApFaAWWz8xbLJT5yLDMq09GwP045tQjKeQh6e2eZ3bMcbbDMMw20kCQ41a++1pjR8jL94b0pDdrujzwqWBarSMCR3aYMRRx9Whpc+PIDeofja9ISwp3kIxfkqFBmUUMolOHF5BTbv7A79HAnJdBRsZxGWZdHSbUnbcLTpUFWSB4fLF7qiHI/97aPlRU1d5pi3N9ncEDGAVjX5G69MKoZGKRV8gqjD5YNMIoJUEt+fokYZPiDtUCf39dFwNDKTFeerkJ8nT2pIWjwXy9K1a3soeDGvgMrICclYfM82PyAt0WAb4NZ/DVtcsDk8GLa4kh4OC4y2pZnSsE6rrYerDqpJ00aaq89eCJGIweP/3p2Wxx8vEGCxu2kIC+sLQh87/ahaeH0B/Gdr+5QcAyGpomA7iwyaXLA7vWl7kZ0OVcFpmokMSdvfNhz6HjTHEWxzw5XkMasBDHlyDAuc2ba7vHFntQFuR7laIYHVyWXEmzpNyFPLQn2phMxEDMNgXm0B9iST2bYHy8hjZradgg/V4QcmUc82IZlrfBn5aLAd3zRyYDTYbgsNR0s9sy30DBiAK3GXSUQoKUhPK2GhXolLVjfg6z292LK3Ny3PMVZHnxVWhwcL60aD7ZrSPMyryadBaWTGoGA7i7T0cIFlOoejTbWqBNd/eX1+NHWZsbTBiJICVVzBtsnqjpoV4xm0o2VkQnG6fHH3a/M0KlloGnlTpxn15ToajkZmvPm1+RgYcSZc7m3my8ijnDgbDSq4PX5YHcLuZx0yO6FWSEKZM0JI5uH3bDvdfBl57At04+XruGCbv/Cf7CRyYHS6eaIzYOLZc93WY0FliRbiNLYSnnVsPSqLNXhs43dwp3lY2u6mQQDAwvrCsI+fflQNugft2HVoMK3PT4gQKNjOIi3dXGCZTZltnUYOnUYW95C0lm4LvL4AGqoNqCvXxRds2+ILtvVaueA9VlxmO7ETda1KCqvdA6/Pj7ZeC2ZV6gU9JkKmA9+3vS/BUnKzzQ2JmIn6dzQ6kVzYUvJhi4uGoxGS4ZQClJEbtHI43T4cbB+BUi5JqZqMH8aaaLB968Obcd3/fRx1kGRbryXp/d/xkkpE+Ml5i9E37MArmw6m9bl2Nw+hUKdAcX745PejF5dBq5LinS9b0/r8hAiBgu0s0tptQXG+KqGy5Jmgqjgv7jLyxjbuRH1uMNjuGbLD7oyezTJZ3VHXfvHSsRvT4fIl/PPSqmSwObxo7bHAH2BRX64X9JgImQ61pXlQyiUJD0kz2zzQaeRRqzvStWt72Ew7tgnJdFKJCCImfECaiAHUCbz38kMQdxwcQFWxNqVqMolYBK1KltD5hNcXwP62YTR3mfHLP3+Cd76cWEJtsXswbHGnPdgGgMWzinDc0nK8+tFBdA/a0vIcLMtid/MQFtYXTvh+y6RinHxEFb76rict5fiECImC7SzCDUfLnqw2r6pEG5ywGbuEan/bCAp1ChTolKEglM/4T8Zsc0dd+8XLz5PD5fGHJogLwZFUZpsrI2+i4Wgki4jFIsytNiQ8JM1sd0ctIQe4nm1A+F3bQxYKtgnJdAzDQCGXhPVsa9WyhLa28H3WAyPOlErIQ4+Xl1ilXN+wHQEWuPKM+VhQm4+/vrIT//PPLaHVhwCX1QamrrrxqrMWQCIW4bGN36Wld7prwAaT1R02HG2s01bVwB9g8f6WNsGfm8wsXl9A0HNzoVGwnSVcHh96Bm1ZNYmcV1WihcPlw6Ap9tXLA+0jaKjOBwDUBXdPR5tI7nL74PL448ps69OwrsPhTiKzreaC7UOdJmiU0gnlVYTMVPPrCtDWa4EtRjXKWNyAw+jloHlqGeQysaBl5IEAixGLa0pWIBJCUqOQScIy24mUkAPhQxBTGY7GM2jlCWVkuwe5VVsL6grw2x+uwvqzF2JbYz9+ce9H2L6/HwDQ3sMF29WlqV8MiEeBTolL18zFtsZ+fLVb+GFpu5u4KqcFdZGD7fIiDQ6bXYj3vmqLq5+dZK8n39qD6//8yXQfxqQo2M4S7b1WBNjs6tfmVQYnkkfrUwK4ILh3yIE5VQYA3JujXiuP2rc9ujYo9huvQZtcn1U0DmfimW2NSgqb04tDnSbUV9BwNJI95tfmg2WBxtb4s9tmmyfmzAWGYVCkV2JAwMy21eGBz89SZpuQGUAhE4dlthOZRA4gbDaDIJltrSKhc4nuAS7YLi1UQyRi8F/H1+O+646DRiXFbx77Ek+8vhsHgxfgp/I16axjalFTmoe///u70PdXKHuah6DXylFepJn0NqevqsXAiBPfNvYJ+txk5ggEWHy2vQvdg/a0D+xLFgXbWaKlm7uimZWZ7dD6r+hD0g4E92s3VBtCH6uPMSQtFGxrY785GYJvYEL1bbMsC4fbl1DfGMCVkbMst9aM+rVJNplTaYBYxCTUt22xx85sA8Lv2g6t/aIBaYRkPIVcAmdoQJo74cy2RimFVMKdMqeyY5un18oxYnXHXX7dPWiDWikNO+66ch3+75fHY+1RNXjtkyZs+qYD1aV5U3oBXizmhqUNjDjx0qYDgj0uy7LY3TSIhXUFUb+eFQtLYNDKaVBaDjvYMRK6cDVkErZVTCi0ryRLtPaYoZSLs7KkWKeRQ6+Rx1z/1dg2DLGICethrivXYfuBAXi8fsik4gn3MQf/QHWJZLYFWv/l8vjBskiqZxsAWBaYVaEX5FgIyQQKuQT1Fbq4+7bdXj+cbn/Mnm2A69s+1GlK8QhHDZm5YLuAgm1CMp5SLoF7TBn53JrEgm2GYWDIU8Du9AqSOTZoFfB4/XDG2UrWM2BHWaF6QuCpkElwzfmHYfncYjz40g4cNrso5WNL1IK6Apx0eCU2fnwIUrEIvgALl8cHt8cPt9fP/a/HD58/gEvXzJ20LHysvmEHBs2uCSu/xpOIRVi9ohovbTqA/mEHjFl4DhwPk9WNd75owYWnzIFEnFt51K/3jLYwDIw4URalEmK65NZPJIu1dHPrHhIZ+DGTVJVoYwbb+9tGUFuWB4VsNHitL9cjEGBDg0PGGy0jj/3mqVXJIBYxgmW2+WEOiU8jH709DUcj2WZWhR7NXea4Mj78cKB4LpYZDSpY7B7BSh35YJvKyAnJfHKZGE63DyzLJtWzDQAl+SrUlwvTupXoru3uQRvKCicPIo5cUIKnf7sGF586J+VjS8aVZ86HIU+B597fj1c2HcAHX7fh6z292NcyjK4BG2xOD1q6zXjstfiGqYX2a8cRmK9eWQ0GwPtf5+6gtA+2tOG59/dj18Hc2zv+1e5elBQEN46YhN04IhTKbGcBlmXR2m3GcUsrpvtQ0qaqWItNWzvAsmzENzp/gMXBDhNOOrwy7OP8kLTmLjNmVxom3M+UwMm6SMRwpV8CZbYdLu6kP+HMdvAkQaWQoKRALcixEJIpast0ePuLVvSPOGNW6lhs3L7ceLYJ8BPJB0zO0ByI8QIBFnf+42tUFmtx1VkLoj4eX0ZuiKMFhRAyvZQyCQZGHHC4fPAH2FCFWCKuu3gpGAiT0OAr5UxWd9SeZADweP0YMDlxclH09/vpnN9i0Crw91tPQYBlIRGLIh7Lf7a248/Pb8dXu3uxalFp1Mfb3TwErUo26Wv1WEaDCsvnFeP9r9tw8eqGnMvsAghVg327vx/L5hqn+WimTvegDR19VvzgzPn455t7BZ3LIqTc+43MQgMmJ+wuH2qycO0Xr6pEC6fbh4FJ+jE6+6xwun2h4Wg8bu+4JLQmazyzzQO1QhKxxDwSg1YuWGbbnnRmmztJqCvXZW0lA8ld/OtYa4yVfQC39gtAXGXko7u2J38zfu/rNmzd14d3v2yByxM9Az5kdkKnkYX6OAkhmUshF8Pp9sNi5y7QJZPZNhpUoYt2qeIv0sVzPtE7ZAfLAmWFmX1xXSwWQSoRTxr0H7+0AuVFajz3XiMCMaaH724awsL6grjPcU5fVYMRqxvf7BV+Knqm8wdY7AvOOfk2OJk+V2wJlpAffVg5DFr5pDHCdKOzhCzQyg9HK83ekuJYE8kb27jhaHOrw4NtkYhBXZQhaSZrfDu2eYa8xCaIRpNsZluj5IJzGo5GslF1cK1Oa0/0gYhAYmXko7u2I5eZDVtceOrNPSgyKOF0+/HN3ujTbYctLhTk0dovQmYChUwCt8cHqyP5YFtI+gRmwPBrvzKxFzURYrEIF6+ei9YeC778rmfS2w2MONE37IirhJy3rMEIrUqalhVkma691wK7y4e6ch06+qwZm91Nh69296KmNA/F+dyFsEz92inYzgItPVwgOVW7FacDv9dysr7t/W3D0KqkKI1w5beuXIeWHkvEPYxmmzuuHds8g1aR0G7MaPie7USnkeepZbh0dQPWrKwW5DgIySRKuQSlBWq0xBVsx19GXpCngEjETBpsP/7v3fD4AvjdD1chP0+BT77tjPp4wxYXTSInZIZQyFLPbAtJq5JBFOcMGH7tV6ZntuNx7JJyVBZr8Ox7jZPuxt7dzPUdxzNIjScWi7B8XjG+2duXczu3+X3k606fByB3sttmmxv7WoawYmEJAKBIr8rYnm0KtrNAS7cFJQWqhMuRZ5I8tQx67eQTyfe3j6ChOj9i+VJ9uQ4erx9d/RPvO5JoZlsrh9nmFuTFnM9sKxPMbDMMg0vWzI2rl4mQmaimLC9UsRON2eaGRMzEVR0iFotQoFNELDPbuq8Pn+3owkWnzEFlsRbHLS3HtsY+2IJZsEiGzS4ajkbIDKGUS+DzB0KzFhLdsy00kYiBXiOHKY5Kue5BG7QqGTRJ9JlnGrGIwSWr56Kjz4rPd3ZFvM2e5iGoFRLUJLjK9sj5JbA6PGhsjW+bRaL4SqpMs6dlCIV6JZbPNaJAp8D2HAm2t+7rQ4AFVi7g+v/5zHa86/SmEgXbWaC125yV+7XHqyrWRty17XB50dFnndCvzasLlltHKiU329zQJxhsB1huT2eqks1sE5Ltakrz0DNoi9k3bbZ5kKeWxz0YiNu1HR5su9w+PLJhFyqMGpx/4iwAXG+hz8/i812RSx19/gBMNjet/SJkhpAHt5TwlS3TndkGuInk8bSl9QzaURZjONpMcvTiMlSXaPHce/sjJi52Nw1ifl0BxAnOpFnWYIREzKSlb7up04R1v30Xmye5QDBdWJbF3uYhLKjl9pEvnWPEjoMD8PsD031oaff1nl4U6BShrTxFeiU8vkCoeiWTULA9w7k8PnQP2lFTmr3D0XhVJVp09FknXLU62G4CywIN1ZGD7QqjBlKJCE3jgm2/PwCrw5NYGXkwkxXP1ehY+My2Qk5LAQgZq6Y0DwF28hkNPLM9sYtlRQblhDLyFz7Yj/5hB352wWGQSrhBifUVOpQXqfHp9sil5CarGyxLa78ImSmUcu5vu3/YAbEovmqYdDNoFXGWkduyooScJxIxuHTNXHQN2Ca8xg5bXOgasGNhXfT92pGolVIsrCsM27sslK37+sCywNNv7YMvgwLZniE7RqxuLKjLBwAsm2uE3enFwQ7T9B5Ymrm9fny7vx9HLigJXWwfu3Ek01CwPcO191rBskBtFk8i51WV5MHp9k/ITDW2cyVDk2W2JWIRqkvzJmS2LXYPWDa+fk8eP0F0WIC+bbvLC6VckvDVW0KyHV+p0xKjlNxi8yAvjuFoPKNBhSGzK3TVv6XbjI2fNOHUI6uwsH705I5hGBy/tALfNQ1iyDzxjZv/+6eebUJmBkUos+1Enlo2rWuyeIY4Vom6PD4Mml0zfjjaeCsXlqKuTIfn398floXdE+w/Xlgff7/2WEcsKEZnvw3dgzZBjpO34+AAlHIJeobs+GBLu6CPnYq9zdz3a36wv33JnCKIGGBbY3aXku86OAC3xx8qIQe4nm0g+saR6ULB9gzHn4zmShk5ALSPy3btbxtBZbEmNKU7kvpyHZq6zGFZcX7HdmKZ7fgniMbidPky4uo6IZmmOF8FhUwccyK52e6Oa+0Xr0ivRCDAYsjiQiDA4uGXd0KrkuIHEXZqH7esAiwLfLZjYtngkDkYbFNmm5AZQSELZrZHHBlRQg5w5x4mmzvqGqzeIa4SJ5sy2wCf3W5Az6AdH20bzW7vbh6EUi5GfXly57RHzueGZW3ZE32bRCJcbh8aW4dx+qoazKvJxwvvN8ZscZoqe5q54cCVRu78WKuSYXalIev7tr/e0wulXIJFs0YvyoxmtjNvSBoF2zNca7cZSrk4tEM2m1WVBIPtMUPSWJbF/rYRNFTlR71vfbkOdqcX/WOuePGl4ImUoYbWdQiwa9vu8mb1UDtCkiUSMagujT0kzWxzx7X2izd21/Y7X7Zif/sI1p+9MLS7fqzyIg1mVeojTiUfDma7qWebkJmBb9caMjmnfTgaz6BVIBBgQ+vIIuke4DK0ZYXZldkGgCMXlGBWhQ4vfLA/VJq9u3kI82oKIBYnF56UFKhRXaIN7V8Wwt6WYfj8LJbMKcIVZ8zHsMWNtza3CPb4qdjTMoT5teH7yJfNNeJgx0hG9i4LIRBgsWVPL5bPNYZavwBuDoNMIqLMNhFeS48FNaW6sD+0bKVVyWDQysOGpPUOOWCxezBnkn5tXl3wKmlzlyn0sWQy2wqZBCqFRLCebcpsExJZTWkeWnvMk04W9Xj9cLr9CbWB8Fe+97cN4+m392LJ7CKcsKxi0tsfv7QChzrN6By3yWDI4oJIxCSUVSeETB9lMNgOsJkxHA0YrZSLdj4xumM7uzLbANeuc9lp89A37MCmbzpgtrnR3mtNuoScd+SCEuxpGYq6TSIROw4OQCIWYV5tPhbUFWD5XCNe+c9B2JxeQR4/WSMWF3oG7ZhfG/79WtZgRIAFdh4YmKYjS68DHSMYsbqxYmFp2McZhuEmklPPNhESy7Jo7TbnxHA0XlWJNiyzvb99BAAwN0awXV2aBxGDsCFp/BqHRE7WAa7PSoiebYfLS5PICZlEbWkerA7vpH9rozu24z9x5oPtZ99thNcXwDX/v707D4+qPNsAfs+SWZKZyTrZyE4CYREEAsi+CBU3RESs4lpR0VZttYtd+NTWBbC1FhHqjiIVWitVlIoIVFAUjUCAECAxCWQjTPZMttnO98cwI4Gsk3NmSe7fdXkps5zzntcwmee87/M8i0Z1mbs57dJ4yGTAnoPtt5LXNLQiQq8eEDc5ifoD1zZywI+C7XM1YLraKVduMiNMp+63u+DGZUZjaFI4Nn92Ajn5zuCwN/21OzJheCwcDkG0vOWckyYMT41w5/3fftVwmFuseH93vijH91RuUcf57RmJYQjRBvXbftv7j56BXC5DVmb0Rc8Zw4JRxZVtEpOptgVNrbYBURzNJSnWgJLKRneO04lTNdCoFO587s5oVEoMitbj+9Ifgu26xjYoFXKE9HJ1OUyv6VG7ju40t9p63WObaKBI6aZImutmWW+2hGpUShhCVLDYHLhp7pBut2ZGhmpxyeAofH6gtN0Ke3V9KyJDtT0+LxH5litQAvwp2HalpXW9sh3Xz/K1zyeTyXDLvEyYalvwxtZcqIIUyEjsevGkOxlJ4QjTqUXZSl5vbkNheT1GZxjdj6UNCsX0Swfhw72FqBVh4cVTuYXVUKsU7p2bLgqFHJcOMeLAibN+2XO6r/bnVmBkWmSHfeedK9vM2SYRFZU7A8eBUBzNJSlGj1aL3b1N5MSpWmQkhvcov2fwoNB2FcnrzG0I0/W+Kmm4Xo06EXK2ubJN1Lnkczt2OiuSVt/U+5oLAJAYo0dSrB4LZ2b06PUzxiagvKoJBaV17sdqGlpZiZwogJzfYtNfgm13DZguCq5WVJn75Rby840ZYsSwlAhU17ciMzkcQcq+hSYKuQxZw2Lw3fHKPrfpOlxQBQAYndG+FdmSeZmw2hzY/NnJPh2/L3ILq5GZHA5lB99/xw6NRk1Da7udoP1BucmMkkozJo6M7fB5Y5gWNQ1tsNrsXh5Z1xhsBzDXl1BX4bCBIPHcCnZJZSParHYUltV32l/7QoMTQlHT0OrOj6o3967HtkuEQbyVbeZsE3VMpw2CMVzbaZE0T7aRA8Bjt4/Hip9O7fEXusmXxEGpkOPzAz9sJa+pb2UlcqIA4uqzDfhPsK1VK6EKUnS6jbylzYaahrZ+WRztfM7c7UwAwCXpve+v3ZEJI2LQ1GrDsXNbrT2Vk29CiEaJ9ISwdo/HG3X40cRkbP+6GGeqm/p0Dk+YW6wormjAiNSOt9yPHercYt3fWoC5eqif3/LrfK5UMVfHEH/BYDuAFZU3IC4ypN/m8nQk2V2RvAGFpfWwO4RO+2tf6Iciac7V7brG1l7nawPOu9HNrbY+tX6w2x1otdgH1P87ot5KjQtFcUV9h8+5t5H38u9wmF7dYfXxzuiCVcgaFo29h0phdwhos9phbrEy2CYKIEqF3F1jwV+qkctksnM75Tq+eV/Rj4ujXWhUehSW3z0R105NE+V4lw6JRpBS7g7OPHXopAmXpEd1uHvyx3OHQC6T4R/bj/fpHJ44XlwDQfihv/aFosK0SIzR97sWYPtzzyA13oDoiI47MPlrr20G2wGsuKIeKQMoXxtwfvGNMKhx6kyjuzhaT1e2085tt//+XEXyOg9Xtl1FTfpSkbylzRmoc2WbqHMp8QaUnjV3uCWs3twGpULW65oLnpgxNgE1DW04+n0Vas7dMWfbL6LAIZPJoD1XJM1fVrYBZ1paZyvb5VX9t+3XhWQyGSYMj0WIVpwFCK1aiVHpUfg2t9LjvOUz1U2orGlul699vshQLa6dlob/HSjtNN1JKrmF1VDIZV1+/x2XGY3comq/6QneV/XmNuQVVWPCiI63kAP+22ubwXaAam2zobyqCakDqBK5S1KMAacrG3HiVA2iw7U9XmHSBasQHRGMwjJnO6G6xrZe53sCP7Tr6CrPqjtNrc4PP28ECkSBKiXOALtDQEml+aLnGposMISoe11zwRPjh8dCq1bg8wOl7uroXNkmCiyuvG2/Cra7SEsrNzlXtvtzgTQpTRgRi4rqJpSevfj3R0+4qqN3FmwDwA2zMxCsVuKd/+Z1eazq+hbk5Jtg72MOuUtuYTXSE8LaFf670Jih0bDaHDj6fd+20vuLb49VwiF0voUcACLDzgXbXNkmMZw60wBB+KFi70CSFKtHSWUjjp+qxdDkiF69d/CgUHxfVo/mVhtsdofHOdtA1+06utPc6uzPqOU2cqJOpbiLpF28lbzebOl1vran1EEKTLokHvsOl6OyxvkFmAXSiAKLxg9XtsP06k5v3JdXmRFhULt7hFPvTBjuXAH1dCv5oZMmRIZqkBDd+c4CfbAKC2dlYH/uGRwvrnE/brXZkZNvwptbc/Hgn3fjzj9+ij/8fR9+//d9qK7vWyBosdqRX1LX6RZylxFpkVAp5f2mBdj+3ApEhWowOKHzuEcdpECYTu13vbb5NzhAubasDKS2Xy5JsXq0Wexos7T0eAu5y+BBofjqSIU7F8rTnG2g63Yd3WnmyjZRt+KjQqBSyjts/1VvbkOoF3MvZ4xJwK7sEny6/zQAsPUXUYDRqJVQKeVQn9dz29fC9Ro0NltgtTkuKtpYbmpC3ADYQi6VqDAt0gaF4pvcM1g0u2fdJ1wcDgE5+VUYPzym291T86elYesXhXhjay5mjBmE706cxZGCKrRa7FAqZBieGok7rx4OjUqBNz8+hoef/x8euXkcxnbQJ7onTp6uhc3uwIjUrheb1EEKjEyPwoF+UCStzWrHwZMmXJ6V2O3/j6hwrd+tbPObfgDKL6nFfz7/HiHaIESHd1wkoD9LPK+n9tAeFkdzcRVJO3jS+eHjyTZyQ4gachn6dHfStbLNAmlEnVMo5EiK1XeYD1ff1IbYSO9trxydEYVQnQq5hdVQBSl4o4wowGhUShhCet/uU0quXtv15jZEhbW/gVdR1YTxw2N8Max+Y8LwWPzzsxPOm7O9+L5XXNGAxmZLl1vIXTRqJX48Zwj+vuUI8oprEBMRjNlZiRiXGYNL0qPa7UwYlWHEyre/xeOvfoUbL8/Akisye9S69ny55yqsD+ukEvn5xg6NxmsfHEVlTTNiOikqFghyTprQZrFj4sjOt5C7GMO0KD3rXy3P+G0hgLRZ7fjHJ8fxn88LEKZX49e3Zrmraw4kSbHO1XylQuYOnnvK9XrXthpPtpEr5DJkJIZj+9encPWUVI9WuFw52yyQRtS1lLhQZB+vvOhxb24jB5yB/7TRg/DRl0WINGj86gs7EXXPEKLyu/67rmC7rrF9sN3cakWduQ3xRq5s98XEEbHYtOMEsvMqcfn4pB6/79BJV752z1qRzZucinCDBilxBsRFhXT6+yExRo8/Pzwdr/7nKP61Mx+5hdX41a1ZF91o6cqxwhokxep7lA7hagF24MRZXDkppcfn8BctbTZ8sOd7vL+7APpgFS4Z3P0NBmO4FgdPnIUgCH7ze5o52wHi6PdVeOjPu/H+/wowZ0IyXvr15R5vQQl0Om0QIgwapA0KhSqod9vBIgwahOnUyCty5tZ4so0cAB7+8Ri0We34y8YDsDt6X+myhSvbRD2SEm9AXWNbuxoJFqsdLW02GLwYbAPOquQA87WJAtHS+SPxi5vH+noY7YR3UgPGVRwtnsXR+mRwQigiDBp8c6x3eds5+SYkxuh7vJiikMsweVQ84o26bgM8jUqJBxdfikduGYvCsno89Jf/ITvv4hvKHbHbHcgrrsGIbvK1XRKidYgK0wZcCzCrzYGPvijEvc98ho2fHMfojCis/NlUBCm7/85vDAtGq8XZotNfcFnNzzW3WvHWx8ewbV8xYiKC8dR9kzF6SPfbWvq7pfNHIiS494GqTOZcDXetbId6WCglMUaP+xeOwgubDuKfO07g5isye/V+rmwT9YyrLsWpigZ32716swWAZ2kgfTE0ORwJ0bouC+YQkX/qrDevL3VWA8bd9osr230ik8kwfngM9hwshdVm71GwZrXZkVtUjbkTer4S7olZ4xKRnhCGVRuy8eRrX+OGWem47arhUHSxY7WovAEtbTaM6MEWcsB5/eMyo7H3UBlsdgeUvdyy7m0Oh4DPD5Zi4yfHUVnTjJGDI/H7n0xAZi+KIbvbf9W2QB/sH8UQ+U3fj2XnVeKl93JQXd+C+dPTcNu8Ye7WFQPdtDGDPH6vK9jWB6t6nStzvsvHJ+FwQRXe3XECIwZHYlR6z2+CNLdaIZfLoO7lyjzRQJMc66pI3oBLhzh389Q3Ob+YGrxYIA1wfnF57qHpFxUyIiLyRLg72L5gZftcEdfYSP+7QRBoJo6IxfavT+FIQXWPdoQeP1WLNosdl/YgX7uvfthWfgT/3l2AOnMbHlo8ptMUUVe+dk9XtgFnC7DtX5/CiVO1vXqfNwmCgOy8Sry9LQ/FFQ1Iiw/Fk/dMwpihxl5vBTe623819zrVVCqM3PzU9q+LseZfOUiM0WHVg9N6dVeHuuZqG+BJvvaFli0chROnavGXjd/hb4/M6vExm1ttCNEo/SafhMhfherUiDBo2lUkrze3nXvO+3etdVqmfhCROIKUCoRog1B3QfuvcpMZUaGaLvsoU8+MyjBCFaTAN8fO9CjYzjlpglwuw8jBPcvX7it1kAI/u/FSRBg0ePfTE1Aq5HjghtEdBty5hdWIjgjuVY736Awj5HIZDpw467fB9idfFWPtvw8jLjIEv7p1HKaOHuRxTSr3yrYftf/y29vzpWcbsfzlfTA3W3w9FJ/Ye6gMiTF6/O2RmQy0Rea60yXGFlStWonf3J6FxmYr/rrpABw9zN9ubrWyxzZRD6XEG1DcLth2/l7wtOYCEZG/CNerO9hG3sQt5CJRBykwZogR3xw7A0Ho/jtaTr4JGYlhCPHyjdWbfzQUN16ege1fn8Ir/zly0VgFQcCxoupuW35dSKcNwtCkcL/ut320sBrGcC3W/mY2po9J6FPx59AQNYKUcr9q/+W3wfbeQ+U4dNLU46IB/Ynd7sDJ07UYlR7Vo/wS6p3YiBAEa5Tu7Vt9lRofiqXXjcSB42ex5X8FPXqPa2WbiLqXGmfA6cpG2OwOAEBDk2tlm8E2EQW2cL2mwwJpcSyOJpoJI2Jhqm1Bfkldl69rarHiZEmdV7aQX0gmk+G2K4fh+pnp+PjLIrz24dF2AXeZyYx6s8Wj1emxmdH4vrQOjX66gFlR1YQEo06UnHK5XIaoMG3/Wtk+e/YsHnjgAYwbNw6TJ0/GCy+8IMKwgGPn8hJy8qtEOV4gOXWmES1tdmSmcEVbCnK5DI/cPBY3zM4Q7ZhXTkrBlFHxePu/eTheXNPt65tbbaxETtRDKXEG2OwOlJmcRYPqzRYoFTLesCKigHfhyra52YLGZgvio7iyLZaJI2JhCFHh6Tf34/SZhk5fd/T7Kjgcgs8KEctkMtx1zXBcOy0NH+4pxFsfH3MH3LmFzu+Ww3tYHO18GYlhEARnoVF/VFEl7s0lY5gWptpm0Y7XV30Oth944AEYjUbs27cPmzdvxn/+8x9s3bq1T8e02x04ccr5Q5VTYOrRto/+JO9csDaMwbZkJo6ME7Vwgkwmw88WXwpjmBar3snuNv2hqdXKSuREPZQS7/y76tpKXm9ugyFExZoHRBTwwgxq1J23su0qjhZv5Mq2WEJ1ajzzwBQAwG/XfomC0roOX3co3wRVkAKZyeFeHF17MpkM91w3EldOTsG/dxdg4/bjAJyLkKE6lUfdMBKj9QCA0rNmUccqhsZmC8wtVsSJeHPJGN6PVrZzcnJQUlKCP/zhD1Cr1UhMTMSGDRswceLEPg2qqKIBLW12DEuJgKm2BRXVTX06XqA5XlyDCIMa0eE9L4BAvqfTBuHXt2Whpr4Vf9t8sMubRC2tNgSrubJN1BMJ0TooFTIUV7iCbQu3kBNRvxCu16ClzY6WNmdL0PJzO3jYY1tcybEGPPvTqVCrFPj9ui+RV3TxLsSc/CqMTIv0eQqnTCbDsutHYe6EJGzecRKbdpxAbmE1hqdGenSTOSpMC1WQwi+D7Yoq8XvKG8OCUdvQ6k4987U+BdtHjx7FkCFDsGbNGkybNg1z5szBjh07EB3dfbW/rri2kN/8o6EABt5W8rziGmSmRHDVJgANSQrHndcMx9dHz+CRv+3Bqg3ZeGNrLj7c+z2+OlKO/JJa1Da2Ole2tVzZJuoJpUKOxBj9D8F2UxtCvdz2i4hICq76MXXntpKXVzVBJgNiIxlsiy0+SoeVP52GMJ0ay1/Zh0MnfygaVl3fgpLKRoz2Qb52R+RyGX5246WYnZXo7jvtyRZy17ESjDqUnG0UeZR959rJIeo28nAtHAJQU9/a/Yu9oE/f9uvr6/Hdd99hwoQJ2LlzJwoLC7F06VIYjUZce+21Hh/3WFENjOFaXDrEiAiDBjn5Jlw5KaUvQw0YNQ2tqKxpxjVTU309FPLQddMHo6nFhtzCahSU1OHroxWw2i6+uxbCnG2iHkuJM+BIgfPGa725DTFJ7D9LRIEvXK8B4Ay246JCUG5qgvHcSiSJzxiuxYqfTsXyl/fhydf247d3jMeEEbHuhb3RGd5p+dUTcrkMD900Bna7gD2HSvs0toQYHY6fqhVxdOKoOHdzKSZCvN/p7l7bdS2IFvG4nupTsK1SqaDT6fDggw8CADIzM7Fo0SLs2LHD42BbEATkFVVjVLqzkfmlQ4z49lglHA6hT6XgA4WruBaLowUumUyGJfMy3X8WBAH1Zguq6lpgqmtBVV0LahtbMWd8kg9HSRRYUuJCsfu7UjQ2W7iNnIj6jXCD87PMVZG8vMrM4mgSCzdo8OxPp+LxV77CM+u/waO3jENOvgn6YBVS48Wr5yMGhVyGX9wyFkvmZfZp9TchWo+9h8rQarH5Vf/2iiqze5u7WNy9tmubAfi+t3ifZjstLQ0tLS2wWCxQqVQAALvd3qcBVdY0o6ahDcPP9ZEbnRGFXdklKK5oELWglb/KK65BkFKOwQPgWgcKmUyGML0aYXo10hPDfD0cooCUEm8AAOSfrkNLmw2hOpWPR0RE1Hdhelew3QZBEFBe1YTpYwb5eFT9nz5YhaeWTcYfX9+P5zZmQx2kQNawGL9c2FPIZX3eZp0Yo4MgONvK+VM8VVHVhDiRUyaizlvZ9gd9ytmeMmUKIiIisHLlSlgsFpw4cQLvvfcerr76ao+P6crXduUluHIncvJNfRlqwDheXIP0hDCfF2cgIvInqXHOYNv1u4A520TUHxhC1JDLnCvbDU0WNLVYubLtJcGaIDxxz2UYMyQarRY7LvVRyy9vSDhXkbyk0r/ytiuqxe8pr1EpYQhRwVTbD4JttVqNd955ByUlJZg2bRqWLl2KpUuX4oorrvD4mMeKahCiDUJijPOHIjJUi0FG3YAIti1WOwpK692r+kRE5BSmVyNUp8IhV7DNlW0i6gcUchkMOjXqGtt+qMzMtl9eo1Ep8YefTMCvb83C7Kz+m94XHxUCucy/2n81tVhRb7ZIUnnfn9p/9XnTfmJiIl555RUxxgLAubI9LCWi3TYO11Zyq82BIGWfW4P7re9L62GzO5ivTUR0AZlMhpQ4Aw6fK5LGnG0i6i/C9WrUNrShvIptv3whSKnAtH6+dV8VpEBMRAhK/agieYUElchdjGFa9/F9za8i13pzG0oqzRet7I7OMKLVYsfJ0/5XRU9Mea7iaMkMtomILpQaHwpX+3oG20TUX4TrNahtbEW5qQlyGRATwWCbxDcoWudXK9s/BNvip00Yw4P9ZmXbr4JtVyXuC/vIXZIeBZkMONzPt5IfP1WDuKgQd7EMIiL6Qcq5vG0ACA3hNnIi6h/C9GrUNrahvKoJ0RHB/XoXJ/lOYoweZSYz7A7B10MBAJRXOwP/2Ejx23NFhWrR3GpDU4tV9GP3ll/9bc4tqoFSIUfGBRWb9cEqDB4Uipxz2wfFYLXZkVdUA0Hwjx84QRCQV1yDYdxCTkTUIVewrZDLEKJln3oi6h/C9WrUNbaizMS2XySdhGgdrDYHztY0+3ooAJwr25GhGklakbnbf/nB6rZfBdvHiqqRkRjWYa+10RlGnDhVg9Y2myjnWv/RMfx6zV68vOWIX9zhqaxpRl1jG/O1iYg6kRijh1wuQ6hOBZnM/9qzEBF5Ityggc0u4PSZBuZrk2QSz1Uk95e87Yoq8SuRu7Tvte1bfhNst1ps+L60rtNK3KMyjLDZBeSeaw3WF2drm7FtXzFiI4Px8ZdFeObNb0QL4j3lytfmyjYRUcdUQQoMMupgYNsvIupHws+lD9rsAuJYiZwkMijauWuipNI/8ral6LHtYvSjXtt+E2znl9TBZhcwPC2yw+eHp0ZAqZAjJ7/vW8k37zgJAHjm/qlYtnAUsvPO4LfrvkRtY2ufj+2pvOIaBGuU7pZnRER0sYUz03H1lFRfD4OISDTheo37v7mNnKRiCFEhVKfyi5XtljYbahvbJFvZDtdroFTI/KLXtt8E28fOrVh3trKrUSkxLCUCOSf7ViStzGTGZ9+exlWTU2AM1+LqKan4/V0TUVLZiF+u3uuzZu/Hi2swNCkcCjm3RhIRdWbOhCTMm5Ti62EQEYnm/MK47LFNUkqI1vtFRfIz1ed6ykt0c0kulyEyVMtg+3zHimqQHKuHPrjzCrOjM6JQWF6PenObx+f5xyfHoVLKsejyDPdjE0bE4tkHpsBiseNXL+7F0e/FK8TWE82tVpyqaOAWciIiIqIBJtzgXNlWyGWICRe/MjORS0K0DqVnG31eILpcwh7bLsZwLUx1zNkGANgdAo4X11zU8utCozOMAIAjHgbDReX12HOoDPOnD263ZQcAMhLD8dxD0xCuV2P5y1/h8wOlHp3DEydP18IhgMXRiIiIiAaYEI0SSoUcMRHBUCj84qs59VOJMXo0NlvR0GTx6ThcPbalaPvlYgzTMmfb5fSZBjS32jotjuaSkRgGrVrpcd72O/89jhBtEK6fmd7h87GRIXjuwWkYmhyOP2/8Dv/aedIrd37yimshkwFDk8MlPxcRERER+Q+ZTIYIgxrxRuZrk7QS3EXSfJu3XVHVhDC9GsEa6dp4GsODUV3fCrvdIdk5esIvgu1jhc587e5WthUKOUYOjkROfu/zto+fqsE3x87ghlnp0HXRn1UXrMKf7puE6WMG4e1teXhh00FYrPZen69XYyuuQXKsQdIfOCIiIiLyT/ffMBpLrsj09TCon0twt//ybd62lJXIXYxhWjgcAmoaPE8/FoN/BNtFNYgK1bh7onVldIYRFVVNONvLvmkbtuUhTKfGtVPTun1tkFKBXy4ZhyXzMrEruwS/W/slahqkqVTucAg4fqqG+dpEREREA1TWsBikJ4b5ehjUzxnDtFAFKXwebJdXmSXN1wbO67Xt47xtnwfbguDsnT08NRIyWfeVuF1524d7sbqdc9KEwwVVuHFOBjRqZY/eI5PJ8OO5Q/HbO8aj+EwDHnnhc+SX1Pb4nD1VUtmI5lYb87WJiIiIiEgycrkMCUYdSnzY/qvVYkN1fSvipQ62Xb22fVyR3OfBdk1DG6rrW7vN13ZJjtUjTKfucd62IAh4+7/HEBWmxZUetIuZPCoezz04DQq5DI+t+UL0wml5xTUAOm95RkREREREJIaEGJ1PV7Yrq50rzVKvbEe5gm0fF0nzebB98txq8fC0rvO1XWQyGUalRyEn39Sj4mXf5J7BydN1uPlHQxGkVHg0xtT4UPzl4RnISHIWTnt72zE4HOIUTssrrkGYTi1pNT4iIiIiIqKEaD1Mtc1otdh8cn5vtP0CgGBNEHTaIJh6mXosNp8H2wUldQjWKJEUa+jxe0YPMaK2sa3bSnoOh4B3PjmO+KgQXJ6V2KdxhunV+NN9k3HFZcn41858PP3mN2hutfbpmIAz2M5MCe/RFnoiIiIiIiJPJcboIAhAuanJJ+evcAfb0lffd/baHuAr2/kldchMiYBC3vNg05W33d1W8r2HylBc0YAl8zJF6VsYpJTjp4tG494FlyD7eCUe/dseHPWw5zcA1DW2oaKqiVvIiYiIiIhIcq6K5L5q/1VR3QRDiKrL7lBiMYYFM2e73GTucb62S0xEMGIjg7tsAWa12bFx+3GkxBkwdfSgvg7TTSaT4dppafjjPZPQZrXjt2u/xHMbslHlwV2T46ec+dosjkZERERERFKLjwqBXOa79l8VXqhE7mIM13oUo4mpZ6W5JTaim/7aHRmdYcTeQ2V4e9sxNDRZUG9uQ73ZgoYm57/NLc4t3st/MhHyXqya9/j8Q4xY++vZ+PeuAvx7dz6+OXYGi+cMwYIZg3ucG368uAZKhQzpCWGij4+IiIiIiOh8qiAFYiJCUOqjiuQVVU09rtXVV8YwLcwtVjS3WhGskX4lvSM+D7YVChkyksJ7/b7LRsZh+9en8P7uAhhCVDCEqBCqUyM1PtT938lxBowfHiPBqJ00KiWWzMvE5eMT8fqHR/H2tjzs+OY07rluJMYPj+32/XnFNRicEAZVkGeF24iIiIiIiHpjULRvKpJbbXaY6loQH+m9lW0AqKprQVLsAA22U2INUHsQbGYNi8F7K66BSin3eXGx2MgQ/P6uiThw4ixe2XIEf3x9P7KGxeAn145AQrSuw/FZbQ7kl9Th6impPhgxERERERENRIkxeuTkm2B3CL2qm9VXZ6qbIQjSVyJ3MYY5uz2Z6lp6VYxbTD4PttMTe7+q7eJJkC6lsUOj8eIvZ2Hr3kJs2nEcD6zahRBtEJJi9EiOMyA5Vo+kWD2SYw04U90Eq83BfG0iIiIiIvKahGgdrDYHztY0ey3wBZzF0QAvBtvnVrZ9WSTN58F2RmKor4cgqiClHAtnpWPWuATsO1KBU2cacPpMI744VIZPWn5oFebaOp6Z7PnNBiIiIiIiot5IiHa23So92+jdYNuLbb8AINyggVwu82n7L58H2yMHR/l6CJIIN2jabREXBAG1jW04VdGAU2cacfpMA3TBKkSGan04SiIiIiIiGkh+aP9lxvjh3jtvRVUTQrRB0Ad7J39aIZchKlQDU22zV87XEZ8H20oR+l8HAplMhgiDBhEGDcYMjfb1cIiIiIiIaAByFpNWeb0iebnJ2fbLm/W2jOHBfVrZbmy2oKnFipiIYI/G7fNgm4iIiIiIiLwnIVrv9YrkFdVNGNKHel2eiI0Mxp6DZfj7+4dx1eSUHhdKO1XRgA/3FuJ/35XAYnMgXK/GiLRI9z/JsYYetZdmsE1ERERERDSAJETrsO9wOQRB8MpKs6sg24wxCZKf63y3zhsGh0PA9q9P4eMvizAqPQpXTUnFZSNiobhgh7XDISA7rxIf7v0eOflVUAUpMCsrEWmDQpFXVIOjhdX4IqccABCiDcLw1AgMMti6PD+DbSIiIiIiogEkMUaPxmYrGposCNWpJT+fqbYZDi+2/XKJCtPikVvG4e75I/Hp/lP471fFWPHWt4gM1WDepBRcMTEZapUCn317Gh/tLUJFdROiQjW4/aphuOKyFBhCVACAqyY7a3GdrWnG0cJqHCuqxtHvq7Ev+3SX52ewTURERERENIC4KpKXVDZ6Jdgur/Ju268LherUuPHyIVg4KwPZx87g4y+LsPGT49i84wSClAq0tNmQmRyO264chkmj4jqtKxYdEYzZEcGYnZUIADh2ohDX71rR6XkZbBMREREREQ0grorkpWfNXukOVeHjYNtFIZdh4sg4TBwZhzKTGZ98VYymFivmTUrBkKTe55O7Vr47w2CbiIiIiIhoADGGaaEKUnitSFpFdRO0aiXCvLCK3lODjDrcPX+kpOcYGH23iIiIiIiICAAgl8uQYNShxEvtvyqqmrze9ssfMNgmIiIiIiIaYBJidN5b2a4y+3wLuS8w2CYiIiIiIhpgEqL1MNU2o9XSdfuqvrLbHaisaUY8g20iIiIiIiLq7xKidRAEoNzUJOl5THUtsNkFxEUy2CYiIiIiIqJ+LjHGWZG8pFLavG1/qUTuCwy2iYiIiIiIBpj4qBDIZZA8b7uimsE2ERERERERDRCqIAViIkJQKnFF8nJTE1RBCkQYNJKexx8x2CYiIiIiIhqABkVLX5G8oqoJ8QOw7RfAYJuIiIiIiGhASozRo8xkht0hePR+QRDQZrV3+ZqK6oHZ9gtgsE1ERERERDQgDU0Kh9XmwOcHSjx6/7ufnsCPf/8x/vruAZyqaLjoebtDQEVV84CsRA4ASl8PgIiIiIiIiLxv0iVxGJoUjje3HsOEEXHQaYN6/N7TZxrwr50nkRCtx5eHy7EruwRjM6OxcGY6RqVHQSaTobq+BTa7gyvbRERERERENHDI5TIsu2EU6pvasPGTvB6/z+EQsPbfh6FVK/HUssl4c/mPcOuVmSgsrccf/r4Pv3jhc+w5WOrOBx+owTZXtomIiIiIiAao9IQwXDkpBdu+LMLcCclIGxTa7Xt2fnsauYXVeHDxpQjVqQEAN80ZiutnpGP3dyXY8r8CPPfOd1AFKQAM3GBbtJXthoYGzJw5E++//75YhyQiIiIiIiKJ3XblMOhDVPj7+4fh6KZYWr25DW9+lIvhqRGYMz6p3XOqIAWuuCwFa399OX5/1wQMHhSKhGgdokK1Ug7fb4m2sv3444+jsrJSrMMRERERERGRF+iCVbjz6hH42+aD2JVdgjkTkjp97Rtbc9HcasMDi0ZDLu+4nZdcLsNlI+Nw2cg4qYYcEERZ2d6yZQvMZjOGDBkixuGIiIiIiIjIi2ZnJWJYSgTWf5wLc7Olw9ccKajCruwSLJyVjuRYg5dHGHj6HGyXlJRgzZo1eOaZZ8QYDxEREREREXmZXC7DsoWj0NhkwYb/XlwszWqz46X3chATEYzFc7jI2hN9Crbtdjt+9atf4Te/+Q2MRqNYYyIiIiIiIiIvSxsUiqumpOK/XxWjoKSu3XP/3l2AMpMZ998wChoV62z3RJ+C7bVr1yI1NRU/+tGPxBoPERERERER+ciSecMQqlO3K5ZWbjLjn5+dxNTR8RiXGePjEQaOPgXbH3/8MbZv346srCxkZWXh5MmTePLJJ/HEE0+INDwiIiIiIiLyFp02CHddMwInTtfis29PQxAErPv3YQQp5bhnwSW+Hl5A6dP6/yeffNLuz9dddx3uuOMOLFy4sE+DIiIiIiIiIt+YNS4B278uxvqPjsFiteNQvgnLrr8EEQaNr4cWUETrs01ERERERESBTyZzFktrarXi5S1HkJEYhnmTU309rIAjamb7Bx98IObhiIiIiIiIyAdS40Mxf1oaPvqiED9dNBqKTnpqU+dYRo6IiIiIiIgu8pNrR2DhrHSE67l93BPcRk5EREREREQXkclkDLT7gME2ERERERERkcgYbBMRERERERGJjME2ERERERERkcgYbBMRERERERGJjME2ERERERERkcgYbBMRERERERGJjME2ERERERERkcgYbBMRERERERGJjME2ERERERERkcgYbBMRERERERGJjME2ERERERERkciUvjqx3W4HAJw5c8ZXQyAiIiIiIiLyiCuWdcW2F/JZsG0ymQAAS5Ys8dUQiIiIiIiIiPrEZDIhOTn5osdlgiAIPhgPWltbcfToURiNRigUCl8MgYiIiIiIiMgjdrsdJpMJI0eOhEajueh5nwXbRERERERERP0VC6QRERERERERiYzBNhEREREREZHIGGwTERERERERiYzBNhEREREREZHIGGwTERERERERiYzBNhEREREREZHIGGwTERERERERiUy0YPvLL7/EwoULMXbsWMydOxebNm0CAFgsFixfvhwTJkzAZZddhpdffrnD969fvx4PPPBAu8eOHj2KJUuWICsrCzNnzsSaNWvAtuAdk2L+Dx48iMWLF2Ps2LGYPn06XnrpJc5/B6SYexer1YqFCxfixRdflGz8gU6K+f/qq68wbNgwjBkzxv3PSy+9JPm1BCIp5t9sNuOxxx7DhAkTMHHiRPzf//0frFar5NcSaMSe++zs7HY/82PGjMGIESNwxRVXeOV6Ao0UP/uFhYW4/fbbkZWVhRkzZmDdunWSX0egkmL+8/LysGTJEowdOxbz5s3D1q1bJb+OQOTp3L/11lu4/PLLMW7cOCxatAjZ2dnu58rLy3HXXXdhzJgxmDNnDj7//HOvXlMgkWL+XUpKSjB+/Hg0NDR45VoGBEEE5eXlwpgxY4RPP/1UsNvtQk5OjjB+/Hhhz549wp///GdhyZIlQl1dnVBSUiJcccUVwpYtW9zvNZvNwooVK4ShQ4cK999/v/vx5uZmYfLkycKGDRsEm80mFBUVCbNnzxY2bdokxpD7FSnmv62tTZgwYYKwadMmweFwCKdPnxamTJkibN++3QdX6L+kmPvzrVq1SsjMzBRWr17tpSsKLFLN/2uvvSb8/Oc/9/LVBB6p5v/BBx8U7r//fqGxsVGoqqoSrr/+emHdunVevjr/JvVnj+sckydPFvbu3euFKwosUs2/62fdbrcLRUVFwqRJk4TPPvvMy1fn/6SY/8bGRmHKlCnCypUrhdbWViE/P1+YMWOG8MUXX/jgCv2Xp3O/fft2YerUqUJ+fr5gt9uF9957Txg7dqxQXV0tCIIg3HTTTcKzzz4rtLW1Cfv27RPGjBkjnD592odX6p+kmn9BEIQdO3YIU6dOFYYMGSLU19f76Ar7H1FWtsvKynDNNddg7ty5kMvlGDVqFCZMmIADBw5gy5YtWLZsGUJDQ5GQkIC7777bfQcGAO677z6UlZXhpptuanfMiooKXHrppbj11luhUCiQkpKCOXPm4LvvvhNjyP2KFPOvUqmwc+dO9+O1tbWw2+0IDQ316rX5Oynm3mX//v3Yt28fpk6d6q3LCThSzX9ubi6GDRvmzUsJSFLM/9mzZ7Fr1y489dRT0Ol0iIyMxNq1a3Httdd6+/L8mpSfPS6/+93vMH/+fH4GdUCq+S8qKgIACIIAmUwGmUwGtVrttesKFFLM/3fffQe73Y5f/vKXUKvVSE9Pxy233ILNmzd7+/L8mqdzbzKZsGzZMqSnp0Mul+OGG26AQqHAiRMnUFRUhKNHj+Khhx6CSqXCpEmTMHv2bLz33ns+vlr/I8X8A8B7772HVatW4Wc/+5kvL69fUopxkKysLGRlZbn/XFdXh+zsbFx33XUwmUxIT093P5eamoqTJ0+6//yXv/wFMTExePHFF2EymdyPp6Wltdu2abFYsGfPnm6/HAxEUsw/AOh0OgDAtGnTYDKZcM0112D8+PESX01gkWru6+vrsXz5cqxZswYvvPCC5NcRqKSa/9zcXNTU1ODdd9+FIAi48sor8Ytf/AIqlUr6iwogUsx/Xl4e4uLi8OGHH2LDhg2w2WyYP38+Hn74Ye9cVICQ6mff5bPPPkNBQQG3MXdCqvl/4IEH8MILL2D16tWw2+248847ebOjA1LMvyAIUKvVkMt/WIdSKBQoLi6W9mICjKdzv2TJknbH+fbbb9Hc3IyMjAwcOnQIcXFxCA4Odj+flpaGw4cPS3w1gUeK+QeAmTNn4vrrr0dFRYUXrmJgEb1AWmNjI+6//36MHj0aI0aMAABoNBr381qtFq2tre4/x8TEdHtMi8WCRx99FFqtFj/+8Y/FHnK/IsX879y5E9u3b8fRo0exevVq8QfdT4g5948//jhuueUWDBkyRLoB9zNizb/NZkNsbCzmzp2Lbdu24a233sJXX33Fmx7dEGv+6+rqUFZWhvz8fHz44Yd45513sGvXLrz22mvSXkAAk+Jzf926dbj33nvbHYc6Jub8y2Qy/OY3v8HBgwfxwQcfYMeOHfjXv/4l3eD7AbHmf9y4cbBarXjllVdgsVhQUFCAzZs3o62tTdoLCGC9nXuXkydP4he/+AUefvhhREVFoamp6aLPms7eSz8Qa/4BICoqCgqFwjsDH2BEDbaLioqwePFiREVFYfXq1QgJCQGAdh9ULS0t7e5cdcdkMuH2229HdXU13nzzTf7i74IU8w8AarUaKSkpWLp0KXbu3CnqmPsLMef+/fffR21tLe644w7JxtvfiDn/SqUSb731FpYsWQKtVovk5GQsW7YMn376qWTjD3Rizr9KpYLdbsdjjz2GkJAQJCYm4s477+T8d0KKz/3jx4+joKAA119/vejj7W/EnP8jR45g/fr1uP3226FWq5GZmYm7774b7777rmTjD3Rizr9er8err76KPXv2YNq0aXjyySexYMECGAwGycYfyDyd+927d2PJkiW4/fbbcc899wAAgoODL7qp4cn31YFEzPknaYkWbH/77bdYvHgx5syZg9WrV0OtViM0NBRGoxGFhYXu1xUVFbXb4tCVgoICLFq0CMnJyVi/fj3zhbsg9vwXFxdj7ty5aG5udj9msVj4S6cDYs/9xx9/jMOHD2P8+PHIysrC559/jldeeQX33XeflJcRsMSe/8rKSqxcuRIWi8X9mNVqZd5kJ8Se/7S0NABoVwnVbreLP/B+QIrfu4BzN9P06dPdqUTUMbHn/8yZM7Bare26fiiVSiiVomT89Ttiz7/FYoHdbsc777yD/fv3Y8OGDWhpaXGvGNIPPJ37t956C4888gieeuop3Hvvve7HBw8ejPLy8narsIWFhb363BpIxJ5/kpYowfbp06dx33334aGHHsKjjz4KmUzmfm7+/Pl46aWXUFNTg9LSUrz++uuYP39+t8esr6/HT37yE1x11VVYuXIlcyW7IMX8JyUlQaVS4YUXXoDVakVBQQFef/113HjjjVJeSsCRYu5ff/11HDx4ENnZ2cjOzsaMGTNw7733dtq+ZCCTYv7DwsKwdetWrFu3DjabDcXFxVi3bh0WLlwo5aUEJCnmf+jQoRg5ciSeffZZNDc3o6ysDOvXr8c111wj5aUEHCnm3iUnJwdjx46VYtj9hhTzP3bsWDgcDqxevdr92fPGG2/g6quvlvJSApIU82+323HHHXdg+/btcDgc2L9/P/75z38yffECns79tm3b8Ne//hXr16+/qJ1gWloaMjMz8de//hUWiwVff/01du7cyc/9Dkgx/yQtUW6Xbty4EU1NTXj++efx/PPPux+/5ZZb8PDDD2PFihW45ppr4HA4cNNNN+Hmm2/u9pgffPABKisr8e6777arIjlr1qx25yBp5l8ul2PdunX44x//iEmTJiEiIgJLly7FggULJLySwCPF3FPPSTH/arUar776Kp555hlMnDgRWq0Wixcvxl133SXlpQQkqX7+X331VTz99NOYM2cOHA4HbrjhBqZVXEDKz56ysjJER0dLMex+Q4r5j4yMxKuvvopVq1Zhw4YNMBgMuOmmm3DbbbdJeSkBSYr512q1ePHFF7FixQo89thjSEpKwqpVq5CZmSnlpQQcT+f+1VdfhcViwZ133tnueM8//zxmzZqFF198EcuXL8ekSZMQHh6Op59+mnVrOiDV/JN0ZML5+5WIiIiIiIiIqM9Er0ZORERERERENNAx2CYiIiIiIiISGYNtIiIiIiIiIpEx2CYiIiIiIiISGYNtIiIiIiIiIpEx2CYiIiIiIiISmSh9tomIiEhas2fPRllZmfvPGo0GKSkpuO2227Bo0aIeHaOpqQnbtm3DjTfeKNUwiYiI6BwG20RERAHikUcewcKFCyEIAsxmM7744gv86U9/Qn19Pe6+++5u3//mm29i165dDLaJiIi8gME2ERFRgAgJCYHRaAQAREdHIy0tDQqFAqtWrcKCBQsQGRnZ5fsFQfDGMImIiAjM2SYiIgpoCxcuhEwmw+7du9Hc3IwnnngCU6dOxYgRIzBjxgysXbsWAPD+++9jzZo1yM3NxdChQ1FaWgoAeP311zFr1iyMGTMGN998Mw4dOuTDqyEiIuo/uLJNREQUwLRaLRISElBQUIAVK1bg8OHDWLt2LcLDw7F9+3Y899xzmD59Oq666irk5+dj3759eO211xAREYFNmzbh7bffxpNPPomUlBR88sknuOOOO/DRRx8hMTHR15dGREQU0LiyTUREFOD0ej3MZjPGjh2Lp59+GqNGjUJiYiKWLl2K4OBgFBQUQKPRIDg4GAqFAkajEQqFAi+//DIeffRRzJw5EykpKVi2bBnGjRuHf/zjH76+JCIiooDHlW0iIqIAZzabodfrMX/+fOzevRsffPABiouLkZeXh+bmZjgcjove09TUhPLycixfvhyPP/64+3GLxQKVSuXN4RMREfVLDLaJiIgCWGtrK4qKinD33Xfjd7/7Hfbt24cFCxZgwYIFeOKJJ3Ddddd1+D5XAL5ixQoMHz683XMajUbycRMREfV3DLaJiIgC2JYtW6BUKjF+/Hj89re/xRtvvIFJkyYBAEwmExobG91VyGUymft9er0eRqMRlZWVuPLKK92PP/300xg6dGiPe3cTERFRxxhsExERBYimpiaYTCYAQGNjI3bv3o0XX3wRP//5zxEdHQ2tVosdO3YgISEBZ8+exXPPPQdBEGCxWAAAwcHBqKqqQklJCeLi4rB06VKsXbsW0dHRuOSSS7B161Zs3LgRGzZs8OVlEhER9QsygU03iYiI/N7s2bNRVlbm/nNYWBjS0tJw22234aqrrgIA7N69GytXrkR5eTmio6Nx3XXX4ciRI4iOjsZTTz2FsrIyLF26FKWlpdi4cSNGjhyJV155BZs3b0ZVVRVSUlLw8MMPY86cOb66TCIion6DwTYRERERERGRyNj6i4iIiIiIiEhkDLaJiIiIiIiIRMZgm4iIiIiIiEhkDLaJiIiIiIiIRMZgm4iIiIiIiEhkDLaJiIiIiIiIRMZgm4iIiIiIiEhkDLaJiIiIiIiIRMZgm4iIiIiIiEhk/w/cDmFfSpMsEwAAAABJRU5ErkJggg==\n",
      "text/plain": [
       "<Figure size 1224x432 with 1 Axes>"
      ]
     },
     "metadata": {},
     "output_type": "display_data"
    }
   ],
   "source": [
    "# For the standard GMV , it's interesting to see how much it is diversified.Since the weights are not static and are determined \n",
    "# for each rolling window , we're going to plot a series of ENCs . \n",
    "(((df_w**2).sum(axis=1))**(-1)).plot(figsize=(17,6),title='Effective Number of Constituents - GMV strategy ');"
   ]
  },
  {
   "cell_type": "markdown",
   "id": "239b0f9a",
   "metadata": {},
   "source": [
    "Another striking result ! the GMV is supposed to be a diversified portfolio ( that's what it's known for ) . How come its effective number of components did not exceed 16 ( out of 38 ) in any of the rolling windows ? What's more , in 2021 the GMV is only ( effectively ) exposed to less than 4 stocks .\n",
    "\n",
    "In fact , the GMV is NOT a diversified portfolio . It's an optimization program which goal is to minimize the portfolio volatility so , by construction , it will <b>maximize the weights in the least volatile stocks</b> . Indeed , it's a <u>concentrated</u> portfolio in the least volatile stocks .\n",
    "\n",
    "For this reason , we're going to test another GMV strategy called constrained GMV : **Constrained GMV** , as its name suggests , is a GMV optimization program , only that it's <u>subject to a minimum ENC</u> . Setting the minimum ENC value is normally left to the intuition of the practitioner , but we're going to define an arbitrary one , say 15 stocks. With this constraint , we still want to minimize historical risk but we want to secure a certain degree of diversification . This approach , in a certain way , resembles the <font color='red'>shrinkage approach</font> , where you try to reconcile between 2 opposed objectives to take advantage of both .  \n",
    "\n",
    "\n",
    "\n"
   ]
  },
  {
   "cell_type": "code",
   "execution_count": 57,
   "id": "51377d08",
   "metadata": {},
   "outputs": [],
   "source": [
    "def consGMV_w(n_components,cov_matrix):\n",
    "    init_guess=np.repeat(1/n_components,n_components) \n",
    "    bnds=((0,1),)*n_components     # Do not go short \n",
    "    cons1={'type':'eq','fun':lambda w: w.sum()-1}   \n",
    "    cons2={'type':'ineq','fun': lambda w:((w**2).sum())**(-1)-15}   # New constraint : minimum ENC\n",
    "    def vol(w,cov_matrix):\n",
    "        return w.T@cov_matrix@w      # matrix notation of a portfolio volatility\n",
    "    sol=minimize(vol,init_guess,args=(cov_matrix,),method ='SLSQP',bounds=bnds,constraints=[cons1,cons2])\n",
    "    return sol.x"
   ]
  },
  {
   "cell_type": "code",
   "execution_count": 58,
   "id": "359b6cff",
   "metadata": {},
   "outputs": [],
   "source": [
    "w_estimations=[consGMV_w(38,(r.iloc[win[0]:win[1]]).cov()) for win in windows]\n",
    "df_w=pd.DataFrame(w_estimations,index=r.index[rolling_window:],columns=r.columns)"
   ]
  },
  {
   "cell_type": "code",
   "execution_count": 59,
   "id": "ee20f873",
   "metadata": {
    "scrolled": false
   },
   "outputs": [
    {
     "data": {
      "text/plain": [
       "Date\n",
       "2010-01         NaN\n",
       "2010-02         NaN\n",
       "2010-03         NaN\n",
       "2010-04         NaN\n",
       "2010-05         NaN\n",
       "             ...   \n",
       "2021-08    0.042772\n",
       "2021-09   -0.094470\n",
       "2021-10    0.042211\n",
       "2021-11    0.022192\n",
       "2021-12    0.034859\n",
       "Freq: M, Length: 144, dtype: float64"
      ]
     },
     "execution_count": 59,
     "metadata": {},
     "output_type": "execute_result"
    }
   ],
   "source": [
    "consGMV_backtest=(df_w*r).sum(axis=1,min_count=1)\n",
    "consGMV_backtest\n"
   ]
  },
  {
   "cell_type": "code",
   "execution_count": 60,
   "id": "d8c0425c",
   "metadata": {
    "scrolled": false
   },
   "outputs": [
    {
     "data": {
      "text/plain": [
       "Annualized return     0.097043\n",
       "Annualized vol        0.130061\n",
       "Sharpe Ratio          0.874038\n",
       "Historic VaR          0.050423\n",
       "Expected shortfall    0.086214\n",
       "Skewness             -0.617135\n",
       "Kurtosis              1.489903\n",
       "MDD                   0.191619\n",
       "dtype: float64"
      ]
     },
     "execution_count": 60,
     "metadata": {},
     "output_type": "execute_result"
    }
   ],
   "source": [
    "perf_risk(consGMV_backtest.dropna())"
   ]
  },
  {
   "cell_type": "markdown",
   "id": "707f0e4c",
   "metadata": {},
   "source": [
    "With the new constraint introduced , we managed to increase the Sharpe ratio by a whole <font color='red'><b>1 percentage point</b></font> . However , risk indicators increased , although very slightly ( MDD , VaR , kurtosis .. ) . This is to show you that Constrained GMV is an interesting strategy to look at and that we can easily create <u><b>many variants of GMV</b></u> in an attempt to improve it or adapt it to our needs . In fact , a point of view to note here is saying that concentrating your portfolio in the least risky stocks does not necessarily reduce risk , even though it rends you minimum HISTORICAL risk : remember that the vols fed to the optimization program are sample-based ! Thus , we might want to  diversify our portfolio rather than concentrating it in the least risky stocks ,  in an attempt to reduce <b>future risk</b> . This is where constrained GMV gets its intuition. "
   ]
  },
  {
   "cell_type": "markdown",
   "id": "98dea77d",
   "metadata": {},
   "source": [
    "### 4- Risk Parity"
   ]
  },
  {
   "cell_type": "markdown",
   "id": "e68d526a",
   "metadata": {},
   "source": [
    "Diversification can be defined in two ways : There's **the diversification in dollar value** and **the diversification in terms of risk contribution** . The former is the standard <font color='red'>equal weighting</font> scheme saw above . The latter is the <font color='red'>risk parity</font> portfolio , where each stock equally contributes to the total risk of the portfolio . Again , we need an estimation of the var-cov matrix over a historical period and an optimization program to compute the weights such that the risk contributions are equal . We're also going to roll when backtesting . "
   ]
  },
  {
   "cell_type": "code",
   "execution_count": 61,
   "id": "8805d66d",
   "metadata": {},
   "outputs": [],
   "source": [
    "# Rolling in backtesting is repetitive among many construction techniques . So we're going to define a function that rolls \n",
    "# and returns backtested results . \n",
    "def roll_backtest(cons_technique,r,**kwargs):\n",
    "    ''' cons_technique is a function : it should return the weights for a given rolling window . r is a dataframe of the return\n",
    "    series of the components .\n",
    "    '''\n",
    "    windows=[(x0,x0+rolling_window) for x0 in range(r.shape[0]-rolling_window)]\n",
    "    w_estimations=[cons_technique(r.iloc[win[0]:win[1]],**kwargs) for win in windows]\n",
    "    df_w=pd.DataFrame(data=w_estimations , index=r.index[rolling_window:],columns=r.columns)\n",
    "    backtest_r=(df_w*r).sum(axis=1,min_count=1)\n",
    "    return backtest_r"
   ]
  },
  {
   "cell_type": "code",
   "execution_count": 62,
   "id": "6be46275",
   "metadata": {},
   "outputs": [],
   "source": [
    "# define a function to return risk parity weights , like we did for GMV and constrained GMV ( all of these are optimization \n",
    "# programs ).\n",
    "def risk_contributions(w,r):\n",
    "    ''' This is a helper function that we're going to use in the risk parity optimization function . \n",
    "    w is an array or series of weights . r is a dataframe of the return series of the components .  \n",
    "    '''\n",
    "    nominator=w* ((r.cov())@w)\n",
    "    prtf_vol=w.T@(r.cov())@w\n",
    "    return nominator/prtf_vol\n",
    "\n",
    "\n",
    "def risk_parity(r):\n",
    "    ''' r is the dataframe of the return series of the components . The idea of this optimization program is to minimize\n",
    "    the tracking error between the risk contributions of the portfolio to optimize and the equal risk contributions '''\n",
    "    init_guess=np.repeat(1/r.shape[1],r.shape[1])\n",
    "    bnds=((0,1),)*r.shape[1]\n",
    "    cons1={'type':'eq','fun':lambda w:w.sum()-1}\n",
    "    def tracking_error(w,r):\n",
    "        return ((risk_contributions(w,r)-np.repeat(1/r.shape[1],r.shape[1]))**2).sum()\n",
    "    sol=minimize(tracking_error,init_guess,args=(r,),method='SLSQP',bounds=bnds,constraints=[cons1])\n",
    "    return sol.x"
   ]
  },
  {
   "cell_type": "code",
   "execution_count": 63,
   "id": "dd5d72dd",
   "metadata": {
    "scrolled": true
   },
   "outputs": [
    {
     "data": {
      "text/plain": [
       "Date\n",
       "2010-01         NaN\n",
       "2010-02         NaN\n",
       "2010-03         NaN\n",
       "2010-04         NaN\n",
       "2010-05         NaN\n",
       "             ...   \n",
       "2021-08    0.037410\n",
       "2021-09   -0.065820\n",
       "2021-10    0.039228\n",
       "2021-11    0.002887\n",
       "2021-12    0.045652\n",
       "Freq: M, Length: 144, dtype: float64"
      ]
     },
     "execution_count": 63,
     "metadata": {},
     "output_type": "execute_result"
    }
   ],
   "source": [
    "riskpar_backtest=roll_backtest(risk_parity,r)\n",
    "riskpar_backtest "
   ]
  },
  {
   "cell_type": "code",
   "execution_count": 64,
   "id": "aeb6ce31",
   "metadata": {},
   "outputs": [
    {
     "data": {
      "text/plain": [
       "Annualized return     0.119831\n",
       "Annualized vol        0.143401\n",
       "Sharpe Ratio          0.953870\n",
       "Historic VaR          0.057985\n",
       "Expected shortfall    0.086708\n",
       "Skewness             -0.396721\n",
       "Kurtosis              3.283241\n",
       "MDD                   0.231183\n",
       "dtype: float64"
      ]
     },
     "execution_count": 64,
     "metadata": {},
     "output_type": "execute_result"
    }
   ],
   "source": [
    "perf_risk(riskpar_backtest.dropna())"
   ]
  },
  {
   "cell_type": "markdown",
   "id": "8c99121b",
   "metadata": {},
   "source": [
    "So far , the risk parity portfolio rended us <font color='red'>the best risk adjusted performance</font> ( Sharpe Ratio of <u>0.95</u> ) . The risk indicators are more or less comparable to the other investment strategies . We're going to synthetize all these differences in a later part . "
   ]
  },
  {
   "cell_type": "markdown",
   "id": "4afc121a",
   "metadata": {},
   "source": [
    "### 5-Max Decorrelation portfolio "
   ]
  },
  {
   "cell_type": "markdown",
   "id": "3bde6236",
   "metadata": {},
   "source": [
    "This construction technique assumes that <font color='red'>all stocks have the same volatility</font> . Why ? In fact , we know that the optimization program of the GMV minimizes the volatility of the portfolio . If the individual vols are all the same , the optimization function won't look at the least volatile stocks and concentrate the allocation in them ( because the individual volatility effect is neutralized assuming that they're all equal ) , but the focus will be reoriented to the correlation effect hence the name <b>max decorrelation</b> . In other words , the optimization function will not anymore count on the least risky stocks but will <u><b>count on their decorrelation</b></u> to minimize the total volatility .  "
   ]
  },
  {
   "cell_type": "code",
   "execution_count": 65,
   "id": "a38658de",
   "metadata": {},
   "outputs": [
    {
     "data": {
      "text/plain": [
       "array([0.00000000e+00, 2.64857332e-17, 4.05924284e-02, 5.97979358e-02,\n",
       "       1.83809022e-16, 0.00000000e+00, 1.49759653e-02, 0.00000000e+00,\n",
       "       4.56471975e-02, 5.33587355e-17, 0.00000000e+00, 3.49207273e-02,\n",
       "       0.00000000e+00, 4.83357956e-02, 1.38335176e-01, 1.87528770e-01,\n",
       "       0.00000000e+00, 8.15086753e-17, 0.00000000e+00, 0.00000000e+00,\n",
       "       5.97345847e-17, 1.12275245e-01, 0.00000000e+00, 2.38836352e-03,\n",
       "       5.18580330e-17, 4.15981703e-02, 0.00000000e+00, 7.58256057e-02,\n",
       "       0.00000000e+00, 3.61797852e-17, 4.04538343e-02, 7.36844829e-02,\n",
       "       6.73831688e-04, 0.00000000e+00, 3.76438871e-17, 3.67422968e-02,\n",
       "       3.57073871e-17, 4.62241731e-02])"
      ]
     },
     "execution_count": 65,
     "metadata": {},
     "output_type": "execute_result"
    }
   ],
   "source": [
    "# Fortunately , we don't have to write another optimization program . We can use the GMV program and replace the cov matrix with\n",
    "# the correlation matrix and that will give us a portfolio vol that only depends on the correlations . \n",
    "def corr_matrix(r):\n",
    "    return r.corr()\n",
    "GMV_w(r,cov_matrix=corr_matrix)"
   ]
  },
  {
   "cell_type": "code",
   "execution_count": 66,
   "id": "020f789d",
   "metadata": {
    "scrolled": true
   },
   "outputs": [
    {
     "data": {
      "text/plain": [
       "Date\n",
       "2010-01         NaN\n",
       "2010-02         NaN\n",
       "2010-03         NaN\n",
       "2010-04         NaN\n",
       "2010-05         NaN\n",
       "             ...   \n",
       "2021-08    0.090831\n",
       "2021-09   -0.053604\n",
       "2021-10    0.043202\n",
       "2021-11    0.070617\n",
       "2021-12    0.007605\n",
       "Freq: M, Length: 144, dtype: float64"
      ]
     },
     "execution_count": 66,
     "metadata": {},
     "output_type": "execute_result"
    }
   ],
   "source": [
    "maxdecor_backtest=roll_backtest(cons_technique=GMV_w,r=r,cov_matrix=corr_matrix)\n",
    "maxdecor_backtest"
   ]
  },
  {
   "cell_type": "code",
   "execution_count": 67,
   "id": "2e486918",
   "metadata": {
    "scrolled": false
   },
   "outputs": [
    {
     "data": {
      "text/plain": [
       "Annualized return     0.129876\n",
       "Annualized vol        0.159270\n",
       "Sharpe Ratio          0.923246\n",
       "Historic VaR          0.068884\n",
       "Expected shortfall    0.093854\n",
       "Skewness             -0.300439\n",
       "Kurtosis              0.370613\n",
       "MDD                   0.258878\n",
       "dtype: float64"
      ]
     },
     "execution_count": 67,
     "metadata": {},
     "output_type": "execute_result"
    }
   ],
   "source": [
    "perf_risk(maxdecor_backtest.dropna())"
   ]
  },
  {
   "cell_type": "code",
   "execution_count": 172,
   "id": "b517af81",
   "metadata": {
    "scrolled": false
   },
   "outputs": [
    {
     "data": {
      "text/html": [
       "<div>\n",
       "<style scoped>\n",
       "    .dataframe tbody tr th:only-of-type {\n",
       "        vertical-align: middle;\n",
       "    }\n",
       "\n",
       "    .dataframe tbody tr th {\n",
       "        vertical-align: top;\n",
       "    }\n",
       "\n",
       "    .dataframe thead th {\n",
       "        text-align: right;\n",
       "    }\n",
       "</style>\n",
       "<table border=\"1\" class=\"dataframe\">\n",
       "  <thead>\n",
       "    <tr style=\"text-align: right;\">\n",
       "      <th></th>\n",
       "      <th>Strategy</th>\n",
       "      <th>Annualized return</th>\n",
       "      <th>Annualized vol</th>\n",
       "      <th>Sharpe Ratio</th>\n",
       "      <th>Historic VaR</th>\n",
       "      <th>Expected shortfall</th>\n",
       "      <th>Skewness</th>\n",
       "      <th>Kurtosis</th>\n",
       "      <th>MDD</th>\n",
       "    </tr>\n",
       "  </thead>\n",
       "  <tbody>\n",
       "    <tr>\n",
       "      <th>0</th>\n",
       "      <td>Max Decorrelation</td>\n",
       "      <td>0.129876</td>\n",
       "      <td>0.159270</td>\n",
       "      <td>0.923246</td>\n",
       "      <td>0.068884</td>\n",
       "      <td>0.093854</td>\n",
       "      <td>-0.300439</td>\n",
       "      <td>0.370613</td>\n",
       "      <td>0.258878</td>\n",
       "    </tr>\n",
       "    <tr>\n",
       "      <th>1</th>\n",
       "      <td>Risk Parity</td>\n",
       "      <td>0.119831</td>\n",
       "      <td>0.143401</td>\n",
       "      <td>0.953870</td>\n",
       "      <td>0.057985</td>\n",
       "      <td>0.086708</td>\n",
       "      <td>-0.396721</td>\n",
       "      <td>3.283241</td>\n",
       "      <td>0.231183</td>\n",
       "    </tr>\n",
       "    <tr>\n",
       "      <th>2</th>\n",
       "      <td>Constrained GMV</td>\n",
       "      <td>0.097043</td>\n",
       "      <td>0.130061</td>\n",
       "      <td>0.874038</td>\n",
       "      <td>0.050423</td>\n",
       "      <td>0.086214</td>\n",
       "      <td>-0.617135</td>\n",
       "      <td>1.489903</td>\n",
       "      <td>0.191619</td>\n",
       "    </tr>\n",
       "    <tr>\n",
       "      <th>3</th>\n",
       "      <td>GMV</td>\n",
       "      <td>0.083213</td>\n",
       "      <td>0.128815</td>\n",
       "      <td>0.773310</td>\n",
       "      <td>0.049742</td>\n",
       "      <td>0.081205</td>\n",
       "      <td>-0.417877</td>\n",
       "      <td>0.504217</td>\n",
       "      <td>0.173368</td>\n",
       "    </tr>\n",
       "    <tr>\n",
       "      <th>4</th>\n",
       "      <td>CAC 40</td>\n",
       "      <td>0.085133</td>\n",
       "      <td>0.157423</td>\n",
       "      <td>0.644913</td>\n",
       "      <td>0.060975</td>\n",
       "      <td>0.090730</td>\n",
       "      <td>-0.023284</td>\n",
       "      <td>3.165839</td>\n",
       "      <td>0.264624</td>\n",
       "    </tr>\n",
       "    <tr>\n",
       "      <th>5</th>\n",
       "      <td>Equal Weighting</td>\n",
       "      <td>0.128954</td>\n",
       "      <td>0.162607</td>\n",
       "      <td>0.898166</td>\n",
       "      <td>0.062158</td>\n",
       "      <td>0.093018</td>\n",
       "      <td>-0.084392</td>\n",
       "      <td>4.986650</td>\n",
       "      <td>0.269411</td>\n",
       "    </tr>\n",
       "  </tbody>\n",
       "</table>\n",
       "</div>"
      ],
      "text/plain": [
       "            Strategy  Annualized return  Annualized vol  Sharpe Ratio  \\\n",
       "0  Max Decorrelation           0.129876        0.159270      0.923246   \n",
       "1        Risk Parity           0.119831        0.143401      0.953870   \n",
       "2    Constrained GMV           0.097043        0.130061      0.874038   \n",
       "3                GMV           0.083213        0.128815      0.773310   \n",
       "4             CAC 40           0.085133        0.157423      0.644913   \n",
       "5    Equal Weighting           0.128954        0.162607      0.898166   \n",
       "\n",
       "   Historic VaR  Expected shortfall  Skewness  Kurtosis       MDD  \n",
       "0      0.068884            0.093854 -0.300439  0.370613  0.258878  \n",
       "1      0.057985            0.086708 -0.396721  3.283241  0.231183  \n",
       "2      0.050423            0.086214 -0.617135  1.489903  0.191619  \n",
       "3      0.049742            0.081205 -0.417877  0.504217  0.173368  \n",
       "4      0.060975            0.090730 -0.023284  3.165839  0.264624  \n",
       "5      0.062158            0.093018 -0.084392  4.986650  0.269411  "
      ]
     },
     "execution_count": 172,
     "metadata": {},
     "output_type": "execute_result"
    }
   ],
   "source": [
    "# Now synthetize all investment strategies ( 5 --> equal weighting , GMV , constrained GMV , Risk Parity , Max Decorrelation): \n",
    "# Which one performed best in terms of risk-reward , according to the backtest ?\n",
    "\n",
    "strategy=pd.DataFrame(['Max Decorrelation','Risk Parity','Constrained GMV','GMV','CAC 40','Equal Weighting'],columns=['Strategy'])\n",
    "df_perfrisk=pd.concat([strategy,pd.concat([perf_risk(maxdecor_backtest.dropna()),perf_risk(riskpar_backtest.dropna()),\n",
    "                       perf_risk(consGMV_backtest.dropna()),perf_risk(GMV_backtest.dropna()),\n",
    "                            perf_risk(cac40.iloc[rolling_window:]),perf_risk(r_eq.iloc[rolling_window:])],axis=1).T],axis=1)\n",
    "\n",
    "\n",
    "df_perfrisk"
   ]
  },
  {
   "cell_type": "code",
   "execution_count": 178,
   "id": "63012559",
   "metadata": {
    "scrolled": false
   },
   "outputs": [
    {
     "data": {
      "application/vnd.jupyter.widget-view+json": {
       "model_id": "bf05955136a94703a500565d3ca970ed",
       "version_major": 2,
       "version_minor": 0
      },
      "text/plain": [
       "interactive(children=(Dropdown(description='<font size=\"3\">Indicator', index=2, options=('Annualized return', …"
      ]
     },
     "metadata": {},
     "output_type": "display_data"
    }
   ],
   "source": [
    "# Now , create a bubble chart to show the ranking . I found this chart in a towardsdatascience article which suggests many \n",
    "# other aesthetic charts other than the Bar chart that are interesting to look at . I also added widgets to select the \n",
    "# desired indicator and display the corresponding ranking.\n",
    "# Article URL : https://towardsdatascience.com/9-visualizations-that-catch-more-attention-than-a-bar-chart-72d3aeb2e091\n",
    "\n",
    "def get_color(name, number):\n",
    "    pal = list(sns.color_palette(palette=name, n_colors=number).as_hex())\n",
    "    return pal\n",
    "pal_vi = get_color('viridis_r', df_perfrisk.shape[0])\n",
    "\n",
    "def interactive_bubble(indicator):\n",
    "    df_perfrisk_s=df_perfrisk.sort_values(by=indicator,ascending=False)\n",
    "    df_perfrisk_s['X']=[5]*df_perfrisk_s.shape[0]\n",
    "    lst=list(range(0,df_perfrisk_s.shape[0]))\n",
    "    lst.reverse()\n",
    "    df_perfrisk_s['Y']=lst\n",
    "    df_perfrisk_s['labels']=['<b>'+i+'<br>'+str(round(j,3)) for i,j in zip(df_perfrisk_s['Strategy'],df_perfrisk_s[indicator])]\n",
    "\n",
    "    fig = px.scatter(df_perfrisk_s, x='X', y='Y',\n",
    "                     color='Strategy', color_discrete_sequence=pal_vi,\n",
    "                     size=indicator, text='labels' ,size_max=50 , )\n",
    "\n",
    "    fig.update_layout(width=900, height=500,\n",
    "                      margin = dict(t=0, l=0, r=0, b=0),\n",
    "                      showlegend=False)\n",
    "\n",
    "    fig.update_traces(textposition='middle right')\n",
    "    fig.update_xaxes(showgrid=False, zeroline=False, visible=False)\n",
    "    fig.update_yaxes(showgrid=False, zeroline=False, visible=False)\n",
    "\n",
    "    fig.update_layout({'plot_bgcolor': 'white',\n",
    "                       'paper_bgcolor': 'white'},font=dict(size=18))\n",
    "\n",
    "    fig.show()\n",
    "\n",
    "lst_indicators=list(df_perfrisk_s.drop(['Strategy','X','Y','labels','Skewness'],axis=1).columns) # eliminate skewness from the drop down list because the size parameter in the bubble chart cannot be negative\n",
    "widgets.interact(interactive_bubble,indicator=widgets.Dropdown(options=lst_indicators,description='<font size=\"3\">Indicator',value='Sharpe Ratio'));"
   ]
  },
  {
   "cell_type": "markdown",
   "id": "7c4a7af7",
   "metadata": {},
   "source": [
    "- Note that for risk indicators , bigger bubbles (which appear at the top ) are worse . e.g.: Equal weighting and CAC 40 show \n",
    "the highest risk in terms of max drawdown ! \n",
    "\n",
    "\n",
    "- <u>Risk Parity is the <font color='red'>winner strategy</font> in terms of risk-reward trade-off</u>, generating a Sharpe Ratio of 0.95 . This means that <b>for each additional percentage point of risk</b> , the Risk Parity portfolio renders an <b>additional 0.95% excess return</b> : Not the perfect result because we'd prefer a sharpe ratio > 1 , but it's still the winning strategy with an additional 0.3% excess return per unit of risk over the CAC 40 .  Regarding the risk indicators , Risk Parity is , except for the kurtosis , in the 3rd place out of 6 investment strategies which is acceptable .\n",
    "\n",
    "\n",
    "- Finally , it's interesting to note that CAC 40 , which we theorically thought is the perfect portfolio that all investors would want to hold , is <b>ranked last</b> ."
   ]
  },
  {
   "cell_type": "markdown",
   "id": "635830c0",
   "metadata": {},
   "source": [
    "### Part III : Applying the CPPI strategy"
   ]
  },
  {
   "cell_type": "code",
   "execution_count": null,
   "id": "19af6c3c",
   "metadata": {},
   "outputs": [],
   "source": [
    "#Now we have the return series of our chosen portfolio ( backtested risk parity return series ) , which ,as previously said, \n",
    "# will represent the risky part of the fund . The next step is to choose a safe asset to include in this fund . For the CPPI \n",
    "# strategy to work , the safe asset should render positive return ( no losses ) or at least null . \n",
    "\n"
   ]
  },
  {
   "cell_type": "code",
   "execution_count": null,
   "id": "f22f1f1a",
   "metadata": {},
   "outputs": [],
   "source": [
    "# You can define a function to return the sharpe ratio / annualized return and ann_vol going back 3 years , 5 years or MAX , \n",
    "# making a drop down list . \n",
    "# You can dynamize your backtest : make the last date = date of code execution and the backtest will change accordingly .\n"
   ]
  }
 ],
 "metadata": {
  "kernelspec": {
   "display_name": "Python 3",
   "language": "python",
   "name": "python3"
  },
  "language_info": {
   "codemirror_mode": {
    "name": "ipython",
    "version": 3
   },
   "file_extension": ".py",
   "mimetype": "text/x-python",
   "name": "python",
   "nbconvert_exporter": "python",
   "pygments_lexer": "ipython3",
   "version": "3.7.11"
  }
 },
 "nbformat": 4,
 "nbformat_minor": 5
}
